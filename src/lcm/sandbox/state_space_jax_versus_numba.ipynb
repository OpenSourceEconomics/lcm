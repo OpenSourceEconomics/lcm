{
 "cells": [
  {
   "cell_type": "code",
   "execution_count": 1,
   "id": "5d844b48",
   "metadata": {},
   "outputs": [],
   "source": [
    "import math\n",
    "import itertools\n",
    "import numpy as np\n",
    "from numba import njit\n",
    "\n",
    "import matplotlib.pyplot as plt\n",
    "\n",
    "import jax.numpy as jnp\n",
    "from jax import jit\n",
    "from jax.config import config\n",
    "config.update(\"jax_enable_x64\", True)\n",
    "\n",
    "from lcm.dag import concatenate_functions\n",
    "from lcm.dispatchers import gridmap, productmap\n",
    "\n",
    "from numpy.testing import assert_array_almost_equal as aaae"
   ]
  },
  {
   "cell_type": "code",
   "execution_count": 2,
   "id": "341e9476",
   "metadata": {},
   "outputs": [],
   "source": [
    "def plot_runtime(n_points, runtime_numba, runtime_jax, func=\"product_map\"):\n",
    "    plt.figure(figsize=[10, 6])\n",
    "    plt.plot(n_points, [i * 1000 for i in runtime_numba], label=\"Numba\")\n",
    "    plt.plot(n_points, [i * 1000 for i in runtime_jax], label=\"JAX\")\n",
    "\n",
    "    plt.xlabel(\"Number of Grid Points\")\n",
    "    plt.ylabel(\"Runtime (in milliseconds)\")\n",
    "    plt.title(f\"Runtime of hardcoded Numba function versus {func} with JAX\")\n",
    "    \n",
    "    plt.legend()\n",
    "    plt.show()"
   ]
  },
  {
   "cell_type": "markdown",
   "id": "2bba9018",
   "metadata": {},
   "source": [
    "## product_map: 2 grids benchmark"
   ]
  },
  {
   "cell_type": "code",
   "execution_count": 3,
   "id": "0a6c246b",
   "metadata": {},
   "outputs": [],
   "source": [
    "def _utility(_consumption, _leisure):\n",
    "    return _consumption + _leisure\n",
    "\n",
    "\n",
    "def _leisure(working):\n",
    "    return 24 - working\n",
    "\n",
    "\n",
    "def _consumption(working, wage):\n",
    "    return wage * working\n",
    "\n",
    "\n",
    "def _unrelated(working):  # noqa: U100\n",
    "    raise NotImplementedError()"
   ]
  },
  {
   "cell_type": "code",
   "execution_count": 4,
   "id": "10a72f5c",
   "metadata": {},
   "outputs": [],
   "source": [
    "@njit(fastmath=True)\n",
    "def product_map_numba_2d(wage, working):\n",
    "    n_wage = wage.shape[0]\n",
    "    n_working = working.shape[0]\n",
    "\n",
    "    cross_product = np.empty((n_wage, n_working))\n",
    "\n",
    "    for i in range(n_wage):\n",
    "        for j in range(n_working):\n",
    "            cross_product[i, j] = wage[i] * working[j] + (24 - working[j])\n",
    "\n",
    "    return cross_product"
   ]
  },
  {
   "cell_type": "code",
   "execution_count": 6,
   "id": "6f687b34",
   "metadata": {},
   "outputs": [],
   "source": [
    "grids = {\n",
    "    \"wage\": jnp.linspace(1, 10, 101),\n",
    "    \"working\": jnp.linspace(0, 24, 25),\n",
    "}\n",
    "\n",
    "wage = np.linspace(1, 10, 101)\n",
    "working = np.linspace(0, 24, 25)\n",
    "\n",
    "utility_concat = concatenate_functions(\n",
    "    functions=[_utility, _unrelated, _leisure, _consumption], targets=\"_utility\"\n",
    ")\n",
    "_decorated_func = productmap(utility_concat, [\"wage\", \"working\"])\n",
    "decorated_func_jit = jit(_decorated_func)\n",
    "rslt_jax = decorated_func_jit(**grids)\n",
    "\n",
    "rslt_numba = product_map_numba_2d(wage, working)\n",
    "\n",
    "aaae(rslt_jax, rslt_numba)"
   ]
  },
  {
   "cell_type": "code",
   "execution_count": 10,
   "id": "904b3fae",
   "metadata": {},
   "outputs": [],
   "source": [
    "def get_numba_runtime_2d():        \n",
    "    total_points = []\n",
    "    runtime = []\n",
    "    \n",
    "    for len_grid in grid_space:\n",
    "        total_points.append(len_grid**2)\n",
    "        \n",
    "        grids = {\n",
    "            \"wage\": np.linspace(1, 10, len_grid),\n",
    "            \"working\": np.linspace(0, 24, len_grid),\n",
    "        }\n",
    "        \n",
    "        product_map_numba_2d(**grids)\n",
    "            \n",
    "        timeit_res = %timeit -r 7 -n 1_000 -o product_map_numba_2d(**grids)\n",
    "        runtime.append(timeit_res.average)\n",
    "\n",
    "    return total_points, runtime\n",
    "\n",
    "def get_jax_runtime_2d():\n",
    "    utility_concat = concatenate_functions(\n",
    "    functions=[_utility, _unrelated, _leisure, _consumption],\n",
    "    targets=\"_utility\"\n",
    "    )\n",
    "    _decorated_func = productmap(utility_concat, [\"wage\", \"working\"])\n",
    "    decorated_func_jit = jit(_decorated_func)\n",
    "        \n",
    "    total_points = []\n",
    "    runtime = []\n",
    "    \n",
    "    for len_grid in grid_space:\n",
    "        total_points.append(len_grid**2)\n",
    "        \n",
    "        grids = {\n",
    "            \"wage\": jnp.linspace(1, 10, len_grid),\n",
    "            \"working\": jnp.linspace(0, 24, len_grid),\n",
    "        }\n",
    "    \n",
    "        decorated_func_jit(**grids)\n",
    "        \n",
    "        timeit_res = %timeit -r 7 -n 1_000 -o decorated_func_jit(**grids).block_until_ready()\n",
    "        runtime.append(timeit_res.average)\n",
    "\n",
    "    return total_points, runtime\n",
    "\n",
    "grid_space = [10, 25, 50] + np.arange(100, 1100, 100).tolist()"
   ]
  },
  {
   "cell_type": "code",
   "execution_count": 11,
   "id": "46155cdf",
   "metadata": {},
   "outputs": [
    {
     "name": "stdout",
     "output_type": "stream",
     "text": [
      "The slowest run took 4.78 times longer than the fastest. This could mean that an intermediate result is being cached.\n",
      "893 ns ± 587 ns per loop (mean ± std. dev. of 7 runs, 1000 loops each)\n",
      "562 ns ± 5.37 ns per loop (mean ± std. dev. of 7 runs, 1000 loops each)\n",
      "818 ns ± 82.4 ns per loop (mean ± std. dev. of 7 runs, 1000 loops each)\n",
      "1.52 µs ± 73.2 ns per loop (mean ± std. dev. of 7 runs, 1000 loops each)\n",
      "4.26 µs ± 39 ns per loop (mean ± std. dev. of 7 runs, 1000 loops each)\n",
      "9.36 µs ± 55.7 ns per loop (mean ± std. dev. of 7 runs, 1000 loops each)\n",
      "20 µs ± 146 ns per loop (mean ± std. dev. of 7 runs, 1000 loops each)\n",
      "41.5 µs ± 519 ns per loop (mean ± std. dev. of 7 runs, 1000 loops each)\n",
      "61 µs ± 745 ns per loop (mean ± std. dev. of 7 runs, 1000 loops each)\n",
      "82.8 µs ± 711 ns per loop (mean ± std. dev. of 7 runs, 1000 loops each)\n",
      "107 µs ± 550 ns per loop (mean ± std. dev. of 7 runs, 1000 loops each)\n",
      "135 µs ± 702 ns per loop (mean ± std. dev. of 7 runs, 1000 loops each)\n",
      "169 µs ± 1.8 µs per loop (mean ± std. dev. of 7 runs, 1000 loops each)\n"
     ]
    }
   ],
   "source": [
    "n_points_2_grids, runtime_numba_2d = get_numba_runtime_2d()"
   ]
  },
  {
   "cell_type": "code",
   "execution_count": 12,
   "id": "dca5d16d",
   "metadata": {},
   "outputs": [
    {
     "name": "stdout",
     "output_type": "stream",
     "text": [
      "2.46 µs ± 64.6 ns per loop (mean ± std. dev. of 7 runs, 1000 loops each)\n",
      "2.65 µs ± 6.31 ns per loop (mean ± std. dev. of 7 runs, 1000 loops each)\n",
      "3.1 µs ± 134 ns per loop (mean ± std. dev. of 7 runs, 1000 loops each)\n",
      "3.88 µs ± 16.4 ns per loop (mean ± std. dev. of 7 runs, 1000 loops each)\n",
      "9.27 µs ± 33.8 ns per loop (mean ± std. dev. of 7 runs, 1000 loops each)\n",
      "17.7 µs ± 56.3 ns per loop (mean ± std. dev. of 7 runs, 1000 loops each)\n",
      "21.3 µs ± 858 ns per loop (mean ± std. dev. of 7 runs, 1000 loops each)\n",
      "28.2 µs ± 616 ns per loop (mean ± std. dev. of 7 runs, 1000 loops each)\n",
      "35.3 µs ± 1.01 µs per loop (mean ± std. dev. of 7 runs, 1000 loops each)\n",
      "49.8 µs ± 3.17 µs per loop (mean ± std. dev. of 7 runs, 1000 loops each)\n",
      "45.3 µs ± 1.4 µs per loop (mean ± std. dev. of 7 runs, 1000 loops each)\n",
      "63.4 µs ± 2.17 µs per loop (mean ± std. dev. of 7 runs, 1000 loops each)\n",
      "58.8 µs ± 953 ns per loop (mean ± std. dev. of 7 runs, 1000 loops each)\n"
     ]
    }
   ],
   "source": [
    "_, runtime_jax_2d = get_jax_runtime_2d()"
   ]
  },
  {
   "cell_type": "code",
   "execution_count": 13,
   "id": "d6f1b354",
   "metadata": {},
   "outputs": [
    {
     "data": {
      "image/png": "[encoded data removed]",
      "text/plain": [
       "<Figure size 720x432 with 1 Axes>"
      ]
     },
     "metadata": {
      "needs_background": "light"
     },
     "output_type": "display_data"
    }
   ],
   "source": [
    "plot_runtime(n_points_2_grids, runtime_numba_2d, runtime_jax_2d)"
   ]
  },
  {
   "cell_type": "markdown",
   "id": "74e0d4be",
   "metadata": {},
   "source": [
    "## *product_map*: 4 grids benchmark"
   ]
  },
  {
   "cell_type": "code",
   "execution_count": 14,
   "id": "737050d7",
   "metadata": {},
   "outputs": [],
   "source": [
    "def _utility_4d(_consumption_4d, _leisure_4d):\n",
    "    return _consumption_4d + _leisure_4d\n",
    "\n",
    "\n",
    "def _leisure_4d(d):\n",
    "    return jnp.cos(d)\n",
    "\n",
    "\n",
    "def _consumption_4d(a, b, c):\n",
    "    return jnp.log(a) + jnp.sqrt(jnp.square(b) * c)\n",
    "\n",
    "\n",
    "@njit(fastmath=True)\n",
    "def product_map_numba_4d(a, b, c, d):\n",
    "    n_a = a.shape[0]\n",
    "    n_b = b.shape[0]\n",
    "    n_c = c.shape[0]\n",
    "    n_d = d.shape[0]\n",
    "\n",
    "    cross_product = np.empty((n_a, n_b, n_c, n_d))\n",
    "\n",
    "    for i in range(n_a):\n",
    "        for j in range(n_b):\n",
    "            for k in range(n_c):\n",
    "                for l in range(n_d):\n",
    "                    cross_product[i, j, k, l] = (\n",
    "                        np.log(a[i]) + np.sqrt(b[j] ** 2 * c[k]) + np.cos(d[l])\n",
    "                    )\n",
    "\n",
    "    return cross_product"
   ]
  },
  {
   "cell_type": "code",
   "execution_count": 16,
   "id": "3dd249c5",
   "metadata": {},
   "outputs": [],
   "source": [
    "grids = {\n",
    "    \"a\": jnp.linspace(1, 10, 101),\n",
    "    \"b\": jnp.linspace(0, 24, 25),\n",
    "    \"c\": jnp.linspace(1, 5, 5),\n",
    "    \"d\": jnp.linspace(-7, 2, 10)\n",
    "}\n",
    "\n",
    "a = np.linspace(1, 10, 101)\n",
    "b = np.linspace(0, 24, 25)\n",
    "c = np.linspace(1, 5, 5)\n",
    "d = np.linspace(-7, 2, 10)\n",
    "\n",
    "utility_concat_4d = concatenate_functions(\n",
    "    functions=[_utility_4d, _leisure_4d, _consumption_4d, _unrelated,],\n",
    "    targets=\"_utility_4d\"\n",
    ")\n",
    "    \n",
    "_decorated_func = productmap(utility_concat_4d , [\"a\", \"b\", \"c\", \"d\"])\n",
    "decorated_func_jit = jit(_decorated_func)  \n",
    "rslt_jax = decorated_func_jit(**grids)\n",
    "\n",
    "rslt_numba = product_map_numba_4d(a, b, c, d)\n",
    "\n",
    "aaae(rslt_jax, rslt_numba)"
   ]
  },
  {
   "cell_type": "code",
   "execution_count": null,
   "id": "4377f0a7",
   "metadata": {},
   "outputs": [],
   "source": []
  },
  {
   "cell_type": "code",
   "execution_count": 17,
   "id": "214b14e0",
   "metadata": {},
   "outputs": [],
   "source": [
    "def get_numba_runtime_4d(len_grids_arr):\n",
    "    total_points = []\n",
    "    runtime = []\n",
    "    \n",
    "    for len_grids in len_grids_arr.T:\n",
    "        len_a, len_b, len_c, len_d = len_grids.astype(int)\n",
    "        total_points.append(math.prod(len_grids))\n",
    "        \n",
    "        a = np.linspace(1, 10, len_a)\n",
    "        b = np.linspace(0, 24, len_b)\n",
    "        c = np.linspace(1, 5, len_c)\n",
    "        d = np.linspace(-7, 2, len_d)\n",
    "    \n",
    "        product_map_numba_4d(a, b, c, d)\n",
    "        \n",
    "        timeit_res = %timeit -r 7 -n 1_000 -o product_map_numba_4d(a, b, c, d)\n",
    "        runtime.append(timeit_res.average)\n",
    "\n",
    "    return total_points, runtime\n",
    "\n",
    "\n",
    "def get_jax_runtime_4d(len_grids_arr):\n",
    "    utility_concat_4d = concatenate_functions(\n",
    "    functions=[_utility_4d, _leisure_4d, _consumption_4d, _unrelated,],\n",
    "    targets=\"_utility_4d\"\n",
    "    )\n",
    "    \n",
    "    _decorated_func = productmap(utility_concat_4d , [\"a\", \"b\", \"c\", \"d\"])\n",
    "    decorated_func_jit = jit(_decorated_func)    \n",
    "    \n",
    "    total_points = []\n",
    "    runtime = []\n",
    "    \n",
    "    for len_grids in len_grids_arr.T:\n",
    "        len_a, len_b, len_c, len_d = len_grids.astype(int)\n",
    "        total_points.append(math.prod(len_grids))\n",
    "        \n",
    "        grids = {\n",
    "            \"a\": jnp.linspace(1, 10, len_a),\n",
    "            \"b\": jnp.linspace(0, 24, len_b),\n",
    "            \"c\": jnp.linspace(1, 5, len_c),\n",
    "            \"d\": jnp.linspace(-7, 2, len_d)\n",
    "        }\n",
    "    \n",
    "        decorated_func_jit(**grids)\n",
    "        \n",
    "        timeit_res = %timeit -r 7 -n 1_000 -o decorated_func_jit(**grids).block_until_ready()\n",
    "        runtime.append(timeit_res.average)\n",
    "\n",
    "    return total_points, runtime\n",
    "\n",
    "len_grids_arr = np.vstack((\n",
    "    [5, 10, 20, 60, 100],\n",
    "    np.linspace(5, 25, 5),\n",
    "    np.linspace(1, 5, 5),\n",
    "    np.linspace(2, 10, 5),\n",
    "))"
   ]
  },
  {
   "cell_type": "code",
   "execution_count": 18,
   "id": "8671be04",
   "metadata": {},
   "outputs": [
    {
     "name": "stdout",
     "output_type": "stream",
     "text": [
      "1.72 µs ± 1.02 µs per loop (mean ± std. dev. of 7 runs, 1000 loops each)\n",
      "9.79 µs ± 358 ns per loop (mean ± std. dev. of 7 runs, 1000 loops each)\n",
      "57.4 µs ± 203 ns per loop (mean ± std. dev. of 7 runs, 1000 loops each)\n",
      "419 µs ± 1.18 µs per loop (mean ± std. dev. of 7 runs, 1000 loops each)\n",
      "1.39 ms ± 1.64 µs per loop (mean ± std. dev. of 7 runs, 1000 loops each)\n"
     ]
    }
   ],
   "source": [
    "n_points_4d, runtime_numba_4d = get_numba_runtime_4d(len_grids_arr)"
   ]
  },
  {
   "cell_type": "code",
   "execution_count": 19,
   "id": "c90fc304",
   "metadata": {},
   "outputs": [
    {
     "name": "stdout",
     "output_type": "stream",
     "text": [
      "3.07 µs ± 27.9 ns per loop (mean ± std. dev. of 7 runs, 1000 loops each)\n",
      "3.27 µs ± 11.2 ns per loop (mean ± std. dev. of 7 runs, 1000 loops each)\n",
      "4.01 µs ± 12.3 ns per loop (mean ± std. dev. of 7 runs, 1000 loops each)\n",
      "6.94 µs ± 103 ns per loop (mean ± std. dev. of 7 runs, 1000 loops each)\n",
      "17.7 µs ± 3.24 µs per loop (mean ± std. dev. of 7 runs, 1000 loops each)\n"
     ]
    }
   ],
   "source": [
    "_, runtime_jax_4d = get_jax_runtime_4d(len_grids_arr)"
   ]
  },
  {
   "cell_type": "code",
   "execution_count": 21,
   "id": "218d50b8",
   "metadata": {},
   "outputs": [
    {
     "data": {
      "image/png": "[encoded data removed]",
      "text/plain": [
       "<Figure size 720x432 with 1 Axes>"
      ]
     },
     "metadata": {
      "needs_background": "light"
     },
     "output_type": "display_data"
    }
   ],
   "source": [
    "plot_runtime(n_points_4d, runtime_numba_4d, runtime_jax_4d)"
   ]
  },
  {
   "cell_type": "code",
   "execution_count": null,
   "id": "9ea32946",
   "metadata": {},
   "outputs": [],
   "source": []
  },
  {
   "cell_type": "markdown",
   "id": "094b6ac5",
   "metadata": {},
   "source": [
    "## *gridmap*: 4 grids benchmark"
   ]
  },
  {
   "cell_type": "code",
   "execution_count": 22,
   "id": "a689327f",
   "metadata": {},
   "outputs": [],
   "source": [
    "@njit(fastmath=True)\n",
    "def state_space_map_numba(a, b, c, d):\n",
    "    n_a = a.shape[0]\n",
    "    n_b = b.shape[0]\n",
    "    n_c = c.shape[0]\n",
    "\n",
    "    state_space_product = np.empty((n_a, n_b, n_c))\n",
    "\n",
    "    for i in range(n_a):\n",
    "        for j in range(n_b):\n",
    "            for k in range(n_c):\n",
    "                state_space_product[i, j, k] = (\n",
    "                    np.log(a[i]) + np.sqrt(b[j] ** 2 * c[k]) + np.cos(d[k])\n",
    "                )\n",
    "\n",
    "    return state_space_product"
   ]
  },
  {
   "cell_type": "code",
   "execution_count": 23,
   "id": "0a1c090d",
   "metadata": {},
   "outputs": [],
   "source": [
    "# JAX\n",
    "simple_variables = {\n",
    "    \"a\": jnp.linspace(1, 10, 101),\n",
    "    \"b\": jnp.linspace(0, 24, 25),\n",
    "}\n",
    "complex_grids = {\n",
    "    \"c\": jnp.linspace(1, 5, 5),\n",
    "    \"d\": jnp.linspace(-7, 2, 10)\n",
    "}\n",
    "helper = jnp.array(list(itertools.product(*complex_grids.values()))).T\n",
    "\n",
    "complex_variables = {\n",
    "    \"c\": helper[0],\n",
    "    \"d\": helper[1],\n",
    "}\n",
    "\n",
    "# Numpy\n",
    "simple_variables_numpy = {\n",
    "    \"a\": np.linspace(1, 10, 101),\n",
    "    \"b\": np.linspace(0, 24, 25),\n",
    "}\n",
    "complex_grids_numpy = {\n",
    "    \"c\": np.linspace(1, 5, 5),\n",
    "    \"d\": np.linspace(-7, 2, 10)\n",
    "}\n",
    "helper = np.array(list(itertools.product(*complex_grids_numpy.values()))).T\n",
    "\n",
    "complex_variables_numpy = {\n",
    "    \"c\": helper[0],\n",
    "    \"d\": helper[1],\n",
    "}\n",
    "all_grids = {**simple_variables_numpy, **complex_variables_numpy}"
   ]
  },
  {
   "cell_type": "code",
   "execution_count": 25,
   "id": "7fdb8c14",
   "metadata": {},
   "outputs": [],
   "source": [
    "utility_concat_4d = concatenate_functions(\n",
    "    functions=[\n",
    "        _utility_4d,\n",
    "        _leisure_4d,\n",
    "        _consumption_4d,\n",
    "        _unrelated,\n",
    "    ],\n",
    "    targets=\"_utility_4d\",\n",
    ")\n",
    "\n",
    "_decorated_func = gridmap(\n",
    "    utility_concat_4d, list(simple_variables), list(complex_variables)\n",
    ")\n",
    "decorated_func_jit = jit(_decorated_func)\n",
    "rslt_jax = decorated_func_jit(**simple_variables, **complex_variables)\n",
    "\n",
    "rslt_numba = state_space_map_numba(*all_grids.values())\n",
    "\n",
    "aaae(rslt_jax, rslt_numba)"
   ]
  },
  {
   "cell_type": "code",
   "execution_count": null,
   "id": "e86184ae",
   "metadata": {},
   "outputs": [],
   "source": []
  },
  {
   "cell_type": "code",
   "execution_count": 26,
   "id": "3aa9c397",
   "metadata": {},
   "outputs": [],
   "source": [
    "def get_numba_runtime(len_grids_arr):\n",
    "    total_points = []\n",
    "    runtime = []\n",
    "    \n",
    "    for len_grids in len_grids_arr.T:\n",
    "        len_a, len_b, len_c, len_d = len_grids.astype(int)\n",
    "        total_points.append(math.prod(len_grids))\n",
    "        \n",
    "        simple_variables = {\n",
    "            \"a\": np.linspace(1, 10, len_a),\n",
    "            \"b\": np.linspace(0, 24, len_b),\n",
    "        }\n",
    "        complex_grids = {\n",
    "            \"c\": np.linspace(1, 5, len_c),\n",
    "            \"d\": np.linspace(-7, 2, len_d)\n",
    "        }\n",
    "        helper = np.array(list(itertools.product(*complex_grids.values()))).T\n",
    "\n",
    "        complex_variables = {\n",
    "            \"c\": helper[0],\n",
    "            \"d\": helper[1],\n",
    "        }\n",
    "        all_grids = {**simple_variables, **complex_variables}\n",
    "    \n",
    "        state_space_map_numba(*all_grids.values())\n",
    "        \n",
    "        timeit_res = %timeit -r 7 -n 1_000 -o state_space_map_numba(*all_grids.values())\n",
    "        runtime.append(timeit_res.average)\n",
    "\n",
    "    return total_points, runtime\n",
    "\n",
    "\n",
    "def get_jax_runtime(len_grids_arr):\n",
    "    utility_concat_4d = concatenate_functions(\n",
    "    functions=[_utility_4d, _leisure_4d, _consumption_4d, _unrelated,],\n",
    "    targets=\"_utility_4d\"\n",
    "    )\n",
    "    \n",
    "    _decorated_func = gridmap(utility_concat_4d , [\"a\", \"b\"], [\"c\", \"d\"])\n",
    "    decorated_func_jit = jit(_decorated_func)    \n",
    "    \n",
    "    total_points = []\n",
    "    runtime = []\n",
    "    \n",
    "    for len_grids in len_grids_arr.T:\n",
    "        len_a, len_b, len_c, len_d = len_grids.astype(int)\n",
    "        total_points.append(math.prod(len_grids))\n",
    "        \n",
    "        simple_variables = {\n",
    "            \"a\": jnp.linspace(1, 10, len_a),\n",
    "            \"b\": jnp.linspace(0, 24, len_b),\n",
    "        }\n",
    "        complex_grids = {\n",
    "            \"c\": jnp.linspace(1, 5, len_c),\n",
    "            \"d\": jnp.linspace(-7, 2, len_d)\n",
    "        }\n",
    "        helper = jnp.array(list(itertools.product(*complex_grids.values()))).T\n",
    "\n",
    "        complex_variables = {\n",
    "            \"c\": helper[0],\n",
    "            \"d\": helper[1],\n",
    "        }\n",
    "    \n",
    "        decorated_func_jit(**simple_variables, **complex_variables)\n",
    "        \n",
    "        timeit_res = %timeit -r 7 -n 1_000 -o decorated_func_jit(**simple_variables, **complex_variables).block_until_ready()\n",
    "        runtime.append(timeit_res.average)\n",
    "\n",
    "    return total_points, runtime"
   ]
  },
  {
   "cell_type": "code",
   "execution_count": 27,
   "id": "6254177f",
   "metadata": {},
   "outputs": [
    {
     "name": "stdout",
     "output_type": "stream",
     "text": [
      "1.24 µs ± 88.6 ns per loop (mean ± std. dev. of 7 runs, 1000 loops each)\n",
      "10.1 µs ± 360 ns per loop (mean ± std. dev. of 7 runs, 1000 loops each)\n",
      "59.7 µs ± 173 ns per loop (mean ± std. dev. of 7 runs, 1000 loops each)\n",
      "436 µs ± 456 ns per loop (mean ± std. dev. of 7 runs, 1000 loops each)\n",
      "1.42 ms ± 1.21 µs per loop (mean ± std. dev. of 7 runs, 1000 loops each)\n"
     ]
    }
   ],
   "source": [
    "n_points, runtime_numba = get_numba_runtime(len_grids_arr)"
   ]
  },
  {
   "cell_type": "code",
   "execution_count": 28,
   "id": "452dd808",
   "metadata": {},
   "outputs": [
    {
     "name": "stdout",
     "output_type": "stream",
     "text": [
      "3.42 µs ± 32.4 ns per loop (mean ± std. dev. of 7 runs, 1000 loops each)\n",
      "3.47 µs ± 10.1 ns per loop (mean ± std. dev. of 7 runs, 1000 loops each)\n",
      "4.44 µs ± 25.2 ns per loop (mean ± std. dev. of 7 runs, 1000 loops each)\n",
      "8 µs ± 43.7 ns per loop (mean ± std. dev. of 7 runs, 1000 loops each)\n",
      "21.2 µs ± 1.57 µs per loop (mean ± std. dev. of 7 runs, 1000 loops each)\n"
     ]
    }
   ],
   "source": [
    "_, runtime_jax = get_jax_runtime(len_grids_arr)"
   ]
  },
  {
   "cell_type": "code",
   "execution_count": 29,
   "id": "9d33bacf",
   "metadata": {},
   "outputs": [
    {
     "data": {
      "image/png": "[encoded data removed]",
      "text/plain": [
       "<Figure size 720x432 with 1 Axes>"
      ]
     },
     "metadata": {
      "needs_background": "light"
     },
     "output_type": "display_data"
    }
   ],
   "source": [
    "plot_runtime(n_points, runtime_numba, runtime_jax, func=\"state_space_map\")"
   ]
  },
  {
   "cell_type": "markdown",
   "id": "5336d404",
   "metadata": {},
   "source": [
    "## 4d Benchmark with multiple targets and product_map"
   ]
  },
  {
   "cell_type": "code",
   "execution_count": 30,
   "id": "9e4db7ad",
   "metadata": {},
   "outputs": [],
   "source": [
    "def _utility_4d(_consumption_4d, _leisure_4d):\n",
    "    return _consumption_4d + _leisure_4d\n",
    "\n",
    "\n",
    "def _leisure_4d(d):\n",
    "    return jnp.cos(d)\n",
    "\n",
    "\n",
    "def _consumption_4d(a, b, c):\n",
    "    return jnp.log(a) + jnp.sqrt(jnp.square(b) * c)\n",
    "\n",
    "\n",
    "@njit(fastmath=True)\n",
    "def product_map_numba_4d(a, b, c, d):\n",
    "    n_a = a.shape[0]\n",
    "    n_b = b.shape[0]\n",
    "    n_c = c.shape[0]\n",
    "    n_d = d.shape[0]\n",
    "\n",
    "    out_utility = np.empty((n_a, n_b, n_c, n_d))\n",
    "    out_leisure = np.empty((n_a, n_b, n_c, n_d))\n",
    "    \n",
    "    for i in range(n_a):\n",
    "        for j in range(n_b):\n",
    "            for k in range(n_c):\n",
    "                for l in range(n_d):\n",
    "                    _leis = np.cos(d[l])\n",
    "                    \n",
    "                    out_leisure[i, j, k, l] = _leis\n",
    "                    out_utility[i, j, k, l] = (\n",
    "                        np.log(a[i]) + np.sqrt(b[j] ** 2 * c[k]) + _leis\n",
    "                    )\n",
    "\n",
    "    return out_leisure, out_utility"
   ]
  },
  {
   "cell_type": "code",
   "execution_count": 32,
   "id": "528034b7",
   "metadata": {},
   "outputs": [],
   "source": [
    "grids = {\n",
    "    \"a\": jnp.linspace(1, 10, 101),\n",
    "    \"b\": jnp.linspace(0, 24, 25),\n",
    "    \"c\": jnp.linspace(1, 5, 5),\n",
    "    \"d\": jnp.linspace(-7, 2, 10)\n",
    "}\n",
    "\n",
    "a = np.linspace(1, 10, 101)\n",
    "b = np.linspace(0, 24, 25)\n",
    "c = np.linspace(1, 5, 5)\n",
    "d = np.linspace(-7, 2, 10)\n",
    "\n",
    "utility_concat_4d = concatenate_functions(\n",
    "    functions=[_utility_4d, _leisure_4d, _consumption_4d, _unrelated,],\n",
    "    targets=[\"_leisure_4d\", \"_utility_4d\"]\n",
    ")\n",
    "    \n",
    "_decorated_func = productmap(utility_concat_4d , [\"a\", \"b\", \"c\", \"d\"])\n",
    "decorated_func_jit = jit(_decorated_func)  \n",
    "rslt_jax = decorated_func_jit(**grids)\n",
    "\n",
    "rslt_numba = product_map_numba_4d(a, b, c, d)\n",
    "\n",
    "aaae(rslt_jax, rslt_numba)"
   ]
  },
  {
   "cell_type": "code",
   "execution_count": 33,
   "id": "9b178292",
   "metadata": {},
   "outputs": [],
   "source": [
    "def get_numba_runtime_4d(len_grids_arr):\n",
    "    total_points = []\n",
    "    runtime = []\n",
    "    \n",
    "    for len_grids in len_grids_arr.T:\n",
    "        len_a, len_b, len_c, len_d = len_grids.astype(int)\n",
    "        total_points.append(math.prod(len_grids))\n",
    "        \n",
    "        a = np.linspace(1, 10, len_a)\n",
    "        b = np.linspace(0, 24, len_b)\n",
    "        c = np.linspace(1, 5, len_c)\n",
    "        d = np.linspace(-7, 2, len_d)\n",
    "    \n",
    "        product_map_numba_4d(a, b, c, d)\n",
    "        \n",
    "        timeit_res = %timeit -r 7 -n 1_000 -o product_map_numba_4d(a, b, c, d)\n",
    "        runtime.append(timeit_res.average)\n",
    "\n",
    "    return total_points, runtime\n",
    "\n",
    "\n",
    "def get_jax_runtime_4d(len_grids_arr):\n",
    "    utility_concat_4d = concatenate_functions(\n",
    "    functions=[_utility_4d, _leisure_4d, _consumption_4d, _unrelated,],\n",
    "    targets=\"_utility_4d\"\n",
    "    )\n",
    "    \n",
    "    _decorated_func = productmap(utility_concat_4d , [\"a\", \"b\", \"c\", \"d\"])\n",
    "    decorated_func_jit = jit(_decorated_func)    \n",
    "    \n",
    "    total_points = []\n",
    "    runtime = []\n",
    "    \n",
    "    for len_grids in len_grids_arr.T:\n",
    "        len_a, len_b, len_c, len_d = len_grids.astype(int)\n",
    "        total_points.append(math.prod(len_grids))\n",
    "        \n",
    "        grids = {\n",
    "            \"a\": jnp.linspace(1, 10, len_a),\n",
    "            \"b\": jnp.linspace(0, 24, len_b),\n",
    "            \"c\": jnp.linspace(1, 5, len_c),\n",
    "            \"d\": jnp.linspace(-7, 2, len_d)\n",
    "        }\n",
    "    \n",
    "        decorated_func_jit(**grids)\n",
    "        \n",
    "        timeit_res = %timeit -r 7 -n 1_000 -o decorated_func_jit(**grids).block_until_ready()\n",
    "        runtime.append(timeit_res.average)\n",
    "\n",
    "    return total_points, runtime\n",
    "\n",
    "len_grids_arr = np.vstack((\n",
    "    [5, 10, 20, 60, 100],\n",
    "    np.linspace(5, 25, 5),\n",
    "    np.linspace(1, 5, 5),\n",
    "    np.linspace(2, 10, 5),\n",
    "))"
   ]
  },
  {
   "cell_type": "code",
   "execution_count": 34,
   "id": "1cebd4f7",
   "metadata": {},
   "outputs": [
    {
     "name": "stdout",
     "output_type": "stream",
     "text": [
      "1.7 µs ± 435 ns per loop (mean ± std. dev. of 7 runs, 1000 loops each)\n",
      "10.3 µs ± 211 ns per loop (mean ± std. dev. of 7 runs, 1000 loops each)\n",
      "59.4 µs ± 216 ns per loop (mean ± std. dev. of 7 runs, 1000 loops each)\n",
      "436 µs ± 569 ns per loop (mean ± std. dev. of 7 runs, 1000 loops each)\n",
      "1.42 ms ± 2.64 µs per loop (mean ± std. dev. of 7 runs, 1000 loops each)\n"
     ]
    }
   ],
   "source": [
    "n_points_4d, runtime_numba_4d = get_numba_runtime_4d(len_grids_arr)"
   ]
  },
  {
   "cell_type": "code",
   "execution_count": 35,
   "id": "a70dbc40",
   "metadata": {},
   "outputs": [
    {
     "name": "stdout",
     "output_type": "stream",
     "text": [
      "3.12 µs ± 79.6 ns per loop (mean ± std. dev. of 7 runs, 1000 loops each)\n",
      "3.31 µs ± 14.6 ns per loop (mean ± std. dev. of 7 runs, 1000 loops each)\n",
      "4.04 µs ± 78.6 ns per loop (mean ± std. dev. of 7 runs, 1000 loops each)\n",
      "6.96 µs ± 27 ns per loop (mean ± std. dev. of 7 runs, 1000 loops each)\n",
      "21.4 µs ± 595 ns per loop (mean ± std. dev. of 7 runs, 1000 loops each)\n"
     ]
    }
   ],
   "source": [
    "_, runtime_jax_4d = get_jax_runtime_4d(len_grids_arr)"
   ]
  },
  {
   "cell_type": "code",
   "execution_count": 36,
   "id": "c705a86a",
   "metadata": {},
   "outputs": [
    {
     "data": {
      "image/png": "[encoded data removed]",
      "text/plain": [
       "<Figure size 720x432 with 1 Axes>"
      ]
     },
     "metadata": {
      "needs_background": "light"
     },
     "output_type": "display_data"
    }
   ],
   "source": [
    "plot_runtime(n_points_4d, runtime_numba_4d, runtime_jax_4d)"
   ]
  },
  {
   "cell_type": "code",
   "execution_count": null,
   "id": "8d11bfd6",
   "metadata": {},
   "outputs": [],
   "source": []
  }
 ],
 "metadata": {
  "kernelspec": {
   "display_name": "Python 3 (ipykernel)",
   "language": "python",
   "name": "python3"
  },
  "language_info": {
   "codemirror_mode": {
    "name": "ipython",
    "version": 3
   },
   "file_extension": ".py",
   "mimetype": "text/x-python",
   "name": "python",
   "nbconvert_exporter": "python",
   "pygments_lexer": "ipython3",
   "version": "3.9.7"
  }
 },
 "nbformat": 4,
 "nbformat_minor": 5
}
