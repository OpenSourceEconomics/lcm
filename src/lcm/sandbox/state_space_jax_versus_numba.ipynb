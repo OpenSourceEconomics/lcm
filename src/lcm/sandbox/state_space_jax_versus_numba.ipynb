{
 "cells": [
  {
   "cell_type": "code",
   "execution_count": 1,
   "id": "5d844b48",
   "metadata": {},
   "outputs": [],
   "source": [
    "import math\n",
    "import itertools\n",
    "import numpy as np\n",
    "from numba import njit\n",
    "\n",
    "import matplotlib.pyplot as plt\n",
    "\n",
    "import jax.numpy as jnp\n",
    "from jax import jit\n",
    "from jax.config import config\n",
    "config.update(\"jax_enable_x64\", True)\n",
    "\n",
    "from dags import concatenate_functions\n",
    "from lcm.dispatchers import gridmap, productmap\n",
    "\n",
    "from numpy.testing import assert_array_almost_equal as aaae"
   ]
  },
  {
   "cell_type": "code",
   "execution_count": 2,
   "id": "341e9476",
   "metadata": {},
   "outputs": [],
   "source": [
    "def plot_runtime(n_points, runtime_numba, runtime_jax, func=\"product_map\"):\n",
    "    plt.figure(figsize=[10, 6])\n",
    "    plt.plot(n_points, [i * 1000 for i in runtime_numba], label=\"Numba\")\n",
    "    plt.plot(n_points, [i * 1000 for i in runtime_jax], label=\"JAX\")\n",
    "\n",
    "    plt.xlabel(\"Number of Grid Points\")\n",
    "    plt.ylabel(\"Runtime (in milliseconds)\")\n",
    "    plt.title(f\"Runtime of hardcoded Numba function versus {func} with JAX\")\n",
    "    \n",
    "    plt.legend()\n",
    "    plt.show()"
   ]
  },
  {
   "cell_type": "markdown",
   "id": "2bba9018",
   "metadata": {},
   "source": [
    "## product_map: 2 grids benchmark"
   ]
  },
  {
   "cell_type": "markdown",
   "id": "13fd21b6",
   "metadata": {},
   "source": [
    "### Trivial setup"
   ]
  },
  {
   "cell_type": "code",
   "execution_count": 3,
   "id": "0a6c246b",
   "metadata": {},
   "outputs": [],
   "source": [
    "def _utility(_consumption, _leisure):\n",
    "    return _consumption + _leisure\n",
    "\n",
    "\n",
    "def _leisure(working):\n",
    "    return 24 - working\n",
    "\n",
    "\n",
    "def _consumption(working, wage):\n",
    "    return wage * working"
   ]
  },
  {
   "cell_type": "markdown",
   "id": "1f3a7cc2",
   "metadata": {},
   "source": [
    "### Numba: Dimensions hardcoded"
   ]
  },
  {
   "cell_type": "code",
   "execution_count": 4,
   "id": "10a72f5c",
   "metadata": {},
   "outputs": [],
   "source": [
    "@njit(fastmath=True)\n",
    "def product_map_numba_2d(wage, working):\n",
    "    n_wage = wage.shape[0]\n",
    "    n_working = working.shape[0]\n",
    "\n",
    "    cross_product = np.empty((n_wage, n_working))\n",
    "\n",
    "    for i in range(n_wage):\n",
    "        for j in range(n_working):\n",
    "            cross_product[i, j] = wage[i] * working[j] + (24 - working[j])\n",
    "\n",
    "    return cross_product\n",
    "\n",
    "wage = np.linspace(1, 10, 101)\n",
    "working = np.linspace(0, 24, 25)\n",
    "rslt_numba = product_map_numba_2d(wage, working)\n"
   ]
  },
  {
   "cell_type": "markdown",
   "id": "fa089aa4",
   "metadata": {},
   "source": [
    "### LCM productmap"
   ]
  },
  {
   "cell_type": "code",
   "execution_count": 5,
   "id": "6f687b34",
   "metadata": {},
   "outputs": [
    {
     "name": "stderr",
     "output_type": "stream",
     "text": [
      "WARNING:absl:No GPU/TPU found, falling back to CPU. (Set TF_CPP_MIN_LOG_LEVEL=0 and rerun for more info.)\n"
     ]
    }
   ],
   "source": [
    "grids = {\n",
    "    \"wage\": jnp.linspace(1, 10, 101),\n",
    "    \"working\": jnp.linspace(0, 24, 25),\n",
    "}\n",
    "\n",
    "utility_concat = concatenate_functions(\n",
    "    functions=[_utility, _leisure, _consumption], targets=\"_utility\"\n",
    ")\n",
    "_decorated_func = productmap(utility_concat, [\"wage\", \"working\"])\n",
    "decorated_func_jit = jit(_decorated_func)\n",
    "rslt_jax = decorated_func_jit(**grids)"
   ]
  },
  {
   "cell_type": "code",
   "execution_count": 6,
   "id": "a395abf7",
   "metadata": {},
   "outputs": [],
   "source": [
    "### Assert equality\n",
    "\n",
    "aaae(rslt_jax, rslt_numba)"
   ]
  },
  {
   "cell_type": "code",
   "execution_count": 7,
   "id": "904b3fae",
   "metadata": {},
   "outputs": [],
   "source": [
    "def get_numba_runtime_2d():        \n",
    "    total_points = []\n",
    "    runtime = []\n",
    "    \n",
    "    for len_grid in grid_space:\n",
    "        total_points.append(len_grid**2)\n",
    "        \n",
    "        grids = {\n",
    "            \"wage\": np.linspace(1, 10, len_grid),\n",
    "            \"working\": np.linspace(0, 24, len_grid),\n",
    "        }\n",
    "        \n",
    "        product_map_numba_2d(**grids)\n",
    "            \n",
    "        timeit_res = %timeit -r 7 -n 1_000 -o product_map_numba_2d(**grids)\n",
    "        runtime.append(timeit_res.average)\n",
    "\n",
    "    return total_points, runtime\n",
    "\n",
    "def get_jax_runtime_2d():\n",
    "    utility_concat = concatenate_functions(\n",
    "    functions=[_utility, _leisure, _consumption],\n",
    "    targets=\"_utility\"\n",
    "    )\n",
    "    _decorated_func = productmap(utility_concat, [\"wage\", \"working\"])\n",
    "    decorated_func_jit = jit(_decorated_func)\n",
    "        \n",
    "    total_points = []\n",
    "    runtime = []\n",
    "    \n",
    "    for len_grid in grid_space:\n",
    "        total_points.append(len_grid**2)\n",
    "        \n",
    "        grids = {\n",
    "            \"wage\": jnp.linspace(1, 10, len_grid),\n",
    "            \"working\": jnp.linspace(0, 24, len_grid),\n",
    "        }\n",
    "    \n",
    "        decorated_func_jit(**grids)\n",
    "        \n",
    "        timeit_res = %timeit -r 7 -n 1_000 -o decorated_func_jit(**grids).block_until_ready()\n",
    "        runtime.append(timeit_res.average)\n",
    "\n",
    "    return total_points, runtime\n",
    "\n",
    "grid_space = [10, 25, 50] + np.arange(100, 1100, 100).tolist()"
   ]
  },
  {
   "cell_type": "code",
   "execution_count": 8,
   "id": "46155cdf",
   "metadata": {},
   "outputs": [
    {
     "name": "stdout",
     "output_type": "stream",
     "text": [
      "1.4 µs ± 278 ns per loop (mean ± std. dev. of 7 runs, 1,000 loops each)\n",
      "1.18 µs ± 216 ns per loop (mean ± std. dev. of 7 runs, 1,000 loops each)\n",
      "1.52 µs ± 95.1 ns per loop (mean ± std. dev. of 7 runs, 1,000 loops each)\n",
      "4.09 µs ± 1.17 µs per loop (mean ± std. dev. of 7 runs, 1,000 loops each)\n",
      "14.2 µs ± 852 ns per loop (mean ± std. dev. of 7 runs, 1,000 loops each)\n",
      "26.4 µs ± 1.93 µs per loop (mean ± std. dev. of 7 runs, 1,000 loops each)\n",
      "46.9 µs ± 4.83 µs per loop (mean ± std. dev. of 7 runs, 1,000 loops each)\n",
      "70.9 µs ± 5.92 µs per loop (mean ± std. dev. of 7 runs, 1,000 loops each)\n",
      "96.4 µs ± 3.99 µs per loop (mean ± std. dev. of 7 runs, 1,000 loops each)\n",
      "133 µs ± 3.59 µs per loop (mean ± std. dev. of 7 runs, 1,000 loops each)\n",
      "191 µs ± 15.8 µs per loop (mean ± std. dev. of 7 runs, 1,000 loops each)\n",
      "281 µs ± 11.3 µs per loop (mean ± std. dev. of 7 runs, 1,000 loops each)\n",
      "423 µs ± 23.6 µs per loop (mean ± std. dev. of 7 runs, 1,000 loops each)\n"
     ]
    }
   ],
   "source": [
    "n_points_2_grids, runtime_numba_2d = get_numba_runtime_2d()"
   ]
  },
  {
   "cell_type": "code",
   "execution_count": 9,
   "id": "dca5d16d",
   "metadata": {},
   "outputs": [
    {
     "name": "stdout",
     "output_type": "stream",
     "text": [
      "5.71 µs ± 1.38 µs per loop (mean ± std. dev. of 7 runs, 1,000 loops each)\n",
      "5.38 µs ± 155 ns per loop (mean ± std. dev. of 7 runs, 1,000 loops each)\n",
      "5.96 µs ± 402 ns per loop (mean ± std. dev. of 7 runs, 1,000 loops each)\n",
      "10 µs ± 1.36 µs per loop (mean ± std. dev. of 7 runs, 1,000 loops each)\n",
      "19.1 µs ± 704 ns per loop (mean ± std. dev. of 7 runs, 1,000 loops each)\n",
      "35.1 µs ± 4.22 µs per loop (mean ± std. dev. of 7 runs, 1,000 loops each)\n",
      "49.2 µs ± 3.94 µs per loop (mean ± std. dev. of 7 runs, 1,000 loops each)\n",
      "63.3 µs ± 2.83 µs per loop (mean ± std. dev. of 7 runs, 1,000 loops each)\n",
      "83.1 µs ± 8.34 µs per loop (mean ± std. dev. of 7 runs, 1,000 loops each)\n",
      "103 µs ± 12.7 µs per loop (mean ± std. dev. of 7 runs, 1,000 loops each)\n",
      "126 µs ± 6.04 µs per loop (mean ± std. dev. of 7 runs, 1,000 loops each)\n",
      "177 µs ± 13.4 µs per loop (mean ± std. dev. of 7 runs, 1,000 loops each)\n",
      "284 µs ± 16.7 µs per loop (mean ± std. dev. of 7 runs, 1,000 loops each)\n"
     ]
    }
   ],
   "source": [
    "_, runtime_jax_2d = get_jax_runtime_2d()"
   ]
  },
  {
   "cell_type": "code",
   "execution_count": 10,
   "id": "d6f1b354",
   "metadata": {},
   "outputs": [
    {
     "data": {
      "image/png": "[encoded data removed]",
      "text/plain": [
       "<Figure size 720x432 with 1 Axes>"
      ]
     },
     "metadata": {
      "needs_background": "light"
     },
     "output_type": "display_data"
    }
   ],
   "source": [
    "plot_runtime(n_points_2_grids, runtime_numba_2d, runtime_jax_2d)"
   ]
  },
  {
   "cell_type": "markdown",
   "id": "74e0d4be",
   "metadata": {},
   "source": [
    "## *product_map*: 4 grids benchmark, more complex computations"
   ]
  },
  {
   "cell_type": "code",
   "execution_count": 11,
   "id": "737050d7",
   "metadata": {},
   "outputs": [],
   "source": [
    "def _utility_4d(_consumption_4d, _leisure_4d):\n",
    "    return _consumption_4d + _leisure_4d\n",
    "\n",
    "\n",
    "def _leisure_4d(d):\n",
    "    return jnp.cos(d)\n",
    "\n",
    "\n",
    "def _consumption_4d(a, b, c):\n",
    "    return jnp.log(a) + jnp.sqrt(jnp.square(b) * c)\n",
    "\n",
    "\n",
    "@njit(fastmath=True)\n",
    "def product_map_numba_4d(a, b, c, d):\n",
    "    n_a = a.shape[0]\n",
    "    n_b = b.shape[0]\n",
    "    n_c = c.shape[0]\n",
    "    n_d = d.shape[0]\n",
    "\n",
    "    cross_product = np.empty((n_a, n_b, n_c, n_d))\n",
    "\n",
    "    for i in range(n_a):\n",
    "        for j in range(n_b):\n",
    "            for k in range(n_c):\n",
    "                for l in range(n_d):\n",
    "                    cross_product[i, j, k, l] = (\n",
    "                        np.log(a[i]) + np.sqrt(b[j] ** 2 * c[k]) + np.cos(d[l])\n",
    "                    )\n",
    "\n",
    "    return cross_product"
   ]
  },
  {
   "cell_type": "code",
   "execution_count": 12,
   "id": "3dd249c5",
   "metadata": {},
   "outputs": [],
   "source": [
    "grids = {\n",
    "    \"a\": jnp.linspace(1, 10, 101),\n",
    "    \"b\": jnp.linspace(0, 24, 25),\n",
    "    \"c\": jnp.linspace(1, 5, 5),\n",
    "    \"d\": jnp.linspace(-7, 2, 10)\n",
    "}\n",
    "\n",
    "a = np.linspace(1, 10, 101)\n",
    "b = np.linspace(0, 24, 25)\n",
    "c = np.linspace(1, 5, 5)\n",
    "d = np.linspace(-7, 2, 10)\n",
    "\n",
    "utility_concat_4d = concatenate_functions(\n",
    "    functions=[_utility_4d, _leisure_4d, _consumption_4d,],\n",
    "    targets=\"_utility_4d\"\n",
    ")\n",
    "    \n",
    "_decorated_func = productmap(utility_concat_4d , [\"a\", \"b\", \"c\", \"d\"])\n",
    "decorated_func_jit = jit(_decorated_func)  \n",
    "rslt_jax = decorated_func_jit(**grids)\n",
    "\n",
    "rslt_numba = product_map_numba_4d(a, b, c, d)\n",
    "\n",
    "aaae(rslt_jax, rslt_numba)"
   ]
  },
  {
   "cell_type": "code",
   "execution_count": 13,
   "id": "214b14e0",
   "metadata": {},
   "outputs": [],
   "source": [
    "def get_numba_runtime_4d(len_grids_arr):\n",
    "    total_points = []\n",
    "    runtime = []\n",
    "    \n",
    "    for len_grids in len_grids_arr.T:\n",
    "        len_a, len_b, len_c, len_d = len_grids.astype(int)\n",
    "        total_points.append(math.prod(len_grids))\n",
    "        \n",
    "        a = np.linspace(1, 10, len_a)\n",
    "        b = np.linspace(0, 24, len_b)\n",
    "        c = np.linspace(1, 5, len_c)\n",
    "        d = np.linspace(-7, 2, len_d)\n",
    "    \n",
    "        product_map_numba_4d(a, b, c, d)\n",
    "        \n",
    "        timeit_res = %timeit -r 7 -n 1_000 -o product_map_numba_4d(a, b, c, d)\n",
    "        runtime.append(timeit_res.average)\n",
    "\n",
    "    return total_points, runtime\n",
    "\n",
    "\n",
    "def get_jax_runtime_4d(len_grids_arr):\n",
    "    utility_concat_4d = concatenate_functions(\n",
    "    functions=[_utility_4d, _leisure_4d, _consumption_4d,],\n",
    "    targets=\"_utility_4d\"\n",
    "    )\n",
    "    \n",
    "    _decorated_func = productmap(utility_concat_4d , [\"a\", \"b\", \"c\", \"d\"])\n",
    "    decorated_func_jit = jit(_decorated_func)    \n",
    "    \n",
    "    total_points = []\n",
    "    runtime = []\n",
    "    \n",
    "    for len_grids in len_grids_arr.T:\n",
    "        len_a, len_b, len_c, len_d = len_grids.astype(int)\n",
    "        total_points.append(math.prod(len_grids))\n",
    "        \n",
    "        grids = {\n",
    "            \"a\": jnp.linspace(1, 10, len_a),\n",
    "            \"b\": jnp.linspace(0, 24, len_b),\n",
    "            \"c\": jnp.linspace(1, 5, len_c),\n",
    "            \"d\": jnp.linspace(-7, 2, len_d)\n",
    "        }\n",
    "    \n",
    "        decorated_func_jit(**grids)\n",
    "        \n",
    "        timeit_res = %timeit -r 7 -n 1_000 -o decorated_func_jit(**grids).block_until_ready()\n",
    "        runtime.append(timeit_res.average)\n",
    "\n",
    "    return total_points, runtime\n",
    "\n",
    "len_grids_arr = np.vstack((\n",
    "    [5, 10, 20, 60, 100],\n",
    "    np.linspace(5, 25, 5),\n",
    "    np.linspace(1, 5, 5),\n",
    "    np.linspace(2, 10, 5),\n",
    "))"
   ]
  },
  {
   "cell_type": "code",
   "execution_count": 14,
   "id": "8671be04",
   "metadata": {},
   "outputs": [
    {
     "name": "stdout",
     "output_type": "stream",
     "text": [
      "3.43 µs ± 815 ns per loop (mean ± std. dev. of 7 runs, 1,000 loops each)\n",
      "23.4 µs ± 5.48 µs per loop (mean ± std. dev. of 7 runs, 1,000 loops each)\n",
      "113 µs ± 6.93 µs per loop (mean ± std. dev. of 7 runs, 1,000 loops each)\n",
      "785 µs ± 25.3 µs per loop (mean ± std. dev. of 7 runs, 1,000 loops each)\n",
      "2.6 ms ± 44.9 µs per loop (mean ± std. dev. of 7 runs, 1,000 loops each)\n"
     ]
    }
   ],
   "source": [
    "n_points_4d, runtime_numba_4d = get_numba_runtime_4d(len_grids_arr)"
   ]
  },
  {
   "cell_type": "code",
   "execution_count": 15,
   "id": "c90fc304",
   "metadata": {},
   "outputs": [
    {
     "name": "stdout",
     "output_type": "stream",
     "text": [
      "9.46 µs ± 1.1 µs per loop (mean ± std. dev. of 7 runs, 1,000 loops each)\n",
      "6.29 µs ± 332 ns per loop (mean ± std. dev. of 7 runs, 1,000 loops each)\n",
      "9.13 µs ± 638 ns per loop (mean ± std. dev. of 7 runs, 1,000 loops each)\n",
      "17.6 µs ± 923 ns per loop (mean ± std. dev. of 7 runs, 1,000 loops each)\n",
      "59.9 µs ± 7.15 µs per loop (mean ± std. dev. of 7 runs, 1,000 loops each)\n"
     ]
    }
   ],
   "source": [
    "_, runtime_jax_4d = get_jax_runtime_4d(len_grids_arr)"
   ]
  },
  {
   "cell_type": "code",
   "execution_count": 16,
   "id": "218d50b8",
   "metadata": {},
   "outputs": [
    {
     "data": {
      "image/png": "[encoded data removed]",
      "text/plain": [
       "<Figure size 720x432 with 1 Axes>"
      ]
     },
     "metadata": {
      "needs_background": "light"
     },
     "output_type": "display_data"
    }
   ],
   "source": [
    "plot_runtime(n_points_4d, runtime_numba_4d, runtime_jax_4d)"
   ]
  },
  {
   "cell_type": "markdown",
   "id": "094b6ac5",
   "metadata": {},
   "source": [
    "## *gridmap*: 4 grids benchmark"
   ]
  },
  {
   "cell_type": "code",
   "execution_count": 17,
   "id": "a689327f",
   "metadata": {},
   "outputs": [],
   "source": [
    "@njit(fastmath=True)\n",
    "def state_space_map_numba(a, b, c, d):\n",
    "    n_a = a.shape[0]\n",
    "    n_b = b.shape[0]\n",
    "    n_c = c.shape[0]\n",
    "\n",
    "    state_space_product = np.empty((n_a, n_b, n_c))\n",
    "\n",
    "    for i in range(n_a):\n",
    "        for j in range(n_b):\n",
    "            for k in range(n_c):\n",
    "                state_space_product[i, j, k] = (\n",
    "                    np.log(a[i]) + np.sqrt(b[j] ** 2 * c[k]) + np.cos(d[k])\n",
    "                )\n",
    "\n",
    "    return state_space_product"
   ]
  },
  {
   "cell_type": "code",
   "execution_count": 18,
   "id": "0a1c090d",
   "metadata": {},
   "outputs": [],
   "source": [
    "# JAX\n",
    "dense_variables = {\n",
    "    \"a\": jnp.linspace(1, 10, 101),\n",
    "    \"b\": jnp.linspace(0, 24, 25),\n",
    "}\n",
    "combined_grids = {\n",
    "    \"c\": jnp.linspace(1, 5, 5),\n",
    "    \"d\": jnp.linspace(-7, 2, 10)\n",
    "}\n",
    "helper = jnp.array(list(itertools.product(*combined_grids.values()))).T\n",
    "\n",
    "contingent_variables = {\n",
    "    \"c\": helper[0],\n",
    "    \"d\": helper[1],\n",
    "}\n",
    "\n",
    "# Numpy\n",
    "dense_variables_numpy = {\n",
    "    \"a\": np.linspace(1, 10, 101),\n",
    "    \"b\": np.linspace(0, 24, 25),\n",
    "}\n",
    "combined_grids_numpy = {\n",
    "    \"c\": np.linspace(1, 5, 5),\n",
    "    \"d\": np.linspace(-7, 2, 10)\n",
    "}\n",
    "helper = np.array(list(itertools.product(*combined_grids_numpy.values()))).T\n",
    "\n",
    "contingent_variables_numpy = {\n",
    "    \"c\": helper[0],\n",
    "    \"d\": helper[1],\n",
    "}\n",
    "all_grids = {**dense_variables_numpy, **contingent_variables_numpy}"
   ]
  },
  {
   "cell_type": "code",
   "execution_count": 19,
   "id": "7fdb8c14",
   "metadata": {},
   "outputs": [],
   "source": [
    "utility_concat_4d = concatenate_functions(\n",
    "    functions=[\n",
    "        _utility_4d,\n",
    "        _leisure_4d,\n",
    "        _consumption_4d,\n",
    "    ],\n",
    "    targets=\"_utility_4d\",\n",
    ")\n",
    "\n",
    "_decorated_func = gridmap(\n",
    "    utility_concat_4d, list(dense_variables), list(contingent_variables)\n",
    ")\n",
    "decorated_func_jit = jit(_decorated_func)\n",
    "rslt_jax = decorated_func_jit(**dense_variables, **contingent_variables)\n",
    "\n",
    "rslt_numba = state_space_map_numba(*all_grids.values())\n",
    "\n",
    "aaae(rslt_jax, rslt_numba)"
   ]
  },
  {
   "cell_type": "code",
   "execution_count": 20,
   "id": "3aa9c397",
   "metadata": {},
   "outputs": [],
   "source": [
    "def get_numba_runtime(len_grids_arr):\n",
    "    total_points = []\n",
    "    runtime = []\n",
    "    \n",
    "    for len_grids in len_grids_arr.T:\n",
    "        len_a, len_b, len_c, len_d = len_grids.astype(int)\n",
    "        total_points.append(math.prod(len_grids))\n",
    "        \n",
    "        dense_variables = {\n",
    "            \"a\": np.linspace(1, 10, len_a),\n",
    "            \"b\": np.linspace(0, 24, len_b),\n",
    "        }\n",
    "        complex_grids = {\n",
    "            \"c\": np.linspace(1, 5, len_c),\n",
    "            \"d\": np.linspace(-7, 2, len_d)\n",
    "        }\n",
    "        helper = np.array(list(itertools.product(*complex_grids.values()))).T\n",
    "\n",
    "        complex_variables = {\n",
    "            \"c\": helper[0],\n",
    "            \"d\": helper[1],\n",
    "        }\n",
    "        all_grids = {**dense_variables, **complex_variables}\n",
    "    \n",
    "        state_space_map_numba(*all_grids.values())\n",
    "        \n",
    "        timeit_res = %timeit -r 7 -n 1_000 -o state_space_map_numba(*all_grids.values())\n",
    "        runtime.append(timeit_res.average)\n",
    "\n",
    "    return total_points, runtime\n",
    "\n",
    "\n",
    "def get_jax_runtime(len_grids_arr):\n",
    "    utility_concat_4d = concatenate_functions(\n",
    "    functions=[_utility_4d, _leisure_4d, _consumption_4d],\n",
    "    targets=\"_utility_4d\"\n",
    "    )\n",
    "    \n",
    "    _decorated_func = gridmap(utility_concat_4d , [\"a\", \"b\"], [\"c\", \"d\"])\n",
    "    decorated_func_jit = jit(_decorated_func)    \n",
    "    \n",
    "    total_points = []\n",
    "    runtime = []\n",
    "    \n",
    "    for len_grids in len_grids_arr.T:\n",
    "        len_a, len_b, len_c, len_d = len_grids.astype(int)\n",
    "        total_points.append(math.prod(len_grids))\n",
    "        \n",
    "        dense_variables = {\n",
    "            \"a\": jnp.linspace(1, 10, len_a),\n",
    "            \"b\": jnp.linspace(0, 24, len_b),\n",
    "        }\n",
    "        complex_grids = {\n",
    "            \"c\": jnp.linspace(1, 5, len_c),\n",
    "            \"d\": jnp.linspace(-7, 2, len_d)\n",
    "        }\n",
    "        helper = jnp.array(list(itertools.product(*complex_grids.values()))).T\n",
    "\n",
    "        complex_variables = {\n",
    "            \"c\": helper[0],\n",
    "            \"d\": helper[1],\n",
    "        }\n",
    "    \n",
    "        decorated_func_jit(**dense_variables, **complex_variables)\n",
    "        \n",
    "        timeit_res = %timeit -r 7 -n 1_000 -o decorated_func_jit(**dense_variables, **complex_variables).block_until_ready()\n",
    "        runtime.append(timeit_res.average)\n",
    "\n",
    "    return total_points, runtime"
   ]
  },
  {
   "cell_type": "code",
   "execution_count": 21,
   "id": "6254177f",
   "metadata": {},
   "outputs": [
    {
     "name": "stdout",
     "output_type": "stream",
     "text": [
      "2.68 µs ± 284 ns per loop (mean ± std. dev. of 7 runs, 1,000 loops each)\n",
      "19.8 µs ± 714 ns per loop (mean ± std. dev. of 7 runs, 1,000 loops each)\n",
      "116 µs ± 8.63 µs per loop (mean ± std. dev. of 7 runs, 1,000 loops each)\n",
      "793 µs ± 21.3 µs per loop (mean ± std. dev. of 7 runs, 1,000 loops each)\n",
      "2.55 ms ± 54.9 µs per loop (mean ± std. dev. of 7 runs, 1,000 loops each)\n"
     ]
    }
   ],
   "source": [
    "n_points, runtime_numba = get_numba_runtime(len_grids_arr)"
   ]
  },
  {
   "cell_type": "code",
   "execution_count": 22,
   "id": "452dd808",
   "metadata": {},
   "outputs": [
    {
     "name": "stdout",
     "output_type": "stream",
     "text": [
      "6.6 µs ± 392 ns per loop (mean ± std. dev. of 7 runs, 1,000 loops each)\n",
      "6.51 µs ± 372 ns per loop (mean ± std. dev. of 7 runs, 1,000 loops each)\n",
      "8.19 µs ± 558 ns per loop (mean ± std. dev. of 7 runs, 1,000 loops each)\n",
      "24.6 µs ± 1.84 µs per loop (mean ± std. dev. of 7 runs, 1,000 loops each)\n",
      "49.3 µs ± 4.72 µs per loop (mean ± std. dev. of 7 runs, 1,000 loops each)\n"
     ]
    }
   ],
   "source": [
    "_, runtime_jax = get_jax_runtime(len_grids_arr)"
   ]
  },
  {
   "cell_type": "code",
   "execution_count": 23,
   "id": "9d33bacf",
   "metadata": {},
   "outputs": [
    {
     "data": {
      "image/png": "[encoded data removed]",
      "text/plain": [
       "<Figure size 720x432 with 1 Axes>"
      ]
     },
     "metadata": {
      "needs_background": "light"
     },
     "output_type": "display_data"
    }
   ],
   "source": [
    "plot_runtime(n_points, runtime_numba, runtime_jax, func=\"state_space_map\")"
   ]
  },
  {
   "cell_type": "markdown",
   "id": "5336d404",
   "metadata": {},
   "source": [
    "## 4d Benchmark with multiple targets and product_map"
   ]
  },
  {
   "cell_type": "code",
   "execution_count": 24,
   "id": "9e4db7ad",
   "metadata": {},
   "outputs": [],
   "source": [
    "def _utility_4d(_consumption_4d, _leisure_4d):\n",
    "    return _consumption_4d + _leisure_4d\n",
    "\n",
    "\n",
    "def _leisure_4d(d):\n",
    "    return jnp.cos(d)\n",
    "\n",
    "\n",
    "def _consumption_4d(a, b, c):\n",
    "    return jnp.log(a) + jnp.sqrt(jnp.square(b) * c)\n",
    "\n",
    "\n",
    "@njit(fastmath=True)\n",
    "def product_map_numba_4d(a, b, c, d):\n",
    "    n_a = a.shape[0]\n",
    "    n_b = b.shape[0]\n",
    "    n_c = c.shape[0]\n",
    "    n_d = d.shape[0]\n",
    "\n",
    "    out_utility = np.empty((n_a, n_b, n_c, n_d))\n",
    "    out_leisure = np.empty((n_a, n_b, n_c, n_d))\n",
    "    \n",
    "    for i in range(n_a):\n",
    "        for j in range(n_b):\n",
    "            for k in range(n_c):\n",
    "                for l in range(n_d):\n",
    "                    _leis = np.cos(d[l])\n",
    "                    \n",
    "                    out_leisure[i, j, k, l] = _leis\n",
    "                    out_utility[i, j, k, l] = (\n",
    "                        np.log(a[i]) + np.sqrt(b[j] ** 2 * c[k]) + _leis\n",
    "                    )\n",
    "\n",
    "    return out_leisure, out_utility"
   ]
  },
  {
   "cell_type": "code",
   "execution_count": 25,
   "id": "528034b7",
   "metadata": {},
   "outputs": [],
   "source": [
    "grids = {\n",
    "    \"a\": jnp.linspace(1, 10, 101),\n",
    "    \"b\": jnp.linspace(0, 24, 25),\n",
    "    \"c\": jnp.linspace(1, 5, 5),\n",
    "    \"d\": jnp.linspace(-7, 2, 10)\n",
    "}\n",
    "\n",
    "a = np.linspace(1, 10, 101)\n",
    "b = np.linspace(0, 24, 25)\n",
    "c = np.linspace(1, 5, 5)\n",
    "d = np.linspace(-7, 2, 10)\n",
    "\n",
    "utility_concat_4d = concatenate_functions(\n",
    "    functions=[_utility_4d, _leisure_4d, _consumption_4d],\n",
    "    targets=[\"_leisure_4d\", \"_utility_4d\"]\n",
    ")\n",
    "    \n",
    "_decorated_func = productmap(utility_concat_4d , [\"a\", \"b\", \"c\", \"d\"])\n",
    "decorated_func_jit = jit(_decorated_func)  \n",
    "rslt_jax = decorated_func_jit(**grids)\n",
    "\n",
    "rslt_numba = product_map_numba_4d(a, b, c, d)\n",
    "\n",
    "aaae(rslt_jax, rslt_numba)"
   ]
  },
  {
   "cell_type": "code",
   "execution_count": 26,
   "id": "9b178292",
   "metadata": {},
   "outputs": [],
   "source": [
    "def get_numba_runtime_4d(len_grids_arr):\n",
    "    total_points = []\n",
    "    runtime = []\n",
    "    \n",
    "    for len_grids in len_grids_arr.T:\n",
    "        len_a, len_b, len_c, len_d = len_grids.astype(int)\n",
    "        total_points.append(math.prod(len_grids))\n",
    "        \n",
    "        a = np.linspace(1, 10, len_a)\n",
    "        b = np.linspace(0, 24, len_b)\n",
    "        c = np.linspace(1, 5, len_c)\n",
    "        d = np.linspace(-7, 2, len_d)\n",
    "    \n",
    "        product_map_numba_4d(a, b, c, d)\n",
    "        \n",
    "        timeit_res = %timeit -r 7 -n 1_000 -o product_map_numba_4d(a, b, c, d)\n",
    "        runtime.append(timeit_res.average)\n",
    "\n",
    "    return total_points, runtime\n",
    "\n",
    "\n",
    "def get_jax_runtime_4d(len_grids_arr):\n",
    "    utility_concat_4d = concatenate_functions(\n",
    "    functions=[_utility_4d, _leisure_4d, _consumption_4d],\n",
    "    targets=\"_utility_4d\"\n",
    "    )\n",
    "    \n",
    "    _decorated_func = productmap(utility_concat_4d , [\"a\", \"b\", \"c\", \"d\"])\n",
    "    decorated_func_jit = jit(_decorated_func)    \n",
    "    \n",
    "    total_points = []\n",
    "    runtime = []\n",
    "    \n",
    "    for len_grids in len_grids_arr.T:\n",
    "        len_a, len_b, len_c, len_d = len_grids.astype(int)\n",
    "        total_points.append(math.prod(len_grids))\n",
    "        \n",
    "        grids = {\n",
    "            \"a\": jnp.linspace(1, 10, len_a),\n",
    "            \"b\": jnp.linspace(0, 24, len_b),\n",
    "            \"c\": jnp.linspace(1, 5, len_c),\n",
    "            \"d\": jnp.linspace(-7, 2, len_d)\n",
    "        }\n",
    "    \n",
    "        decorated_func_jit(**grids)\n",
    "        \n",
    "        timeit_res = %timeit -r 7 -n 1_000 -o decorated_func_jit(**grids).block_until_ready()\n",
    "        runtime.append(timeit_res.average)\n",
    "\n",
    "    return total_points, runtime\n",
    "\n",
    "len_grids_arr = np.vstack((\n",
    "    [5, 10, 20, 60, 100],\n",
    "    np.linspace(5, 25, 5),\n",
    "    np.linspace(1, 5, 5),\n",
    "    np.linspace(2, 10, 5),\n",
    "))"
   ]
  },
  {
   "cell_type": "code",
   "execution_count": 27,
   "id": "1cebd4f7",
   "metadata": {},
   "outputs": [
    {
     "name": "stdout",
     "output_type": "stream",
     "text": [
      "2.61 µs ± 183 ns per loop (mean ± std. dev. of 7 runs, 1,000 loops each)\n",
      "28 µs ± 5.81 µs per loop (mean ± std. dev. of 7 runs, 1,000 loops each)\n",
      "119 µs ± 10.1 µs per loop (mean ± std. dev. of 7 runs, 1,000 loops each)\n",
      "817 µs ± 26.4 µs per loop (mean ± std. dev. of 7 runs, 1,000 loops each)\n",
      "2.64 ms ± 134 µs per loop (mean ± std. dev. of 7 runs, 1,000 loops each)\n"
     ]
    }
   ],
   "source": [
    "n_points_4d, runtime_numba_4d = get_numba_runtime_4d(len_grids_arr)"
   ]
  },
  {
   "cell_type": "code",
   "execution_count": 28,
   "id": "a70dbc40",
   "metadata": {},
   "outputs": [
    {
     "name": "stdout",
     "output_type": "stream",
     "text": [
      "8.35 µs ± 1.97 µs per loop (mean ± std. dev. of 7 runs, 1,000 loops each)\n",
      "6.49 µs ± 333 ns per loop (mean ± std. dev. of 7 runs, 1,000 loops each)\n",
      "8.44 µs ± 553 ns per loop (mean ± std. dev. of 7 runs, 1,000 loops each)\n",
      "20.1 µs ± 2.42 µs per loop (mean ± std. dev. of 7 runs, 1,000 loops each)\n",
      "56.1 µs ± 6.56 µs per loop (mean ± std. dev. of 7 runs, 1,000 loops each)\n"
     ]
    }
   ],
   "source": [
    "_, runtime_jax_4d = get_jax_runtime_4d(len_grids_arr)"
   ]
  },
  {
   "cell_type": "code",
   "execution_count": 29,
   "id": "c705a86a",
   "metadata": {},
   "outputs": [
    {
     "data": {
      "image/png": "[encoded data removed]",
      "text/plain": [
       "<Figure size 720x432 with 1 Axes>"
      ]
     },
     "metadata": {
      "needs_background": "light"
     },
     "output_type": "display_data"
    }
   ],
   "source": [
    "plot_runtime(n_points_4d, runtime_numba_4d, runtime_jax_4d)"
   ]
  },
  {
   "cell_type": "code",
   "execution_count": null,
   "id": "8d11bfd6",
   "metadata": {},
   "outputs": [],
   "source": []
  }
 ],
 "metadata": {
  "interpreter": {
   "hash": "4ad1f9a7057235603a8e0891a7ecf17fdcab16a40a59f91c8779290453820c05"
  },
  "kernelspec": {
   "display_name": "Python 3.9.13 ('lcm')",
   "language": "python",
   "name": "python3"
  },
  "language_info": {
   "codemirror_mode": {
    "name": "ipython",
    "version": 3
   },
   "file_extension": ".py",
   "mimetype": "text/x-python",
   "name": "python",
   "nbconvert_exporter": "python",
   "pygments_lexer": "ipython3",
   "version": "3.9.13"
  }
 },
 "nbformat": 4,
 "nbformat_minor": 5
}
