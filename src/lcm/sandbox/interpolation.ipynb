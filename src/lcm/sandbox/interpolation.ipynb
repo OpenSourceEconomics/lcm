{
 "cells": [
  {
   "cell_type": "code",
   "execution_count": 180,
   "id": "da0bbbc9",
   "metadata": {},
   "outputs": [],
   "source": [
    "from jax.config import config\n",
    "config.update(\"jax_enable_x64\", True)\n",
    "\n",
    "from jax.scipy.ndimage import map_coordinates\n",
    "import jax.numpy as jnp\n",
    "from jax import vmap, jit\n",
    "import numpy as np\n",
    "from numpy.testing import assert_array_almost_equal as aaae\n",
    "from scipy.interpolate import interp1d, interp2d\n",
    "import itertools\n",
    "from lcm.interpolation import linear_interpolation"
   ]
  },
  {
   "cell_type": "code",
   "execution_count": 181,
   "id": "1c31af18",
   "metadata": {},
   "outputs": [],
   "source": [
    "def linear_linspace_interpolation(values, point, starts, step_lengths):\n",
    "    \"\"\"Specialized version of linear interpolation to linspaces.\n",
    "    \n",
    "    This is meant as a comparison to check that the dynamic function\n",
    "    calling doest not cause any performance penalty.\n",
    "    \n",
    "    \"\"\"\n",
    "    mapped_point = (point - starts) / step_lengths\n",
    "\n",
    "    res = map_coordinates(\n",
    "        input=values,\n",
    "        coordinates=mapped_point,\n",
    "        order=1,\n",
    "        mode=\"nearest\"\n",
    "    )\n",
    "\n",
    "    return res"
   ]
  },
  {
   "cell_type": "markdown",
   "id": "adc65243",
   "metadata": {},
   "source": [
    "## 1d Benchmarks"
   ]
  },
  {
   "cell_type": "code",
   "execution_count": 182,
   "id": "86f352f5",
   "metadata": {},
   "outputs": [],
   "source": [
    "def get_1d_inputs(n_grid=1000, n_inter=10_000, target=\"jax_linspace\"):\n",
    "    np.random.seed(1234)\n",
    "    grid = np.linspace(1, 5, n_grid)\n",
    "    values = grid ** 1.1 + np.sin(grid)\n",
    "    points = np.linspace(1, 4, n_inter)\n",
    "    np.random.shuffle(points)\n",
    "    \n",
    "    if target == \"jax_linspace\":\n",
    "        vmapped = vmap(linear_linspace_interpolation, in_axes=(None, 0, None, None))\n",
    "        func = jit(vmapped)\n",
    "        args = (\n",
    "            jnp.array(values), \n",
    "            jnp.array(points.reshape(-1, 1)), \n",
    "            jnp.array([1.]), grid[1] - grid[0]\n",
    "        )\n",
    "    \n",
    "    elif target == \"jax\":\n",
    "        vmapped = vmap(linear_interpolation, in_axes=(None, 0, None))\n",
    "        func = jit(vmapped, static_argnums=2)\n",
    "        grid_info = ((\"linspace\", (1, 5, n_grid)),)\n",
    "        args = (\n",
    "            jnp.array(values), \n",
    "            jnp.array(points.reshape(-1, 1)), \n",
    "            grid_info)\n",
    "    elif target == \"scipy\":\n",
    "        func = interp1d(grid, values)\n",
    "        args = (points,)\n",
    "    else:\n",
    "        raise ValueError()\n",
    "        \n",
    "    return func, args\n",
    "\n",
    "\n",
    "def get_1d_runtime(n_grid=1000, n_inter=10_000, target=\"jax_linespace\"):\n",
    "    func, args = get_1d_inputs(n_grid, n_inter, target)\n",
    "    # firs evaluation for jit overhead\n",
    "    func(*args)\n",
    "    timeit_res = %timeit -o func(*args)\n",
    "    runtime = timeit_res.average\n",
    "    return runtime"
   ]
  },
  {
   "cell_type": "code",
   "execution_count": 183,
   "id": "46e61c87",
   "metadata": {},
   "outputs": [
    {
     "name": "stdout",
     "output_type": "stream",
     "text": [
      "752 µs ± 15.9 µs per loop (mean ± std. dev. of 7 runs, 1000 loops each)\n"
     ]
    }
   ],
   "source": [
    "func, args = get_1d_inputs(target=\"scipy\")\n",
    "%timeit func(*args)\n",
    "scipy_res = func(*args)"
   ]
  },
  {
   "cell_type": "code",
   "execution_count": 184,
   "id": "8f9062cb",
   "metadata": {},
   "outputs": [
    {
     "name": "stdout",
     "output_type": "stream",
     "text": [
      "58.6 µs ± 1.55 µs per loop (mean ± std. dev. of 7 runs, 10000 loops each)\n"
     ]
    }
   ],
   "source": [
    "func, args = get_1d_inputs(target=\"jax_linspace\")\n",
    "%timeit func(*args).block_until_ready()\n",
    "linspace_res = func(*args)"
   ]
  },
  {
   "cell_type": "code",
   "execution_count": 185,
   "id": "55bc8605",
   "metadata": {},
   "outputs": [
    {
     "name": "stdout",
     "output_type": "stream",
     "text": [
      "50.7 µs ± 870 ns per loop (mean ± std. dev. of 7 runs, 10000 loops each)\n"
     ]
    }
   ],
   "source": [
    "func, args = get_1d_inputs(target=\"jax\")\n",
    "%timeit func(*args).block_until_ready()\n",
    "jax_res = func(*args)"
   ]
  },
  {
   "cell_type": "code",
   "execution_count": 186,
   "id": "62bb0133",
   "metadata": {},
   "outputs": [],
   "source": [
    "aaae(scipy_res, linspace_res)\n",
    "aaae(scipy_res, jax_res)"
   ]
  },
  {
   "cell_type": "markdown",
   "id": "8a071d57",
   "metadata": {},
   "source": [
    "## 2d Benchmarks"
   ]
  },
  {
   "cell_type": "code",
   "execution_count": 187,
   "id": "7db8a854",
   "metadata": {},
   "outputs": [],
   "source": [
    "def get_2d_inputs(n_grid=200, n_inter=100_000, target=\"jax_linspace\"):\n",
    "    np.random.seed(1234)\n",
    "    grid1 = np.linspace(1, 5, n_grid)\n",
    "    grid2 = np.linspace(-1, 5, n_grid)\n",
    "    \n",
    "    root_n_inter = int(np.sqrt(n_inter))\n",
    "    \n",
    "    inter_grid1 = np.linspace(1.33, 4.11, root_n_inter)\n",
    "    inter_grid2 = np.linspace(-0.66, 3.79, root_n_inter)\n",
    "    \n",
    "    points = np.array(list(itertools.product(inter_grid1, inter_grid2)))\n",
    "    \n",
    "    product_arr = np.array(list(itertools.product(grid1, grid2)))\n",
    "    values = (product_arr ** 2).sum(axis=1).reshape(n_grid, n_grid)\n",
    "    \n",
    "    if target == \"jax_linspace\":\n",
    "        vmapped = vmap(linear_linspace_interpolation, in_axes=(None, 0, None, None))\n",
    "        func = jit(vmapped)\n",
    "        step_sizes=jnp.array([grid1[1] - grid1[0], grid2[1] - grid2[0]])\n",
    "        args = (\n",
    "            jnp.array(values),\n",
    "            jnp.array(points), \n",
    "            jnp.array([1., -1]), \n",
    "            step_sizes)\n",
    "    \n",
    "    elif target == \"jax\":\n",
    "        vmapped = vmap(linear_interpolation, in_axes=(None, 0, None))\n",
    "        func = jit(vmapped, static_argnums=2)\n",
    "        grid_info = (\n",
    "            (\"linspace\", (1, 5, n_grid)),\n",
    "            (\"linspace\", (-1, 5, n_grid))\n",
    "        )\n",
    "        args = (jnp.array(values), jnp.array(points), grid_info)\n",
    "    elif target == \"scipy\":\n",
    "        func = interp2d(x=grid2, y=grid1, z=values)\n",
    "        args = (inter_grid1, inter_grid2)\n",
    "    else:\n",
    "        raise ValueError()\n",
    "        \n",
    "    return func, args\n",
    "    \n",
    "\n",
    "\n"
   ]
  },
  {
   "cell_type": "code",
   "execution_count": 188,
   "id": "ff7b5ed0",
   "metadata": {},
   "outputs": [
    {
     "name": "stdout",
     "output_type": "stream",
     "text": [
      "753 µs ± 5.34 µs per loop (mean ± std. dev. of 7 runs, 1000 loops each)\n"
     ]
    }
   ],
   "source": [
    "func, args = get_2d_inputs(target=\"scipy\")\n",
    "scipy_res = func(*args)\n",
    "%timeit func(*args)"
   ]
  },
  {
   "cell_type": "code",
   "execution_count": 189,
   "id": "1a8a6787",
   "metadata": {},
   "outputs": [
    {
     "name": "stdout",
     "output_type": "stream",
     "text": [
      "281 µs ± 16.3 µs per loop (mean ± std. dev. of 7 runs, 1000 loops each)\n"
     ]
    }
   ],
   "source": [
    "func, args = get_2d_inputs(target=\"jax_linspace\")\n",
    "linspace_res = func(*args)\n",
    "%timeit func(*args).block_until_ready()"
   ]
  },
  {
   "cell_type": "code",
   "execution_count": 190,
   "id": "5401c149",
   "metadata": {},
   "outputs": [
    {
     "name": "stdout",
     "output_type": "stream",
     "text": [
      "282 µs ± 11.7 µs per loop (mean ± std. dev. of 7 runs, 1000 loops each)\n"
     ]
    }
   ],
   "source": [
    "jax_res = get_2d_inputs(target=\"jax\")\n",
    "jax_res = func(*args)\n",
    "%timeit func(*args).block_until_ready()"
   ]
  },
  {
   "cell_type": "code",
   "execution_count": 191,
   "id": "216b4e52",
   "metadata": {},
   "outputs": [
    {
     "data": {
      "text/html": [
       "<div>\n",
       "<style scoped>\n",
       "    .dataframe tbody tr th:only-of-type {\n",
       "        vertical-align: middle;\n",
       "    }\n",
       "\n",
       "    .dataframe tbody tr th {\n",
       "        vertical-align: top;\n",
       "    }\n",
       "\n",
       "    .dataframe thead th {\n",
       "        text-align: right;\n",
       "    }\n",
       "</style>\n",
       "<table border=\"1\" class=\"dataframe\">\n",
       "  <thead>\n",
       "    <tr style=\"text-align: right;\">\n",
       "      <th></th>\n",
       "      <th>scipy</th>\n",
       "      <th>linspace</th>\n",
       "      <th>jax</th>\n",
       "    </tr>\n",
       "  </thead>\n",
       "  <tbody>\n",
       "    <tr>\n",
       "      <th>scipy</th>\n",
       "      <td>1.00000</td>\n",
       "      <td>0.96638</td>\n",
       "      <td>0.96638</td>\n",
       "    </tr>\n",
       "    <tr>\n",
       "      <th>linspace</th>\n",
       "      <td>0.96638</td>\n",
       "      <td>1.00000</td>\n",
       "      <td>1.00000</td>\n",
       "    </tr>\n",
       "    <tr>\n",
       "      <th>jax</th>\n",
       "      <td>0.96638</td>\n",
       "      <td>1.00000</td>\n",
       "      <td>1.00000</td>\n",
       "    </tr>\n",
       "  </tbody>\n",
       "</table>\n",
       "</div>"
      ],
      "text/plain": [
       "            scipy  linspace      jax\n",
       "scipy     1.00000   0.96638  0.96638\n",
       "linspace  0.96638   1.00000  1.00000\n",
       "jax       0.96638   1.00000  1.00000"
      ]
     },
     "execution_count": 191,
     "metadata": {},
     "output_type": "execute_result"
    }
   ],
   "source": [
    "import pandas as pd\n",
    "df = pd.DataFrame()\n",
    "df[\"scipy\"] = scipy_res.flatten()\n",
    "df[\"linspace\"] = linspace_res\n",
    "df[\"jax\"] = jax_res\n",
    "df.corr()"
   ]
  },
  {
   "cell_type": "code",
   "execution_count": null,
   "id": "a76907f9",
   "metadata": {},
   "outputs": [],
   "source": []
  }
 ],
 "metadata": {
  "kernelspec": {
   "display_name": "Python 3 (ipykernel)",
   "language": "python",
   "name": "python3"
  },
  "language_info": {
   "codemirror_mode": {
    "name": "ipython",
    "version": 3
   },
   "file_extension": ".py",
   "mimetype": "text/x-python",
   "name": "python",
   "nbconvert_exporter": "python",
   "pygments_lexer": "ipython3",
   "version": "3.9.7"
  }
 },
 "nbformat": 4,
 "nbformat_minor": 5
}
