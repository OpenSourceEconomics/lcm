{
 "cells": [
  {
   "cell_type": "code",
   "execution_count": null,
   "id": "0",
   "metadata": {},
   "outputs": [],
   "source": [
    "import itertools\n",
    "\n",
    "import numpy as np\n",
    "import jax.numpy as jnp\n",
    "from jax import vmap, jit\n",
    "from jax.config import config\n",
    "from jax.scipy.ndimage import map_coordinates\n",
    "\n",
    "from lcm.interpolation import linear_interpolation\n",
    "from numpy.testing import assert_array_almost_equal as aaae\n",
    "from scipy.interpolate import interp1d, interp2d, RegularGridInterpolator\n",
    "\n",
    "\n",
    "config.update(\"jax_enable_x64\", True)"
   ]
  },
  {
   "cell_type": "code",
   "execution_count": null,
   "id": "1",
   "metadata": {},
   "outputs": [],
   "source": [
    "def linear_linspace_interpolation(values, point, starts, step_lengths):\n",
    "    \"\"\"Specialized version of linear interpolation to linspaces.\n",
    "\n",
    "    This is meant as a comparison to check that the dynamic function\n",
    "    calling doest not cause any performance penalty.\n",
    "    \"\"\"\n",
    "    mapped_point = (point - starts) / step_lengths\n",
    "\n",
    "    res = map_coordinates(\n",
    "        input=values, coordinates=mapped_point, order=1, mode=\"nearest\"\n",
    "    )\n",
    "\n",
    "    return res"
   ]
  },
  {
   "cell_type": "code",
   "execution_count": null,
   "id": "2",
   "metadata": {},
   "outputs": [],
   "source": [
    "def f(a, b):\n",
    "    return 2 * a**3 + 3 * b**2\n",
    "\n",
    "\n",
    "def g(a, b, c):\n",
    "    return f(a, b) + c\n",
    "\n",
    "\n",
    "def h(a, b, c, d):\n",
    "    return g(a, b, c) - d**5"
   ]
  },
  {
   "cell_type": "code",
   "execution_count": null,
   "id": "3",
   "metadata": {},
   "outputs": [],
   "source": []
  },
  {
   "cell_type": "markdown",
   "id": "4",
   "metadata": {},
   "source": [
    "## 1d Benchmarks"
   ]
  },
  {
   "cell_type": "code",
   "execution_count": null,
   "id": "5",
   "metadata": {},
   "outputs": [],
   "source": [
    "def get_1d_inputs(n_grid=1000, n_inter=100_000, target=\"jax_linspace\"):\n",
    "    np.random.seed(1234)\n",
    "    grid = np.linspace(1, 5, n_grid)\n",
    "    values = grid**1.1 + np.sin(grid)\n",
    "    points = np.linspace(1, 4, n_inter)\n",
    "    np.random.shuffle(points)\n",
    "\n",
    "    if target == \"jax_linspace\":\n",
    "        vmapped = vmap(linear_linspace_interpolation, in_axes=(None, 0, None, None))\n",
    "        func = jit(vmapped)\n",
    "        args = (\n",
    "            jnp.array(values),\n",
    "            jnp.array(points.reshape(-1, 1)),\n",
    "            jnp.array([1.0]),\n",
    "            grid[1] - grid[0],\n",
    "        )\n",
    "\n",
    "    elif target == \"jax\":\n",
    "        vmapped = vmap(linear_interpolation, in_axes=(None, 0, None))\n",
    "        func = jit(vmapped, static_argnums=2)\n",
    "        grid_info = ((\"linspace\", (1, 5, n_grid)),)\n",
    "        args = (jnp.array(values), jnp.array(points.reshape(-1, 1)), grid_info)\n",
    "\n",
    "    elif target == \"scipy_interp1d\":\n",
    "        func = interp1d(grid, values)\n",
    "        args = (points,)\n",
    "\n",
    "    else:\n",
    "        raise ValueError()\n",
    "\n",
    "    return func, args"
   ]
  },
  {
   "cell_type": "code",
   "execution_count": null,
   "id": "6",
   "metadata": {},
   "outputs": [],
   "source": [
    "func, args = get_1d_inputs(target=\"scipy_interp1d\")\n",
    "scipy_res_1d = func(*args)\n",
    "%timeit func(*args)"
   ]
  },
  {
   "cell_type": "code",
   "execution_count": null,
   "id": "7",
   "metadata": {},
   "outputs": [],
   "source": [
    "func, args = get_1d_inputs(target=\"jax_linspace\")\n",
    "jax_linspace_res = func(*args)\n",
    "%timeit func(*args)"
   ]
  },
  {
   "cell_type": "code",
   "execution_count": null,
   "id": "8",
   "metadata": {},
   "outputs": [],
   "source": [
    "func, args = get_1d_inputs(target=\"jax\")\n",
    "jax_res = func(*args)\n",
    "%timeit func(*args)"
   ]
  },
  {
   "cell_type": "code",
   "execution_count": null,
   "id": "9",
   "metadata": {},
   "outputs": [],
   "source": [
    "aaae(scipy_res_1d, jax_linspace_res)\n",
    "aaae(scipy_res_1d, jax_res)"
   ]
  },
  {
   "cell_type": "code",
   "execution_count": null,
   "id": "10",
   "metadata": {},
   "outputs": [],
   "source": []
  },
  {
   "cell_type": "markdown",
   "id": "11",
   "metadata": {},
   "source": [
    "## 2d Benchmarks"
   ]
  },
  {
   "cell_type": "code",
   "execution_count": null,
   "id": "12",
   "metadata": {},
   "outputs": [],
   "source": [
    "def get_2d_inputs(n_grid=200, n_inter=100_000, target=\"jax_linspace\"):\n",
    "    np.random.seed(1234)\n",
    "\n",
    "    grid1 = np.linspace(1, 5, n_grid)\n",
    "    grid2 = np.linspace(-1, 5, n_grid)\n",
    "\n",
    "    values = f(*np.meshgrid(grid1, grid2, indexing=\"ij\", sparse=False))\n",
    "\n",
    "    root_n_inter = int(np.sqrt(n_inter))\n",
    "\n",
    "    inter_grid1 = np.linspace(1.33, 4.11, root_n_inter)\n",
    "    inter_grid2 = np.linspace(-0.66, 3.79, root_n_inter)\n",
    "\n",
    "    points = np.array(list(itertools.product(inter_grid1, inter_grid2)))\n",
    "\n",
    "    if target == \"jax_linspace\":\n",
    "        vmapped = vmap(linear_linspace_interpolation, in_axes=(None, 0, None, None))\n",
    "        func = jit(vmapped)\n",
    "        step_sizes = jnp.array([grid1[1] - grid1[0], grid2[1] - grid2[0]])\n",
    "        args = (jnp.array(values), jnp.array(points), jnp.array([1.0, -1]), step_sizes)\n",
    "\n",
    "    elif target == \"jax\":\n",
    "        vmapped = vmap(linear_interpolation, in_axes=(None, 0, None))\n",
    "        func = jit(vmapped, static_argnums=2)\n",
    "        grid_info = ((\"linspace\", (1, 5, n_grid)), (\"linspace\", (-1, 5, n_grid)))\n",
    "        args = (jnp.array(values), jnp.array(points), grid_info)\n",
    "\n",
    "    elif target == \"scipy_interp2d\":\n",
    "        func = interp2d(x=grid2, y=grid1, z=values)\n",
    "        args = (inter_grid1, inter_grid2)\n",
    "\n",
    "    elif target == \"scipy\":\n",
    "        func = RegularGridInterpolator(\n",
    "            points=(grid1, grid2), values=values, method=\"linear\"\n",
    "        )\n",
    "        args = points\n",
    "\n",
    "    else:\n",
    "        raise ValueError()\n",
    "\n",
    "    return func, args"
   ]
  },
  {
   "cell_type": "code",
   "execution_count": null,
   "id": "13",
   "metadata": {},
   "outputs": [],
   "source": [
    "func, args = get_2d_inputs(target=\"scipy\")\n",
    "scipy_res = func(args)\n",
    "%timeit func(args)"
   ]
  },
  {
   "cell_type": "code",
   "execution_count": null,
   "id": "14",
   "metadata": {},
   "outputs": [],
   "source": [
    "func, args = get_2d_inputs(target=\"scipy_interp2d\")\n",
    "scipy_res_2d = func(*args)\n",
    "%timeit func(*args)"
   ]
  },
  {
   "cell_type": "code",
   "execution_count": null,
   "id": "15",
   "metadata": {},
   "outputs": [],
   "source": [
    "func, args = get_2d_inputs(target=\"jax_linspace\")\n",
    "jax_linspace_res = func(*args)\n",
    "%timeit func(*args)"
   ]
  },
  {
   "cell_type": "code",
   "execution_count": null,
   "id": "16",
   "metadata": {},
   "outputs": [],
   "source": [
    "func, args = get_2d_inputs(target=\"jax\")\n",
    "jax_res = func(*args)\n",
    "%timeit func(*args)"
   ]
  },
  {
   "cell_type": "code",
   "execution_count": null,
   "id": "17",
   "metadata": {},
   "outputs": [],
   "source": [
    "aaae(scipy_res, jax_linspace_res)\n",
    "aaae(scipy_res, jax_res)"
   ]
  },
  {
   "cell_type": "code",
   "execution_count": null,
   "id": "18",
   "metadata": {},
   "outputs": [],
   "source": []
  },
  {
   "cell_type": "markdown",
   "id": "19",
   "metadata": {},
   "source": [
    "## 3d Benchmarks"
   ]
  },
  {
   "cell_type": "code",
   "execution_count": null,
   "id": "20",
   "metadata": {},
   "outputs": [],
   "source": [
    "def get_3d_inputs(n_grid=200, n_inter=100_000, target=\"jax_linspace\"):\n",
    "    np.random.seed(1234)\n",
    "\n",
    "    grid1 = np.linspace(1, 5, n_grid)\n",
    "    grid2 = np.linspace(-1, 5, n_grid)\n",
    "    grid3 = np.linspace(2, 7, n_grid)\n",
    "\n",
    "    values = g(*np.meshgrid(grid1, grid2, grid3, indexing=\"ij\", sparse=False))\n",
    "\n",
    "    root_n_inter = int(np.sqrt(n_inter))\n",
    "\n",
    "    inter_grid1 = np.linspace(1.33, 4.11, root_n_inter)\n",
    "    inter_grid2 = np.linspace(-0.66, 3.79, root_n_inter)\n",
    "    inter_grid3 = np.linspace(2.07, 6.99, root_n_inter)\n",
    "\n",
    "    points = np.array(list(itertools.product(inter_grid1, inter_grid2, inter_grid3)))\n",
    "\n",
    "    if target == \"jax_linspace\":\n",
    "        vmapped = vmap(linear_linspace_interpolation, in_axes=(None, 0, None, None))\n",
    "        func = jit(vmapped)\n",
    "        step_sizes = jnp.array(\n",
    "            [grid1[1] - grid1[0], grid2[1] - grid2[0], grid3[1] - grid3[0]]\n",
    "        )\n",
    "        args = (\n",
    "            jnp.array(values),\n",
    "            jnp.array(points),\n",
    "            jnp.array([1.0, -1, 2]),\n",
    "            step_sizes,\n",
    "        )\n",
    "\n",
    "    elif target == \"jax\":\n",
    "        vmapped = vmap(linear_interpolation, in_axes=(None, 0, None))\n",
    "        func = jit(vmapped, static_argnums=2)\n",
    "        grid_info = (\n",
    "            (\"linspace\", (1, 5, n_grid)),\n",
    "            (\"linspace\", (-1, 5, n_grid)),\n",
    "            (\"linspace\", (2, 7, n_grid)),\n",
    "        )\n",
    "        args = (jnp.array(values), jnp.array(points), grid_info)\n",
    "\n",
    "    elif target == \"scipy\":\n",
    "        func = RegularGridInterpolator(\n",
    "            points=(grid1, grid2, grid3), values=values, method=\"linear\"\n",
    "        )\n",
    "        args = points\n",
    "\n",
    "    else:\n",
    "        raise ValueError()\n",
    "\n",
    "    return func, args"
   ]
  },
  {
   "cell_type": "code",
   "execution_count": null,
   "id": "21",
   "metadata": {},
   "outputs": [],
   "source": [
    "func, args = get_3d_inputs(n_grid=100, n_inter=1_000, target=\"scipy\")\n",
    "scipy_res = func(args)\n",
    "%timeit -r 7 -n 1000 func(args)"
   ]
  },
  {
   "cell_type": "code",
   "execution_count": null,
   "id": "22",
   "metadata": {},
   "outputs": [],
   "source": [
    "func, args = get_3d_inputs(n_grid=100, n_inter=1_000, target=\"jax_linspace\")\n",
    "jax_linspace_res = func(*args)\n",
    "%timeit -r 7 -n 1000 func(*args)"
   ]
  },
  {
   "cell_type": "code",
   "execution_count": null,
   "id": "23",
   "metadata": {},
   "outputs": [],
   "source": [
    "func, args = get_3d_inputs(n_grid=100, n_inter=1_000, target=\"jax\")\n",
    "jax_res = func(*args)\n",
    "%timeit -r 7 -n 1000 func(*args)"
   ]
  },
  {
   "cell_type": "code",
   "execution_count": null,
   "id": "24",
   "metadata": {},
   "outputs": [],
   "source": [
    "aaae(scipy_res, jax_linspace_res)\n",
    "aaae(scipy_res, jax_res)"
   ]
  },
  {
   "cell_type": "code",
   "execution_count": null,
   "id": "25",
   "metadata": {},
   "outputs": [],
   "source": []
  },
  {
   "cell_type": "markdown",
   "id": "26",
   "metadata": {},
   "source": [
    "## 4d Benchmarks"
   ]
  },
  {
   "cell_type": "code",
   "execution_count": null,
   "id": "27",
   "metadata": {},
   "outputs": [],
   "source": [
    "def get_4d_inputs(n_grid=200, n_inter=100_000, target=\"jax_linspace\"):\n",
    "    np.random.seed(1234)\n",
    "\n",
    "    grid1 = np.linspace(1, 5, n_grid)\n",
    "    grid2 = np.linspace(-1, 5, n_grid)\n",
    "    grid3 = np.linspace(2, 7, n_grid)\n",
    "    grid4 = np.linspace(-3, 7, n_grid)\n",
    "\n",
    "    values = h(*np.meshgrid(grid1, grid2, grid3, grid4, indexing=\"ij\", sparse=False))\n",
    "\n",
    "    root_n_inter = int(np.sqrt(n_inter))\n",
    "\n",
    "    inter_grid1 = np.linspace(1.33, 4.11, root_n_inter)\n",
    "    inter_grid2 = np.linspace(-0.66, 3.79, root_n_inter)\n",
    "    inter_grid3 = np.linspace(2.07, 6.99, root_n_inter)\n",
    "    inter_grid4 = np.linspace(-2.84, 4.77, root_n_inter)\n",
    "\n",
    "    points = np.array(\n",
    "        list(itertools.product(inter_grid1, inter_grid2, inter_grid3, inter_grid4))\n",
    "    )\n",
    "\n",
    "    if target == \"jax_linspace\":\n",
    "        vmapped = vmap(linear_linspace_interpolation, in_axes=(None, 0, None, None))\n",
    "        func = jit(vmapped)\n",
    "        step_sizes = jnp.array(\n",
    "            [\n",
    "                grid1[1] - grid1[0],\n",
    "                grid2[1] - grid2[0],\n",
    "                grid3[1] - grid3[0],\n",
    "                grid4[1] - grid4[0],\n",
    "            ]\n",
    "        )\n",
    "        args = (\n",
    "            jnp.array(values),\n",
    "            jnp.array(points),\n",
    "            jnp.array([1.0, -1, 2, -3.0]),\n",
    "            step_sizes,\n",
    "        )\n",
    "\n",
    "    elif target == \"jax\":\n",
    "        vmapped = vmap(linear_interpolation, in_axes=(None, 0, None))\n",
    "        func = jit(vmapped, static_argnums=2)\n",
    "        grid_info = (\n",
    "            (\"linspace\", (1, 5, n_grid)),\n",
    "            (\"linspace\", (-1, 5, n_grid)),\n",
    "            (\"linspace\", (2, 7, n_grid)),\n",
    "            (\"linspace\", (-3, 7, n_grid)),\n",
    "        )\n",
    "        args = (jnp.array(values), jnp.array(points), grid_info)\n",
    "\n",
    "    elif target == \"scipy\":\n",
    "        func = RegularGridInterpolator(\n",
    "            points=(grid1, grid2, grid3, grid4), values=values, method=\"linear\"\n",
    "        )\n",
    "        args = points\n",
    "\n",
    "    else:\n",
    "        raise ValueError()\n",
    "\n",
    "    return func, args"
   ]
  },
  {
   "cell_type": "code",
   "execution_count": null,
   "id": "28",
   "metadata": {},
   "outputs": [],
   "source": [
    "func, args = get_4d_inputs(n_grid=100, n_inter=1_000, target=\"scipy\")\n",
    "scipy_res = func(args)\n",
    "%timeit -r 7 -n 100 func(args)"
   ]
  },
  {
   "cell_type": "code",
   "execution_count": null,
   "id": "29",
   "metadata": {},
   "outputs": [],
   "source": [
    "func, args = get_4d_inputs(n_grid=100, n_inter=1_000, target=\"jax_linspace\")\n",
    "jax_linspace_res = func(*args)\n",
    "%timeit -r 7 -n 100 func(*args)"
   ]
  },
  {
   "cell_type": "code",
   "execution_count": null,
   "id": "30",
   "metadata": {},
   "outputs": [],
   "source": [
    "func, args = get_4d_inputs(n_grid=100, n_inter=1_000, target=\"jax\")\n",
    "jax_res = func(*args)\n",
    "%timeit -r 7 -n 100 func(*args)"
   ]
  },
  {
   "cell_type": "code",
   "execution_count": null,
   "id": "31",
   "metadata": {},
   "outputs": [],
   "source": [
    "aaae(scipy_res, jax_linspace_res)\n",
    "aaae(scipy_res, jax_res)"
   ]
  },
  {
   "cell_type": "code",
   "execution_count": null,
   "id": "32",
   "metadata": {},
   "outputs": [],
   "source": []
  }
 ],
 "metadata": {
  "language_info": {
   "codemirror_mode": {
    "name": "ipython",
    "version": 3
   },
   "file_extension": ".py",
   "mimetype": "text/x-python",
   "name": "python",
   "nbconvert_exporter": "python",
   "pygments_lexer": "ipython3"
  }
 },
 "nbformat": 4,
 "nbformat_minor": 5
}
