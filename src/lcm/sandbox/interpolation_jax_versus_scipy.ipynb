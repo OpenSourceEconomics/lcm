{
 "cells": [
  {
   "cell_type": "code",
   "execution_count": 1,
   "id": "374bd5f6",
   "metadata": {},
   "outputs": [],
   "source": [
    "import itertools\n",
    "\n",
    "import numpy as np\n",
    "import jax.numpy as jnp\n",
    "from jax import vmap, jit\n",
    "from jax.config import config\n",
    "from jax.scipy.ndimage import map_coordinates\n",
    "\n",
    "from lcm.interpolation import linear_interpolation\n",
    "from numpy.testing import assert_array_almost_equal as aaae\n",
    "from scipy.interpolate import interp1d, interp2d, RegularGridInterpolator\n",
    "\n",
    "\n",
    "config.update(\"jax_enable_x64\", True)"
   ]
  },
  {
   "cell_type": "code",
   "execution_count": 2,
   "id": "a6ce66f9",
   "metadata": {},
   "outputs": [],
   "source": [
    "def linear_linspace_interpolation(values, point, starts, step_lengths):\n",
    "    \"\"\"Specialized version of linear interpolation to linspaces.\n",
    "\n",
    "    This is meant as a comparison to check that the dynamic function\n",
    "    calling doest not cause any performance penalty.\n",
    "    \"\"\"\n",
    "    mapped_point = (point - starts) / step_lengths\n",
    "\n",
    "    res = map_coordinates(\n",
    "        input=values, coordinates=mapped_point, order=1, mode=\"nearest\"\n",
    "    )\n",
    "\n",
    "    return res"
   ]
  },
  {
   "cell_type": "code",
   "execution_count": 3,
   "id": "2393629d",
   "metadata": {},
   "outputs": [],
   "source": [
    "def f(a, b):\n",
    "    return 2 * a ** 3 + 3 * b ** 2\n",
    "\n",
    "\n",
    "def g(a, b, c):\n",
    "    return f(a, b) + c\n",
    "\n",
    "\n",
    "def h(a, b, c, d):\n",
    "    return g(a, b, c) - d ** 5"
   ]
  },
  {
   "cell_type": "code",
   "execution_count": null,
   "id": "bc79d3b4",
   "metadata": {},
   "outputs": [],
   "source": []
  },
  {
   "cell_type": "markdown",
   "id": "f27c1850",
   "metadata": {},
   "source": [
    "## 1d Benchmarks"
   ]
  },
  {
   "cell_type": "code",
   "execution_count": 4,
   "id": "16441023",
   "metadata": {},
   "outputs": [],
   "source": [
    "def get_1d_inputs(n_grid=1000, n_inter=100_000, target=\"jax_linspace\"):\n",
    "    np.random.seed(1234)\n",
    "    grid = np.linspace(1, 5, n_grid)\n",
    "    values = grid ** 1.1 + np.sin(grid)\n",
    "    points = np.linspace(1, 4, n_inter)\n",
    "    np.random.shuffle(points)\n",
    "    \n",
    "    if target == \"jax_linspace\":\n",
    "        vmapped = vmap(linear_linspace_interpolation, in_axes=(None, 0, None, None))\n",
    "        func = jit(vmapped)\n",
    "        args = (\n",
    "            jnp.array(values), \n",
    "            jnp.array(points.reshape(-1, 1)), \n",
    "            jnp.array([1.]), grid[1] - grid[0]\n",
    "        )\n",
    "    \n",
    "    elif target == \"jax\":\n",
    "        vmapped = vmap(linear_interpolation, in_axes=(None, 0, None))\n",
    "        func = jit(vmapped, static_argnums=2)\n",
    "        grid_info = ((\"linspace\", (1, 5, n_grid)),)\n",
    "        args = (\n",
    "            jnp.array(values), \n",
    "            jnp.array(points.reshape(-1, 1)), \n",
    "            grid_info)\n",
    "        \n",
    "    elif target == \"scipy_interp1d\":\n",
    "        func = interp1d(grid, values)\n",
    "        args = (points,)\n",
    "        \n",
    "    else:\n",
    "        raise ValueError()\n",
    "        \n",
    "    return func, args"
   ]
  },
  {
   "cell_type": "code",
   "execution_count": 5,
   "id": "9b894def",
   "metadata": {},
   "outputs": [
    {
     "name": "stdout",
     "output_type": "stream",
     "text": [
      "7.74 ms ± 43.7 µs per loop (mean ± std. dev. of 7 runs, 100 loops each)\n"
     ]
    }
   ],
   "source": [
    "func, args = get_1d_inputs(target=\"scipy_interp1d\")\n",
    "scipy_res_1d = func(*args)\n",
    "%timeit func(*args)"
   ]
  },
  {
   "cell_type": "code",
   "execution_count": 6,
   "id": "f392f399",
   "metadata": {},
   "outputs": [
    {
     "name": "stderr",
     "output_type": "stream",
     "text": [
      "WARNING:absl:No GPU/TPU found, falling back to CPU. (Set TF_CPP_MIN_LOG_LEVEL=0 and rerun for more info.)\n"
     ]
    },
    {
     "name": "stdout",
     "output_type": "stream",
     "text": [
      "253 µs ± 19.7 µs per loop (mean ± std. dev. of 7 runs, 1000 loops each)\n"
     ]
    }
   ],
   "source": [
    "func, args = get_1d_inputs(target=\"jax_linspace\")\n",
    "jax_linspace_res = func(*args)\n",
    "%timeit func(*args)"
   ]
  },
  {
   "cell_type": "code",
   "execution_count": 7,
   "id": "45c0779a",
   "metadata": {},
   "outputs": [
    {
     "name": "stdout",
     "output_type": "stream",
     "text": [
      "159 µs ± 9.09 µs per loop (mean ± std. dev. of 7 runs, 10000 loops each)\n"
     ]
    }
   ],
   "source": [
    "func, args = get_1d_inputs(target=\"jax\")\n",
    "jax_res = func(*args)\n",
    "%timeit func(*args)"
   ]
  },
  {
   "cell_type": "code",
   "execution_count": 8,
   "id": "6b5926ec",
   "metadata": {},
   "outputs": [],
   "source": [
    "aaae(scipy_res_1d, jax_linspace_res)\n",
    "aaae(scipy_res_1d, jax_res)"
   ]
  },
  {
   "cell_type": "code",
   "execution_count": null,
   "id": "4e0015c3",
   "metadata": {},
   "outputs": [],
   "source": []
  },
  {
   "cell_type": "markdown",
   "id": "c1e91a59",
   "metadata": {},
   "source": [
    "## 2d Benchmarks"
   ]
  },
  {
   "cell_type": "code",
   "execution_count": 9,
   "id": "f4d10031",
   "metadata": {},
   "outputs": [],
   "source": [
    "def get_2d_inputs(n_grid=200, n_inter=100_000, target=\"jax_linspace\"):\n",
    "    np.random.seed(1234)\n",
    "\n",
    "    grid1 = np.linspace(1, 5, n_grid)\n",
    "    grid2 = np.linspace(-1, 5, n_grid)\n",
    "\n",
    "    values = f(*np.meshgrid(grid1, grid2, indexing=\"ij\", sparse=False))\n",
    "\n",
    "    root_n_inter = int(np.sqrt(n_inter))\n",
    "\n",
    "    inter_grid1 = np.linspace(1.33, 4.11, root_n_inter)\n",
    "    inter_grid2 = np.linspace(-0.66, 3.79, root_n_inter)\n",
    "\n",
    "    points = np.array(list(itertools.product(inter_grid1, inter_grid2)))\n",
    "\n",
    "    if target == \"jax_linspace\":\n",
    "        vmapped = vmap(linear_linspace_interpolation, in_axes=(None, 0, None, None))\n",
    "        func = jit(vmapped)\n",
    "        step_sizes = jnp.array([grid1[1] - grid1[0], grid2[1] - grid2[0]])\n",
    "        args = (jnp.array(values), jnp.array(points), jnp.array([1.0, -1]), step_sizes)\n",
    "\n",
    "    elif target == \"jax\":\n",
    "        vmapped = vmap(linear_interpolation, in_axes=(None, 0, None))\n",
    "        func = jit(vmapped, static_argnums=2)\n",
    "        grid_info = ((\"linspace\", (1, 5, n_grid)), (\"linspace\", (-1, 5, n_grid)))\n",
    "        args = (jnp.array(values), jnp.array(points), grid_info)\n",
    "        \n",
    "    elif target == \"scipy_interp2d\":\n",
    "        func = interp2d(x=grid2, y=grid1, z=values)\n",
    "        args = (inter_grid1, inter_grid2)\n",
    "        \n",
    "    elif target == \"scipy\":\n",
    "        func = RegularGridInterpolator(\n",
    "            points=(grid1, grid2), values=values, method=\"linear\"\n",
    "        )\n",
    "        args = points\n",
    "\n",
    "    else:\n",
    "        raise ValueError()\n",
    "\n",
    "    return func, args"
   ]
  },
  {
   "cell_type": "code",
   "execution_count": 10,
   "id": "98630a3f",
   "metadata": {},
   "outputs": [
    {
     "name": "stdout",
     "output_type": "stream",
     "text": [
      "11.3 ms ± 82.4 µs per loop (mean ± std. dev. of 7 runs, 100 loops each)\n"
     ]
    }
   ],
   "source": [
    "func, args = get_2d_inputs(target=\"scipy\")\n",
    "scipy_res = func(args)\n",
    "%timeit func(args)"
   ]
  },
  {
   "cell_type": "code",
   "execution_count": 11,
   "id": "6a116c0c",
   "metadata": {},
   "outputs": [
    {
     "name": "stdout",
     "output_type": "stream",
     "text": [
      "951 µs ± 11 µs per loop (mean ± std. dev. of 7 runs, 1000 loops each)\n"
     ]
    }
   ],
   "source": [
    "func, args = get_2d_inputs(target=\"scipy_interp2d\")\n",
    "scipy_res_2d = func(*args)\n",
    "%timeit func(*args)"
   ]
  },
  {
   "cell_type": "code",
   "execution_count": 12,
   "id": "9c0a3a59",
   "metadata": {},
   "outputs": [
    {
     "name": "stdout",
     "output_type": "stream",
     "text": [
      "481 µs ± 20.9 µs per loop (mean ± std. dev. of 7 runs, 1000 loops each)\n"
     ]
    }
   ],
   "source": [
    "func, args = get_2d_inputs(target=\"jax_linspace\")\n",
    "jax_linspace_res = func(*args)\n",
    "%timeit func(*args)"
   ]
  },
  {
   "cell_type": "code",
   "execution_count": 13,
   "id": "dd8a4a6f",
   "metadata": {},
   "outputs": [
    {
     "name": "stdout",
     "output_type": "stream",
     "text": [
      "325 µs ± 21.9 µs per loop (mean ± std. dev. of 7 runs, 1000 loops each)\n"
     ]
    }
   ],
   "source": [
    "func, args = get_2d_inputs(target=\"jax\")\n",
    "jax_res = func(*args)\n",
    "%timeit func(*args)"
   ]
  },
  {
   "cell_type": "code",
   "execution_count": 14,
   "id": "a8e24ea6",
   "metadata": {},
   "outputs": [],
   "source": [
    "aaae(scipy_res, jax_linspace_res)\n",
    "aaae(scipy_res, jax_res)"
   ]
  },
  {
   "cell_type": "code",
   "execution_count": null,
   "id": "fde1df58",
   "metadata": {},
   "outputs": [],
   "source": []
  },
  {
   "cell_type": "markdown",
   "id": "b49d0db1",
   "metadata": {},
   "source": [
    "## 3d Benchmarks"
   ]
  },
  {
   "cell_type": "code",
   "execution_count": 15,
   "id": "ef2fb2a2",
   "metadata": {},
   "outputs": [],
   "source": [
    "def get_3d_inputs(n_grid=200, n_inter=100_000, target=\"jax_linspace\"):\n",
    "    np.random.seed(1234)\n",
    "\n",
    "    grid1 = np.linspace(1, 5, n_grid)\n",
    "    grid2 = np.linspace(-1, 5, n_grid)\n",
    "    grid3 = np.linspace(2, 7, n_grid)\n",
    "\n",
    "    values = g(*np.meshgrid(grid1, grid2, grid3, indexing=\"ij\", sparse=False))\n",
    "\n",
    "    root_n_inter = int(np.sqrt(n_inter))\n",
    "\n",
    "    inter_grid1 = np.linspace(1.33, 4.11, root_n_inter)\n",
    "    inter_grid2 = np.linspace(-0.66, 3.79, root_n_inter)\n",
    "    inter_grid3 = np.linspace(2.07, 6.99, root_n_inter)\n",
    "\n",
    "    points = np.array(list(itertools.product(inter_grid1, inter_grid2, inter_grid3)))\n",
    "\n",
    "    if target == \"jax_linspace\":\n",
    "        vmapped = vmap(linear_linspace_interpolation, in_axes=(None, 0, None, None))\n",
    "        func = jit(vmapped)\n",
    "        step_sizes = jnp.array(\n",
    "            [grid1[1] - grid1[0], grid2[1] - grid2[0], grid3[1] - grid3[0]]\n",
    "        )\n",
    "        args = (\n",
    "            jnp.array(values),\n",
    "            jnp.array(points),\n",
    "            jnp.array([1.0, -1, 2]),\n",
    "            step_sizes,\n",
    "        )\n",
    "\n",
    "    elif target == \"jax\":\n",
    "        vmapped = vmap(linear_interpolation, in_axes=(None, 0, None))\n",
    "        func = jit(vmapped, static_argnums=2)\n",
    "        grid_info = (\n",
    "            (\"linspace\", (1, 5, n_grid)),\n",
    "            (\"linspace\", (-1, 5, n_grid)),\n",
    "            (\"linspace\", (2, 7, n_grid)),\n",
    "        )\n",
    "        args = (jnp.array(values), jnp.array(points), grid_info)\n",
    "\n",
    "    elif target == \"scipy\":\n",
    "        func = RegularGridInterpolator(\n",
    "            points=(grid1, grid2, grid3), values=values, method=\"linear\"\n",
    "        )\n",
    "        args = points\n",
    "\n",
    "    else:\n",
    "        raise ValueError()\n",
    "\n",
    "    return func, args"
   ]
  },
  {
   "cell_type": "code",
   "execution_count": 16,
   "id": "e043503a",
   "metadata": {},
   "outputs": [
    {
     "name": "stdout",
     "output_type": "stream",
     "text": [
      "6.94 ms ± 430 µs per loop (mean ± std. dev. of 7 runs, 1000 loops each)\n"
     ]
    }
   ],
   "source": [
    "func, args = get_3d_inputs(n_grid=100, n_inter=1_000, target=\"scipy\")\n",
    "scipy_res = func(args)\n",
    "%timeit -r 7 -n 1000 func(args)"
   ]
  },
  {
   "cell_type": "code",
   "execution_count": 17,
   "id": "3945c4fb",
   "metadata": {},
   "outputs": [
    {
     "name": "stdout",
     "output_type": "stream",
     "text": [
      "700 µs ± 57.5 µs per loop (mean ± std. dev. of 7 runs, 1000 loops each)\n"
     ]
    }
   ],
   "source": [
    "func, args = get_3d_inputs(n_grid=100, n_inter=1_000, target=\"jax_linspace\")\n",
    "jax_linspace_res = func(*args)\n",
    "%timeit -r 7 -n 1000 func(*args)"
   ]
  },
  {
   "cell_type": "code",
   "execution_count": 18,
   "id": "558c05d5",
   "metadata": {},
   "outputs": [
    {
     "name": "stdout",
     "output_type": "stream",
     "text": [
      "526 µs ± 11.2 µs per loop (mean ± std. dev. of 7 runs, 1000 loops each)\n"
     ]
    }
   ],
   "source": [
    "func, args = get_3d_inputs(n_grid=100, n_inter=1_000, target=\"jax\")\n",
    "jax_res = func(*args)\n",
    "%timeit -r 7 -n 1000 func(*args)"
   ]
  },
  {
   "cell_type": "code",
   "execution_count": 19,
   "id": "feb517ee",
   "metadata": {},
   "outputs": [],
   "source": [
    "aaae(scipy_res, jax_linspace_res)\n",
    "aaae(scipy_res, jax_res)"
   ]
  },
  {
   "cell_type": "code",
   "execution_count": null,
   "id": "552a875c",
   "metadata": {},
   "outputs": [],
   "source": []
  },
  {
   "cell_type": "markdown",
   "id": "f5853083",
   "metadata": {},
   "source": [
    "## 4d Benchmarks"
   ]
  },
  {
   "cell_type": "code",
   "execution_count": 20,
   "id": "c94dab22",
   "metadata": {},
   "outputs": [],
   "source": [
    "def get_4d_inputs(n_grid=200, n_inter=100_000, target=\"jax_linspace\"):\n",
    "    np.random.seed(1234)\n",
    "\n",
    "    grid1 = np.linspace(1, 5, n_grid)\n",
    "    grid2 = np.linspace(-1, 5, n_grid)\n",
    "    grid3 = np.linspace(2, 7, n_grid)\n",
    "    grid4 = np.linspace(-3, 7, n_grid)\n",
    "\n",
    "    values = h(*np.meshgrid(grid1, grid2, grid3, grid4, indexing=\"ij\", sparse=False))\n",
    "\n",
    "    root_n_inter = int(np.sqrt(n_inter))\n",
    "\n",
    "    inter_grid1 = np.linspace(1.33, 4.11, root_n_inter)\n",
    "    inter_grid2 = np.linspace(-0.66, 3.79, root_n_inter)\n",
    "    inter_grid3 = np.linspace(2.07, 6.99, root_n_inter)\n",
    "    inter_grid4 = np.linspace(-2.84, 4.77, root_n_inter)\n",
    "\n",
    "    points = np.array(\n",
    "        list(itertools.product(inter_grid1, inter_grid2, inter_grid3, inter_grid4))\n",
    "    )\n",
    "\n",
    "    if target == \"jax_linspace\":\n",
    "        vmapped = vmap(linear_linspace_interpolation, in_axes=(None, 0, None, None))\n",
    "        func = jit(vmapped)\n",
    "        step_sizes = jnp.array(\n",
    "            [\n",
    "                grid1[1] - grid1[0],\n",
    "                grid2[1] - grid2[0],\n",
    "                grid3[1] - grid3[0],\n",
    "                grid4[1] - grid4[0],\n",
    "            ]\n",
    "        )\n",
    "        args = (\n",
    "            jnp.array(values),\n",
    "            jnp.array(points),\n",
    "            jnp.array([1.0, -1, 2, -3.0]),\n",
    "            step_sizes,\n",
    "        )\n",
    "\n",
    "    elif target == \"jax\":\n",
    "        vmapped = vmap(linear_interpolation, in_axes=(None, 0, None))\n",
    "        func = jit(vmapped, static_argnums=2)\n",
    "        grid_info = (\n",
    "            (\"linspace\", (1, 5, n_grid)),\n",
    "            (\"linspace\", (-1, 5, n_grid)),\n",
    "            (\"linspace\", (2, 7, n_grid)),\n",
    "            (\"linspace\", (-3, 7, n_grid)),\n",
    "        )\n",
    "        args = (jnp.array(values), jnp.array(points), grid_info)\n",
    "\n",
    "    elif target == \"scipy\":\n",
    "        func = RegularGridInterpolator(\n",
    "            points=(grid1, grid2, grid3, grid4), values=values, method=\"linear\"\n",
    "        )\n",
    "        args = points\n",
    "\n",
    "    else:\n",
    "        raise ValueError()\n",
    "\n",
    "    return func, args"
   ]
  },
  {
   "cell_type": "code",
   "execution_count": 22,
   "id": "3f93ba79",
   "metadata": {},
   "outputs": [
    {
     "name": "stdout",
     "output_type": "stream",
     "text": [
      "670 ms ± 8.03 ms per loop (mean ± std. dev. of 7 runs, 100 loops each)\n"
     ]
    }
   ],
   "source": [
    "func, args = get_4d_inputs(n_grid=100, n_inter=1_000, target=\"scipy\")\n",
    "scipy_res = func(args)\n",
    "%timeit -r 7 -n 100 func(args)"
   ]
  },
  {
   "cell_type": "code",
   "execution_count": 23,
   "id": "e7578ba4",
   "metadata": {},
   "outputs": [
    {
     "name": "stdout",
     "output_type": "stream",
     "text": [
      "42.9 ms ± 5.52 ms per loop (mean ± std. dev. of 7 runs, 100 loops each)\n"
     ]
    }
   ],
   "source": [
    "func, args = get_4d_inputs(n_grid=100, n_inter=1_000, target=\"jax_linspace\")\n",
    "jax_linspace_res = func(*args)\n",
    "%timeit -r 7 -n 100 func(*args)"
   ]
  },
  {
   "cell_type": "code",
   "execution_count": 24,
   "id": "eae59b55",
   "metadata": {},
   "outputs": [
    {
     "name": "stdout",
     "output_type": "stream",
     "text": [
      "27.3 ms ± 3.2 ms per loop (mean ± std. dev. of 7 runs, 100 loops each)\n"
     ]
    }
   ],
   "source": [
    "func, args = get_4d_inputs(n_grid=100, n_inter=1_000, target=\"jax\")\n",
    "jax_res = func(*args)\n",
    "%timeit -r 7 -n 100 func(*args)"
   ]
  },
  {
   "cell_type": "code",
   "execution_count": 25,
   "id": "186a2354",
   "metadata": {},
   "outputs": [],
   "source": [
    "aaae(scipy_res, jax_linspace_res)\n",
    "aaae(scipy_res, jax_res)"
   ]
  },
  {
   "cell_type": "code",
   "execution_count": null,
   "id": "c0a00cab",
   "metadata": {},
   "outputs": [],
   "source": []
  }
 ],
 "metadata": {
  "kernelspec": {
   "display_name": "Python 3 (ipykernel)",
   "language": "python",
   "name": "python3"
  },
  "language_info": {
   "codemirror_mode": {
    "name": "ipython",
    "version": 3
   },
   "file_extension": ".py",
   "mimetype": "text/x-python",
   "name": "python",
   "nbconvert_exporter": "python",
   "pygments_lexer": "ipython3",
   "version": "3.9.7"
  }
 },
 "nbformat": 4,
 "nbformat_minor": 5
}
