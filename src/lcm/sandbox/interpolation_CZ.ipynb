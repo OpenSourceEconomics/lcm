{
 "cells": [
  {
   "cell_type": "markdown",
   "id": "88a8bcb5-4dd5-46a2-bf2c-5d4638f69373",
   "metadata": {
    "jp-MarkdownHeadingCollapsed": true,
    "tags": []
   },
   "source": [
    "# ToDo:\n",
    "- try around with monotone scale\n",
    "- implement + test monotone scale"
   ]
  },
  {
   "cell_type": "markdown",
   "id": "fbd2f0cc-bcd6-4f87-adfc-cfb30a12c214",
   "metadata": {
    "tags": []
   },
   "source": [
    "# Insights:\n",
    "- if order > 1, all entries matter (not only cubical)\n",
    "- basis of log-scale is irrelevant"
   ]
  },
  {
   "cell_type": "code",
   "execution_count": null,
   "id": "da0bbbc9",
   "metadata": {},
   "outputs": [],
   "source": [
    "%load_ext autoreload\n",
    "%autoreload 2\n",
    "\n",
    "from jax.config import config\n",
    "\n",
    "config.update(\"jax_enable_x64\", True)\n",
    "\n",
    "from jax.scipy.ndimage import map_coordinates\n",
    "import jax.numpy as jnp\n",
    "from jax import vmap, jit\n",
    "import numpy as np\n",
    "from numpy.testing import assert_array_almost_equal as aaae\n",
    "from scipy.interpolate import interp1d\n",
    "from scipy.interpolate import RegularGridInterpolator\n",
    "\n",
    "import itertools\n",
    "from lcm.interpolation import linear_interpolation\n",
    "from lcm.grids import (\n",
    "    get_linspace_coordinate,\n",
    "    get_logspace_coordinate,\n",
    "    logspace,\n",
    ")"
   ]
  },
  {
   "cell_type": "code",
   "execution_count": null,
   "id": "43065f2b-50c5-4a5a-9ae4-420cc04bbc5d",
   "metadata": {},
   "outputs": [],
   "source": [
    "import jax.numpy as jnp\n",
    "import lcm.grids as grids_module\n",
    "from jax.scipy.ndimage import map_coordinates\n",
    "\n",
    "\n",
    "def linear_interpolation(values, point, grid_info):\n",
    "    \"\"\"\"\"\"\n",
    "\n",
    "    mapped_values = []\n",
    "    for i, (grid_type, args) in enumerate(grid_info):\n",
    "        func = getattr(grids_module, f\"get_{grid_type}_coordinate\")\n",
    "        mapped_values.append(func(point[i], *args))\n",
    "\n",
    "    mapped_point = jnp.array(mapped_values)\n",
    "\n",
    "    res = map_coordinates(\n",
    "        input=values, coordinates=mapped_point, order=1, mode=\"nearest\"\n",
    "    )\n",
    "\n",
    "    return res"
   ]
  },
  {
   "cell_type": "markdown",
   "id": "4712a060-0b73-4efa-8adf-5ed39490664f",
   "metadata": {
    "tags": []
   },
   "source": [
    "# Try different scales"
   ]
  },
  {
   "cell_type": "markdown",
   "id": "d8ab306a-14c5-4a49-88b6-18387a1443c4",
   "metadata": {
    "tags": []
   },
   "source": [
    "## linspace"
   ]
  },
  {
   "cell_type": "code",
   "execution_count": null,
   "id": "61901839-f1b2-43bd-98a8-929313d8d326",
   "metadata": {},
   "outputs": [],
   "source": [
    "def test_linear_interpolation_2d():\n",
    "    grid1 = np.array([1, 2, 3, 4, 5.0])\n",
    "    grid2 = np.array([2, 3, 4.0])\n",
    "\n",
    "    prod_grid = np.array(list(itertools.product(grid1, grid2)))\n",
    "    values = (prod_grid**2).sum(axis=1).reshape(5, 3)\n",
    "\n",
    "    points = np.array([[2.5, 3.5], [2.1, 3.8], [2.7, 3.3]])\n",
    "\n",
    "    grid_info = [(\"linspace\", (1, 5, 5)), (\"linspace\", (2, 4, 3))]\n",
    "\n",
    "    for point in points:\n",
    "        calculated = linear_interpolation(\n",
    "            values=values,\n",
    "            point=point,\n",
    "            grid_info=grid_info,\n",
    "        )\n",
    "\n",
    "        scipy_func = RegularGridInterpolator(\n",
    "            points=(grid1, grid2), values=values, method=\"linear\"\n",
    "        )\n",
    "        scipy_res = scipy_func(point)\n",
    "\n",
    "        aaae(calculated, scipy_res)"
   ]
  },
  {
   "cell_type": "code",
   "execution_count": null,
   "id": "82ac9175-0eaa-4785-86f0-ab45792784e0",
   "metadata": {},
   "outputs": [],
   "source": [
    "test_linear_interpolation_2d()"
   ]
  },
  {
   "cell_type": "markdown",
   "id": "74d397a3-9a4d-4b4f-ab13-1cf0a2798ac5",
   "metadata": {
    "tags": []
   },
   "source": [
    "## logspace"
   ]
  },
  {
   "cell_type": "code",
   "execution_count": null,
   "id": "391ca604-64d4-416c-9ff2-acd1ad151a9e",
   "metadata": {},
   "outputs": [],
   "source": [
    "def logspace(start, stop, n_points):\n",
    "    start_exp = jnp.log(start)\n",
    "    stop_exp = jnp.log(stop)\n",
    "    return jnp.logspace(start_exp, stop_exp, n_points, base=2.718281828459045)"
   ]
  },
  {
   "cell_type": "code",
   "execution_count": null,
   "id": "8ee9dc11-96f2-436f-84c1-cf2a7b307ce3",
   "metadata": {},
   "outputs": [],
   "source": [
    "def get_linspace_coordinate(value, start, stop, n_points):\n",
    "    \"\"\"Map a value into the input needed for map_coordinates.\"\"\"\n",
    "    step_length = (stop - start) / (n_points - 1)\n",
    "    mapped_point = (value - start) / step_length\n",
    "    return mapped_point"
   ]
  },
  {
   "cell_type": "code",
   "execution_count": null,
   "id": "cb571715-61e0-4bdf-b455-4fd745d396fe",
   "metadata": {},
   "outputs": [],
   "source": [
    "def get_logspace_coordinate(value, start, stop, n_points):\n",
    "    \"\"\"Map a value into the input needed for map_coordinates.\"\"\"\n",
    "    step_factor = jnp.exp((jnp.log(stop) - jnp.log(start)) / (n_points - 1))\n",
    "    mapped_point = jnp.log(value / start) / jnp.log(step_factor)\n",
    "    return mapped_point"
   ]
  },
  {
   "cell_type": "code",
   "execution_count": null,
   "id": "88fe356a-3dd2-40cb-9e13-823be184d5ed",
   "metadata": {},
   "outputs": [],
   "source": [
    "def get_logspace_coordinate1(value, start, stop, n_points):\n",
    "    \"\"\"Map a value into the input needed for map_coordinates.\"\"\"\n",
    "    step_factor = (jnp.log(stop) - jnp.log(start)) / (n_points - 1)\n",
    "    mapped_point = (jnp.log(value) - jnp.log(start)) / step_factor\n",
    "    return mapped_point"
   ]
  },
  {
   "cell_type": "code",
   "execution_count": null,
   "id": "d5c4d1bf-9942-4e2a-a957-857626cf33c0",
   "metadata": {},
   "outputs": [],
   "source": [
    "def get_logspace_coordinate2(value, start, stop, n_points):\n",
    "    \"\"\"Map a value into the input needed for map_coordinates.\"\"\"\n",
    "    start_exp = jnp.log(start)\n",
    "    stop_exp = jnp.log(stop)\n",
    "    value_exp = jnp.log(value)\n",
    "    step_length = (stop_exp - start_exp) / (n_points - 1)\n",
    "    mapped_point_log = (value_exp - start_exp) / step_length\n",
    "    print(mapped_point_log)\n",
    "    # Calculate mapped point on a linear scale\n",
    "    lower_point = jnp.exp(start_exp + step_length * jnp.floor(mapped_point_log))\n",
    "    upper_point = jnp.exp(start_exp + step_length * jnp.ceil(mapped_point_log))\n",
    "    print(lower_point, upper_point)\n",
    "    if lower_point == upper_point:\n",
    "        mapped_point_lin = mapped_point_log\n",
    "    else:\n",
    "        mapped_point_lin = jnp.floor(mapped_point_log) + (value - lower_point) / (\n",
    "            upper_point - lower_point\n",
    "        )\n",
    "    return mapped_point_lin"
   ]
  },
  {
   "cell_type": "code",
   "execution_count": null,
   "id": "e49752c1-e1a3-45de-a7ec-1a3693569cba",
   "metadata": {},
   "outputs": [],
   "source": [
    "grid1 = np.array([1, 10, 100.0])\n",
    "grid2 = np.array([1, 10, 100.0])\n",
    "\n",
    "prod_grid = np.array(list(itertools.product(grid1, grid2)))\n",
    "values = (prod_grid**2).sum(axis=1).reshape(3, 3)\n",
    "\n",
    "points = np.array([[1, 1], [2.5, 3.5], [2.1, 3.8], [2.7, 3.3]])\n",
    "\n",
    "grid_info = [(\"linspace\", (1, 5, 5)), (\"linspace\", (2, 4, 3))]\n",
    "\n",
    "for point in points:\n",
    "    calculated = linear_interpolation(\n",
    "        values=values,\n",
    "        point=point,\n",
    "        grid_info=grid_info,\n",
    "    )\n",
    "\n",
    "    scipy_func = RegularGridInterpolator(\n",
    "        points=(grid1, grid2), values=values, method=\"linear\"\n",
    "    )\n",
    "    scipy_res = scipy_func(point)\n",
    "    print(calculated, scipy_res)\n",
    "    aaae(calculated, scipy_res)"
   ]
  },
  {
   "cell_type": "code",
   "execution_count": null,
   "id": "75cd90dc-40a3-4956-a632-a6aa3dbeefee",
   "metadata": {},
   "outputs": [],
   "source": [
    "grid1, grid2, values"
   ]
  },
  {
   "cell_type": "code",
   "execution_count": null,
   "id": "4822d173-884e-484c-9f45-fe2f844bb318",
   "metadata": {},
   "outputs": [],
   "source": [
    "(101 + 2) / 2"
   ]
  },
  {
   "cell_type": "code",
   "execution_count": null,
   "id": "fd7c8e05-5fb1-4981-afad-fa31e25d09ae",
   "metadata": {},
   "outputs": [],
   "source": [
    "grid1 = np.logspace(np.log10(1), np.log10(100), 3)\n",
    "grid2 = np.logspace(np.log10(1), np.log10(100), 3)\n",
    "\n",
    "prod_grid = np.array(list(itertools.product(grid1, grid2)))\n",
    "values = (prod_grid**2).sum(axis=1).reshape(3, 3)\n",
    "\n",
    "points = np.array([[5.5, 1], [10, 10], [9.8, 2.3], [2.1, 8.2], [2.7, 1.1]])\n",
    "\n",
    "grid_info = [(\"logspace\", (1, 100, 3)), (\"logspace\", (1, 100, 3))]\n",
    "\n",
    "for point in points:\n",
    "    calculated = linear_interpolation(\n",
    "        values=values,\n",
    "        point=point,\n",
    "        grid_info=grid_info,\n",
    "    )\n",
    "\n",
    "    scipy_func = RegularGridInterpolator(\n",
    "        points=(grid1, grid2), values=values, method=\"linear\"\n",
    "    )\n",
    "    scipy_res = scipy_func(point)\n",
    "    print(calculated, scipy_res)\n",
    "    aaae(calculated, scipy_res)"
   ]
  },
  {
   "cell_type": "code",
   "execution_count": null,
   "id": "fd0ff7ca-c2cc-4b30-9418-2d2ca356e928",
   "metadata": {},
   "outputs": [],
   "source": [
    "grid4"
   ]
  },
  {
   "cell_type": "code",
   "execution_count": null,
   "id": "7c1cb118-7f70-43cc-8c77-9a812c86f282",
   "metadata": {},
   "outputs": [],
   "source": [
    "def f(a, b, c):\n",
    "    return 2 * a**3 + 3 * b**2 - c\n",
    "\n",
    "\n",
    "def g(a, b, c, d):\n",
    "    return f(a, b, c) - d\n",
    "\n",
    "\n",
    "def h(a, b, c, d, e):\n",
    "    return g(a, b, c, d) + e**5\n",
    "\n",
    "\n",
    "grid1 = np.logspace(np.log10(1), np.log10(5), 5)\n",
    "grid2 = np.logspace(np.log10(4), np.log10(7), 4)\n",
    "grid3 = np.logspace(np.log10(7), np.log10(9), 2)\n",
    "grid4 = np.logspace(np.log10(10), np.log10(11), 2)\n",
    "grid5 = np.logspace(np.log10(3), np.log10(4), 10)\n",
    "\n",
    "values = h(*np.meshgrid(grid1, grid2, grid3, grid4, grid5, indexing=\"ij\", sparse=False))\n",
    "print(grid1, grid2, grid3, grid4, grid5)\n",
    "points = np.array(\n",
    "    [[2.1, 6.2, 8.3, 10.4, 3], [5, 4.3, 7, 10.99999, 4], [3.3, 5.2, 7.1, 10, 3.6]]\n",
    ")\n",
    "\n",
    "grid_info = [\n",
    "    (\"logspace\", (1, 5, 5)),\n",
    "    (\"logspace\", (4, 7, 4)),\n",
    "    (\"logspace\", (7, 9, 2)),\n",
    "    (\"logspace\", (10, 11, 2)),\n",
    "    (\"logspace\", (3, 4, 10)),\n",
    "]\n",
    "\n",
    "for point in points:\n",
    "    print(point)\n",
    "    calculated = linear_interpolation(\n",
    "        values=values,\n",
    "        point=point,\n",
    "        grid_info=grid_info,\n",
    "    )\n",
    "    scipy_func = RegularGridInterpolator(\n",
    "        points=(grid1, grid2, grid3, grid4, grid5), values=values, method=\"linear\"\n",
    "    )\n",
    "    scipy_res = scipy_func(point)\n",
    "    aaae(calculated, scipy_res)"
   ]
  },
  {
   "cell_type": "code",
   "execution_count": null,
   "id": "9b7b368c-271b-4acc-b0a9-7637f0fdcd12",
   "metadata": {},
   "outputs": [],
   "source": [
    "grid1 = np.logspace(np.log10(1), np.log10(100), 3)\n",
    "grid2 = np.logspace(np.log10(1), np.log10(100), 3)\n",
    "\n",
    "prod_grid = np.array(list(itertools.product(grid1, grid2)))\n",
    "values = (prod_grid**2).sum(axis=1).reshape(3, 3)\n",
    "\n",
    "points = np.array([[1, 1], [10, 10], [2.7, 1.1]])\n",
    "\n",
    "grid_info = [(\"logspace\", (1, 100, 3)), (\"logspace\", (1, 100, 3))]\n",
    "\n",
    "for point in points:\n",
    "    calculated = linear_interpolation(\n",
    "        values=values,\n",
    "        point=point,\n",
    "        grid_info=grid_info,\n",
    "    )\n",
    "\n",
    "    scipy_func = RegularGridInterpolator(\n",
    "        points=(grid1, grid2), values=values, method=\"linear\"\n",
    "    )\n",
    "    scipy_res = scipy_func(point)\n",
    "    print(point, calculated, scipy_res)\n",
    "print(grid1, grid2)\n",
    "print(values)"
   ]
  },
  {
   "cell_type": "code",
   "execution_count": null,
   "id": "1d067e54-a14f-40c3-bcf9-1c1f89c53c31",
   "metadata": {},
   "outputs": [],
   "source": [
    "logspace(1, 100, 7)"
   ]
  },
  {
   "cell_type": "code",
   "execution_count": null,
   "id": "c179df37-994f-4685-a280-e80a1f50b25d",
   "metadata": {},
   "outputs": [],
   "source": [
    "jnp.floor(3.01), jnp.ceil(3.01)"
   ]
  },
  {
   "cell_type": "code",
   "execution_count": null,
   "id": "b1220277-fd53-4500-8792-4c0e5525c3f2",
   "metadata": {},
   "outputs": [],
   "source": [
    "get_logspace_coordinate(10, 1, 10, 11), get_logspace_coordinate1(\n",
    "    10, 1, 10, 11\n",
    "), get_logspace_coordinate2(10, 1, 10, 11)"
   ]
  },
  {
   "cell_type": "code",
   "execution_count": null,
   "id": "d4cddc12-018e-42b1-aaf8-dc492d902836",
   "metadata": {},
   "outputs": [],
   "source": []
  },
  {
   "cell_type": "code",
   "execution_count": null,
   "id": "ce694682-629f-472d-9470-51840900878e",
   "metadata": {},
   "outputs": [],
   "source": [
    "get_logspace_coordinate(2, 1, 10, 11)"
   ]
  },
  {
   "cell_type": "code",
   "execution_count": null,
   "id": "7d391bae-8c6f-476d-afca-21efdd5a0d8f",
   "metadata": {},
   "outputs": [],
   "source": [
    "get_logspace_coordinate_2(9, 1, 10, 11)"
   ]
  },
  {
   "cell_type": "code",
   "execution_count": null,
   "id": "6cd5229a-aac3-4117-a637-387eaff74030",
   "metadata": {},
   "outputs": [],
   "source": [
    "grid1 = logspace(1, 10, 3)\n",
    "grid2 = logspace(1, 10, 3)\n",
    "\n",
    "prod_grid = np.array(list(itertools.product(grid1, grid2)))\n",
    "values = (prod_grid**2).sum(axis=1).reshape(3, 3)\n",
    "\n",
    "points = np.array([[9, 1], [2.1, 1], [2.7, 1]])\n",
    "\n",
    "grid_info = [(\"logspace\", (1, 10, 3)), (\"logspace\", (1, 10, 3))]\n",
    "\n",
    "for point in points:\n",
    "    calculated = linear_interpolation(\n",
    "        values=values,\n",
    "        point=point,\n",
    "        grid_info=grid_info,\n",
    "    )\n",
    "\n",
    "    scipy_func = RegularGridInterpolator(\n",
    "        points=(grid1, grid2), values=values, method=\"linear\"\n",
    "    )\n",
    "    scipy_res = scipy_func(point)\n",
    "    print(scipy_res, calculated)\n",
    "    aaae(calculated, scipy_res)"
   ]
  },
  {
   "cell_type": "code",
   "execution_count": null,
   "id": "bbb64a66-6ca8-4730-97d0-3ec9a03a2a8b",
   "metadata": {},
   "outputs": [],
   "source": [
    "values"
   ]
  },
  {
   "cell_type": "code",
   "execution_count": null,
   "id": "04698846-657e-403d-946f-8bef17a4b3a4",
   "metadata": {},
   "outputs": [],
   "source": [
    "grid1 = logspace(1, 10, 11)\n",
    "\n",
    "values = grid1**2\n",
    "\n",
    "points = np.array([[2.5], [2.1], [2.7]])\n",
    "\n",
    "grid_info = [(\"logspace\", (1, 10, 11))]\n",
    "\n",
    "for point in points:\n",
    "    calculated = linear_interpolation(\n",
    "        values=values,\n",
    "        point=point,\n",
    "        grid_info=grid_info,\n",
    "    )\n",
    "\n",
    "    scipy_func = RegularGridInterpolator(\n",
    "        points=(grid1, grid2), values=values, method=\"linear\"\n",
    "    )\n",
    "    scipy_res = scipy_func(point)\n",
    "    print(scipy_res)\n",
    "    # aaae(calculated, scipy_res)"
   ]
  },
  {
   "cell_type": "code",
   "execution_count": null,
   "id": "3332834d-8a2c-4e91-923c-38b2608afa9f",
   "metadata": {},
   "outputs": [],
   "source": [
    "values"
   ]
  },
  {
   "cell_type": "code",
   "execution_count": null,
   "id": "4904dcda-1dc5-4f11-89ce-c7d1992a43b3",
   "metadata": {},
   "outputs": [],
   "source": [
    "grid1 = np.array([1, 10, 100, 1000, 10000.0])\n",
    "grid2 = np.array([10, 100, 1000.0])\n",
    "\n",
    "\n",
    "def f(a, b):\n",
    "    return a + b\n",
    "\n",
    "\n",
    "values = f(*np.meshgrid(grid1, grid2, indexing=\"ij\", sparse=False))\n",
    "print(values)\n",
    "\n",
    "prod_grid = np.array(list(itertools.product(grid1, grid2)))\n",
    "# values = (prod_grid ** 2).sum(axis=1).reshape(5, 3)\n",
    "\n",
    "points = np.array([[5.5, 10], [2.1, 38], [2.7, 33]])\n",
    "\n",
    "grid_info = [(\"logspace\", (1, 5, 5)), (\"logspace\", (2, 4, 3))]\n",
    "\n",
    "for point in points:\n",
    "    # calculated = linear_interpolation(\n",
    "    #    values=values,\n",
    "    #    point=point,\n",
    "    #    grid_info=grid_info,\n",
    "    # )\n",
    "\n",
    "    scipy_func = RegularGridInterpolator(\n",
    "        points=(grid1, grid2), values=values, method=\"linear\"\n",
    "    )\n",
    "    scipy_res = scipy_func(point)\n",
    "    print(scipy_res)\n",
    "    # aaae(calculated, scipy_res)"
   ]
  },
  {
   "cell_type": "code",
   "execution_count": null,
   "id": "3e90de0d-ce0a-4ac9-a13a-3efbb1ee4a2f",
   "metadata": {},
   "outputs": [],
   "source": [
    "grid1 = np.array([1, 2, 3, 4, 5.0])\n",
    "grid2 = np.array([2, 3, 4.0])\n",
    "\n",
    "prod_grid = np.array(list(itertools.product(grid1, grid2)))\n",
    "values = (prod_grid**2).sum(axis=1).reshape(5, 3)\n",
    "\n",
    "points = np.array([[2.5, 3.5], [2.1, 3.8], [2.7, 3.3]])\n",
    "\n",
    "grid_info = [(\"logspace\", (1, 5, 5)), (\"logspace\", (2, 4, 3))]\n",
    "\n",
    "for point in points:\n",
    "    # calculated = linear_interpolation(\n",
    "    #    values=values,\n",
    "    #    point=point,\n",
    "    #    grid_info=grid_info,\n",
    "    # )\n",
    "\n",
    "    scipy_func = RegularGridInterpolator(\n",
    "        points=(grid1, grid2), values=values, method=\"linear\"\n",
    "    )\n",
    "    scipy_res = scipy_func(point)\n",
    "    print(scipy_res)\n",
    "    # aaae(calculated, scipy_res)"
   ]
  },
  {
   "cell_type": "code",
   "execution_count": null,
   "id": "d7a82ba1-6ddc-41ab-9c5e-a91172f548cd",
   "metadata": {},
   "outputs": [],
   "source": [
    "def test_linear_interpolation_2d():\n",
    "    grid1 = np.array([1, 2, 3, 4, 5.0])\n",
    "    grid2 = np.array([2, 3, 4.0])\n",
    "\n",
    "    prod_grid = np.array(list(itertools.product(grid1, grid2)))\n",
    "    values = (prod_grid**2).sum(axis=1).reshape(5, 3)\n",
    "\n",
    "    points = np.array([[2.5, 3.5], [2.1, 3.8], [2.7, 3.3]])\n",
    "\n",
    "    grid_info = [(\"logspace\", (1, 5, 5)), (\"logspace\", (2, 4, 3))]\n",
    "\n",
    "    for point in points:\n",
    "        calculated = linear_interpolation(\n",
    "            values=values,\n",
    "            point=point,\n",
    "            grid_info=grid_info,\n",
    "        )\n",
    "\n",
    "        scipy_func = RegularGridInterpolator(\n",
    "            points=(grid1, grid2), values=values, method=\"linear\"\n",
    "        )\n",
    "        scipy_res = scipy_func(point)\n",
    "\n",
    "        aaae(calculated, scipy_res)"
   ]
  },
  {
   "cell_type": "code",
   "execution_count": null,
   "id": "4c5393f9-c6e3-472e-a720-7b84cdd89539",
   "metadata": {},
   "outputs": [],
   "source": [
    "test_linear_interpolation_2d()"
   ]
  },
  {
   "cell_type": "code",
   "execution_count": null,
   "id": "1c31af18",
   "metadata": {},
   "outputs": [],
   "source": [
    "def linear_linspace_interpolation(values, point, starts, step_lengths):\n",
    "    \"\"\"Specialized version of linear interpolation to linspaces.\n",
    "\n",
    "    This is meant as a comparison to check that the dynamic function\n",
    "    calling doest not cause any performance penalty.\n",
    "\n",
    "    \"\"\"\n",
    "    mapped_point = (point - starts) / step_lengths\n",
    "\n",
    "    res = map_coordinates(\n",
    "        input=values, coordinates=mapped_point, order=1, mode=\"nearest\"\n",
    "    )\n",
    "\n",
    "    return res"
   ]
  },
  {
   "cell_type": "markdown",
   "id": "adc65243",
   "metadata": {},
   "source": [
    "## 1d Benchmarks"
   ]
  },
  {
   "cell_type": "code",
   "execution_count": null,
   "id": "86f352f5",
   "metadata": {},
   "outputs": [],
   "source": [
    "def get_1d_inputs(n_grid=1000, n_inter=10_000, target=\"jax_linspace\"):\n",
    "    np.random.seed(1234)\n",
    "    grid = np.linspace(1, 5, n_grid)\n",
    "    values = grid**1.1 + np.sin(grid)\n",
    "    points = np.linspace(1, 4, n_inter)\n",
    "    np.random.shuffle(points)\n",
    "\n",
    "    if target == \"jax_linspace\":\n",
    "        vmapped = vmap(linear_linspace_interpolation, in_axes=(None, 0, None, None))\n",
    "        func = jit(vmapped)\n",
    "        args = (\n",
    "            jnp.array(values),\n",
    "            jnp.array(points.reshape(-1, 1)),\n",
    "            jnp.array([1.0]),\n",
    "            grid[1] - grid[0],\n",
    "        )\n",
    "\n",
    "    elif target == \"jax\":\n",
    "        vmapped = vmap(linear_interpolation, in_axes=(None, 0, None))\n",
    "        func = jit(vmapped, static_argnums=2)\n",
    "        grid_info = ((\"linspace\", (1, 5, n_grid)),)\n",
    "        args = (jnp.array(values), jnp.array(points.reshape(-1, 1)), grid_info)\n",
    "    elif target == \"scipy\":\n",
    "        func = interp1d(grid, values)\n",
    "        args = (points,)\n",
    "    else:\n",
    "        raise ValueError()\n",
    "\n",
    "    return func, args\n",
    "\n",
    "\n",
    "def get_1d_runtime(n_grid=1000, n_inter=10_000, target=\"jax_linespace\"):\n",
    "    func, args = get_1d_inputs(n_grid, n_inter, target)\n",
    "    # firs evaluation for jit overhead\n",
    "    func(*args)\n",
    "    timeit_res = %timeit -o func(*args)\n",
    "    runtime = timeit_res.average\n",
    "    return runtime"
   ]
  },
  {
   "cell_type": "code",
   "execution_count": null,
   "id": "46e61c87",
   "metadata": {},
   "outputs": [],
   "source": [
    "func, args = get_1d_inputs(target=\"scipy\")\n",
    "%timeit func(*args)\n",
    "scipy_res = func(*args)"
   ]
  },
  {
   "cell_type": "code",
   "execution_count": null,
   "id": "8f9062cb",
   "metadata": {},
   "outputs": [],
   "source": [
    "func, args = get_1d_inputs(target=\"jax_linspace\")\n",
    "%timeit func(*args).block_until_ready()\n",
    "linspace_res = func(*args)"
   ]
  },
  {
   "cell_type": "code",
   "execution_count": null,
   "id": "55bc8605",
   "metadata": {},
   "outputs": [],
   "source": [
    "func, args = get_1d_inputs(target=\"jax\")\n",
    "%timeit func(*args).block_until_ready()\n",
    "jax_res = func(*args)"
   ]
  },
  {
   "cell_type": "code",
   "execution_count": null,
   "id": "62bb0133",
   "metadata": {},
   "outputs": [],
   "source": [
    "aaae(scipy_res, linspace_res)\n",
    "aaae(scipy_res, jax_res)"
   ]
  },
  {
   "cell_type": "markdown",
   "id": "e6f839d8-58a9-4465-91be-bbafc26f1aed",
   "metadata": {},
   "source": [
    "# Sandbox"
   ]
  },
  {
   "cell_type": "markdown",
   "id": "b68b9fbc-cd07-4fca-85dd-b5dd605c7097",
   "metadata": {},
   "source": [
    "Janos' idea: constant growth of the differences"
   ]
  },
  {
   "cell_type": "code",
   "execution_count": null,
   "id": "42328250-8901-44f8-bcf9-82367f8a24f8",
   "metadata": {},
   "outputs": [],
   "source": [
    "import matplotlib.pyplot as plt\n",
    "\n",
    "x = np.linspace(0, 5, 1000)\n",
    "y_exp = np.exp(x)\n",
    "y_bas2 = 2**x + 10\n",
    "plt.plot(x, y_exp)\n",
    "plt.plot(x, y_bas2)"
   ]
  },
  {
   "cell_type": "code",
   "execution_count": null,
   "id": "1cf8946b-76ed-49e2-963d-5e44724876f1",
   "metadata": {},
   "outputs": [],
   "source": [
    "y_bas2"
   ]
  },
  {
   "cell_type": "code",
   "execution_count": null,
   "id": "be6347fe-963e-403f-9c8b-fe4fedc019e7",
   "metadata": {},
   "outputs": [],
   "source": []
  }
 ],
 "metadata": {
  "language_info": {
   "codemirror_mode": {
    "name": "ipython",
    "version": 3
   },
   "file_extension": ".py",
   "mimetype": "text/x-python",
   "name": "python",
   "nbconvert_exporter": "python",
   "pygments_lexer": "ipython3"
  },
  "toc-autonumbering": true
 },
 "nbformat": 4,
 "nbformat_minor": 5
}
