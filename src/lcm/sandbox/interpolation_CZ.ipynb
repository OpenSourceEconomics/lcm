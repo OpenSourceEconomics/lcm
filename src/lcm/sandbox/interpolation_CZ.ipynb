{
 "cells": [
  {
   "cell_type": "markdown",
   "id": "88a8bcb5-4dd5-46a2-bf2c-5d4638f69373",
   "metadata": {
    "jp-MarkdownHeadingCollapsed": true,
    "tags": []
   },
   "source": [
    "# ToDo:\n",
    "- try around with monotone scale\n",
    "- implement + test monotone scale"
   ]
  },
  {
   "cell_type": "markdown",
   "id": "fbd2f0cc-bcd6-4f87-adfc-cfb30a12c214",
   "metadata": {
    "tags": []
   },
   "source": [
    "# Insights:\n",
    "- if order > 1, all entries matter (not only cubical)\n",
    "- basis of log-scale is irrelevant"
   ]
  },
  {
   "cell_type": "code",
   "execution_count": 67,
   "id": "da0bbbc9",
   "metadata": {},
   "outputs": [
    {
     "name": "stdout",
     "output_type": "stream",
     "text": [
      "The autoreload extension is already loaded. To reload it, use:\n",
      "  %reload_ext autoreload\n"
     ]
    }
   ],
   "source": [
    "%load_ext autoreload\n",
    "%autoreload 2\n",
    "\n",
    "from jax.config import config\n",
    "config.update(\"jax_enable_x64\", True)\n",
    "\n",
    "from jax.scipy.ndimage import map_coordinates\n",
    "import jax.numpy as jnp\n",
    "from jax import vmap, jit\n",
    "import numpy as np\n",
    "from numpy.testing import assert_array_almost_equal as aaae\n",
    "from scipy.interpolate import interp1d, interp2d\n",
    "from scipy.interpolate import RegularGridInterpolator\n",
    "\n",
    "import itertools\n",
    "from lcm.interpolation import linear_interpolation\n",
    "from lcm.grids import get_linspace_coordinate, get_logspace_coordinate, linspace, logspace"
   ]
  },
  {
   "cell_type": "code",
   "execution_count": 6,
   "id": "43065f2b-50c5-4a5a-9ae4-420cc04bbc5d",
   "metadata": {},
   "outputs": [],
   "source": [
    "import jax.numpy as jnp\n",
    "import lcm.grids as grids_module\n",
    "from jax.scipy.ndimage import map_coordinates\n",
    "\n",
    "\n",
    "def linear_interpolation(values, point, grid_info):\n",
    "    \"\"\"\"\"\"\n",
    "\n",
    "    mapped_values = []\n",
    "    for i, (grid_type, args) in enumerate(grid_info):\n",
    "        func = getattr(grids_module, f\"get_{grid_type}_coordinate\")\n",
    "        mapped_values.append(func(point[i], *args))\n",
    "\n",
    "    mapped_point = jnp.array(mapped_values)\n",
    "\n",
    "    res = map_coordinates(\n",
    "        input=values, coordinates=mapped_point, order=1, mode=\"nearest\"\n",
    "    )\n",
    "\n",
    "    return res"
   ]
  },
  {
   "cell_type": "markdown",
   "id": "4712a060-0b73-4efa-8adf-5ed39490664f",
   "metadata": {
    "tags": []
   },
   "source": [
    "# Try different scales"
   ]
  },
  {
   "cell_type": "markdown",
   "id": "d8ab306a-14c5-4a49-88b6-18387a1443c4",
   "metadata": {
    "tags": []
   },
   "source": [
    "## linspace"
   ]
  },
  {
   "cell_type": "code",
   "execution_count": 175,
   "id": "61901839-f1b2-43bd-98a8-929313d8d326",
   "metadata": {},
   "outputs": [],
   "source": [
    "def test_linear_interpolation_2d():\n",
    "    grid1 = np.array([1, 2, 3, 4, 5.0])\n",
    "    grid2 = np.array([2, 3, 4.0])\n",
    "\n",
    "    prod_grid = np.array(list(itertools.product(grid1, grid2)))\n",
    "    values = (prod_grid ** 2).sum(axis=1).reshape(5, 3)\n",
    "\n",
    "    points = np.array([[2.5, 3.5], [2.1, 3.8], [2.7, 3.3]])\n",
    "\n",
    "    grid_info = [(\"linspace\", (1, 5, 5)), (\"linspace\", (2, 4, 3))]\n",
    "\n",
    "    for point in points:\n",
    "        calculated = linear_interpolation(\n",
    "            values=values,\n",
    "            point=point,\n",
    "            grid_info=grid_info,\n",
    "        )\n",
    "\n",
    "        scipy_func = RegularGridInterpolator(\n",
    "            points=(grid1, grid2), values=values, method=\"linear\"\n",
    "        )\n",
    "        scipy_res = scipy_func(point)\n",
    "\n",
    "        aaae(calculated, scipy_res)"
   ]
  },
  {
   "cell_type": "code",
   "execution_count": 176,
   "id": "82ac9175-0eaa-4785-86f0-ab45792784e0",
   "metadata": {},
   "outputs": [],
   "source": [
    "test_linear_interpolation_2d()"
   ]
  },
  {
   "cell_type": "markdown",
   "id": "74d397a3-9a4d-4b4f-ab13-1cf0a2798ac5",
   "metadata": {
    "tags": []
   },
   "source": [
    "## logspace"
   ]
  },
  {
   "cell_type": "code",
   "execution_count": 148,
   "id": "391ca604-64d4-416c-9ff2-acd1ad151a9e",
   "metadata": {},
   "outputs": [],
   "source": [
    "def logspace(start, stop, n_points):\n",
    "    start_exp = jnp.log(start)\n",
    "    stop_exp = jnp.log(stop)\n",
    "    return jnp.logspace(start_exp, stop_exp, n_points, base=2.718281828459045)"
   ]
  },
  {
   "cell_type": "code",
   "execution_count": 112,
   "id": "8ee9dc11-96f2-436f-84c1-cf2a7b307ce3",
   "metadata": {},
   "outputs": [],
   "source": [
    "def get_linspace_coordinate(value, start, stop, n_points):\n",
    "    \"\"\"Map a value into the input needed for map_coordinates.\"\"\"\n",
    "    step_length = (stop - start) / (n_points - 1)\n",
    "    mapped_point = (value - start) / step_length\n",
    "    return mapped_point"
   ]
  },
  {
   "cell_type": "code",
   "execution_count": 188,
   "id": "cb571715-61e0-4bdf-b455-4fd745d396fe",
   "metadata": {},
   "outputs": [],
   "source": [
    "def get_logspace_coordinate(value, start, stop, n_points):\n",
    "    \"\"\"Map a value into the input needed for map_coordinates.\"\"\"\n",
    "    step_factor = jnp.exp((jnp.log(stop) - jnp.log(start)) / (n_points - 1))\n",
    "    mapped_point = jnp.log(value / start) / jnp.log(step_factor)\n",
    "    return mapped_point"
   ]
  },
  {
   "cell_type": "code",
   "execution_count": 197,
   "id": "88fe356a-3dd2-40cb-9e13-823be184d5ed",
   "metadata": {},
   "outputs": [],
   "source": [
    "def get_logspace_coordinate1(value, start, stop, n_points):\n",
    "    \"\"\"Map a value into the input needed for map_coordinates.\"\"\"\n",
    "    step_factor = (jnp.log(stop) - jnp.log(start)) / (n_points - 1)\n",
    "    mapped_point = (jnp.log(value) - jnp.log(start)) / step_factor\n",
    "    return mapped_point"
   ]
  },
  {
   "cell_type": "code",
   "execution_count": 234,
   "id": "d5c4d1bf-9942-4e2a-a957-857626cf33c0",
   "metadata": {},
   "outputs": [],
   "source": [
    "def get_logspace_coordinate2(value, start, stop, n_points):\n",
    "    \"\"\"Map a value into the input needed for map_coordinates.\"\"\"\n",
    "    start_exp = jnp.log(start)\n",
    "    stop_exp = jnp.log(stop)\n",
    "    value_exp = jnp.log(value)\n",
    "    step_length = (stop_exp - start_exp) / (n_points - 1)\n",
    "    mapped_point_log = (value_exp - start_exp) / step_length\n",
    "    print(mapped_point_log)\n",
    "    # Calculate mapped point on a linear scale\n",
    "    lower_point = jnp.exp(start_exp + step_length * jnp.floor(mapped_point_log))\n",
    "    upper_point = jnp.exp(start_exp + step_length * jnp.ceil(mapped_point_log))\n",
    "    print(lower_point, upper_point)\n",
    "    if lower_point == upper_point:\n",
    "        mapped_point_lin = mapped_point_log\n",
    "    else:\n",
    "        mapped_point_lin = jnp.floor(mapped_point_log) + (value - lower_point) / (upper_point - lower_point)\n",
    "    return mapped_point_lin\n"
   ]
  },
  {
   "cell_type": "code",
   "execution_count": 116,
   "id": "e49752c1-e1a3-45de-a7ec-1a3693569cba",
   "metadata": {},
   "outputs": [
    {
     "name": "stdout",
     "output_type": "stream",
     "text": [
      "2.0 [2.]\n",
      "10100.0 [46.]\n"
     ]
    },
    {
     "ename": "AssertionError",
     "evalue": "\nArrays are not almost equal to 6 decimals\n\nMismatched elements: 1 / 1 (100%)\nMax absolute difference: 10054.\nMax relative difference: 218.56521739\n x: array(10100.)\n y: array([46.])",
     "output_type": "error",
     "traceback": [
      "\u001b[0;31m---------------------------------------------------------------------------\u001b[0m",
      "\u001b[0;31mAssertionError\u001b[0m                            Traceback (most recent call last)",
      "\u001b[0;32m/tmp/ipykernel_155/2290384793.py\u001b[0m in \u001b[0;36m<module>\u001b[0;34m\u001b[0m\n\u001b[1;32m     19\u001b[0m     \u001b[0mscipy_res\u001b[0m \u001b[0;34m=\u001b[0m \u001b[0mscipy_func\u001b[0m\u001b[0;34m(\u001b[0m\u001b[0mpoint\u001b[0m\u001b[0;34m)\u001b[0m\u001b[0;34m\u001b[0m\u001b[0;34m\u001b[0m\u001b[0m\n\u001b[1;32m     20\u001b[0m     \u001b[0mprint\u001b[0m\u001b[0;34m(\u001b[0m\u001b[0mcalculated\u001b[0m\u001b[0;34m,\u001b[0m \u001b[0mscipy_res\u001b[0m\u001b[0;34m)\u001b[0m\u001b[0;34m\u001b[0m\u001b[0;34m\u001b[0m\u001b[0m\n\u001b[0;32m---> 21\u001b[0;31m     \u001b[0maaae\u001b[0m\u001b[0;34m(\u001b[0m\u001b[0mcalculated\u001b[0m\u001b[0;34m,\u001b[0m \u001b[0mscipy_res\u001b[0m\u001b[0;34m)\u001b[0m\u001b[0;34m\u001b[0m\u001b[0;34m\u001b[0m\u001b[0m\n\u001b[0m",
      "    \u001b[0;31m[... skipping hidden 1 frame]\u001b[0m\n",
      "\u001b[0;32m~/miniconda3/envs/lcm/lib/python3.9/site-packages/numpy/testing/_private/utils.py\u001b[0m in \u001b[0;36massert_array_compare\u001b[0;34m(comparison, x, y, err_msg, verbose, header, precision, equal_nan, equal_inf)\u001b[0m\n\u001b[1;32m    842\u001b[0m                                 \u001b[0mverbose\u001b[0m\u001b[0;34m=\u001b[0m\u001b[0mverbose\u001b[0m\u001b[0;34m,\u001b[0m \u001b[0mheader\u001b[0m\u001b[0;34m=\u001b[0m\u001b[0mheader\u001b[0m\u001b[0;34m,\u001b[0m\u001b[0;34m\u001b[0m\u001b[0;34m\u001b[0m\u001b[0m\n\u001b[1;32m    843\u001b[0m                                 names=('x', 'y'), precision=precision)\n\u001b[0;32m--> 844\u001b[0;31m             \u001b[0;32mraise\u001b[0m \u001b[0mAssertionError\u001b[0m\u001b[0;34m(\u001b[0m\u001b[0mmsg\u001b[0m\u001b[0;34m)\u001b[0m\u001b[0;34m\u001b[0m\u001b[0;34m\u001b[0m\u001b[0m\n\u001b[0m\u001b[1;32m    845\u001b[0m     \u001b[0;32mexcept\u001b[0m \u001b[0mValueError\u001b[0m\u001b[0;34m:\u001b[0m\u001b[0;34m\u001b[0m\u001b[0;34m\u001b[0m\u001b[0m\n\u001b[1;32m    846\u001b[0m         \u001b[0;32mimport\u001b[0m \u001b[0mtraceback\u001b[0m\u001b[0;34m\u001b[0m\u001b[0;34m\u001b[0m\u001b[0m\n",
      "\u001b[0;31mAssertionError\u001b[0m: \nArrays are not almost equal to 6 decimals\n\nMismatched elements: 1 / 1 (100%)\nMax absolute difference: 10054.\nMax relative difference: 218.56521739\n x: array(10100.)\n y: array([46.])"
     ]
    }
   ],
   "source": [
    "    grid1 = np.array([1, 10, 100.0])\n",
    "    grid2 = np.array([1, 10, 100.0])\n",
    "\n",
    "    prod_grid = np.array(list(itertools.product(grid1, grid2)))\n",
    "    values = (prod_grid ** 2).sum(axis=1).reshape(3, 3)\n",
    "\n",
    "    points = np.array([[1,1], [2.5, 3.5], [2.1, 3.8], [2.7, 3.3]])\n",
    "\n",
    "    grid_info = [(\"linspace\", (1, 5, 5)), (\"linspace\", (2, 4, 3))]\n",
    "\n",
    "    for point in points:\n",
    "        calculated = linear_interpolation(\n",
    "            values=values, point=point, grid_info=grid_info,\n",
    "        )\n",
    "\n",
    "        scipy_func = RegularGridInterpolator(\n",
    "            points=(grid1, grid2), values=values, method=\"linear\"\n",
    "        )\n",
    "        scipy_res = scipy_func(point)\n",
    "        print(calculated, scipy_res)\n",
    "        aaae(calculated, scipy_res)"
   ]
  },
  {
   "cell_type": "code",
   "execution_count": 112,
   "id": "75cd90dc-40a3-4956-a632-a6aa3dbeefee",
   "metadata": {},
   "outputs": [
    {
     "data": {
      "text/plain": [
       "(array([  1.,  10., 100.]),\n",
       " array([  1.,  10., 100.]),\n",
       " array([[2.0000e+00, 1.0100e+02, 1.0001e+04],\n",
       "        [1.0100e+02, 2.0000e+02, 1.0100e+04],\n",
       "        [1.0001e+04, 1.0100e+04, 2.0000e+04]]))"
      ]
     },
     "execution_count": 112,
     "metadata": {},
     "output_type": "execute_result"
    }
   ],
   "source": [
    "grid1, grid2, values"
   ]
  },
  {
   "cell_type": "code",
   "execution_count": 127,
   "id": "4822d173-884e-484c-9f45-fe2f844bb318",
   "metadata": {},
   "outputs": [
    {
     "data": {
      "text/plain": [
       "51.5"
      ]
     },
     "execution_count": 127,
     "metadata": {},
     "output_type": "execute_result"
    }
   ],
   "source": [
    "(101 +2) / 2"
   ]
  },
  {
   "cell_type": "code",
   "execution_count": 130,
   "id": "fd7c8e05-5fb1-4981-afad-fa31e25d09ae",
   "metadata": {},
   "outputs": [
    {
     "name": "stdout",
     "output_type": "stream",
     "text": [
      "51.499999999999986 [51.5]\n",
      "200.0 [200.]\n",
      "113.09999999999998 [113.1]\n",
      "93.29999999999997 [93.3]\n",
      "21.8 [21.8]\n"
     ]
    }
   ],
   "source": [
    "    grid1 = np.logspace(np.log10(1), np.log10(100), 3)\n",
    "    grid2 = np.logspace(np.log10(1), np.log10(100), 3)\n",
    "\n",
    "    prod_grid = np.array(list(itertools.product(grid1, grid2)))\n",
    "    values = (prod_grid ** 2).sum(axis=1).reshape(3, 3)\n",
    "\n",
    "    points = np.array([[5.5, 1], [10, 10], [9.8, 2.3], [2.1, 8.2], [2.7, 1.1]])\n",
    "\n",
    "    grid_info = [(\"logspace\", (1, 100, 3)), (\"logspace\", (1, 100, 3))]\n",
    "\n",
    "    for point in points:\n",
    "        calculated = linear_interpolation(\n",
    "            values=values, point=point, grid_info=grid_info,\n",
    "        )\n",
    "        \n",
    "        scipy_func = RegularGridInterpolator(\n",
    "            points=(grid1, grid2), values=values, method=\"linear\"\n",
    "        )\n",
    "        scipy_res = scipy_func(point)\n",
    "        print(calculated, scipy_res)\n",
    "        aaae(calculated, scipy_res)"
   ]
  },
  {
   "cell_type": "code",
   "execution_count": 135,
   "id": "fd0ff7ca-c2cc-4b30-9418-2d2ca356e928",
   "metadata": {},
   "outputs": [
    {
     "data": {
      "text/plain": [
       "array([10., 11.])"
      ]
     },
     "execution_count": 135,
     "metadata": {},
     "output_type": "execute_result"
    }
   ],
   "source": [
    "grid4"
   ]
  },
  {
   "cell_type": "code",
   "execution_count": 144,
   "id": "7c1cb118-7f70-43cc-8c77-9a812c86f282",
   "metadata": {},
   "outputs": [
    {
     "name": "stdout",
     "output_type": "stream",
     "text": [
      "[1.         1.49534878 2.23606798 3.34370152 5.        ] [4.         4.82028453 5.80878573 7.        ] [7. 9.] [10. 11.] [3.         3.0974431  3.19805124 3.30192725 3.40917725 3.51991085\n",
      " 3.63424119 3.75228509 3.87416318 4.        ]\n",
      "[ 2.1  6.2  8.3 10.4  3. ]\n",
      "[ 5.       4.3      7.      10.99999  4.     ]\n",
      "[ 3.3  5.2  7.1 10.   3.6]\n"
     ]
    }
   ],
   "source": [
    "def f(a, b, c):\n",
    "    return 2 * a ** 3 + 3 * b ** 2 - c\n",
    "\n",
    "\n",
    "def g(a, b, c, d):\n",
    "    return f(a, b, c) - d\n",
    "\n",
    "def h(a, b, c, d, e):\n",
    "    return g(a, b, c, d) + e ** 5\n",
    "\n",
    "grid1 = np.logspace(np.log10(1), np.log10(5), 5)\n",
    "grid2 = np.logspace(np.log10(4), np.log10(7), 4)\n",
    "grid3 = np.logspace(np.log10(7), np.log10(9), 2)\n",
    "grid4 = np.logspace(np.log10(10), np.log10(11), 2)\n",
    "grid5 = np.logspace(np.log10(3), np.log10(4), 10)\n",
    "\n",
    "values = h(\n",
    "    *np.meshgrid(grid1, grid2, grid3, grid4, grid5, indexing=\"ij\", sparse=False)\n",
    ")\n",
    "print(grid1, grid2, grid3, grid4, grid5)\n",
    "points = np.array(\n",
    "    [[2.1, 6.2, 8.3, 10.4, 3], [5, 4.3, 7, 10.99999, 4], [3.3, 5.2, 7.1, 10, 3.6]]\n",
    ")\n",
    "\n",
    "grid_info = [\n",
    "    (\"logspace\", (1, 5, 5)),\n",
    "    (\"logspace\", (4, 7, 4)),\n",
    "    (\"logspace\", (7, 9, 2)),\n",
    "    (\"logspace\", (10, 11, 2)),\n",
    "    (\"logspace\", (3, 4, 10)),\n",
    "]\n",
    "\n",
    "for point in points:\n",
    "    print(point)\n",
    "    calculated = linear_interpolation(\n",
    "        values=values, point=point, grid_info=grid_info,\n",
    "    )\n",
    "    scipy_func = RegularGridInterpolator(\n",
    "        points=(grid1, grid2, grid3, grid4, grid5), values=values, method=\"linear\"\n",
    "    )\n",
    "    scipy_res = scipy_func(point)\n",
    "    aaae(calculated, scipy_res)\n"
   ]
  },
  {
   "cell_type": "code",
   "execution_count": 76,
   "id": "9b7b368c-271b-4acc-b0a9-7637f0fdcd12",
   "metadata": {},
   "outputs": [
    {
     "name": "stdout",
     "output_type": "stream",
     "text": [
      "0.0 4.605170185988092 0.0\n",
      "1 100 1.0\n",
      "0.0\n",
      "1.0 2.0\n",
      "0.0 4.605170185988092 0.0\n",
      "1 100 1.0\n",
      "0.0\n",
      "1.0 2.0\n",
      "[1. 1.]\n",
      "[1. 1.] 200.0 [2.]\n",
      "0.0 4.605170185988092 2.302585092994046\n",
      "1 100 10.0\n",
      "1.0\n",
      "10.000000000000002 11.000000000000002\n",
      "0.0 4.605170185988092 2.302585092994046\n",
      "1 100 10.0\n",
      "1.0\n",
      "10.000000000000002 11.000000000000002\n",
      "[10. 10.]\n",
      "[10. 10.] 20000.0 [200.]\n",
      "0.0 4.605170185988092 0.9932517730102834\n",
      "1 100 2.7\n",
      "0.4313637641589873\n",
      "1.0 2.0\n",
      "0.0 4.605170185988092 0.09531017980432493\n",
      "1 100 1.1\n",
      "0.04139268515822507\n",
      "1.0 2.0\n",
      "[2.7 1.1]\n",
      "[2.7 1.1] 11090.0 [21.8]\n",
      "[  1.  10. 100.] [  1.  10. 100.]\n",
      "[[2.0000e+00 1.0100e+02 1.0001e+04]\n",
      " [1.0100e+02 2.0000e+02 1.0100e+04]\n",
      " [1.0001e+04 1.0100e+04 2.0000e+04]]\n"
     ]
    }
   ],
   "source": [
    "    grid1 = np.logspace(np.log10(1), np.log10(100), 3)\n",
    "    grid2 = np.logspace(np.log10(1), np.log10(100), 3)\n",
    "\n",
    "    prod_grid = np.array(list(itertools.product(grid1, grid2)))\n",
    "    values = (prod_grid ** 2).sum(axis=1).reshape(3, 3)\n",
    "\n",
    "    points = np.array([[1, 1], [10, 10], [2.7, 1.1]])\n",
    "\n",
    "    grid_info = [(\"logspace\", (1, 100, 3)), (\"logspace\", (1, 100, 3))]\n",
    "\n",
    "    for point in points:\n",
    "        calculated = linear_interpolation(\n",
    "            values=values, point=point, grid_info=grid_info,\n",
    "        )\n",
    "\n",
    "        scipy_func = RegularGridInterpolator(\n",
    "            points=(grid1, grid2), values=values, method=\"linear\"\n",
    "        )\n",
    "        scipy_res = scipy_func(point)\n",
    "        print(point, calculated, scipy_res)\n",
    "    print(grid1, grid2)\n",
    "    print(values)"
   ]
  },
  {
   "cell_type": "code",
   "execution_count": 48,
   "id": "1d067e54-a14f-40c3-bcf9-1c1f89c53c31",
   "metadata": {},
   "outputs": [
    {
     "data": {
      "text/plain": [
       "DeviceArray([  1.        ,   2.15443469,   4.64158883,  10.        ,\n",
       "              21.5443469 ,  46.41588834, 100.        ], dtype=float64)"
      ]
     },
     "execution_count": 48,
     "metadata": {},
     "output_type": "execute_result"
    }
   ],
   "source": [
    "logspace(1, 100, 7)"
   ]
  },
  {
   "cell_type": "code",
   "execution_count": 49,
   "id": "c179df37-994f-4685-a280-e80a1f50b25d",
   "metadata": {},
   "outputs": [
    {
     "data": {
      "text/plain": [
       "(DeviceArray(3., dtype=float64), DeviceArray(4., dtype=float64))"
      ]
     },
     "execution_count": 49,
     "metadata": {},
     "output_type": "execute_result"
    }
   ],
   "source": [
    "jnp.floor(3.01), jnp.ceil(3.01)"
   ]
  },
  {
   "cell_type": "code",
   "execution_count": 242,
   "id": "b1220277-fd53-4500-8792-4c0e5525c3f2",
   "metadata": {},
   "outputs": [
    {
     "name": "stdout",
     "output_type": "stream",
     "text": [
      "10.0\n",
      "10.000000000000002 10.000000000000002\n"
     ]
    },
    {
     "data": {
      "text/plain": [
       "(DeviceArray(10., dtype=float64),\n",
       " DeviceArray(10., dtype=float64),\n",
       " DeviceArray(10., dtype=float64))"
      ]
     },
     "execution_count": 242,
     "metadata": {},
     "output_type": "execute_result"
    }
   ],
   "source": [
    "get_logspace_coordinate(10, 1, 10, 11), get_logspace_coordinate1(10, 1, 10, 11), get_logspace_coordinate2(10, 1, 10, 11)"
   ]
  },
  {
   "cell_type": "code",
   "execution_count": null,
   "id": "d4cddc12-018e-42b1-aaf8-dc492d902836",
   "metadata": {},
   "outputs": [],
   "source": []
  },
  {
   "cell_type": "code",
   "execution_count": 118,
   "id": "ce694682-629f-472d-9470-51840900878e",
   "metadata": {},
   "outputs": [
    {
     "data": {
      "text/plain": [
       "DeviceArray(3.01029996, dtype=float64)"
      ]
     },
     "execution_count": 118,
     "metadata": {},
     "output_type": "execute_result"
    }
   ],
   "source": [
    "get_logspace_coordinate(2, 1, 10, 11)"
   ]
  },
  {
   "cell_type": "code",
   "execution_count": 117,
   "id": "7d391bae-8c6f-476d-afca-21efdd5a0d8f",
   "metadata": {},
   "outputs": [
    {
     "name": "stdout",
     "output_type": "stream",
     "text": [
      "0.0 2.302585092994046 2.1972245773362196\n",
      "9.542425094393248\n"
     ]
    }
   ],
   "source": [
    "get_logspace_coordinate_2(9, 1, 10, 11)"
   ]
  },
  {
   "cell_type": "code",
   "execution_count": 68,
   "id": "6cd5229a-aac3-4117-a637-387eaff74030",
   "metadata": {},
   "outputs": [
    {
     "name": "stdout",
     "output_type": "stream",
     "text": [
      "[9. 1.]\n",
      "[87.83772234] 110.00000000000004\n"
     ]
    },
    {
     "ename": "AssertionError",
     "evalue": "\nArrays are not almost equal to 6 decimals\n\nMismatched elements: 1 / 1 (100%)\nMax absolute difference: 22.16227766\nMax relative difference: 0.25230934\n x: array(110.)\n y: array([87.837722])",
     "output_type": "error",
     "traceback": [
      "\u001b[0;31m---------------------------------------------------------------------------\u001b[0m",
      "\u001b[0;31mAssertionError\u001b[0m                            Traceback (most recent call last)",
      "\u001b[0;32m/tmp/ipykernel_155/152570643.py\u001b[0m in \u001b[0;36m<module>\u001b[0;34m\u001b[0m\n\u001b[1;32m     21\u001b[0m     \u001b[0mscipy_res\u001b[0m \u001b[0;34m=\u001b[0m \u001b[0mscipy_func\u001b[0m\u001b[0;34m(\u001b[0m\u001b[0mpoint\u001b[0m\u001b[0;34m)\u001b[0m\u001b[0;34m\u001b[0m\u001b[0;34m\u001b[0m\u001b[0m\n\u001b[1;32m     22\u001b[0m     \u001b[0mprint\u001b[0m\u001b[0;34m(\u001b[0m\u001b[0mscipy_res\u001b[0m\u001b[0;34m,\u001b[0m \u001b[0mcalculated\u001b[0m\u001b[0;34m)\u001b[0m\u001b[0;34m\u001b[0m\u001b[0;34m\u001b[0m\u001b[0m\n\u001b[0;32m---> 23\u001b[0;31m     \u001b[0maaae\u001b[0m\u001b[0;34m(\u001b[0m\u001b[0mcalculated\u001b[0m\u001b[0;34m,\u001b[0m \u001b[0mscipy_res\u001b[0m\u001b[0;34m)\u001b[0m\u001b[0;34m\u001b[0m\u001b[0;34m\u001b[0m\u001b[0m\n\u001b[0m",
      "    \u001b[0;31m[... skipping hidden 1 frame]\u001b[0m\n",
      "\u001b[0;32m~/miniconda3/envs/lcm/lib/python3.9/site-packages/numpy/testing/_private/utils.py\u001b[0m in \u001b[0;36massert_array_compare\u001b[0;34m(comparison, x, y, err_msg, verbose, header, precision, equal_nan, equal_inf)\u001b[0m\n\u001b[1;32m    842\u001b[0m                                 \u001b[0mverbose\u001b[0m\u001b[0;34m=\u001b[0m\u001b[0mverbose\u001b[0m\u001b[0;34m,\u001b[0m \u001b[0mheader\u001b[0m\u001b[0;34m=\u001b[0m\u001b[0mheader\u001b[0m\u001b[0;34m,\u001b[0m\u001b[0;34m\u001b[0m\u001b[0;34m\u001b[0m\u001b[0m\n\u001b[1;32m    843\u001b[0m                                 names=('x', 'y'), precision=precision)\n\u001b[0;32m--> 844\u001b[0;31m             \u001b[0;32mraise\u001b[0m \u001b[0mAssertionError\u001b[0m\u001b[0;34m(\u001b[0m\u001b[0mmsg\u001b[0m\u001b[0;34m)\u001b[0m\u001b[0;34m\u001b[0m\u001b[0;34m\u001b[0m\u001b[0m\n\u001b[0m\u001b[1;32m    845\u001b[0m     \u001b[0;32mexcept\u001b[0m \u001b[0mValueError\u001b[0m\u001b[0;34m:\u001b[0m\u001b[0;34m\u001b[0m\u001b[0;34m\u001b[0m\u001b[0m\n\u001b[1;32m    846\u001b[0m         \u001b[0;32mimport\u001b[0m \u001b[0mtraceback\u001b[0m\u001b[0;34m\u001b[0m\u001b[0;34m\u001b[0m\u001b[0m\n",
      "\u001b[0;31mAssertionError\u001b[0m: \nArrays are not almost equal to 6 decimals\n\nMismatched elements: 1 / 1 (100%)\nMax absolute difference: 22.16227766\nMax relative difference: 0.25230934\n x: array(110.)\n y: array([87.837722])"
     ]
    }
   ],
   "source": [
    "grid1 = logspace(1, 10, 3)\n",
    "grid2 = logspace(1, 10, 3)\n",
    "\n",
    "prod_grid = np.array(list(itertools.product(grid1, grid2)))\n",
    "values = (prod_grid ** 2).sum(axis=1).reshape(3, 3)\n",
    "\n",
    "points = np.array([[9, 1], [2.1, 1], [2.7, 1]])\n",
    "\n",
    "grid_info = [(\"logspace\", (1, 10, 3)), (\"logspace\", (1, 10, 3))]\n",
    "\n",
    "for point in points:\n",
    "    calculated = linear_interpolation(\n",
    "        values=values,\n",
    "        point=point,\n",
    "        grid_info=grid_info,\n",
    "    )\n",
    "\n",
    "    scipy_func = RegularGridInterpolator(\n",
    "        points=(grid1, grid2), values=values, method=\"linear\"\n",
    "    )\n",
    "    scipy_res = scipy_func(point)\n",
    "    print(scipy_res, calculated)\n",
    "    aaae(calculated, scipy_res)"
   ]
  },
  {
   "cell_type": "code",
   "execution_count": 139,
   "id": "bbb64a66-6ca8-4730-97d0-3ec9a03a2a8b",
   "metadata": {},
   "outputs": [
    {
     "data": {
      "text/plain": [
       "array([[  2.        ,  11.        , 101.        ],\n",
       "       [  2.58489319,  11.58489319, 101.58489319],\n",
       "       [  3.51188643,  12.51188643, 102.51188643],\n",
       "       [  4.98107171,  13.98107171, 103.98107171],\n",
       "       [  7.30957344,  16.30957344, 106.30957344],\n",
       "       [ 11.        ,  20.        , 110.        ],\n",
       "       [ 16.84893192,  25.84893192, 115.84893192],\n",
       "       [ 26.11886432,  35.11886432, 125.11886432],\n",
       "       [ 40.81071706,  49.81071706, 139.81071706],\n",
       "       [ 64.09573445,  73.09573445, 163.09573445],\n",
       "       [101.        , 110.        , 200.        ]])"
      ]
     },
     "execution_count": 139,
     "metadata": {},
     "output_type": "execute_result"
    }
   ],
   "source": [
    "values"
   ]
  },
  {
   "cell_type": "code",
   "execution_count": 121,
   "id": "04698846-657e-403d-946f-8bef17a4b3a4",
   "metadata": {},
   "outputs": [
    {
     "ename": "ValueError",
     "evalue": "There are 11 point arrays, but values has 1 dimensions",
     "output_type": "error",
     "traceback": [
      "\u001b[0;31m---------------------------------------------------------------------------\u001b[0m",
      "\u001b[0;31mValueError\u001b[0m                                Traceback (most recent call last)",
      "\u001b[0;32m/tmp/ipykernel_5028/3886118369.py\u001b[0m in \u001b[0;36m<module>\u001b[0;34m\u001b[0m\n\u001b[1;32m     14\u001b[0m     )\n\u001b[1;32m     15\u001b[0m \u001b[0;34m\u001b[0m\u001b[0m\n\u001b[0;32m---> 16\u001b[0;31m     scipy_func = RegularGridInterpolator(\n\u001b[0m\u001b[1;32m     17\u001b[0m         \u001b[0mpoints\u001b[0m\u001b[0;34m=\u001b[0m\u001b[0mgrid1\u001b[0m\u001b[0;34m,\u001b[0m \u001b[0mvalues\u001b[0m\u001b[0;34m=\u001b[0m\u001b[0mvalues\u001b[0m\u001b[0;34m,\u001b[0m \u001b[0mmethod\u001b[0m\u001b[0;34m=\u001b[0m\u001b[0;34m\"linear\"\u001b[0m\u001b[0;34m\u001b[0m\u001b[0;34m\u001b[0m\u001b[0m\n\u001b[1;32m     18\u001b[0m     )\n",
      "\u001b[0;32m~/miniconda3/envs/lcm/lib/python3.9/site-packages/scipy/interpolate/interpolate.py\u001b[0m in \u001b[0;36m__init__\u001b[0;34m(self, points, values, method, bounds_error, fill_value)\u001b[0m\n\u001b[1;32m   2454\u001b[0m \u001b[0;34m\u001b[0m\u001b[0m\n\u001b[1;32m   2455\u001b[0m         \u001b[0;32mif\u001b[0m \u001b[0mlen\u001b[0m\u001b[0;34m(\u001b[0m\u001b[0mpoints\u001b[0m\u001b[0;34m)\u001b[0m \u001b[0;34m>\u001b[0m \u001b[0mvalues\u001b[0m\u001b[0;34m.\u001b[0m\u001b[0mndim\u001b[0m\u001b[0;34m:\u001b[0m\u001b[0;34m\u001b[0m\u001b[0;34m\u001b[0m\u001b[0m\n\u001b[0;32m-> 2456\u001b[0;31m             raise ValueError(\"There are %d point arrays, but values has %d \"\n\u001b[0m\u001b[1;32m   2457\u001b[0m                              \"dimensions\" % (len(points), values.ndim))\n\u001b[1;32m   2458\u001b[0m \u001b[0;34m\u001b[0m\u001b[0m\n",
      "\u001b[0;31mValueError\u001b[0m: There are 11 point arrays, but values has 1 dimensions"
     ]
    }
   ],
   "source": [
    "grid1 = logspace(1, 10, 11)\n",
    "\n",
    "values = (grid1 ** 2)\n",
    "\n",
    "points = np.array([[2.5], [2.1], [2.7]])\n",
    "\n",
    "grid_info = [(\"logspace\", (1, 10, 11))]\n",
    "\n",
    "for point in points:\n",
    "    calculated = linear_interpolation(\n",
    "       values=values,\n",
    "       point=point,\n",
    "       grid_info=grid_info,\n",
    "    )\n",
    "\n",
    "    scipy_func = RegularGridInterpolator(\n",
    "        points=(grid1, grid2), values=values, method=\"linear\"\n",
    "    )\n",
    "    scipy_res = scipy_func(point)\n",
    "    print(scipy_res)\n",
    "    #aaae(calculated, scipy_res)"
   ]
  },
  {
   "cell_type": "code",
   "execution_count": 36,
   "id": "3332834d-8a2c-4e91-923c-38b2608afa9f",
   "metadata": {},
   "outputs": [
    {
     "data": {
      "text/plain": [
       "array([[1.010000e+02, 1.000100e+04, 1.000001e+06],\n",
       "       [2.000000e+02, 1.010000e+04, 1.000100e+06],\n",
       "       [1.010000e+04, 2.000000e+04, 1.010000e+06],\n",
       "       [1.000100e+06, 1.010000e+06, 2.000000e+06],\n",
       "       [1.000001e+08, 1.000100e+08, 1.010000e+08]])"
      ]
     },
     "execution_count": 36,
     "metadata": {},
     "output_type": "execute_result"
    }
   ],
   "source": [
    "values"
   ]
  },
  {
   "cell_type": "code",
   "execution_count": 41,
   "id": "4904dcda-1dc5-4f11-89ce-c7d1992a43b3",
   "metadata": {},
   "outputs": [
    {
     "name": "stdout",
     "output_type": "stream",
     "text": [
      "[[   11.   101.  1001.]\n",
      " [   20.   110.  1010.]\n",
      " [  110.   200.  1100.]\n",
      " [ 1010.  1100.  2000.]\n",
      " [10010. 10100. 11000.]]\n",
      "[15.5]\n",
      "[40.1]\n",
      "[35.7]\n"
     ]
    }
   ],
   "source": [
    "grid1 = np.array([1, 10, 100, 1000, 10000.0])\n",
    "grid2 = np.array([10, 100, 1000.0])\n",
    "\n",
    "def f(a, b):\n",
    "    return a + b\n",
    "values = f(*np.meshgrid(grid1, grid2, indexing=\"ij\", sparse=False))\n",
    "print(values)\n",
    "\n",
    "prod_grid = np.array(list(itertools.product(grid1, grid2)))\n",
    "#values = (prod_grid ** 2).sum(axis=1).reshape(5, 3)\n",
    "\n",
    "points = np.array([[5.5, 10], [2.1, 38], [2.7, 33]])\n",
    "\n",
    "grid_info = [(\"logspace\", (1, 5, 5)), (\"logspace\", (2, 4, 3))]\n",
    "\n",
    "for point in points:\n",
    "    #calculated = linear_interpolation(\n",
    "    #    values=values,\n",
    "    #    point=point,\n",
    "    #    grid_info=grid_info,\n",
    "    #)\n",
    "\n",
    "    scipy_func = RegularGridInterpolator(\n",
    "        points=(grid1, grid2), values=values, method=\"linear\"\n",
    "    )\n",
    "    scipy_res = scipy_func(point)\n",
    "    print(scipy_res)\n",
    "    #aaae(calculated, scipy_res)"
   ]
  },
  {
   "cell_type": "code",
   "execution_count": 31,
   "id": "3e90de0d-ce0a-4ac9-a13a-3efbb1ee4a2f",
   "metadata": {},
   "outputs": [
    {
     "name": "stdout",
     "output_type": "stream",
     "text": [
      "[19.]\n",
      "[19.1]\n",
      "[18.6]\n"
     ]
    }
   ],
   "source": [
    "grid1 = np.array([1, 2, 3, 4, 5.0])\n",
    "grid2 = np.array([2, 3, 4.0])\n",
    "\n",
    "prod_grid = np.array(list(itertools.product(grid1, grid2)))\n",
    "values = (prod_grid ** 2).sum(axis=1).reshape(5, 3)\n",
    "\n",
    "points = np.array([[2.5, 3.5], [2.1, 3.8], [2.7, 3.3]])\n",
    "\n",
    "grid_info = [(\"logspace\", (1, 5, 5)), (\"logspace\", (2, 4, 3))]\n",
    "\n",
    "for point in points:\n",
    "    #calculated = linear_interpolation(\n",
    "    #    values=values,\n",
    "    #    point=point,\n",
    "    #    grid_info=grid_info,\n",
    "    #)\n",
    "\n",
    "    scipy_func = RegularGridInterpolator(\n",
    "        points=(grid1, grid2), values=values, method=\"linear\"\n",
    "    )\n",
    "    scipy_res = scipy_func(point)\n",
    "    print(scipy_res)\n",
    "    #aaae(calculated, scipy_res)"
   ]
  },
  {
   "cell_type": "code",
   "execution_count": 14,
   "id": "d7a82ba1-6ddc-41ab-9c5e-a91172f548cd",
   "metadata": {},
   "outputs": [],
   "source": [
    "def test_linear_interpolation_2d():\n",
    "    grid1 = np.array([1, 2, 3, 4, 5.0])\n",
    "    grid2 = np.array([2, 3, 4.0])\n",
    "\n",
    "    prod_grid = np.array(list(itertools.product(grid1, grid2)))\n",
    "    values = (prod_grid ** 2).sum(axis=1).reshape(5, 3)\n",
    "\n",
    "    points = np.array([[2.5, 3.5], [2.1, 3.8], [2.7, 3.3]])\n",
    "\n",
    "    grid_info = [(\"logspace\", (1, 5, 5)), (\"logspace\", (2, 4, 3))]\n",
    "\n",
    "    for point in points:\n",
    "        calculated = linear_interpolation(\n",
    "            values=values,\n",
    "            point=point,\n",
    "            grid_info=grid_info,\n",
    "        )\n",
    "\n",
    "        scipy_func = RegularGridInterpolator(\n",
    "            points=(grid1, grid2), values=values, method=\"linear\"\n",
    "        )\n",
    "        scipy_res = scipy_func(point)\n",
    "\n",
    "        aaae(calculated, scipy_res)"
   ]
  },
  {
   "cell_type": "code",
   "execution_count": 15,
   "id": "4c5393f9-c6e3-472e-a720-7b84cdd89539",
   "metadata": {},
   "outputs": [],
   "source": [
    "test_linear_interpolation_2d()"
   ]
  },
  {
   "cell_type": "code",
   "execution_count": null,
   "id": "1c31af18",
   "metadata": {},
   "outputs": [],
   "source": [
    "def linear_linspace_interpolation(values, point, starts, step_lengths):\n",
    "    \"\"\"Specialized version of linear interpolation to linspaces.\n",
    "    \n",
    "    This is meant as a comparison to check that the dynamic function\n",
    "    calling doest not cause any performance penalty.\n",
    "    \n",
    "    \"\"\"\n",
    "    mapped_point = (point - starts) / step_lengths\n",
    "\n",
    "    res = map_coordinates(\n",
    "        input=values,\n",
    "        coordinates=mapped_point,\n",
    "        order=1,\n",
    "        mode=\"nearest\"\n",
    "    )\n",
    "\n",
    "    return res"
   ]
  },
  {
   "cell_type": "markdown",
   "id": "adc65243",
   "metadata": {},
   "source": [
    "## 1d Benchmarks"
   ]
  },
  {
   "cell_type": "code",
   "execution_count": 70,
   "id": "86f352f5",
   "metadata": {},
   "outputs": [],
   "source": [
    "def get_1d_inputs(n_grid=1000, n_inter=10_000, target=\"jax_linspace\"):\n",
    "    np.random.seed(1234)\n",
    "    grid = np.linspace(1, 5, n_grid)\n",
    "    values = grid ** 1.1 + np.sin(grid)\n",
    "    points = np.linspace(1, 4, n_inter)\n",
    "    np.random.shuffle(points)\n",
    "    \n",
    "    if target == \"jax_linspace\":\n",
    "        vmapped = vmap(linear_linspace_interpolation, in_axes=(None, 0, None, None))\n",
    "        func = jit(vmapped)\n",
    "        args = (\n",
    "            jnp.array(values), \n",
    "            jnp.array(points.reshape(-1, 1)), \n",
    "            jnp.array([1.]), grid[1] - grid[0]\n",
    "        )\n",
    "    \n",
    "    elif target == \"jax\":\n",
    "        vmapped = vmap(linear_interpolation, in_axes=(None, 0, None))\n",
    "        func = jit(vmapped, static_argnums=2)\n",
    "        grid_info = ((\"linspace\", (1, 5, n_grid)),)\n",
    "        args = (\n",
    "            jnp.array(values), \n",
    "            jnp.array(points.reshape(-1, 1)), \n",
    "            grid_info)\n",
    "    elif target == \"scipy\":\n",
    "        func = interp1d(grid, values)\n",
    "        args = (points,)\n",
    "    else:\n",
    "        raise ValueError()\n",
    "        \n",
    "    return func, args\n",
    "\n",
    "\n",
    "def get_1d_runtime(n_grid=1000, n_inter=10_000, target=\"jax_linespace\"):\n",
    "    func, args = get_1d_inputs(n_grid, n_inter, target)\n",
    "    # firs evaluation for jit overhead\n",
    "    func(*args)\n",
    "    timeit_res = %timeit -o func(*args)\n",
    "    runtime = timeit_res.average\n",
    "    return runtime"
   ]
  },
  {
   "cell_type": "code",
   "execution_count": 71,
   "id": "46e61c87",
   "metadata": {},
   "outputs": [
    {
     "name": "stdout",
     "output_type": "stream",
     "text": [
      "607 µs ± 2.44 µs per loop (mean ± std. dev. of 7 runs, 1000 loops each)\n"
     ]
    }
   ],
   "source": [
    "func, args = get_1d_inputs(target=\"scipy\")\n",
    "%timeit func(*args)\n",
    "scipy_res = func(*args)"
   ]
  },
  {
   "cell_type": "code",
   "execution_count": 72,
   "id": "8f9062cb",
   "metadata": {},
   "outputs": [
    {
     "name": "stdout",
     "output_type": "stream",
     "text": [
      "27.5 µs ± 408 ns per loop (mean ± std. dev. of 7 runs, 10000 loops each)\n"
     ]
    }
   ],
   "source": [
    "func, args = get_1d_inputs(target=\"jax_linspace\")\n",
    "%timeit func(*args).block_until_ready()\n",
    "linspace_res = func(*args)"
   ]
  },
  {
   "cell_type": "code",
   "execution_count": 73,
   "id": "55bc8605",
   "metadata": {},
   "outputs": [
    {
     "name": "stdout",
     "output_type": "stream",
     "text": [
      "155 µs ± 4.19 µs per loop (mean ± std. dev. of 7 runs, 10000 loops each)\n"
     ]
    }
   ],
   "source": [
    "func, args = get_1d_inputs(target=\"jax\")\n",
    "%timeit func(*args).block_until_ready()\n",
    "jax_res = func(*args)"
   ]
  },
  {
   "cell_type": "code",
   "execution_count": null,
   "id": "62bb0133",
   "metadata": {},
   "outputs": [],
   "source": [
    "aaae(scipy_res, linspace_res)\n",
    "aaae(scipy_res, jax_res)"
   ]
  },
  {
   "cell_type": "markdown",
   "id": "e6f839d8-58a9-4465-91be-bbafc26f1aed",
   "metadata": {},
   "source": [
    "# Sandbox"
   ]
  },
  {
   "cell_type": "markdown",
   "id": "b68b9fbc-cd07-4fca-85dd-b5dd605c7097",
   "metadata": {},
   "source": [
    "Janos' idea: constant growth of the differences"
   ]
  },
  {
   "cell_type": "code",
   "execution_count": 33,
   "id": "42328250-8901-44f8-bcf9-82367f8a24f8",
   "metadata": {},
   "outputs": [
    {
     "data": {
      "text/plain": [
       "[<matplotlib.lines.Line2D at 0x7f51a5aa49d0>]"
      ]
     },
     "execution_count": 33,
     "metadata": {},
     "output_type": "execute_result"
    },
    {
     "data": {
      "image/png": "[encoded data removed]",
      "text/plain": [
       "<Figure size 432x288 with 1 Axes>"
      ]
     },
     "metadata": {
      "needs_background": "light"
     },
     "output_type": "display_data"
    }
   ],
   "source": [
    "import matplotlib.pyplot as plt\n",
    "x = np.linspace(0, 5, 1000)\n",
    "y_exp = np.exp(x)\n",
    "y_bas2 = 2 ** x + 10\n",
    "plt.plot(x, y_exp)\n",
    "plt.plot(x, y_bas2)"
   ]
  },
  {
   "cell_type": "code",
   "execution_count": 34,
   "id": "1cf8946b-76ed-49e2-963d-5e44724876f1",
   "metadata": {},
   "outputs": [
    {
     "data": {
      "text/plain": [
       "array([11.        , 11.00347523, 11.00696254, 11.01046196, 11.01397355,\n",
       "       11.01749734, 11.02103338, 11.0245817 , 11.02814236, 11.03171539,\n",
       "       11.03530084, 11.03889875, 11.04250916, 11.04613212, 11.04976767,\n",
       "       11.05341585, 11.05707671, 11.0607503 , 11.06443665, 11.06813581,\n",
       "       11.07184783, 11.07557275, 11.07931061, 11.08306146, 11.08682535,\n",
       "       11.09060232, 11.09439241, 11.09819568, 11.10201216, 11.1058419 ,\n",
       "       11.10968496, 11.11354137, 11.11741118, 11.12129444, 11.1251912 ,\n",
       "       11.12910149, 11.13302538, 11.13696291, 11.14091411, 11.14487905,\n",
       "       11.14885777, 11.15285031, 11.15685673, 11.16087708, 11.16491139,\n",
       "       11.16895973, 11.17302213, 11.17709865, 11.18118934, 11.18529424,\n",
       "       11.18941341, 11.1935469 , 11.19769475, 11.20185701, 11.20603374,\n",
       "       11.21022499, 11.2144308 , 11.21865122, 11.22288631, 11.22713613,\n",
       "       11.23140071, 11.23568011, 11.23997438, 11.24428357, 11.24860775,\n",
       "       11.25294694, 11.25730122, 11.26167063, 11.26605523, 11.27045506,\n",
       "       11.27487018, 11.27930065, 11.28374652, 11.28820783, 11.29268465,\n",
       "       11.29717702, 11.30168501, 11.30620867, 11.31074804, 11.31530319,\n",
       "       11.31987417, 11.32446104, 11.32906385, 11.33368265, 11.3383175 ,\n",
       "       11.34296846, 11.34763559, 11.35231893, 11.35701855, 11.3617345 ,\n",
       "       11.36646684, 11.37121563, 11.37598092, 11.38076277, 11.38556123,\n",
       "       11.39037638, 11.39520825, 11.40005692, 11.40492244, 11.40980487,\n",
       "       11.41470427, 11.41962069, 11.4245542 , 11.42950485, 11.43447271,\n",
       "       11.43945783, 11.44446028, 11.44948011, 11.45451739, 11.45957217,\n",
       "       11.46464452, 11.46973449, 11.47484216, 11.47996757, 11.4851108 ,\n",
       "       11.4902719 , 11.49545094, 11.50064797, 11.50586307, 11.51109629,\n",
       "       11.5163477 , 11.52161735, 11.52690532, 11.53221167, 11.53753646,\n",
       "       11.54287975, 11.54824161, 11.55362211, 11.5590213 , 11.56443926,\n",
       "       11.56987605, 11.57533172, 11.58080636, 11.58630003, 11.59181279,\n",
       "       11.5973447 , 11.60289584, 11.60846627, 11.61405606, 11.61966528,\n",
       "       11.62529399, 11.63094226, 11.63661016, 11.64229775, 11.64800512,\n",
       "       11.65373231, 11.65947941, 11.66524648, 11.6710336 , 11.67684082,\n",
       "       11.68266823, 11.68851589, 11.69438387, 11.70027224, 11.70618108,\n",
       "       11.71211045, 11.71806043, 11.72403108, 11.73002249, 11.73603471,\n",
       "       11.74206783, 11.74812192, 11.75419704, 11.76029328, 11.76641071,\n",
       "       11.77254939, 11.7787094 , 11.78489083, 11.79109373, 11.7973182 ,\n",
       "       11.80356429, 11.80983209, 11.81612167, 11.82243311, 11.82876649,\n",
       "       11.83512187, 11.84149934, 11.84789897, 11.85432085, 11.86076504,\n",
       "       11.86723162, 11.87372068, 11.88023229, 11.88676653, 11.89332348,\n",
       "       11.89990321, 11.90650581, 11.91313136, 11.91977993, 11.92645161,\n",
       "       11.93314647, 11.9398646 , 11.94660607, 11.95337098, 11.96015939,\n",
       "       11.96697139, 11.97380707, 11.9806665 , 11.98754978, 11.99445697,\n",
       "       12.00138816, 12.00834345, 12.0153229 , 12.02232661, 12.02935466,\n",
       "       12.03640714, 12.04348412, 12.0505857 , 12.05771195, 12.06486297,\n",
       "       12.07203885, 12.07923966, 12.08646549, 12.09371644, 12.10099259,\n",
       "       12.10829402, 12.11562082, 12.12297309, 12.13035091, 12.13775437,\n",
       "       12.14518356, 12.15263856, 12.16011948, 12.16762639, 12.17515939,\n",
       "       12.18271857, 12.19030402, 12.19791583, 12.20555409, 12.2132189 ,\n",
       "       12.22091034, 12.22862851, 12.23637351, 12.24414542, 12.25194434,\n",
       "       12.25977037, 12.26762359, 12.2755041 , 12.283412  , 12.29134738,\n",
       "       12.29931034, 12.30730097, 12.31531937, 12.32336564, 12.33143987,\n",
       "       12.33954216, 12.3476726 , 12.35583131, 12.36401836, 12.37223387,\n",
       "       12.38047793, 12.38875063, 12.39705209, 12.4053824 , 12.41374165,\n",
       "       12.42212996, 12.43054742, 12.43899413, 12.4474702 , 12.45597572,\n",
       "       12.4645108 , 12.47307554, 12.48167004, 12.49029442, 12.49894876,\n",
       "       12.50763318, 12.51634779, 12.52509267, 12.53386795, 12.54267372,\n",
       "       12.5515101 , 12.56037718, 12.56927508, 12.5782039 , 12.58716375,\n",
       "       12.59615474, 12.60517698, 12.61423056, 12.62331562, 12.63243224,\n",
       "       12.64158055, 12.65076065, 12.65997265, 12.66921667, 12.67849281,\n",
       "       12.68780118, 12.69714191, 12.7065151 , 12.71592086, 12.72535931,\n",
       "       12.73483056, 12.74433472, 12.75387192, 12.76344226, 12.77304585,\n",
       "       12.78268282, 12.79235329, 12.80205736, 12.81179515, 12.82156678,\n",
       "       12.83137238, 12.84121204, 12.85108591, 12.86099409, 12.8709367 ,\n",
       "       12.88091386, 12.8909257 , 12.90097233, 12.91105388, 12.92117046,\n",
       "       12.9313222 , 12.94150922, 12.95173164, 12.96198958, 12.97228318,\n",
       "       12.98261254, 12.99297781, 13.00337909, 13.01381653, 13.02429023,\n",
       "       13.03480033, 13.04534696, 13.05593024, 13.0665503 , 13.07720727,\n",
       "       13.08790127, 13.09863244, 13.1094009 , 13.12020678, 13.13105022,\n",
       "       13.14193133, 13.15285027, 13.16380715, 13.1748021 , 13.18583527,\n",
       "       13.19690678, 13.20801677, 13.21916536, 13.2303527 , 13.24157892,\n",
       "       13.25284415, 13.26414853, 13.2754922 , 13.28687528, 13.29829793,\n",
       "       13.30976027, 13.32126245, 13.3328046 , 13.34438686, 13.35600938,\n",
       "       13.36767228, 13.37937572, 13.39111982, 13.40290474, 13.41473062,\n",
       "       13.42659759, 13.43850581, 13.4504554 , 13.46244653, 13.47447933,\n",
       "       13.48655394, 13.49867052, 13.5108292 , 13.52303014, 13.53527348,\n",
       "       13.54755937, 13.55988795, 13.57225938, 13.5846738 , 13.59713137,\n",
       "       13.60963222, 13.62217652, 13.63476442, 13.64739606, 13.6600716 ,\n",
       "       13.67279119, 13.68555498, 13.69836313, 13.7112158 , 13.72411312,\n",
       "       13.73705527, 13.7500424 , 13.76307466, 13.77615221, 13.7892752 ,\n",
       "       13.8024438 , 13.81565817, 13.82891846, 13.84222483, 13.85557744,\n",
       "       13.86897646, 13.88242204, 13.89591435, 13.90945355, 13.9230398 ,\n",
       "       13.93667326, 13.95035411, 13.9640825 , 13.97785859, 13.99168257,\n",
       "       14.00555458, 14.0194748 , 14.0334434 , 14.04746054, 14.0615264 ,\n",
       "       14.07564114, 14.08980493, 14.10401794, 14.11828034, 14.13259231,\n",
       "       14.14695402, 14.16136564, 14.17582734, 14.1903393 , 14.20490169,\n",
       "       14.21951469, 14.23417848, 14.24889322, 14.2636591 , 14.27847629,\n",
       "       14.29334498, 14.30826534, 14.32323755, 14.3382618 , 14.35333826,\n",
       "       14.36846711, 14.38364853, 14.39888272, 14.41416985, 14.4295101 ,\n",
       "       14.44490367, 14.46035073, 14.47585147, 14.49140608, 14.50701475,\n",
       "       14.52267766, 14.53839501, 14.55416697, 14.56999375, 14.58587553,\n",
       "       14.6018125 , 14.61780486, 14.63385279, 14.64995649, 14.66611616,\n",
       "       14.68233198, 14.69860416, 14.71493289, 14.73131837, 14.74776079,\n",
       "       14.76426035, 14.78081725, 14.79743168, 14.81410386, 14.83083398,\n",
       "       14.84762224, 14.86446884, 14.88137398, 14.89833788, 14.91536073,\n",
       "       14.93244274, 14.94958411, 14.96678505, 14.98404577, 15.00136647,\n",
       "       15.01874737, 15.03618867, 15.05369059, 15.07125332, 15.08887709,\n",
       "       15.10656211, 15.12430859, 15.14211674, 15.15998677, 15.17791891,\n",
       "       15.19591337, 15.21397036, 15.23209011, 15.25027282, 15.26851873,\n",
       "       15.28682804, 15.30520098, 15.32363778, 15.34213864, 15.3607038 ,\n",
       "       15.37933348, 15.3980279 , 15.41678728, 15.43561186, 15.45450186,\n",
       "       15.47345751, 15.49247903, 15.51156666, 15.53072062, 15.54994115,\n",
       "       15.56922847, 15.58858281, 15.60800442, 15.62749353, 15.64705036,\n",
       "       15.66667516, 15.68636816, 15.70612959, 15.7259597 , 15.74585873,\n",
       "       15.76582691, 15.78586448, 15.80597169, 15.82614878, 15.84639598,\n",
       "       15.86671355, 15.88710173, 15.90756076, 15.92809089, 15.94869237,\n",
       "       15.96936544, 15.99011036, 16.01092737, 16.03181672, 16.05277867,\n",
       "       16.07381347, 16.09492136, 16.11610262, 16.13735748, 16.15868621,\n",
       "       16.18008906, 16.20156629, 16.22311815, 16.24474492, 16.26644684,\n",
       "       16.28822418, 16.31007721, 16.33200618, 16.35401135, 16.376093  ,\n",
       "       16.39825139, 16.42048678, 16.44279945, 16.46518966, 16.48765768,\n",
       "       16.51020378, 16.53282823, 16.55553131, 16.57831329, 16.60117444,\n",
       "       16.62411504, 16.64713536, 16.67023568, 16.69341628, 16.71667744,\n",
       "       16.74001944, 16.76344256, 16.78694707, 16.81053327, 16.83420144,\n",
       "       16.85795186, 16.88178482, 16.9057006 , 16.9296995 , 16.9537818 ,\n",
       "       16.97794779, 17.00219776, 17.02653201, 17.05095082, 17.07545449,\n",
       "       17.10004332, 17.12471761, 17.14947764, 17.17432371, 17.19925614,\n",
       "       17.22427521, 17.24938122, 17.27457449, 17.29985531, 17.32522398,\n",
       "       17.35068082, 17.37622612, 17.4018602 , 17.42758337, 17.45339593,\n",
       "       17.47929819, 17.50529047, 17.53137308, 17.55754633, 17.58381054,\n",
       "       17.61016602, 17.6366131 , 17.66315208, 17.6897833 , 17.71650706,\n",
       "       17.7433237 , 17.77023353, 17.79723687, 17.82433406, 17.85152542,\n",
       "       17.87881128, 17.90619196, 17.93366779, 17.96123911, 17.98890624,\n",
       "       18.01666953, 18.0445293 , 18.07248588, 18.10053963, 18.12869086,\n",
       "       18.15693993, 18.18528717, 18.21373293, 18.24227753, 18.27092134,\n",
       "       18.2996647 , 18.32850794, 18.35745142, 18.38649548, 18.41564048,\n",
       "       18.44488676, 18.47423468, 18.5036846 , 18.53323685, 18.56289181,\n",
       "       18.59264983, 18.62251126, 18.65247647, 18.68254581, 18.71271966,\n",
       "       18.74299836, 18.77338229, 18.80387181, 18.83446728, 18.86516909,\n",
       "       18.89597759, 18.92689315, 18.95791616, 18.98904697, 19.02028598,\n",
       "       19.05163354, 19.08309005, 19.11465588, 19.1463314 , 19.178117  ,\n",
       "       19.21001307, 19.24201998, 19.27413812, 19.30636788, 19.33870965,\n",
       "       19.37116381, 19.40373076, 19.43641088, 19.46920458, 19.50211224,\n",
       "       19.53513426, 19.56827105, 19.60152299, 19.63489049, 19.66837394,\n",
       "       19.70197376, 19.73569035, 19.76952411, 19.80347545, 19.83754478,\n",
       "       19.87173251, 19.90603905, 19.94046481, 19.97501021, 20.00967566,\n",
       "       20.04446159, 20.0793684 , 20.11439652, 20.14954637, 20.18481838,\n",
       "       20.22021296, 20.25573055, 20.29137157, 20.32713645, 20.36302562,\n",
       "       20.39903952, 20.43517857, 20.47144321, 20.50783388, 20.54435102,\n",
       "       20.58099506, 20.61776645, 20.65466563, 20.69169304, 20.72884913,\n",
       "       20.76613435, 20.80354914, 20.84109395, 20.87876925, 20.91657547,\n",
       "       20.95451308, 20.99258253, 21.03078428, 21.06911879, 21.10758652,\n",
       "       21.14618793, 21.1849235 , 21.22379368, 21.26279894, 21.30193975,\n",
       "       21.34121659, 21.38062992, 21.42018023, 21.45986798, 21.49969365,\n",
       "       21.53965773, 21.57976069, 21.62000302, 21.6603852 , 21.70090772,\n",
       "       21.74157106, 21.78237572, 21.82332218, 21.86441094, 21.9056425 ,\n",
       "       21.94701734, 21.98853597, 22.03019889, 22.07200659, 22.11395959,\n",
       "       22.15605838, 22.19830348, 22.24069538, 22.28323461, 22.32592168,\n",
       "       22.36875709, 22.41174136, 22.45487501, 22.49815856, 22.54159254,\n",
       "       22.58517745, 22.62891384, 22.67280221, 22.71684311, 22.76103706,\n",
       "       22.8053846 , 22.84988625, 22.89454256, 22.93935406, 22.98432129,\n",
       "       23.02944479, 23.0747251 , 23.12016277, 23.16575836, 23.21151239,\n",
       "       23.25742543, 23.30349803, 23.34973074, 23.39612413, 23.44267873,\n",
       "       23.48939513, 23.53627388, 23.58331554, 23.63052068, 23.67788987,\n",
       "       23.72542368, 23.77312269, 23.82098745, 23.86901856, 23.91721658,\n",
       "       23.96558211, 24.01411572, 24.06281799, 24.11168951, 24.16073088,\n",
       "       24.20994267, 24.25932548, 24.30887992, 24.35860656, 24.40850602,\n",
       "       24.45857889, 24.50882577, 24.55924728, 24.609844  , 24.66061657,\n",
       "       24.71156558, 24.76269165, 24.8139954 , 24.86547743, 24.91713838,\n",
       "       24.96897887, 25.02099951, 25.07320093, 25.12558377, 25.17814865,\n",
       "       25.2308962 , 25.28382707, 25.33694188, 25.39024127, 25.4437259 ,\n",
       "       25.49739639, 25.55125341, 25.60529759, 25.65952958, 25.71395004,\n",
       "       25.76855963, 25.823359  , 25.87834881, 25.93352972, 25.98890239,\n",
       "       26.0444675 , 26.10022571, 26.1561777 , 26.21232413, 26.26866568,\n",
       "       26.32520303, 26.38193686, 26.43886786, 26.4959967 , 26.55332408,\n",
       "       26.61085068, 26.66857721, 26.72650434, 26.78463279, 26.84296324,\n",
       "       26.90149641, 26.96023299, 27.0191737 , 27.07831924, 27.13767032,\n",
       "       27.19722766, 27.25699198, 27.31696399, 27.37714442, 27.43753399,\n",
       "       27.49813343, 27.55894346, 27.61996483, 27.68119825, 27.74264448,\n",
       "       27.80430424, 27.86617829, 27.92826737, 27.99057222, 28.05309359,\n",
       "       28.11583224, 28.17878892, 28.24196438, 28.3053594 , 28.36897473,\n",
       "       28.43281114, 28.49686939, 28.56115026, 28.62565453, 28.69038295,\n",
       "       28.75533633, 28.82051543, 28.88592105, 28.95155396, 29.01741497,\n",
       "       29.08350485, 29.14982442, 29.21637446, 29.28315577, 29.35016917,\n",
       "       29.41741546, 29.48489544, 29.55260992, 29.62055974, 29.68874569,\n",
       "       29.7571686 , 29.8258293 , 29.89472862, 29.96386737, 30.0332464 ,\n",
       "       30.10286653, 30.17272861, 30.24283348, 30.31318197, 30.38377495,\n",
       "       30.45461325, 30.52569773, 30.59702925, 30.66860866, 30.74043682,\n",
       "       30.8125146 , 30.88484287, 30.9574225 , 31.03025436, 31.10333933,\n",
       "       31.17667828, 31.2502721 , 31.32412168, 31.3982279 , 31.47259166,\n",
       "       31.54721385, 31.62209537, 31.69723712, 31.77264   , 31.84830493,\n",
       "       31.92423281, 32.00042456, 32.07688109, 32.15360332, 32.23059218,\n",
       "       32.3078486 , 32.3853735 , 32.46316781, 32.54123248, 32.61956844,\n",
       "       32.69817664, 32.77705802, 32.85621353, 32.93564412, 33.01535076,\n",
       "       33.09533439, 33.17559598, 33.2561365 , 33.33695692, 33.41805821,\n",
       "       33.49944134, 33.5811073 , 33.66305707, 33.74529163, 33.82781197,\n",
       "       33.91061909, 33.99371399, 34.07709766, 34.1607711 , 34.24473533,\n",
       "       34.32899136, 34.41354019, 34.49838286, 34.58352037, 34.66895375,\n",
       "       34.75468403, 34.84071224, 34.92703943, 35.01366662, 35.10059485,\n",
       "       35.18782519, 35.27535867, 35.36319635, 35.45133928, 35.53978853,\n",
       "       35.62854517, 35.71761025, 35.80698486, 35.89667006, 35.98666694,\n",
       "       36.07697657, 36.16760006, 36.25853848, 36.34979294, 36.44136452,\n",
       "       36.53325434, 36.62546349, 36.7179931 , 36.81084426, 36.90401811,\n",
       "       36.99751575, 37.09133832, 37.18548695, 37.27996276, 37.3747669 ,\n",
       "       37.4699005 , 37.56536472, 37.66116069, 37.75728958, 37.85375254,\n",
       "       37.95055073, 38.04768532, 38.14515747, 38.24296836, 38.34111916,\n",
       "       38.43961106, 38.53844525, 38.6376229 , 38.73714522, 38.8370134 ,\n",
       "       38.93722865, 39.03779217, 39.13870517, 39.23996886, 39.34158447,\n",
       "       39.44355322, 39.54587633, 39.64855504, 39.75159058, 39.8549842 ,\n",
       "       39.95873713, 40.06285062, 40.16732593, 40.27216432, 40.37736705,\n",
       "       40.48293538, 40.58887058, 40.69517394, 40.80184672, 40.90889021,\n",
       "       41.01630571, 41.1240945 , 41.23225788, 41.34079715, 41.44971362,\n",
       "       41.5590086 , 41.66868341, 41.77873936, 41.88917778, 42.        ])"
      ]
     },
     "execution_count": 34,
     "metadata": {},
     "output_type": "execute_result"
    }
   ],
   "source": [
    "y_bas2"
   ]
  },
  {
   "cell_type": "code",
   "execution_count": null,
   "id": "be6347fe-963e-403f-9c8b-fe4fedc019e7",
   "metadata": {},
   "outputs": [],
   "source": []
  }
 ],
 "metadata": {
  "kernelspec": {
   "display_name": "Python 3 (ipykernel)",
   "language": "python",
   "name": "python3"
  },
  "language_info": {
   "codemirror_mode": {
    "name": "ipython",
    "version": 3
   },
   "file_extension": ".py",
   "mimetype": "text/x-python",
   "name": "python",
   "nbconvert_exporter": "python",
   "pygments_lexer": "ipython3",
   "version": "3.9.6"
  },
  "toc-autonumbering": true
 },
 "nbformat": 4,
 "nbformat_minor": 5
}
