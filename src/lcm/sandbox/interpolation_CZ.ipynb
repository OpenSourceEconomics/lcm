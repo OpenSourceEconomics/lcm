{
 "cells": [
  {
   "cell_type": "markdown",
   "id": "88a8bcb5-4dd5-46a2-bf2c-5d4638f69373",
   "metadata": {
    "jp-MarkdownHeadingCollapsed": true,
    "tags": []
   },
   "source": [
    "# ToDo:\n",
    "- try around with log scale\n",
    "- implement + test log scale\n",
    "- try around with monotone scale\n",
    "- implement + test monotone scale"
   ]
  },
  {
   "cell_type": "markdown",
   "id": "fbd2f0cc-bcd6-4f87-adfc-cfb30a12c214",
   "metadata": {
    "tags": []
   },
   "source": [
    "# Results:\n",
    "- if order > 1, all entries matter (not only cubical)\n"
   ]
  },
  {
   "cell_type": "code",
   "execution_count": 161,
   "id": "9106316a-cf7a-4951-96e9-392637ac8327",
   "metadata": {},
   "outputs": [
    {
     "data": {
      "text/plain": [
       "[<matplotlib.lines.Line2D at 0x7fa65463dbb0>]"
      ]
     },
     "execution_count": 161,
     "metadata": {},
     "output_type": "execute_result"
    },
    {
     "data": {
      "image/png": "[encoded data removed]",
      "text/plain": [
       "<Figure size 432x288 with 1 Axes>"
      ]
     },
     "metadata": {
      "needs_background": "light"
     },
     "output_type": "display_data"
    }
   ],
   "source": [
    "import matplotlib.pyplot as plt\n",
    "x = np.linspace(1, 100, 1000)\n",
    "log = np.log(x)\n",
    "log_10 = np.log10(x)\n",
    "plt.plot(x, log)\n",
    "plt.plot(x, log_10)"
   ]
  },
  {
   "cell_type": "code",
   "execution_count": 243,
   "id": "da0bbbc9",
   "metadata": {},
   "outputs": [
    {
     "name": "stdout",
     "output_type": "stream",
     "text": [
      "The autoreload extension is already loaded. To reload it, use:\n",
      "  %reload_ext autoreload\n"
     ]
    }
   ],
   "source": [
    "%load_ext autoreload\n",
    "%autoreload 2\n",
    "\n",
    "from jax.config import config\n",
    "config.update(\"jax_enable_x64\", True)\n",
    "\n",
    "from jax.scipy.ndimage import map_coordinates\n",
    "import jax.numpy as jnp\n",
    "from jax import vmap, jit\n",
    "import numpy as np\n",
    "from numpy.testing import assert_array_almost_equal as aaae\n",
    "from scipy.interpolate import interp1d, interp2d\n",
    "from scipy.interpolate import RegularGridInterpolator\n",
    "\n",
    "import itertools\n",
    "from lcm.interpolation import linear_interpolation\n",
    "from lcm.grids import get_linspace_coordinate, get_logspace_coordinate, linspace, logspace"
   ]
  },
  {
   "cell_type": "code",
   "execution_count": null,
   "id": "43065f2b-50c5-4a5a-9ae4-420cc04bbc5d",
   "metadata": {},
   "outputs": [],
   "source": [
    "import jax.numpy as jnp\n",
    "import lcm.grids as grids_module\n",
    "from jax.scipy.ndimage import map_coordinates\n",
    "\n",
    "\n",
    "def linear_interpolation(values, point, grid_info):\n",
    "    \"\"\"\"\"\"\n",
    "\n",
    "    mapped_values = []\n",
    "    for i, (grid_type, args) in enumerate(grid_info):\n",
    "        func = getattr(grids_module, f\"get_{grid_type}_coordinate\")\n",
    "        mapped_values.append(func(point[i], *args))\n",
    "\n",
    "    mapped_point = jnp.array(mapped_values)\n",
    "\n",
    "    res = map_coordinates(\n",
    "        input=values, coordinates=mapped_point, order=1, mode=\"nearest\"\n",
    "    )\n",
    "\n",
    "    return res"
   ]
  },
  {
   "cell_type": "markdown",
   "id": "4712a060-0b73-4efa-8adf-5ed39490664f",
   "metadata": {
    "tags": []
   },
   "source": [
    "# Try different scales"
   ]
  },
  {
   "cell_type": "markdown",
   "id": "d8ab306a-14c5-4a49-88b6-18387a1443c4",
   "metadata": {
    "tags": []
   },
   "source": [
    "## linspace"
   ]
  },
  {
   "cell_type": "code",
   "execution_count": 175,
   "id": "61901839-f1b2-43bd-98a8-929313d8d326",
   "metadata": {},
   "outputs": [],
   "source": [
    "def test_linear_interpolation_2d():\n",
    "    grid1 = np.array([1, 2, 3, 4, 5.0])\n",
    "    grid2 = np.array([2, 3, 4.0])\n",
    "\n",
    "    prod_grid = np.array(list(itertools.product(grid1, grid2)))\n",
    "    values = (prod_grid ** 2).sum(axis=1).reshape(5, 3)\n",
    "\n",
    "    points = np.array([[2.5, 3.5], [2.1, 3.8], [2.7, 3.3]])\n",
    "\n",
    "    grid_info = [(\"linspace\", (1, 5, 5)), (\"linspace\", (2, 4, 3))]\n",
    "\n",
    "    for point in points:\n",
    "        calculated = linear_interpolation(\n",
    "            values=values,\n",
    "            point=point,\n",
    "            grid_info=grid_info,\n",
    "        )\n",
    "\n",
    "        scipy_func = RegularGridInterpolator(\n",
    "            points=(grid1, grid2), values=values, method=\"linear\"\n",
    "        )\n",
    "        scipy_res = scipy_func(point)\n",
    "\n",
    "        aaae(calculated, scipy_res)"
   ]
  },
  {
   "cell_type": "code",
   "execution_count": 176,
   "id": "82ac9175-0eaa-4785-86f0-ab45792784e0",
   "metadata": {},
   "outputs": [],
   "source": [
    "test_linear_interpolation_2d()"
   ]
  },
  {
   "cell_type": "markdown",
   "id": "74d397a3-9a4d-4b4f-ab13-1cf0a2798ac5",
   "metadata": {
    "tags": []
   },
   "source": [
    "## logspace"
   ]
  },
  {
   "cell_type": "code",
   "execution_count": 148,
   "id": "391ca604-64d4-416c-9ff2-acd1ad151a9e",
   "metadata": {},
   "outputs": [],
   "source": [
    "def logspace(start, stop, n_points):\n",
    "    start_exp = jnp.log(start)\n",
    "    stop_exp = jnp.log(stop)\n",
    "    return jnp.logspace(start_exp, stop_exp, n_points, base=2.718281828459045)"
   ]
  },
  {
   "cell_type": "code",
   "execution_count": 112,
   "id": "8ee9dc11-96f2-436f-84c1-cf2a7b307ce3",
   "metadata": {},
   "outputs": [],
   "source": [
    "def get_linspace_coordinate(value, start, stop, n_points):\n",
    "    \"\"\"Map a value into the input needed for map_coordinates.\"\"\"\n",
    "    step_length = (stop - start) / (n_points - 1)\n",
    "    mapped_point = (value - start) / step_length\n",
    "    return mapped_point"
   ]
  },
  {
   "cell_type": "code",
   "execution_count": 188,
   "id": "cb571715-61e0-4bdf-b455-4fd745d396fe",
   "metadata": {},
   "outputs": [],
   "source": [
    "def get_logspace_coordinate(value, start, stop, n_points):\n",
    "    \"\"\"Map a value into the input needed for map_coordinates.\"\"\"\n",
    "    step_factor = jnp.exp((jnp.log(stop) - jnp.log(start)) / (n_points - 1))\n",
    "    mapped_point = jnp.log(value / start) / jnp.log(step_factor)\n",
    "    return mapped_point"
   ]
  },
  {
   "cell_type": "code",
   "execution_count": 197,
   "id": "88fe356a-3dd2-40cb-9e13-823be184d5ed",
   "metadata": {},
   "outputs": [],
   "source": [
    "def get_logspace_coordinate1(value, start, stop, n_points):\n",
    "    \"\"\"Map a value into the input needed for map_coordinates.\"\"\"\n",
    "    step_factor = (jnp.log(stop) - jnp.log(start)) / (n_points - 1)\n",
    "    mapped_point = (jnp.log(value) - jnp.log(start)) / step_factor\n",
    "    return mapped_point"
   ]
  },
  {
   "cell_type": "code",
   "execution_count": 234,
   "id": "d5c4d1bf-9942-4e2a-a957-857626cf33c0",
   "metadata": {},
   "outputs": [],
   "source": [
    "def get_logspace_coordinate2(value, start, stop, n_points):\n",
    "    \"\"\"Map a value into the input needed for map_coordinates.\"\"\"\n",
    "    start_exp = jnp.log(start)\n",
    "    stop_exp = jnp.log(stop)\n",
    "    value_exp = jnp.log(value)\n",
    "    step_length = (stop_exp - start_exp) / (n_points - 1)\n",
    "    mapped_point_log = (value_exp - start_exp) / step_length\n",
    "    print(mapped_point_log)\n",
    "    # Calculate mapped point on a linear scale\n",
    "    lower_point = jnp.exp(start_exp + step_length * jnp.floor(mapped_point_log))\n",
    "    upper_point = jnp.exp(start_exp + step_length * jnp.ceil(mapped_point_log))\n",
    "    print(lower_point, upper_point)\n",
    "    if lower_point == upper_point:\n",
    "        mapped_point_lin = mapped_point_log\n",
    "    else:\n",
    "        mapped_point_lin = jnp.floor(mapped_point_log) + (value - lower_point) / (upper_point - lower_point)\n",
    "    return mapped_point_lin\n"
   ]
  },
  {
   "cell_type": "code",
   "execution_count": 253,
   "id": "1d067e54-a14f-40c3-bcf9-1c1f89c53c31",
   "metadata": {},
   "outputs": [
    {
     "data": {
      "text/plain": [
       "DeviceArray([  1.        ,   2.15443469,   4.64158883,  10.        ,\n",
       "              21.5443469 ,  46.41588834, 100.        ], dtype=float64)"
      ]
     },
     "execution_count": 253,
     "metadata": {},
     "output_type": "execute_result"
    }
   ],
   "source": [
    "logspace(1, 100, 7)"
   ]
  },
  {
   "cell_type": "code",
   "execution_count": 236,
   "id": "c179df37-994f-4685-a280-e80a1f50b25d",
   "metadata": {},
   "outputs": [
    {
     "data": {
      "text/plain": [
       "(DeviceArray(3., dtype=float64), DeviceArray(4., dtype=float64))"
      ]
     },
     "execution_count": 236,
     "metadata": {},
     "output_type": "execute_result"
    }
   ],
   "source": [
    "jnp.floor(3.01), jnp.ceil(3.01)"
   ]
  },
  {
   "cell_type": "code",
   "execution_count": 242,
   "id": "b1220277-fd53-4500-8792-4c0e5525c3f2",
   "metadata": {},
   "outputs": [
    {
     "name": "stdout",
     "output_type": "stream",
     "text": [
      "10.0\n",
      "10.000000000000002 10.000000000000002\n"
     ]
    },
    {
     "data": {
      "text/plain": [
       "(DeviceArray(10., dtype=float64),\n",
       " DeviceArray(10., dtype=float64),\n",
       " DeviceArray(10., dtype=float64))"
      ]
     },
     "execution_count": 242,
     "metadata": {},
     "output_type": "execute_result"
    }
   ],
   "source": [
    "get_logspace_coordinate(10, 1, 10, 11), get_logspace_coordinate1(10, 1, 10, 11), get_logspace_coordinate2(10, 1, 10, 11)"
   ]
  },
  {
   "cell_type": "code",
   "execution_count": null,
   "id": "d4cddc12-018e-42b1-aaf8-dc492d902836",
   "metadata": {},
   "outputs": [],
   "source": []
  },
  {
   "cell_type": "code",
   "execution_count": 118,
   "id": "ce694682-629f-472d-9470-51840900878e",
   "metadata": {},
   "outputs": [
    {
     "data": {
      "text/plain": [
       "DeviceArray(3.01029996, dtype=float64)"
      ]
     },
     "execution_count": 118,
     "metadata": {},
     "output_type": "execute_result"
    }
   ],
   "source": [
    "get_logspace_coordinate(2, 1, 10, 11)"
   ]
  },
  {
   "cell_type": "code",
   "execution_count": 117,
   "id": "7d391bae-8c6f-476d-afca-21efdd5a0d8f",
   "metadata": {},
   "outputs": [
    {
     "name": "stdout",
     "output_type": "stream",
     "text": [
      "0.0 2.302585092994046 2.1972245773362196\n",
      "9.542425094393248\n"
     ]
    }
   ],
   "source": [
    "get_logspace_coordinate_2(9, 1, 10, 11)"
   ]
  },
  {
   "cell_type": "code",
   "execution_count": 249,
   "id": "6cd5229a-aac3-4117-a637-387eaff74030",
   "metadata": {},
   "outputs": [
    {
     "name": "stdout",
     "output_type": "stream",
     "text": [
      "[87.83772234] 87.83772233983164\n",
      "[6.57850543] 6.578505426185218\n",
      "[9.07587202] 9.075872022286246\n"
     ]
    }
   ],
   "source": [
    "grid1 = logspace(1, 10, 3)\n",
    "grid2 = logspace(1, 10, 3)\n",
    "\n",
    "prod_grid = np.array(list(itertools.product(grid1, grid2)))\n",
    "values = (prod_grid ** 2).sum(axis=1).reshape(3, 3)\n",
    "\n",
    "points = np.array([[9, 1], [2.1, 1], [2.7, 1]])\n",
    "\n",
    "grid_info = [(\"logspace\", (1, 10, 3)), (\"logspace\", (1, 10, 3))]\n",
    "\n",
    "for point in points:\n",
    "    calculated = linear_interpolation(\n",
    "        values=values,\n",
    "        point=point,\n",
    "        grid_info=grid_info,\n",
    "    )\n",
    "\n",
    "    scipy_func = RegularGridInterpolator(\n",
    "        points=(grid1, grid2), values=values, method=\"linear\"\n",
    "    )\n",
    "    scipy_res = scipy_func(point)\n",
    "    print(scipy_res, calculated)\n",
    "    aaae(calculated, scipy_res)"
   ]
  },
  {
   "cell_type": "code",
   "execution_count": 139,
   "id": "bbb64a66-6ca8-4730-97d0-3ec9a03a2a8b",
   "metadata": {},
   "outputs": [
    {
     "data": {
      "text/plain": [
       "array([[  2.        ,  11.        , 101.        ],\n",
       "       [  2.58489319,  11.58489319, 101.58489319],\n",
       "       [  3.51188643,  12.51188643, 102.51188643],\n",
       "       [  4.98107171,  13.98107171, 103.98107171],\n",
       "       [  7.30957344,  16.30957344, 106.30957344],\n",
       "       [ 11.        ,  20.        , 110.        ],\n",
       "       [ 16.84893192,  25.84893192, 115.84893192],\n",
       "       [ 26.11886432,  35.11886432, 125.11886432],\n",
       "       [ 40.81071706,  49.81071706, 139.81071706],\n",
       "       [ 64.09573445,  73.09573445, 163.09573445],\n",
       "       [101.        , 110.        , 200.        ]])"
      ]
     },
     "execution_count": 139,
     "metadata": {},
     "output_type": "execute_result"
    }
   ],
   "source": [
    "values"
   ]
  },
  {
   "cell_type": "code",
   "execution_count": 121,
   "id": "04698846-657e-403d-946f-8bef17a4b3a4",
   "metadata": {},
   "outputs": [
    {
     "ename": "ValueError",
     "evalue": "There are 11 point arrays, but values has 1 dimensions",
     "output_type": "error",
     "traceback": [
      "\u001b[0;31m---------------------------------------------------------------------------\u001b[0m",
      "\u001b[0;31mValueError\u001b[0m                                Traceback (most recent call last)",
      "\u001b[0;32m/tmp/ipykernel_5028/3886118369.py\u001b[0m in \u001b[0;36m<module>\u001b[0;34m\u001b[0m\n\u001b[1;32m     14\u001b[0m     )\n\u001b[1;32m     15\u001b[0m \u001b[0;34m\u001b[0m\u001b[0m\n\u001b[0;32m---> 16\u001b[0;31m     scipy_func = RegularGridInterpolator(\n\u001b[0m\u001b[1;32m     17\u001b[0m         \u001b[0mpoints\u001b[0m\u001b[0;34m=\u001b[0m\u001b[0mgrid1\u001b[0m\u001b[0;34m,\u001b[0m \u001b[0mvalues\u001b[0m\u001b[0;34m=\u001b[0m\u001b[0mvalues\u001b[0m\u001b[0;34m,\u001b[0m \u001b[0mmethod\u001b[0m\u001b[0;34m=\u001b[0m\u001b[0;34m\"linear\"\u001b[0m\u001b[0;34m\u001b[0m\u001b[0;34m\u001b[0m\u001b[0m\n\u001b[1;32m     18\u001b[0m     )\n",
      "\u001b[0;32m~/miniconda3/envs/lcm/lib/python3.9/site-packages/scipy/interpolate/interpolate.py\u001b[0m in \u001b[0;36m__init__\u001b[0;34m(self, points, values, method, bounds_error, fill_value)\u001b[0m\n\u001b[1;32m   2454\u001b[0m \u001b[0;34m\u001b[0m\u001b[0m\n\u001b[1;32m   2455\u001b[0m         \u001b[0;32mif\u001b[0m \u001b[0mlen\u001b[0m\u001b[0;34m(\u001b[0m\u001b[0mpoints\u001b[0m\u001b[0;34m)\u001b[0m \u001b[0;34m>\u001b[0m \u001b[0mvalues\u001b[0m\u001b[0;34m.\u001b[0m\u001b[0mndim\u001b[0m\u001b[0;34m:\u001b[0m\u001b[0;34m\u001b[0m\u001b[0;34m\u001b[0m\u001b[0m\n\u001b[0;32m-> 2456\u001b[0;31m             raise ValueError(\"There are %d point arrays, but values has %d \"\n\u001b[0m\u001b[1;32m   2457\u001b[0m                              \"dimensions\" % (len(points), values.ndim))\n\u001b[1;32m   2458\u001b[0m \u001b[0;34m\u001b[0m\u001b[0m\n",
      "\u001b[0;31mValueError\u001b[0m: There are 11 point arrays, but values has 1 dimensions"
     ]
    }
   ],
   "source": [
    "grid1 = logspace(1, 10, 11)\n",
    "\n",
    "values = (grid1 ** 2)\n",
    "\n",
    "points = np.array([[2.5], [2.1], [2.7]])\n",
    "\n",
    "grid_info = [(\"logspace\", (1, 10, 11))]\n",
    "\n",
    "for point in points:\n",
    "    calculated = linear_interpolation(\n",
    "       values=values,\n",
    "       point=point,\n",
    "       grid_info=grid_info,\n",
    "    )\n",
    "\n",
    "    scipy_func = RegularGridInterpolator(\n",
    "        points=(grid1, grid2), values=values, method=\"linear\"\n",
    "    )\n",
    "    scipy_res = scipy_func(point)\n",
    "    print(scipy_res)\n",
    "    #aaae(calculated, scipy_res)"
   ]
  },
  {
   "cell_type": "code",
   "execution_count": 36,
   "id": "3332834d-8a2c-4e91-923c-38b2608afa9f",
   "metadata": {},
   "outputs": [
    {
     "data": {
      "text/plain": [
       "array([[1.010000e+02, 1.000100e+04, 1.000001e+06],\n",
       "       [2.000000e+02, 1.010000e+04, 1.000100e+06],\n",
       "       [1.010000e+04, 2.000000e+04, 1.010000e+06],\n",
       "       [1.000100e+06, 1.010000e+06, 2.000000e+06],\n",
       "       [1.000001e+08, 1.000100e+08, 1.010000e+08]])"
      ]
     },
     "execution_count": 36,
     "metadata": {},
     "output_type": "execute_result"
    }
   ],
   "source": [
    "values"
   ]
  },
  {
   "cell_type": "code",
   "execution_count": 41,
   "id": "4904dcda-1dc5-4f11-89ce-c7d1992a43b3",
   "metadata": {},
   "outputs": [
    {
     "name": "stdout",
     "output_type": "stream",
     "text": [
      "[[   11.   101.  1001.]\n",
      " [   20.   110.  1010.]\n",
      " [  110.   200.  1100.]\n",
      " [ 1010.  1100.  2000.]\n",
      " [10010. 10100. 11000.]]\n",
      "[15.5]\n",
      "[40.1]\n",
      "[35.7]\n"
     ]
    }
   ],
   "source": [
    "grid1 = np.array([1, 10, 100, 1000, 10000.0])\n",
    "grid2 = np.array([10, 100, 1000.0])\n",
    "\n",
    "def f(a, b):\n",
    "    return a + b\n",
    "values = f(*np.meshgrid(grid1, grid2, indexing=\"ij\", sparse=False))\n",
    "print(values)\n",
    "\n",
    "prod_grid = np.array(list(itertools.product(grid1, grid2)))\n",
    "#values = (prod_grid ** 2).sum(axis=1).reshape(5, 3)\n",
    "\n",
    "points = np.array([[5.5, 10], [2.1, 38], [2.7, 33]])\n",
    "\n",
    "grid_info = [(\"logspace\", (1, 5, 5)), (\"logspace\", (2, 4, 3))]\n",
    "\n",
    "for point in points:\n",
    "    #calculated = linear_interpolation(\n",
    "    #    values=values,\n",
    "    #    point=point,\n",
    "    #    grid_info=grid_info,\n",
    "    #)\n",
    "\n",
    "    scipy_func = RegularGridInterpolator(\n",
    "        points=(grid1, grid2), values=values, method=\"linear\"\n",
    "    )\n",
    "    scipy_res = scipy_func(point)\n",
    "    print(scipy_res)\n",
    "    #aaae(calculated, scipy_res)"
   ]
  },
  {
   "cell_type": "code",
   "execution_count": 31,
   "id": "3e90de0d-ce0a-4ac9-a13a-3efbb1ee4a2f",
   "metadata": {},
   "outputs": [
    {
     "name": "stdout",
     "output_type": "stream",
     "text": [
      "[19.]\n",
      "[19.1]\n",
      "[18.6]\n"
     ]
    }
   ],
   "source": [
    "grid1 = np.array([1, 2, 3, 4, 5.0])\n",
    "grid2 = np.array([2, 3, 4.0])\n",
    "\n",
    "prod_grid = np.array(list(itertools.product(grid1, grid2)))\n",
    "values = (prod_grid ** 2).sum(axis=1).reshape(5, 3)\n",
    "\n",
    "points = np.array([[2.5, 3.5], [2.1, 3.8], [2.7, 3.3]])\n",
    "\n",
    "grid_info = [(\"logspace\", (1, 5, 5)), (\"logspace\", (2, 4, 3))]\n",
    "\n",
    "for point in points:\n",
    "    #calculated = linear_interpolation(\n",
    "    #    values=values,\n",
    "    #    point=point,\n",
    "    #    grid_info=grid_info,\n",
    "    #)\n",
    "\n",
    "    scipy_func = RegularGridInterpolator(\n",
    "        points=(grid1, grid2), values=values, method=\"linear\"\n",
    "    )\n",
    "    scipy_res = scipy_func(point)\n",
    "    print(scipy_res)\n",
    "    #aaae(calculated, scipy_res)"
   ]
  },
  {
   "cell_type": "code",
   "execution_count": 14,
   "id": "d7a82ba1-6ddc-41ab-9c5e-a91172f548cd",
   "metadata": {},
   "outputs": [],
   "source": [
    "def test_linear_interpolation_2d():\n",
    "    grid1 = np.array([1, 2, 3, 4, 5.0])\n",
    "    grid2 = np.array([2, 3, 4.0])\n",
    "\n",
    "    prod_grid = np.array(list(itertools.product(grid1, grid2)))\n",
    "    values = (prod_grid ** 2).sum(axis=1).reshape(5, 3)\n",
    "\n",
    "    points = np.array([[2.5, 3.5], [2.1, 3.8], [2.7, 3.3]])\n",
    "\n",
    "    grid_info = [(\"logspace\", (1, 5, 5)), (\"logspace\", (2, 4, 3))]\n",
    "\n",
    "    for point in points:\n",
    "        calculated = linear_interpolation(\n",
    "            values=values,\n",
    "            point=point,\n",
    "            grid_info=grid_info,\n",
    "        )\n",
    "\n",
    "        scipy_func = RegularGridInterpolator(\n",
    "            points=(grid1, grid2), values=values, method=\"linear\"\n",
    "        )\n",
    "        scipy_res = scipy_func(point)\n",
    "\n",
    "        aaae(calculated, scipy_res)"
   ]
  },
  {
   "cell_type": "code",
   "execution_count": 15,
   "id": "4c5393f9-c6e3-472e-a720-7b84cdd89539",
   "metadata": {},
   "outputs": [],
   "source": [
    "test_linear_interpolation_2d()"
   ]
  },
  {
   "cell_type": "code",
   "execution_count": null,
   "id": "1c31af18",
   "metadata": {},
   "outputs": [],
   "source": [
    "def linear_linspace_interpolation(values, point, starts, step_lengths):\n",
    "    \"\"\"Specialized version of linear interpolation to linspaces.\n",
    "    \n",
    "    This is meant as a comparison to check that the dynamic function\n",
    "    calling doest not cause any performance penalty.\n",
    "    \n",
    "    \"\"\"\n",
    "    mapped_point = (point - starts) / step_lengths\n",
    "\n",
    "    res = map_coordinates(\n",
    "        input=values,\n",
    "        coordinates=mapped_point,\n",
    "        order=1,\n",
    "        mode=\"nearest\"\n",
    "    )\n",
    "\n",
    "    return res"
   ]
  },
  {
   "cell_type": "markdown",
   "id": "adc65243",
   "metadata": {},
   "source": [
    "## 1d Benchmarks"
   ]
  },
  {
   "cell_type": "code",
   "execution_count": 70,
   "id": "86f352f5",
   "metadata": {},
   "outputs": [],
   "source": [
    "def get_1d_inputs(n_grid=1000, n_inter=10_000, target=\"jax_linspace\"):\n",
    "    np.random.seed(1234)\n",
    "    grid = np.linspace(1, 5, n_grid)\n",
    "    values = grid ** 1.1 + np.sin(grid)\n",
    "    points = np.linspace(1, 4, n_inter)\n",
    "    np.random.shuffle(points)\n",
    "    \n",
    "    if target == \"jax_linspace\":\n",
    "        vmapped = vmap(linear_linspace_interpolation, in_axes=(None, 0, None, None))\n",
    "        func = jit(vmapped)\n",
    "        args = (\n",
    "            jnp.array(values), \n",
    "            jnp.array(points.reshape(-1, 1)), \n",
    "            jnp.array([1.]), grid[1] - grid[0]\n",
    "        )\n",
    "    \n",
    "    elif target == \"jax\":\n",
    "        vmapped = vmap(linear_interpolation, in_axes=(None, 0, None))\n",
    "        func = jit(vmapped, static_argnums=2)\n",
    "        grid_info = ((\"linspace\", (1, 5, n_grid)),)\n",
    "        args = (\n",
    "            jnp.array(values), \n",
    "            jnp.array(points.reshape(-1, 1)), \n",
    "            grid_info)\n",
    "    elif target == \"scipy\":\n",
    "        func = interp1d(grid, values)\n",
    "        args = (points,)\n",
    "    else:\n",
    "        raise ValueError()\n",
    "        \n",
    "    return func, args\n",
    "\n",
    "\n",
    "def get_1d_runtime(n_grid=1000, n_inter=10_000, target=\"jax_linespace\"):\n",
    "    func, args = get_1d_inputs(n_grid, n_inter, target)\n",
    "    # firs evaluation for jit overhead\n",
    "    func(*args)\n",
    "    timeit_res = %timeit -o func(*args)\n",
    "    runtime = timeit_res.average\n",
    "    return runtime"
   ]
  },
  {
   "cell_type": "code",
   "execution_count": 71,
   "id": "46e61c87",
   "metadata": {},
   "outputs": [
    {
     "name": "stdout",
     "output_type": "stream",
     "text": [
      "607 µs ± 2.44 µs per loop (mean ± std. dev. of 7 runs, 1000 loops each)\n"
     ]
    }
   ],
   "source": [
    "func, args = get_1d_inputs(target=\"scipy\")\n",
    "%timeit func(*args)\n",
    "scipy_res = func(*args)"
   ]
  },
  {
   "cell_type": "code",
   "execution_count": 72,
   "id": "8f9062cb",
   "metadata": {},
   "outputs": [
    {
     "name": "stdout",
     "output_type": "stream",
     "text": [
      "27.5 µs ± 408 ns per loop (mean ± std. dev. of 7 runs, 10000 loops each)\n"
     ]
    }
   ],
   "source": [
    "func, args = get_1d_inputs(target=\"jax_linspace\")\n",
    "%timeit func(*args).block_until_ready()\n",
    "linspace_res = func(*args)"
   ]
  },
  {
   "cell_type": "code",
   "execution_count": 73,
   "id": "55bc8605",
   "metadata": {},
   "outputs": [
    {
     "name": "stdout",
     "output_type": "stream",
     "text": [
      "155 µs ± 4.19 µs per loop (mean ± std. dev. of 7 runs, 10000 loops each)\n"
     ]
    }
   ],
   "source": [
    "func, args = get_1d_inputs(target=\"jax\")\n",
    "%timeit func(*args).block_until_ready()\n",
    "jax_res = func(*args)"
   ]
  },
  {
   "cell_type": "code",
   "execution_count": null,
   "id": "62bb0133",
   "metadata": {},
   "outputs": [],
   "source": [
    "aaae(scipy_res, linspace_res)\n",
    "aaae(scipy_res, jax_res)"
   ]
  },
  {
   "cell_type": "markdown",
   "id": "8a071d57",
   "metadata": {
    "tags": []
   },
   "source": [
    "## 2d Benchmarks"
   ]
  },
  {
   "cell_type": "code",
   "execution_count": 76,
   "id": "7db8a854",
   "metadata": {},
   "outputs": [],
   "source": [
    "def get_2d_inputs(n_grid=200, n_inter=100_000, target=\"jax_linspace\"):\n",
    "    np.random.seed(1234)\n",
    "    grid1 = np.linspace(1, 5, n_grid)\n",
    "    grid2 = np.linspace(-1, 5, n_grid)\n",
    "    \n",
    "    root_n_inter = int(np.sqrt(n_inter))\n",
    "    \n",
    "    inter_grid1 = np.linspace(1.33, 4.11, root_n_inter)\n",
    "    inter_grid2 = np.linspace(-0.66, 3.79, root_n_inter)\n",
    "    \n",
    "    points = np.array(list(itertools.product(inter_grid1, inter_grid2)))\n",
    "    \n",
    "    product_arr = np.array(list(itertools.product(grid1, grid2)))\n",
    "    values = (product_arr ** 2).sum(axis=1).reshape(n_grid, n_grid)\n",
    "    \n",
    "    if target == \"jax_linspace\":\n",
    "        vmapped = vmap(linear_linspace_interpolation, in_axes=(None, 0, None, None))\n",
    "        func = jit(vmapped)\n",
    "        step_sizes=jnp.array([grid1[1] - grid1[0], grid2[1] - grid2[0]])\n",
    "        args = (\n",
    "            jnp.array(values),\n",
    "            jnp.array(points), \n",
    "            jnp.array([1., -1]), \n",
    "            step_sizes)\n",
    "    \n",
    "    elif target == \"jax\":\n",
    "        vmapped = vmap(linear_interpolation, in_axes=(None, 0, None))\n",
    "        func = jit(vmapped, static_argnums=2)\n",
    "        grid_info = (\n",
    "            (\"linspace\", (1, 5, n_grid)),\n",
    "            (\"linspace\", (-1, 5, n_grid))\n",
    "        )\n",
    "        args = (jnp.array(values), jnp.array(points), grid_info)\n",
    "    elif target == \"scipy\":\n",
    "        func = interp2d(x=grid2, y=grid1, z=values)\n",
    "        args = (inter_grid1, inter_grid2)\n",
    "    else:\n",
    "        raise ValueError()\n",
    "        \n",
    "    return func, args\n",
    "    \n",
    "\n",
    "\n"
   ]
  },
  {
   "cell_type": "code",
   "execution_count": 77,
   "id": "ff7b5ed0",
   "metadata": {},
   "outputs": [
    {
     "name": "stdout",
     "output_type": "stream",
     "text": [
      "744 µs ± 27.1 µs per loop (mean ± std. dev. of 7 runs, 1000 loops each)\n"
     ]
    }
   ],
   "source": [
    "func, args = get_2d_inputs(target=\"scipy\")\n",
    "scipy_res = func(*args)\n",
    "%timeit func(*args)"
   ]
  },
  {
   "cell_type": "code",
   "execution_count": 78,
   "id": "1a8a6787",
   "metadata": {},
   "outputs": [
    {
     "name": "stdout",
     "output_type": "stream",
     "text": [
      "312 µs ± 16.8 µs per loop (mean ± std. dev. of 7 runs, 1000 loops each)\n"
     ]
    }
   ],
   "source": [
    "func, args = get_2d_inputs(target=\"jax_linspace\")\n",
    "linspace_res = func(*args)\n",
    "%timeit func(*args).block_until_ready()"
   ]
  },
  {
   "cell_type": "code",
   "execution_count": 79,
   "id": "5401c149",
   "metadata": {},
   "outputs": [
    {
     "name": "stdout",
     "output_type": "stream",
     "text": [
      "392 µs ± 47 µs per loop (mean ± std. dev. of 7 runs, 1000 loops each)\n"
     ]
    }
   ],
   "source": [
    "jax_res = get_2d_inputs(target=\"jax\")\n",
    "jax_res = func(*args)\n",
    "%timeit func(*args).block_until_ready()"
   ]
  },
  {
   "cell_type": "code",
   "execution_count": 80,
   "id": "216b4e52",
   "metadata": {},
   "outputs": [
    {
     "data": {
      "text/html": [
       "<div>\n",
       "<style scoped>\n",
       "    .dataframe tbody tr th:only-of-type {\n",
       "        vertical-align: middle;\n",
       "    }\n",
       "\n",
       "    .dataframe tbody tr th {\n",
       "        vertical-align: top;\n",
       "    }\n",
       "\n",
       "    .dataframe thead th {\n",
       "        text-align: right;\n",
       "    }\n",
       "</style>\n",
       "<table border=\"1\" class=\"dataframe\">\n",
       "  <thead>\n",
       "    <tr style=\"text-align: right;\">\n",
       "      <th></th>\n",
       "      <th>scipy</th>\n",
       "      <th>linspace</th>\n",
       "      <th>jax</th>\n",
       "    </tr>\n",
       "  </thead>\n",
       "  <tbody>\n",
       "    <tr>\n",
       "      <th>scipy</th>\n",
       "      <td>1.00000</td>\n",
       "      <td>0.96638</td>\n",
       "      <td>0.96638</td>\n",
       "    </tr>\n",
       "    <tr>\n",
       "      <th>linspace</th>\n",
       "      <td>0.96638</td>\n",
       "      <td>1.00000</td>\n",
       "      <td>1.00000</td>\n",
       "    </tr>\n",
       "    <tr>\n",
       "      <th>jax</th>\n",
       "      <td>0.96638</td>\n",
       "      <td>1.00000</td>\n",
       "      <td>1.00000</td>\n",
       "    </tr>\n",
       "  </tbody>\n",
       "</table>\n",
       "</div>"
      ],
      "text/plain": [
       "            scipy  linspace      jax\n",
       "scipy     1.00000   0.96638  0.96638\n",
       "linspace  0.96638   1.00000  1.00000\n",
       "jax       0.96638   1.00000  1.00000"
      ]
     },
     "execution_count": 80,
     "metadata": {},
     "output_type": "execute_result"
    }
   ],
   "source": [
    "import pandas as pd\n",
    "df = pd.DataFrame()\n",
    "df[\"scipy\"] = scipy_res.flatten()\n",
    "df[\"linspace\"] = linspace_res\n",
    "df[\"jax\"] = jax_res\n",
    "df.corr()"
   ]
  },
  {
   "cell_type": "code",
   "execution_count": 81,
   "id": "a76907f9",
   "metadata": {},
   "outputs": [
    {
     "data": {
      "text/html": [
       "<div>\n",
       "<style scoped>\n",
       "    .dataframe tbody tr th:only-of-type {\n",
       "        vertical-align: middle;\n",
       "    }\n",
       "\n",
       "    .dataframe tbody tr th {\n",
       "        vertical-align: top;\n",
       "    }\n",
       "\n",
       "    .dataframe thead th {\n",
       "        text-align: right;\n",
       "    }\n",
       "</style>\n",
       "<table border=\"1\" class=\"dataframe\">\n",
       "  <thead>\n",
       "    <tr style=\"text-align: right;\">\n",
       "      <th></th>\n",
       "      <th>scipy</th>\n",
       "      <th>linspace</th>\n",
       "      <th>jax</th>\n",
       "    </tr>\n",
       "  </thead>\n",
       "  <tbody>\n",
       "    <tr>\n",
       "      <th>0</th>\n",
       "      <td>2.769083</td>\n",
       "      <td>2.204780</td>\n",
       "      <td>2.204780</td>\n",
       "    </tr>\n",
       "    <tr>\n",
       "      <th>1</th>\n",
       "      <td>2.792676</td>\n",
       "      <td>2.186323</td>\n",
       "      <td>2.186323</td>\n",
       "    </tr>\n",
       "    <tr>\n",
       "      <th>2</th>\n",
       "      <td>2.816270</td>\n",
       "      <td>2.168254</td>\n",
       "      <td>2.168254</td>\n",
       "    </tr>\n",
       "    <tr>\n",
       "      <th>3</th>\n",
       "      <td>2.840148</td>\n",
       "      <td>2.150649</td>\n",
       "      <td>2.150649</td>\n",
       "    </tr>\n",
       "    <tr>\n",
       "      <th>4</th>\n",
       "      <td>2.864273</td>\n",
       "      <td>2.133317</td>\n",
       "      <td>2.133317</td>\n",
       "    </tr>\n",
       "    <tr>\n",
       "      <th>...</th>\n",
       "      <td>...</td>\n",
       "      <td>...</td>\n",
       "      <td>...</td>\n",
       "    </tr>\n",
       "    <tr>\n",
       "      <th>99851</th>\n",
       "      <td>30.967526</td>\n",
       "      <td>30.831149</td>\n",
       "      <td>30.831149</td>\n",
       "    </tr>\n",
       "    <tr>\n",
       "      <th>99852</th>\n",
       "      <td>31.039548</td>\n",
       "      <td>30.937056</td>\n",
       "      <td>30.937056</td>\n",
       "    </tr>\n",
       "    <tr>\n",
       "      <th>99853</th>\n",
       "      <td>31.111571</td>\n",
       "      <td>31.042972</td>\n",
       "      <td>31.042972</td>\n",
       "    </tr>\n",
       "    <tr>\n",
       "      <th>99854</th>\n",
       "      <td>31.183936</td>\n",
       "      <td>31.149616</td>\n",
       "      <td>31.149616</td>\n",
       "    </tr>\n",
       "    <tr>\n",
       "      <th>99855</th>\n",
       "      <td>31.256491</td>\n",
       "      <td>31.256385</td>\n",
       "      <td>31.256385</td>\n",
       "    </tr>\n",
       "  </tbody>\n",
       "</table>\n",
       "<p>99856 rows × 3 columns</p>\n",
       "</div>"
      ],
      "text/plain": [
       "           scipy   linspace        jax\n",
       "0       2.769083   2.204780   2.204780\n",
       "1       2.792676   2.186323   2.186323\n",
       "2       2.816270   2.168254   2.168254\n",
       "3       2.840148   2.150649   2.150649\n",
       "4       2.864273   2.133317   2.133317\n",
       "...          ...        ...        ...\n",
       "99851  30.967526  30.831149  30.831149\n",
       "99852  31.039548  30.937056  30.937056\n",
       "99853  31.111571  31.042972  31.042972\n",
       "99854  31.183936  31.149616  31.149616\n",
       "99855  31.256491  31.256385  31.256385\n",
       "\n",
       "[99856 rows x 3 columns]"
      ]
     },
     "execution_count": 81,
     "metadata": {},
     "output_type": "execute_result"
    }
   ],
   "source": [
    "df"
   ]
  },
  {
   "cell_type": "code",
   "execution_count": null,
   "id": "4b1b843c-a5da-45d7-a6d1-f7b3e59fc4a3",
   "metadata": {},
   "outputs": [],
   "source": []
  }
 ],
 "metadata": {
  "kernelspec": {
   "display_name": "Python 3 (ipykernel)",
   "language": "python",
   "name": "python3"
  },
  "language_info": {
   "codemirror_mode": {
    "name": "ipython",
    "version": 3
   },
   "file_extension": ".py",
   "mimetype": "text/x-python",
   "name": "python",
   "nbconvert_exporter": "python",
   "pygments_lexer": "ipython3",
   "version": "3.9.6"
  },
  "toc-autonumbering": true
 },
 "nbformat": 4,
 "nbformat_minor": 5
}
