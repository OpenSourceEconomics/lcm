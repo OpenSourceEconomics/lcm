{
 "cells": [
  {
   "cell_type": "code",
   "execution_count": null,
   "id": "36d39d81-c9c9-47f3-946e-f39d2a8a3122",
   "metadata": {
    "tags": []
   },
   "outputs": [],
   "source": [
    "from lcm.entry_point import get_lcm_function\n",
    "from lcm.model_parttime_human_capital import PARTTIME_HUMAN_CAPITAL"
   ]
  },
  {
   "cell_type": "code",
   "execution_count": null,
   "id": "70a6bac1-782b-4e43-a528-78374d335786",
   "metadata": {
    "tags": []
   },
   "outputs": [],
   "source": [
    "solve, params_template = get_lcm_function(\n",
    "    model=PARTTIME_HUMAN_CAPITAL,\n",
    "    targets=\"solve\",\n",
    ")"
   ]
  },
  {
   "cell_type": "code",
   "execution_count": null,
   "id": "053cc353-988d-4e4a-b221-31d61c172c9e",
   "metadata": {
    "tags": []
   },
   "outputs": [],
   "source": [
    "params = {\n",
    "    \"beta\": 0.98,\n",
    "    \"utility\": {},\n",
    "    \"crra_value_of_consumption\": {\n",
    "        \"crra_coefficient\": 1.5,  # jacobsen et al, attanasio & weber\n",
    "        \"has_partner\": 0.0,\n",
    "        \"n_children\": 0.0,\n",
    "    },\n",
    "    \"working_hours_full_time_equivalent\": {},\n",
    "    \"disutility_of_working\": {  # jacobsen et al (motivated)\n",
    "        \"disutility_of_working_age\": -0.02,\n",
    "        \"disutility_of_working_fulltime\": -0.5,\n",
    "        \"disutility_of_working_parttime\": -0.3,\n",
    "    },\n",
    "    \"labor_income\": {},\n",
    "    \"wage\": {  # jacobsen et al\n",
    "        \"wage_coefficient_constant\": 0.8,\n",
    "        \"wage_coefficient_per_human_capital\": 0.09,\n",
    "    },\n",
    "    \"next_human_capital\": {\n",
    "        \"depreciation\": 0.1,  # jacobsen et al\n",
    "        \"experience_factor_part_time\": 0.15,  # blundell (2016)\n",
    "    },\n",
    "    \"disposable_household_income\": {\"income_floor\": 1000.0},\n",
    "    \"next_wealth\": {\"interest_rate\": 1.03},\n",
    "    \"next_wealth_constraint\": {},\n",
    "    \"age\": {\"period\": 0},\n",
    "}"
   ]
  },
  {
   "cell_type": "code",
   "execution_count": null,
   "id": "c144ec11-4669-4b6f-9345-d3eab90792e2",
   "metadata": {
    "tags": []
   },
   "outputs": [],
   "source": [
    "solution = solve(params)"
   ]
  },
  {
   "cell_type": "code",
   "execution_count": null,
   "id": "df8d7f32-8ed9-43fc-a22d-debbe5d58eac",
   "metadata": {},
   "outputs": [],
   "source": []
  },
  {
   "cell_type": "code",
   "execution_count": null,
   "id": "c5b5dd41-73c3-4561-9b2f-359ae3d555db",
   "metadata": {},
   "outputs": [],
   "source": []
  }
 ],
 "metadata": {
  "language_info": {
   "codemirror_mode": {
    "name": "ipython",
    "version": 3
   },
   "file_extension": ".py",
   "mimetype": "text/x-python",
   "name": "python",
   "nbconvert_exporter": "python",
   "pygments_lexer": "ipython3"
  }
 },
 "nbformat": 4,
 "nbformat_minor": 5
}
