{
 "cells": [
  {
   "cell_type": "code",
   "execution_count": 1,
   "id": "36d39d81-c9c9-47f3-946e-f39d2a8a3122",
   "metadata": {
    "tags": []
   },
   "outputs": [],
   "source": [
    "from lcm.entry_point import get_lcm_function\n",
    "from lcm.model_parttime_human_capital import PARTTIME_HUMAN_CAPITAL"
   ]
  },
  {
   "cell_type": "code",
   "execution_count": 2,
   "id": "70a6bac1-782b-4e43-a528-78374d335786",
   "metadata": {
    "tags": []
   },
   "outputs": [],
   "source": [
    "solve, params_template = get_lcm_function(\n",
    "    model=PARTTIME_HUMAN_CAPITAL,\n",
    "    targets=\"solve\",\n",
    ")"
   ]
  },
  {
   "cell_type": "code",
   "execution_count": 3,
   "id": "053cc353-988d-4e4a-b221-31d61c172c9e",
   "metadata": {
    "tags": []
   },
   "outputs": [],
   "source": [
    "params = {\n",
    "    \"beta\": 0.98,\n",
    "    \"utility\": {},\n",
    "    \"crra_value_of_consumption\": {\n",
    "        \"crra_coefficient\": 1.5,  # jacobsen et al, attanasio & weber\n",
    "        \"has_partner\": 0.0,\n",
    "        \"n_children\": 0.0,\n",
    "    },\n",
    "    \"working_hours_full_time_equivalent\": {},\n",
    "    \"disutility_of_working\": {  # jacobsen et al (motivated)\n",
    "        \"disutility_of_working_age\": -0.02,\n",
    "        \"disutility_of_working_fulltime\": -0.5,\n",
    "        \"disutility_of_working_parttime\": -0.3,\n",
    "    },\n",
    "    \"labor_income\": {},\n",
    "    \"wage\": {  # jacobsen et al\n",
    "        \"wage_coefficient_constant\": 0.8,\n",
    "        \"wage_coefficient_per_human_capital\": 0.09,\n",
    "    },\n",
    "    \"next_human_capital\": {\n",
    "        \"depreciation\": 0.1,  # jacobsen et al\n",
    "        \"experience_factor_part_time\": 0.15,  # blundell (2016)\n",
    "    },\n",
    "    \"disposable_household_income\": {\"income_floor\": 1000.0},\n",
    "    \"next_wealth\": {\"interest_rate\": 1.03},\n",
    "    \"next_wealth_constraint\": {},\n",
    "    \"age\": {\"period\": 0},\n",
    "}"
   ]
  },
  {
   "cell_type": "code",
   "execution_count": 4,
   "id": "c144ec11-4669-4b6f-9345-d3eab90792e2",
   "metadata": {
    "tags": []
   },
   "outputs": [
    {
     "ename": "ValueError",
     "evalue": "Not enough or too many arguments provided.",
     "output_type": "error",
     "traceback": [
      "\u001b[0;31m---------------------------------------------------------------------------\u001b[0m",
      "\u001b[0;31mValueError\u001b[0m                                Traceback (most recent call last)",
      "Cell \u001b[0;32mIn[4], line 1\u001b[0m\n\u001b[0;32m----> 1\u001b[0m solution \u001b[38;5;241m=\u001b[39m \u001b[43msolve\u001b[49m\u001b[43m(\u001b[49m\u001b[43mparams\u001b[49m\u001b[43m)\u001b[49m\n",
      "File \u001b[0;32m~/sciebo/thinky/lcm/src/lcm/solve_brute.py:55\u001b[0m, in \u001b[0;36msolve\u001b[0;34m(params, state_choice_spaces, state_indexers, continuous_choice_grids, compute_ccv_functions, emax_calculators)\u001b[0m\n\u001b[1;32m     52\u001b[0m \u001b[38;5;66;03m# backwards induction loop\u001b[39;00m\n\u001b[1;32m     53\u001b[0m \u001b[38;5;28;01mfor\u001b[39;00m period \u001b[38;5;129;01min\u001b[39;00m \u001b[38;5;28mreversed\u001b[39m(\u001b[38;5;28mrange\u001b[39m(n_periods)):\n\u001b[1;32m     54\u001b[0m     \u001b[38;5;66;03m# solve continuous problem, conditional on discrete choices\u001b[39;00m\n\u001b[0;32m---> 55\u001b[0m     conditional_continuation_values \u001b[38;5;241m=\u001b[39m \u001b[43msolve_continuous_problem\u001b[49m\u001b[43m(\u001b[49m\n\u001b[1;32m     56\u001b[0m \u001b[43m        \u001b[49m\u001b[43mstate_choice_space\u001b[49m\u001b[38;5;241;43m=\u001b[39;49m\u001b[43mstate_choice_spaces\u001b[49m\u001b[43m[\u001b[49m\u001b[43mperiod\u001b[49m\u001b[43m]\u001b[49m\u001b[43m,\u001b[49m\n\u001b[1;32m     57\u001b[0m \u001b[43m        \u001b[49m\u001b[43mcompute_ccv\u001b[49m\u001b[38;5;241;43m=\u001b[39;49m\u001b[43mcompute_ccv_functions\u001b[49m\u001b[43m[\u001b[49m\u001b[43mperiod\u001b[49m\u001b[43m]\u001b[49m\u001b[43m,\u001b[49m\n\u001b[1;32m     58\u001b[0m \u001b[43m        \u001b[49m\u001b[43mcontinuous_choice_grids\u001b[49m\u001b[38;5;241;43m=\u001b[39;49m\u001b[43mcontinuous_choice_grids\u001b[49m\u001b[43m[\u001b[49m\u001b[43mperiod\u001b[49m\u001b[43m]\u001b[49m\u001b[43m,\u001b[49m\n\u001b[1;32m     59\u001b[0m \u001b[43m        \u001b[49m\u001b[43mvf_arr\u001b[49m\u001b[38;5;241;43m=\u001b[39;49m\u001b[43mvf_arr\u001b[49m\u001b[43m,\u001b[49m\n\u001b[1;32m     60\u001b[0m \u001b[43m        \u001b[49m\u001b[43mstate_indexers\u001b[49m\u001b[38;5;241;43m=\u001b[39;49m\u001b[43mstate_indexers\u001b[49m\u001b[43m[\u001b[49m\u001b[43mperiod\u001b[49m\u001b[43m]\u001b[49m\u001b[43m,\u001b[49m\n\u001b[1;32m     61\u001b[0m \u001b[43m        \u001b[49m\u001b[43mparams\u001b[49m\u001b[38;5;241;43m=\u001b[39;49m\u001b[43mparams\u001b[49m\u001b[43m,\u001b[49m\n\u001b[1;32m     62\u001b[0m \u001b[43m    \u001b[49m\u001b[43m)\u001b[49m\n\u001b[1;32m     64\u001b[0m     \u001b[38;5;66;03m# solve discrete problem by calculating expected maximum over discrete choices\u001b[39;00m\n\u001b[1;32m     65\u001b[0m     calculate_emax \u001b[38;5;241m=\u001b[39m emax_calculators[period]\n",
      "File \u001b[0;32m~/sciebo/thinky/lcm/src/lcm/solve_brute.py:112\u001b[0m, in \u001b[0;36msolve_continuous_problem\u001b[0;34m(state_choice_space, compute_ccv, continuous_choice_grids, vf_arr, state_indexers, params)\u001b[0m\n\u001b[1;32m     80\u001b[0m \u001b[38;5;250m\u001b[39m\u001b[38;5;124;03m\"\"\"Solve the agent's continuous choices problem problem.\u001b[39;00m\n\u001b[1;32m     81\u001b[0m \n\u001b[1;32m     82\u001b[0m \u001b[38;5;124;03mArgs:\u001b[39;00m\n\u001b[0;32m   (...)\u001b[0m\n\u001b[1;32m    103\u001b[0m \n\u001b[1;32m    104\u001b[0m \u001b[38;5;124;03m\"\"\"\u001b[39;00m\n\u001b[1;32m    105\u001b[0m gridmapped \u001b[38;5;241m=\u001b[39m spacemap(\n\u001b[1;32m    106\u001b[0m     func\u001b[38;5;241m=\u001b[39mcompute_ccv,\n\u001b[1;32m    107\u001b[0m     dense_vars\u001b[38;5;241m=\u001b[39m\u001b[38;5;28mlist\u001b[39m(state_choice_space\u001b[38;5;241m.\u001b[39mdense_vars),\n\u001b[1;32m    108\u001b[0m     sparse_vars\u001b[38;5;241m=\u001b[39m\u001b[38;5;28mlist\u001b[39m(state_choice_space\u001b[38;5;241m.\u001b[39msparse_vars),\n\u001b[1;32m    109\u001b[0m     dense_first\u001b[38;5;241m=\u001b[39m\u001b[38;5;28;01mFalse\u001b[39;00m,\n\u001b[1;32m    110\u001b[0m )\n\u001b[0;32m--> 112\u001b[0m \u001b[38;5;28;01mreturn\u001b[39;00m \u001b[43mgridmapped\u001b[49m\u001b[43m(\u001b[49m\n\u001b[1;32m    113\u001b[0m \u001b[43m    \u001b[49m\u001b[38;5;241;43m*\u001b[39;49m\u001b[38;5;241;43m*\u001b[39;49m\u001b[43mstate_choice_space\u001b[49m\u001b[38;5;241;43m.\u001b[39;49m\u001b[43mdense_vars\u001b[49m\u001b[43m,\u001b[49m\n\u001b[1;32m    114\u001b[0m \u001b[43m    \u001b[49m\u001b[38;5;241;43m*\u001b[39;49m\u001b[38;5;241;43m*\u001b[39;49m\u001b[43mcontinuous_choice_grids\u001b[49m\u001b[43m,\u001b[49m\n\u001b[1;32m    115\u001b[0m \u001b[43m    \u001b[49m\u001b[38;5;241;43m*\u001b[39;49m\u001b[38;5;241;43m*\u001b[39;49m\u001b[43mstate_choice_space\u001b[49m\u001b[38;5;241;43m.\u001b[39;49m\u001b[43msparse_vars\u001b[49m\u001b[43m,\u001b[49m\n\u001b[1;32m    116\u001b[0m \u001b[43m    \u001b[49m\u001b[38;5;241;43m*\u001b[39;49m\u001b[38;5;241;43m*\u001b[39;49m\u001b[43mstate_indexers\u001b[49m\u001b[43m,\u001b[49m\n\u001b[1;32m    117\u001b[0m \u001b[43m    \u001b[49m\u001b[43mvf_arr\u001b[49m\u001b[38;5;241;43m=\u001b[39;49m\u001b[43mvf_arr\u001b[49m\u001b[43m,\u001b[49m\n\u001b[1;32m    118\u001b[0m \u001b[43m    \u001b[49m\u001b[43mparams\u001b[49m\u001b[38;5;241;43m=\u001b[39;49m\u001b[43mparams\u001b[49m\u001b[43m,\u001b[49m\n\u001b[1;32m    119\u001b[0m \u001b[43m\u001b[49m\u001b[43m)\u001b[49m\n",
      "File \u001b[0;32m~/sciebo/thinky/lcm/src/lcm/dispatchers.py:200\u001b[0m, in \u001b[0;36mallow_kwargs.<locals>.allow_kwargs_wrapper\u001b[0;34m(*args, **kwargs)\u001b[0m\n\u001b[1;32m    198\u001b[0m kwargs \u001b[38;5;241m=\u001b[39m {} \u001b[38;5;28;01mif\u001b[39;00m args \u001b[38;5;129;01mis\u001b[39;00m \u001b[38;5;28;01mNone\u001b[39;00m \u001b[38;5;28;01melse\u001b[39;00m kwargs\n\u001b[1;32m    199\u001b[0m \u001b[38;5;28;01mif\u001b[39;00m \u001b[38;5;28mlen\u001b[39m(args) \u001b[38;5;241m+\u001b[39m \u001b[38;5;28mlen\u001b[39m(kwargs) \u001b[38;5;241m!=\u001b[39m \u001b[38;5;28mlen\u001b[39m(parameters):\n\u001b[0;32m--> 200\u001b[0m     \u001b[38;5;28;01mraise\u001b[39;00m \u001b[38;5;167;01mValueError\u001b[39;00m(\u001b[38;5;124m\"\u001b[39m\u001b[38;5;124mNot enough or too many arguments provided.\u001b[39m\u001b[38;5;124m\"\u001b[39m)\n\u001b[1;32m    202\u001b[0m positional \u001b[38;5;241m+\u001b[39m\u001b[38;5;241m=\u001b[39m convert_kwargs_to_args(kwargs, parameters)\n\u001b[1;32m    204\u001b[0m \u001b[38;5;28;01mreturn\u001b[39;00m func(\u001b[38;5;241m*\u001b[39mpositional)\n",
      "\u001b[0;31mValueError\u001b[0m: Not enough or too many arguments provided."
     ]
    }
   ],
   "source": [
    "solution = solve(params)"
   ]
  },
  {
   "cell_type": "code",
   "execution_count": null,
   "id": "df8d7f32-8ed9-43fc-a22d-debbe5d58eac",
   "metadata": {},
   "outputs": [],
   "source": []
  },
  {
   "cell_type": "code",
   "execution_count": null,
   "id": "c5b5dd41-73c3-4561-9b2f-359ae3d555db",
   "metadata": {},
   "outputs": [],
   "source": []
  }
 ],
 "metadata": {
  "kernelspec": {
   "display_name": "Python 3 (ipykernel)",
   "language": "python",
   "name": "python3"
  },
  "language_info": {
   "codemirror_mode": {
    "name": "ipython",
    "version": 3
   },
   "file_extension": ".py",
   "mimetype": "text/x-python",
   "name": "python",
   "nbconvert_exporter": "python",
   "pygments_lexer": "ipython3",
   "version": "3.10.10"
  }
 },
 "nbformat": 4,
 "nbformat_minor": 5
}
