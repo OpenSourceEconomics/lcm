{
 "cells": [
  {
   "cell_type": "markdown",
   "metadata": {},
   "source": [
    "# Explanation of the Function Evaluator\n",
    "\n",
    "In this notebook, we showcase how the function evaluator is used in `lcm`, and how it\n",
    "works. Before we dive into the details, let us consider what is does on a high level.\n",
    "\n",
    "## Motivation\n",
    "\n",
    "Consider the last period of a finite dynamic programming problem. The value function\n",
    "array for this period corresponds to the maximal utility in each state. If the\n",
    "state-space is discretized into states $(x_1, \\ldots, x_p)$, the value function array\n",
    "(in the last period) $V_T$ is a $p$-dimensional array, where the $i$-th entry\n",
    "$V_{T, i} = V_T(x_i)$ is the maximal utility the agent can achieve in state $x_i$.\n",
    "\n",
    "Consider now the Bellman equation for the second-to last period:\n",
    "\n",
    "$$\n",
    "V_{T-1}(x) =\n",
    "    \\max_{a} \\left\\{u(x, a) + \\mathbb{E}_{T-1}\\left[V_T(x') \\mid x, a\\right] \\right\\},\n",
    "$$\n",
    "\n",
    "where $a$ denotes the action, and $x', x$ denote the next and current state,\n",
    "respectively.\n",
    "\n",
    "Depending on the solution algorithm, or the method to approximate the expectation, we\n",
    "may need to evaluate the function $V_T$ at a different set of points than the\n",
    "pre-calculated grid points $(x_1, \\ldots, x_p)$.\n",
    "\n",
    "Ideally, we would like to treat $V_T$ as an analytical function that can be evaluated\n",
    "at any valid state $x$, ignoring the discretization. This is what the function evaluator\n",
    "does.\n",
    "                                                        \n",
    "\n",
    "### Example\n",
    "\n",
    "As an example, consider a stripped down version of the deterministic model from\n",
    "Iskhakov et al. (2017), which removes the absorbing retirement filter and the lagged\n",
    "retirement state compared to the original model (this version can be found in the\n",
    "`tests/test_models/deterministic.py` module). Here we also use a coarser grid to\n",
    "showcase the behavior of the function evaluator."
   ]
  },
  {
   "cell_type": "code",
   "execution_count": 1,
   "metadata": {},
   "outputs": [],
   "source": [
    "import jax.numpy as jnp\n",
    "\n",
    "\n",
    "def utility(consumption, working, disutility_of_work):\n",
    "    return jnp.log(consumption) - disutility_of_work * working\n",
    "\n",
    "\n",
    "def labor_income(working, wage):\n",
    "    return working * wage\n",
    "\n",
    "\n",
    "def working(retirement):\n",
    "    return 1 - retirement\n",
    "\n",
    "\n",
    "def wage(age):\n",
    "    return 1 + 0.1 * age\n",
    "\n",
    "\n",
    "def age(_period):\n",
    "    return _period + 18\n",
    "\n",
    "\n",
    "def next_wealth(wealth, consumption, labor_income, interest_rate):\n",
    "    return (1 + interest_rate) * (wealth - consumption) + labor_income\n",
    "\n",
    "\n",
    "def consumption_constraint(consumption, wealth):\n",
    "    return consumption <= wealth\n",
    "\n",
    "\n",
    "model = {\n",
    "    \"description\": (\n",
    "        \"Starts from Iskhakov et al. (2017), removes filters and the lagged_retirement \"\n",
    "        \"state, and adds wage function that depends on age.\"\n",
    "    ),\n",
    "    \"functions\": {\n",
    "        \"utility\": utility,\n",
    "        \"next_wealth\": next_wealth,\n",
    "        \"consumption_constraint\": consumption_constraint,\n",
    "        \"labor_income\": labor_income,\n",
    "        \"working\": working,\n",
    "        \"wage\": wage,\n",
    "        \"age\": age,\n",
    "    },\n",
    "    \"choices\": {\n",
    "        \"retirement\": {\"options\": [0, 1]},\n",
    "        \"consumption\": {\n",
    "            \"grid_type\": \"linspace\",\n",
    "            \"start\": 1,\n",
    "            \"stop\": 400,\n",
    "            \"n_points\": 20,\n",
    "        },\n",
    "    },\n",
    "    \"states\": {\n",
    "        \"wealth\": {\n",
    "            \"grid_type\": \"linspace\",\n",
    "            \"start\": 1,\n",
    "            \"stop\": 400,\n",
    "            \"n_points\": 10,\n",
    "        },\n",
    "    },\n",
    "    \"n_periods\": 2,\n",
    "}\n",
    "\n",
    "\n",
    "params = {\n",
    "    \"beta\": 0.95,\n",
    "    \"utility\": {\"disutility_of_work\": 0.25},\n",
    "    \"next_wealth\": {\n",
    "        \"interest_rate\": 0.05,\n",
    "    },\n",
    "}"
   ]
  },
  {
   "cell_type": "markdown",
   "metadata": {},
   "source": [
    "To generate the correct JAX grids from this model specification, we process the\n",
    "model manually. This is normally done under the hood in `lcm`."
   ]
  },
  {
   "cell_type": "code",
   "execution_count": 2,
   "metadata": {},
   "outputs": [
    {
     "name": "stderr",
     "output_type": "stream",
     "text": [
      "An NVIDIA GPU may be present on this machine, but a CUDA-enabled jaxlib is not installed. Falling back to cpu.\n"
     ]
    }
   ],
   "source": [
    "from lcm.process_model import process_model\n",
    "\n",
    "processed_model = process_model(model)"
   ]
  },
  {
   "cell_type": "markdown",
   "metadata": {},
   "source": [
    "#### Last period value function array\n",
    "\n",
    "To compute the value function array in the last period, we first generate the utility\n",
    "and feasibility function that depends only on state and action variables, and then\n",
    "compute the maximum over all feasible actions."
   ]
  },
  {
   "cell_type": "code",
   "execution_count": 3,
   "metadata": {},
   "outputs": [
    {
     "name": "stdout",
     "output_type": "stream",
     "text": [
      "\u001b[0;31mSignature:\u001b[0m \u001b[0mu_and_f\u001b[0m\u001b[0;34m(\u001b[0m\u001b[0mconsumption\u001b[0m\u001b[0;34m,\u001b[0m \u001b[0mparams\u001b[0m\u001b[0;34m,\u001b[0m \u001b[0mretirement\u001b[0m\u001b[0;34m,\u001b[0m \u001b[0mwealth\u001b[0m\u001b[0;34m)\u001b[0m\u001b[0;34m\u001b[0m\u001b[0;34m\u001b[0m\u001b[0m\n",
      "\u001b[0;31mDocstring:\u001b[0m <no docstring>\n",
      "\u001b[0;31mFile:\u001b[0m      ~/sciebo-thinky/lcm/.pixi/envs/default/lib/python3.12/site-packages/dags/signature.py\n",
      "\u001b[0;31mType:\u001b[0m      function"
     ]
    }
   ],
   "source": [
    "from lcm.model_functions import get_current_u_and_f\n",
    "\n",
    "u_and_f = get_current_u_and_f(processed_model)\n",
    "u_and_f?"
   ]
  },
  {
   "cell_type": "markdown",
   "metadata": {},
   "source": [
    "We can then evaluate `u_and_f` on scalar values. Notice that in the below example, the\n",
    "action is not feasible since the consumption constraint restricts a consumption level\n",
    "that is higher than the wealth level."
   ]
  },
  {
   "cell_type": "code",
   "execution_count": 4,
   "metadata": {},
   "outputs": [
    {
     "name": "stdout",
     "output_type": "stream",
     "text": [
      "Utility: 4.3601579666137695, feasible: False\n"
     ]
    }
   ],
   "source": [
    "_u, _f = u_and_f(\n",
    "    consumption=100.5,\n",
    "    retirement=0,\n",
    "    wealth=50.25,\n",
    "    params=params,\n",
    ")\n",
    "\n",
    "print(f\"Utility: {_u}, feasible: {_f}\")"
   ]
  },
  {
   "cell_type": "markdown",
   "metadata": {},
   "source": [
    "To evaluate `u_and_f` on the whole state-choice-space we need to use `lcm.productmap`,\n",
    "which allows us to pass in grids for each variable."
   ]
  },
  {
   "cell_type": "code",
   "execution_count": 5,
   "metadata": {},
   "outputs": [
    {
     "data": {
      "text/plain": [
       "dict_keys(['retirement', 'wealth', 'consumption'])"
      ]
     },
     "execution_count": 5,
     "metadata": {},
     "output_type": "execute_result"
    }
   ],
   "source": [
    "processed_model.grids.keys()"
   ]
  },
  {
   "cell_type": "code",
   "execution_count": 6,
   "metadata": {},
   "outputs": [
    {
     "name": "stdout",
     "output_type": "stream",
     "text": [
      "Length of (retirement, consumption, wealth) grids: (10, 20, 2)\n"
     ]
    }
   ],
   "source": [
    "from lcm.dispatchers import productmap\n",
    "\n",
    "u_and_f_mapped = productmap(u_and_f, variables=[\"wealth\", \"consumption\", \"retirement\"])\n",
    "\n",
    "u, f = u_and_f_mapped(**processed_model.grids, params=params)\n",
    "\n",
    "print(f\"Length of (retirement, consumption, wealth) grids: {u.shape}\")"
   ]
  },
  {
   "cell_type": "markdown",
   "metadata": {},
   "source": [
    "Now we can compute the value function array by taking the maximal utility over all\n",
    "feasible actions (axis 1 and 2 correspond to the consumption and retirement dimensions\n",
    "respectively)."
   ]
  },
  {
   "cell_type": "code",
   "execution_count": 7,
   "metadata": {},
   "outputs": [
    {
     "data": {
      "text/plain": [
       "(10,)"
      ]
     },
     "execution_count": 7,
     "metadata": {},
     "output_type": "execute_result"
    }
   ],
   "source": [
    "vf_arr = jnp.max(u, axis=(1, 2), where=f, initial=-jnp.inf)\n",
    "vf_arr.shape"
   ]
  },
  {
   "cell_type": "code",
   "execution_count": 8,
   "metadata": {},
   "outputs": [
    {
     "data": {
      "image/png": "[encoded data removed]",
      "text/plain": [
       "<Figure size 640x480 with 1 Axes>"
      ]
     },
     "metadata": {},
     "output_type": "display_data"
    }
   ],
   "source": [
    "import matplotlib.pyplot as plt\n",
    "\n",
    "wealth_grid = processed_model.grids[\"wealth\"]\n",
    "\n",
    "plt.plot(wealth_grid, vf_arr)\n",
    "plt.scatter(wealth_grid, vf_arr)\n",
    "plt.xlabel(\"Wealth ($x$)\")\n",
    "plt.ylabel(\"$V_T(x)$\")\n",
    "plt.show()"
   ]
  },
  {
   "cell_type": "markdown",
   "metadata": {},
   "source": [
    "#### Interpolation\n",
    "\n",
    "What happens now if we want to know the value of $V_T$ at 25 or 75? We need to perform\n",
    "some kind of interpolation. This is where the function evaluator comes into play, which\n",
    "returns pre-calculated values if evaluated on a grid point, and linearly interpolated\n",
    "values otherwise.\n",
    "\n",
    "To optimally utilize the structure of the grids when interpolating, the function evaluator\n",
    "requires information on the state space."
   ]
  },
  {
   "cell_type": "code",
   "execution_count": 9,
   "metadata": {},
   "outputs": [],
   "source": [
    "from lcm.state_space import create_state_choice_space\n",
    "\n",
    "# the space info object contains information on the grid structure etc.\n",
    "_, space_info, *_ = create_state_choice_space(\n",
    "    model=processed_model,\n",
    "    period=1,\n",
    "    is_last_period=True,\n",
    "    jit_filter=False,\n",
    ")"
   ]
  },
  {
   "cell_type": "markdown",
   "metadata": {},
   "source": [
    "#### Generating the function evaluator"
   ]
  },
  {
   "cell_type": "code",
   "execution_count": 10,
   "metadata": {},
   "outputs": [],
   "source": [
    "from functools import partial\n",
    "\n",
    "from lcm.function_evaluator import get_function_evaluator\n",
    "\n",
    "_value_function = get_function_evaluator(\n",
    "    space_info=space_info,\n",
    "    data_name=\"vf_arr\",  # this will become an argument of the returned function\n",
    ")\n",
    "\n",
    "# We need to apply productmap and pass in the pre-calculated value function array\n",
    "value_function = partial(\n",
    "    productmap(_value_function, variables=[\"wealth\"]),\n",
    "    vf_arr=vf_arr,\n",
    ")"
   ]
  },
  {
   "cell_type": "markdown",
   "metadata": {},
   "source": [
    "#### Visualizing the results\n",
    "\n",
    "Notice that the line that connects the points\n",
    "generated by matplotlib is already a linear interpolation. On top of the grid points, we evaluate the value function\n",
    "on points that are not pre-calculated. Ideally, these points will lie on the\n",
    "line generated by matplotlib.\n"
   ]
  },
  {
   "cell_type": "code",
   "execution_count": 11,
   "metadata": {},
   "outputs": [],
   "source": [
    "wealth_grid = processed_model.grids[\"wealth\"]\n",
    "new_wealth_values = jnp.array([10, 25, 75, 210, 300])\n",
    "\n",
    "v_on_grid = value_function(wealth=wealth_grid)\n",
    "v_on_new_values = value_function(wealth=new_wealth_values)"
   ]
  },
  {
   "cell_type": "code",
   "execution_count": 12,
   "metadata": {},
   "outputs": [
    {
     "data": {
      "image/png": "[encoded data removed]",
      "text/plain": [
       "<Figure size 640x480 with 1 Axes>"
      ]
     },
     "metadata": {},
     "output_type": "display_data"
    }
   ],
   "source": [
    "import matplotlib.pyplot as plt\n",
    "\n",
    "plt.scatter(wealth_grid, vf_arr, alpha=0.5, zorder=-1, label=\"Pre-calculated values\")\n",
    "plt.plot(\n",
    "    wealth_grid,\n",
    "    vf_arr,\n",
    "    zorder=-1,\n",
    "    label=\"Linear interpolation (matplotlib)\",\n",
    ")\n",
    "plt.scatter(wealth_grid, v_on_grid, color=\"orange\", s=7)\n",
    "plt.scatter(\n",
    "    new_wealth_values,\n",
    "    v_on_new_values,\n",
    "    color=\"orange\",\n",
    "    s=35,\n",
    "    label=\"Interpolated values\",\n",
    ")\n",
    "plt.xlabel(\"Wealth ($x$)\")\n",
    "plt.ylabel(\"$V_T(x)$\")\n",
    "plt.legend()\n",
    "plt.show()"
   ]
  },
  {
   "cell_type": "markdown",
   "metadata": {},
   "source": [
    "## Technical Details\n",
    "\n",
    "In the following, we will discuss the underlying functions that are used to implement\n",
    "the function evaluator.\n",
    "\n",
    "### Label Translator\n",
    "\n",
    "The label translator is used to map the labels of dense discrete grids to their\n",
    "corresponding index in the grid. Currently, `lcm` works under the assumption that\n",
    "internal discrete grids always correspond to their indices. That is, a grid like [2, 3]\n",
    "is not allowed, but would have to be represented as [0, 1] to be valid.\n",
    "\n",
    "For the user this is not a restriction, as the model processing can automatically\n",
    "convert arbitrary discrete integer grids to the corresponding index grid (once\n",
    "issue [#82](https://github.com/OpenSourceEconomics/lcm/issues/82) is tackled).\n",
    "\n",
    "Under this assumption, the label translator is simply the identity function."
   ]
  },
  {
   "cell_type": "code",
   "execution_count": 13,
   "metadata": {},
   "outputs": [
    {
     "name": "stdout",
     "output_type": "stream",
     "text": [
      "\u001b[0;31mSignature:\u001b[0m \u001b[0mtranslator\u001b[0m\u001b[0;34m(\u001b[0m\u001b[0mhealth\u001b[0m\u001b[0;34m)\u001b[0m\u001b[0;34m\u001b[0m\u001b[0;34m\u001b[0m\u001b[0m\n",
      "\u001b[0;31mDocstring:\u001b[0m <no docstring>\n",
      "\u001b[0;31mFile:\u001b[0m      ~/sciebo-thinky/lcm/src/lcm/function_evaluator.py\n",
      "\u001b[0;31mType:\u001b[0m      function"
     ]
    }
   ],
   "source": [
    "from lcm.function_evaluator import _get_label_translator\n",
    "\n",
    "translator = _get_label_translator(in_name=\"health\")\n",
    "translator?"
   ]
  },
  {
   "cell_type": "code",
   "execution_count": 14,
   "metadata": {},
   "outputs": [
    {
     "data": {
      "text/plain": [
       "3"
      ]
     },
     "execution_count": 14,
     "metadata": {},
     "output_type": "execute_result"
    }
   ],
   "source": [
    "translator(3)"
   ]
  },
  {
   "cell_type": "markdown",
   "metadata": {},
   "source": [
    "### Lookup Function\n",
    "\n",
    "The lookup function emulates indexing into an array via named axes. These helper\n",
    "functions are important because we use `dags.concatenate_functions` to combine all\n",
    "auxiliary functions to get the final function evaluator."
   ]
  },
  {
   "cell_type": "code",
   "execution_count": 15,
   "metadata": {},
   "outputs": [
    {
     "name": "stdout",
     "output_type": "stream",
     "text": [
      "\u001b[0;31mSignature:\u001b[0m \u001b[0mlookup\u001b[0m\u001b[0;34m(\u001b[0m\u001b[0mwealth_index\u001b[0m\u001b[0;34m,\u001b[0m \u001b[0mvf_arr\u001b[0m\u001b[0;34m)\u001b[0m\u001b[0;34m\u001b[0m\u001b[0;34m\u001b[0m\u001b[0m\n",
      "\u001b[0;31mDocstring:\u001b[0m <no docstring>\n",
      "\u001b[0;31mFile:\u001b[0m      ~/sciebo-thinky/lcm/src/lcm/function_evaluator.py\n",
      "\u001b[0;31mType:\u001b[0m      function"
     ]
    }
   ],
   "source": [
    "from lcm.function_evaluator import _get_lookup_function\n",
    "\n",
    "lookup = _get_lookup_function(array_name=\"vf_arr\", axis_names=[\"wealth_index\"])\n",
    "lookup?"
   ]
  },
  {
   "cell_type": "code",
   "execution_count": 16,
   "metadata": {},
   "outputs": [
    {
     "data": {
      "text/plain": [
       "Array([0.       , 3.7612002, 4.4426513, 4.8441873, 5.1298985, 5.351858 ,\n",
       "       5.5333896, 5.6869755, 5.820083 , 5.9914646], dtype=float32)"
      ]
     },
     "execution_count": 16,
     "metadata": {},
     "output_type": "execute_result"
    }
   ],
   "source": [
    "vf_arr"
   ]
  },
  {
   "cell_type": "code",
   "execution_count": 17,
   "metadata": {},
   "outputs": [
    {
     "data": {
      "text/plain": [
       "Array([0.       , 4.4426513, 5.351858 ], dtype=float32)"
      ]
     },
     "execution_count": 17,
     "metadata": {},
     "output_type": "execute_result"
    }
   ],
   "source": [
    "vf_arr[jnp.array([0, 2, 5])]"
   ]
  },
  {
   "cell_type": "code",
   "execution_count": 18,
   "metadata": {},
   "outputs": [
    {
     "data": {
      "text/plain": [
       "Array([0.       , 4.4426513, 5.351858 ], dtype=float32)"
      ]
     },
     "execution_count": 18,
     "metadata": {},
     "output_type": "execute_result"
    }
   ],
   "source": [
    "lookup(wealth_index=jnp.array([0, 2, 5]), vf_arr=vf_arr)"
   ]
  },
  {
   "cell_type": "markdown",
   "metadata": {},
   "source": [
    "### Coordinate Finder\n",
    "\n",
    "For continuous grids (linearly and logarithmically spaced), the coordinate finder\n",
    "returns the *general* index corresponding to the given value. As an example, consider a\n",
    "linearly spaced grid [1, 2, 3]. The general coordinate value given the value 1.5 is in\n",
    "this case 0.5, because 1.5 is exactly in the middle between 1 (index = 0) and 2 (index =\n",
    "1). The output of the coordinate finder can then be used by\n",
    "`jax.scipy.ndimage.map_coordinates` for the interpolation."
   ]
  },
  {
   "cell_type": "code",
   "execution_count": 19,
   "metadata": {},
   "outputs": [
    {
     "data": {
      "text/plain": [
       "Array([  1.      ,  45.333336,  89.66667 , 134.00002 , 178.33334 ,\n",
       "       222.66667 , 267.00003 , 311.33334 , 355.6667  , 400.      ],      dtype=float32)"
      ]
     },
     "execution_count": 19,
     "metadata": {},
     "output_type": "execute_result"
    }
   ],
   "source": [
    "from lcm.interfaces import ContinuousGridInfo\n",
    "\n",
    "wealth_grid_info = ContinuousGridInfo(start=1, stop=400, n_points=10)\n",
    "\n",
    "# Assuming a linear spacing, grid_info correponds to the following grid:\n",
    "jnp.linspace(1, 400, 10)"
   ]
  },
  {
   "cell_type": "code",
   "execution_count": 20,
   "metadata": {},
   "outputs": [
    {
     "name": "stdout",
     "output_type": "stream",
     "text": [
      "\u001b[0;31mSignature:\u001b[0m \u001b[0mwealth_coordinate_finder\u001b[0m\u001b[0;34m(\u001b[0m\u001b[0mwealth\u001b[0m\u001b[0;34m)\u001b[0m\u001b[0;34m\u001b[0m\u001b[0;34m\u001b[0m\u001b[0m\n",
      "\u001b[0;31mDocstring:\u001b[0m <no docstring>\n",
      "\u001b[0;31mFile:\u001b[0m      ~/sciebo-thinky/lcm/src/lcm/function_evaluator.py\n",
      "\u001b[0;31mType:\u001b[0m      function"
     ]
    }
   ],
   "source": [
    "from lcm.function_evaluator import _get_coordinate_finder\n",
    "\n",
    "wealth_coordinate_finder = _get_coordinate_finder(\n",
    "    in_name=\"wealth\",\n",
    "    grid_type=\"linspace\",\n",
    "    grid_info=wealth_grid_info,\n",
    ")\n",
    "wealth_coordinate_finder?"
   ]
  },
  {
   "cell_type": "code",
   "execution_count": 21,
   "metadata": {},
   "outputs": [
    {
     "data": {
      "text/plain": [
       "Array([0.        , 0.50000006, 4.488722  , 8.999998  ], dtype=float32)"
      ]
     },
     "execution_count": 21,
     "metadata": {},
     "output_type": "execute_result"
    }
   ],
   "source": [
    "wealth_values = jnp.array([1, (1 + 45.333336) / 2, 200, 399.9999])\n",
    "\n",
    "wealth_coordinate_finder(wealth=wealth_values)"
   ]
  },
  {
   "cell_type": "markdown",
   "metadata": {},
   "source": [
    "### Interpolator"
   ]
  },
  {
   "cell_type": "code",
   "execution_count": 22,
   "metadata": {},
   "outputs": [
    {
     "name": "stdout",
     "output_type": "stream",
     "text": [
      "\u001b[0;31mSignature:\u001b[0m \u001b[0mvalue_function_interpolator\u001b[0m\u001b[0;34m(\u001b[0m\u001b[0mvf_arr\u001b[0m\u001b[0;34m,\u001b[0m \u001b[0mwealth_index\u001b[0m\u001b[0;34m)\u001b[0m\u001b[0;34m\u001b[0m\u001b[0;34m\u001b[0m\u001b[0m\n",
      "\u001b[0;31mDocstring:\u001b[0m <no docstring>\n",
      "\u001b[0;31mFile:\u001b[0m      ~/sciebo-thinky/lcm/src/lcm/function_evaluator.py\n",
      "\u001b[0;31mType:\u001b[0m      function"
     ]
    }
   ],
   "source": [
    "from lcm.function_evaluator import _get_interpolator\n",
    "\n",
    "value_function_interpolator = _get_interpolator(\n",
    "    data_name=\"vf_arr\",\n",
    "    axis_names=[\"wealth_index\"],\n",
    "    map_coordinates_options=None,\n",
    ")\n",
    "value_function_interpolator?"
   ]
  },
  {
   "cell_type": "code",
   "execution_count": 23,
   "metadata": {},
   "outputs": [
    {
     "data": {
      "text/plain": [
       "Array([0.       , 1.8806003, 5.238375 , 5.991464 ], dtype=float32)"
      ]
     },
     "execution_count": 23,
     "metadata": {},
     "output_type": "execute_result"
    }
   ],
   "source": [
    "wealth_indices = wealth_coordinate_finder(wealth=wealth_values)\n",
    "\n",
    "vf_interpolations = value_function_interpolator(\n",
    "    wealth_index=wealth_indices,\n",
    "    vf_arr=vf_arr,\n",
    ")\n",
    "vf_interpolations"
   ]
  },
  {
   "cell_type": "code",
   "execution_count": 24,
   "metadata": {},
   "outputs": [
    {
     "data": {
      "image/png": "[encoded data removed]",
      "text/plain": [
       "<Figure size 640x480 with 1 Axes>"
      ]
     },
     "metadata": {},
     "output_type": "display_data"
    }
   ],
   "source": [
    "import matplotlib.pyplot as plt\n",
    "\n",
    "plt.scatter(wealth_grid, vf_arr, alpha=0.5, zorder=-1, label=\"Pre-calculated values\")\n",
    "plt.plot(\n",
    "    wealth_grid,\n",
    "    vf_arr,\n",
    "    zorder=-1,\n",
    "    label=\"Linear interpolation (matplotlib)\",\n",
    ")\n",
    "plt.scatter(\n",
    "    wealth_values,\n",
    "    vf_interpolations,\n",
    "    color=\"orange\",\n",
    "    s=35,\n",
    "    label=\"Interpolated values\",\n",
    ")\n",
    "plt.xlabel(\"Wealth ($x$)\")\n",
    "plt.ylabel(\"$V_T(x)$\")\n",
    "plt.legend()\n",
    "plt.show()"
   ]
  },
  {
   "cell_type": "markdown",
   "metadata": {},
   "source": [
    "## Re-implementation of the function evaluator given the example model\n",
    "\n",
    "### The Steps\n",
    "\n",
    "In this section, we will re-implement the function evaluator for the example model\n",
    "specified above. The general idea is that we create a functions dictionary that contains\n",
    "all relevant lookup and interpolation functions, and then combine all of them with\n",
    "`dags.concatenate_functions`.\n",
    "\n",
    "\n",
    "#### Step 1: Add functions to look up positions of discrete state variables given their labels\n",
    "\n",
    "In the above example model there are no discrete state variables, so we can skip this\n",
    "step.\n",
    "\n",
    "\n",
    "#### Step 2: Wrap indexers and put them into functions\n",
    "\n",
    "In the above example model there are no filters, and thus, no sparse states. Therefore,\n",
    "we also don't have any indexers. In the general case, we would have to generate\n",
    "lookup functions for each indexer.\n",
    "\n",
    "\n",
    "#### Step 3: Create the lookup function for the discrete part\n",
    "\n",
    "If the model does not require interpolation, i.e., the model is fully discrete, this\n",
    "step is the last step before concatenating all functions. If there are continuous\n",
    "state variables in the model, then the lookup function created in this step serves as\n",
    "the provider of the interpolation data for the next step. In the example model, there\n",
    "are no discrete state variables, so the function is the identity function, i.e., it will\n",
    "pass the value function array directly to the interpolation functions.\n",
    "\n",
    "\n",
    "#### Step 4: Create the interpolation function\n",
    "\n",
    "If the model requires interpolation, as in the above example model, interpolation\n",
    "functions have to be added for each continuous state variable.\n",
    "\n",
    "1. Add a coordinate finder for each continuous state variable\n",
    "   \n",
    "   This allows us to map values of the state variable into their corresponding\n",
    "   general indices.\n",
    "\n",
    "1. Add an interpolator\n",
    "\n",
    "   This allows us to use the general indices to interpolate the values of the state\n",
    "   variable at the corresponding grid points.\n",
    "\n",
    "\n",
    "#### Step 5: Throwing everything into dags.\n",
    "\n",
    "### The Implementation"
   ]
  },
  {
   "cell_type": "code",
   "execution_count": 25,
   "metadata": {},
   "outputs": [
    {
     "data": {
      "text/plain": [
       "{}"
      ]
     },
     "execution_count": 25,
     "metadata": {},
     "output_type": "execute_result"
    }
   ],
   "source": [
    "# Create the functions dictionary that will be passed to `dags.concatenate_functions`\n",
    "funcs = {}\n",
    "\n",
    "\n",
    "# Step 1: Since there are no discrete state variables the lookup info is empty, and we\n",
    "# do not require any label translator\n",
    "space_info.lookup_info"
   ]
  },
  {
   "cell_type": "code",
   "execution_count": 26,
   "metadata": {},
   "outputs": [
    {
     "data": {
      "text/plain": [
       "[]"
      ]
     },
     "execution_count": 26,
     "metadata": {},
     "output_type": "execute_result"
    }
   ],
   "source": [
    "# Step 2: Since there are no filters, and thus no sparse states, the indexer info is\n",
    "# empty, and we do not require any lookup functions for them\n",
    "space_info.indexer_infos"
   ]
  },
  {
   "cell_type": "code",
   "execution_count": 27,
   "metadata": {},
   "outputs": [],
   "source": [
    "# Step 3: Since there are no discrete state variables in the model, the discrete\n",
    "# lookup coincides with the identity function. Since there are continuous state\n",
    "# variables in the model, we must interpolate and the data that is returned here is\n",
    "# used as interpolation data.\n",
    "\n",
    "\n",
    "def discrete_lookup(vf_arr):\n",
    "    return vf_arr\n",
    "\n",
    "\n",
    "# if there was no interpolation, the entry in the funcs dictionary would have to be\n",
    "# '__fval__'.\n",
    "funcs[\"__interpolation_data__\"] = discrete_lookup"
   ]
  },
  {
   "cell_type": "code",
   "execution_count": 28,
   "metadata": {},
   "outputs": [],
   "source": [
    "# Step 4: (1) First we need to add a coordinate finder for the wealth state variable\n",
    "\n",
    "funcs[\"__wealth_coord__\"] = wealth_coordinate_finder\n",
    "\n",
    "# Step 4: (2) And second, we need to add an interpolator for the value function that\n",
    "# uses the wealth coordinate finder as an input.\n",
    "\n",
    "interpolator = _get_interpolator(\n",
    "    data_name=\"__interpolation_data__\",  # given step 3, this will just be vf_arr\n",
    "    axis_names=[\"__wealth_coord__\"],\n",
    "    map_coordinates_options=None,\n",
    ")\n",
    "funcs[\"__fval__\"] = interpolator"
   ]
  },
  {
   "cell_type": "code",
   "execution_count": 29,
   "metadata": {},
   "outputs": [
    {
     "name": "stdout",
     "output_type": "stream",
     "text": [
      "\u001b[0;31mSignature:\u001b[0m \u001b[0mvalue_function\u001b[0m\u001b[0;34m(\u001b[0m\u001b[0mvf_arr\u001b[0m\u001b[0;34m,\u001b[0m \u001b[0mwealth\u001b[0m\u001b[0;34m)\u001b[0m\u001b[0;34m\u001b[0m\u001b[0;34m\u001b[0m\u001b[0m\n",
      "\u001b[0;31mDocstring:\u001b[0m <no docstring>\n",
      "\u001b[0;31mFile:\u001b[0m      ~/sciebo-thinky/lcm/.pixi/envs/default/lib/python3.12/site-packages/dags/dag.py\n",
      "\u001b[0;31mType:\u001b[0m      function"
     ]
    }
   ],
   "source": [
    "# Step 5: Throwing everything into dags\n",
    "from dags import concatenate_functions\n",
    "\n",
    "value_function = concatenate_functions(\n",
    "    functions=funcs,\n",
    "    targets=\"__fval__\",\n",
    ")\n",
    "value_function?"
   ]
  },
  {
   "cell_type": "code",
   "execution_count": 30,
   "metadata": {},
   "outputs": [],
   "source": [
    "vf_evaluated = value_function(wealth=wealth_grid, vf_arr=vf_arr)"
   ]
  },
  {
   "cell_type": "code",
   "execution_count": 31,
   "metadata": {},
   "outputs": [
    {
     "data": {
      "image/png": "[encoded data removed]",
      "text/plain": [
       "<Figure size 640x480 with 1 Axes>"
      ]
     },
     "metadata": {},
     "output_type": "display_data"
    }
   ],
   "source": [
    "import matplotlib.pyplot as plt\n",
    "\n",
    "plt.scatter(wealth_grid, vf_arr, alpha=0.5, zorder=-1, label=\"Pre-calculated values\")\n",
    "plt.plot(\n",
    "    wealth_grid,\n",
    "    vf_arr,\n",
    "    zorder=-1,\n",
    "    label=\"Linear interpolation (matplotlib)\",\n",
    ")\n",
    "plt.scatter(wealth_grid, vf_evaluated, color=\"orange\", s=7, label=\"Value Function\")\n",
    "plt.xlabel(\"Wealth ($x$)\")\n",
    "plt.ylabel(\"$V_T(x)$\")\n",
    "plt.legend()\n",
    "plt.show()"
   ]
  }
 ],
 "metadata": {
  "kernelspec": {
   "display_name": "Python 3",
   "language": "python",
   "name": "python3"
  },
  "language_info": {
   "codemirror_mode": {
    "name": "ipython",
    "version": 3
   },
   "file_extension": ".py",
   "mimetype": "text/x-python",
   "name": "python",
   "nbconvert_exporter": "python",
   "pygments_lexer": "ipython3",
   "version": "3.12.0"
  }
 },
 "nbformat": 4,
 "nbformat_minor": 2
}
