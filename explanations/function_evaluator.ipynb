{
 "cells": [
  {
   "cell_type": "markdown",
   "metadata": {},
   "source": [
    "# Explanation of the Function Evaluator\n",
    "\n",
    "In this notebook, we showcase how the function evaluator is used in `lcm`, and how it\n",
    "works. Before we dive into the details, let us consider what is does on a high level.\n",
    "\n",
    "## Motivation\n",
    "\n",
    "Consider the last period of a finite dynamic programming problem. The value function\n",
    "array for this period corresponds to the maximal utility in each state. If the\n",
    "state-space is discretized into states $(x_1, \\ldots, x_p)$, the value function array\n",
    "(in the last period) $V_T$ is a $p$-dimensional array, where $V_{T, i} = V_T(x_i)$ is\n",
    "the maximal utility the agent can achieve in state $x_i$.\n",
    "\n",
    "Consider now the Bellman equation for the second-to last period:\n",
    "\n",
    "$$\n",
    "V_{T-1}(x) =\n",
    "    \\max_{a} \\left\\{u(x, a) + \\mathbb{E}_{T-1}\\left[V_T(x') \\mid x, a\\right] \\right\\},\n",
    "$$\n",
    "\n",
    "where $a$ denotes the action, and $x', x$ denote the next and current state,\n",
    "respectively.\n",
    "\n",
    "Depending on the solution algorithm, or the method to approximate the expectation, we\n",
    "may need to evaluate the function $V_T$ at a different set of points than the\n",
    "pre-calculated grid points $(x_1, \\ldots, x_p)$.\n",
    "\n",
    "Ideally, we would like to treat $V_T$ as an analytical function that can be evaluated\n",
    "at any valid state $x$, ignoring the discretization. This is what the function evaluator\n",
    "does.\n",
    "                                                        \n",
    "\n",
    "### Example\n",
    "\n",
    "As an example, consider a stripped down version of the deterministic model from\n",
    "Iskhakov et al. (2017), which removes the absorbing retirement filter and the lagged\n",
    "retirement state compared to the original model (this version can be found in the\n",
    "`tests/test_models/deterministic.py` module). Here we also use a coarser grid to\n",
    "showcase the behavior of the function evaluator."
   ]
  },
  {
   "cell_type": "code",
   "execution_count": 66,
   "metadata": {},
   "outputs": [],
   "source": [
    "import jax.numpy as jnp\n",
    "\n",
    "\n",
    "def utility(consumption, working, disutility_of_work):\n",
    "    return jnp.log(consumption) - disutility_of_work * working\n",
    "\n",
    "\n",
    "def labor_income(working, wage):\n",
    "    return working * wage\n",
    "\n",
    "\n",
    "def working(retirement):\n",
    "    return 1 - retirement\n",
    "\n",
    "\n",
    "def wage(age):\n",
    "    return 1 + 0.1 * age\n",
    "\n",
    "\n",
    "def age(_period):\n",
    "    return _period + 18\n",
    "\n",
    "\n",
    "def next_wealth(wealth, consumption, labor_income, interest_rate):\n",
    "    return (1 + interest_rate) * (wealth - consumption) + labor_income\n",
    "\n",
    "\n",
    "def consumption_constraint(consumption, wealth):\n",
    "    return consumption <= wealth\n",
    "\n",
    "\n",
    "model = {\n",
    "    \"description\": (\n",
    "        \"Starts from Iskhakov et al. (2017), removes filters and the lagged_retirement \"\n",
    "        \"state, and adds wage function that depends on age.\"\n",
    "    ),\n",
    "    \"functions\": {\n",
    "        \"utility\": utility,\n",
    "        \"next_wealth\": next_wealth,\n",
    "        \"consumption_constraint\": consumption_constraint,\n",
    "        \"labor_income\": labor_income,\n",
    "        \"working\": working,\n",
    "        \"wage\": wage,\n",
    "        \"age\": age,\n",
    "    },\n",
    "    \"choices\": {\n",
    "        \"retirement\": {\"options\": [0, 1]},\n",
    "        \"consumption\": {\n",
    "            \"grid_type\": \"linspace\",\n",
    "            \"start\": 1,\n",
    "            \"stop\": 400,\n",
    "            \"n_points\": 20,\n",
    "        },\n",
    "    },\n",
    "    \"states\": {\n",
    "        \"wealth\": {\n",
    "            \"grid_type\": \"linspace\",\n",
    "            \"start\": 1,\n",
    "            \"stop\": 400,\n",
    "            \"n_points\": 10,\n",
    "        },\n",
    "    },\n",
    "    \"n_periods\": 2,\n",
    "}\n",
    "\n",
    "\n",
    "params = {\n",
    "    \"beta\": 0.95,\n",
    "    \"utility\": {\"disutility_of_work\": 0.25},\n",
    "    \"next_wealth\": {\n",
    "        \"interest_rate\": 0.05,\n",
    "    },\n",
    "}"
   ]
  },
  {
   "cell_type": "markdown",
   "metadata": {},
   "source": [
    "To generate the correct JAX grids from this model specification, let us process the\n",
    "model manually. Note that normally, this is done under the hood in `lcm`."
   ]
  },
  {
   "cell_type": "code",
   "execution_count": 76,
   "metadata": {},
   "outputs": [],
   "source": [
    "from lcm.process_model import process_model\n",
    "\n",
    "processed_model = process_model(model)"
   ]
  },
  {
   "cell_type": "markdown",
   "metadata": {},
   "source": [
    "#### Last period value function array\n",
    "\n",
    "To compute the value function array in the last period, we first generate the utility\n",
    "and feasibility function that depends only on state and choice variables, and then\n",
    "compute the maximum over all feasible actions."
   ]
  },
  {
   "cell_type": "code",
   "execution_count": 77,
   "metadata": {},
   "outputs": [
    {
     "name": "stdout",
     "output_type": "stream",
     "text": [
      "\u001b[0;31mSignature:\u001b[0m \u001b[0mu_and_f\u001b[0m\u001b[0;34m(\u001b[0m\u001b[0mconsumption\u001b[0m\u001b[0;34m,\u001b[0m \u001b[0mparams\u001b[0m\u001b[0;34m,\u001b[0m \u001b[0mretirement\u001b[0m\u001b[0;34m,\u001b[0m \u001b[0mwealth\u001b[0m\u001b[0;34m)\u001b[0m\u001b[0;34m\u001b[0m\u001b[0;34m\u001b[0m\u001b[0m\n",
      "\u001b[0;31mDocstring:\u001b[0m <no docstring>\n",
      "\u001b[0;31mFile:\u001b[0m      ~/sciebo-thinky/lcm/.pixi/envs/default/lib/python3.12/site-packages/dags/signature.py\n",
      "\u001b[0;31mType:\u001b[0m      function"
     ]
    }
   ],
   "source": [
    "from lcm.model_functions import get_current_u_and_f\n",
    "\n",
    "u_and_f = get_current_u_and_f(processed_model)\n",
    "u_and_f?"
   ]
  },
  {
   "cell_type": "markdown",
   "metadata": {},
   "source": [
    "We can then evaluate `u_and_f` on scalar values. Notice that in the below example, the\n",
    "action is not feasible since the consumption constraint restricts a consumption level\n",
    "that is higher than the wealth level."
   ]
  },
  {
   "cell_type": "code",
   "execution_count": 70,
   "metadata": {},
   "outputs": [
    {
     "name": "stdout",
     "output_type": "stream",
     "text": [
      "Utility: 4.3601579666137695, feasible: False\n"
     ]
    }
   ],
   "source": [
    "_u, _f = u_and_f(\n",
    "    consumption=100.5,\n",
    "    retirement=0,\n",
    "    wealth=50.25,\n",
    "    params=params,\n",
    ")\n",
    "\n",
    "print(f\"Utility: {_u}, feasible: {_f}\")"
   ]
  },
  {
   "cell_type": "markdown",
   "metadata": {},
   "source": [
    "To evaluate `u_and_f` on the whole state-choice-space we need to use `lcm.productmap`,\n",
    "which allows us to pass in grids for each variable."
   ]
  },
  {
   "cell_type": "code",
   "execution_count": 80,
   "metadata": {},
   "outputs": [
    {
     "data": {
      "text/plain": [
       "dict_keys(['retirement', 'wealth', 'consumption'])"
      ]
     },
     "execution_count": 80,
     "metadata": {},
     "output_type": "execute_result"
    }
   ],
   "source": [
    "processed_model.grids.keys()"
   ]
  },
  {
   "cell_type": "code",
   "execution_count": 83,
   "metadata": {},
   "outputs": [
    {
     "name": "stdout",
     "output_type": "stream",
     "text": [
      "Length of (retirement, consumption, wealth) grids: (10, 20, 2)\n"
     ]
    }
   ],
   "source": [
    "from lcm.dispatchers import productmap\n",
    "\n",
    "u_and_f_mapped = productmap(u_and_f, variables=[\"wealth\", \"consumption\", \"retirement\"])\n",
    "\n",
    "u, f = u_and_f_mapped(**processed_model.grids, params=params)\n",
    "\n",
    "print(f\"Length of (retirement, consumption, wealth) grids: {u.shape}\")"
   ]
  },
  {
   "cell_type": "markdown",
   "metadata": {},
   "source": [
    "Now we can compute the value function array by taking the maximal utility over all\n",
    "feasible actions (axis 1 and 2 correspond to the consumption and retirement dimensions\n",
    "respectively)."
   ]
  },
  {
   "cell_type": "code",
   "execution_count": 72,
   "metadata": {},
   "outputs": [
    {
     "data": {
      "text/plain": [
       "(10,)"
      ]
     },
     "execution_count": 72,
     "metadata": {},
     "output_type": "execute_result"
    }
   ],
   "source": [
    "vf_arr = jnp.max(u, axis=(1, 2), where=f, initial=-jnp.inf)\n",
    "vf_arr.shape"
   ]
  },
  {
   "cell_type": "code",
   "execution_count": 95,
   "metadata": {},
   "outputs": [
    {
     "data": {
      "image/png": "[encoded data removed]",
      "text/plain": [
       "<Figure size 640x480 with 1 Axes>"
      ]
     },
     "metadata": {},
     "output_type": "display_data"
    }
   ],
   "source": [
    "import matplotlib.pyplot as plt\n",
    "\n",
    "wealth_grid = processed_model.grids[\"wealth\"]\n",
    "\n",
    "plt.plot(wealth_grid, vf_arr)\n",
    "plt.scatter(wealth_grid, vf_arr)\n",
    "plt.xlabel(\"Wealth ($x$)\")\n",
    "plt.ylabel(\"$V_T(x)$\")\n",
    "plt.show()"
   ]
  },
  {
   "cell_type": "markdown",
   "metadata": {},
   "source": [
    "#### Interpolation\n",
    "\n",
    "What happens now if we want to know the value of $V_T$ at 25 or 75? We need to perform\n",
    "some kind of interpolation. This is where the function evaluator comes into play, which\n",
    "returns pre-calculated values if evaluated on a grid point, and linearly interpolated\n",
    "values otherwise.\n",
    "\n",
    "To optimally utilize the structure of grid when interpolating, the function evaluator\n",
    "requires information on the state space."
   ]
  },
  {
   "cell_type": "code",
   "execution_count": 122,
   "metadata": {},
   "outputs": [],
   "source": [
    "from lcm.state_space import create_state_choice_space\n",
    "\n",
    "# the space info object contains information on the grid structure etc.\n",
    "_, space_info, *_ = create_state_choice_space(\n",
    "    model=processed_model,\n",
    "    period=1,\n",
    "    is_last_period=True,\n",
    "    jit_filter=False,\n",
    ")"
   ]
  },
  {
   "cell_type": "code",
   "execution_count": 101,
   "metadata": {},
   "outputs": [],
   "source": [
    "from functools import partial\n",
    "\n",
    "from lcm.function_evaluator import get_function_evaluator\n",
    "\n",
    "_value_function = get_function_evaluator(\n",
    "    space_info=space_info,\n",
    "    data_name=\"vf_arr\",  # this will become an argument of the returned function\n",
    ")\n",
    "\n",
    "# We need to apply productmap and pass in the pre-calculated value function array\n",
    "value_function = partial(\n",
    "    productmap(_value_function, variables=[\"wealth\"]),\n",
    "    vf_arr=vf_arr,\n",
    ")"
   ]
  },
  {
   "cell_type": "markdown",
   "metadata": {},
   "source": [
    "#### Visualizing the results\n",
    "\n",
    "Let us now plot the value function again. Notice that the line that connects the points\n",
    "generated by matplotlib is a linear interpolation. We also evaluate the value function\n",
    "on points that are not pre-calculated. We would like to see that those points lie on the\n",
    "line generated by matplotlib.\n"
   ]
  },
  {
   "cell_type": "code",
   "execution_count": 141,
   "metadata": {},
   "outputs": [],
   "source": [
    "wealth_grid = processed_model.grids[\"wealth\"]\n",
    "new_wealth_values = jnp.array([10, 25, 75, 210, 300])\n",
    "\n",
    "v_on_grid = value_function(wealth=wealth_grid)\n",
    "v_on_new_values = value_function(wealth=new_wealth_values)"
   ]
  },
  {
   "cell_type": "code",
   "execution_count": 142,
   "metadata": {},
   "outputs": [
    {
     "data": {
      "image/png": "[encoded data removed]",
      "text/plain": [
       "<Figure size 640x480 with 1 Axes>"
      ]
     },
     "metadata": {},
     "output_type": "display_data"
    }
   ],
   "source": [
    "import matplotlib.pyplot as plt\n",
    "\n",
    "plt.scatter(wealth_grid, vf_arr, alpha=0.5, zorder=-1, label=\"Pre-calculated values\")\n",
    "plt.plot(\n",
    "    wealth_grid,\n",
    "    vf_arr,\n",
    "    alpha=0.5,\n",
    "    zorder=-1,\n",
    "    label=\"Linear interpolation (matplotlib)\",\n",
    ")\n",
    "plt.scatter(wealth_grid, v_on_grid, color=\"orange\", s=7)\n",
    "plt.scatter(\n",
    "    new_wealth_values,\n",
    "    v_on_new_values,\n",
    "    color=\"orange\",\n",
    "    s=35,\n",
    "    alpha=0.9,\n",
    "    label=\"Interpolated values\",\n",
    ")\n",
    "plt.xlabel(\"Wealth ($x$)\")\n",
    "plt.ylabel(\"$V_T(x)$\")\n",
    "plt.legend()\n",
    "plt.show()"
   ]
  }
 ],
 "metadata": {
  "kernelspec": {
   "display_name": "Python 3",
   "language": "python",
   "name": "python3"
  },
  "language_info": {
   "codemirror_mode": {
    "name": "ipython",
    "version": 3
   },
   "file_extension": ".py",
   "mimetype": "text/x-python",
   "name": "python",
   "nbconvert_exporter": "python",
   "pygments_lexer": "ipython3",
   "version": "3.12.0"
  }
 },
 "nbformat": 4,
 "nbformat_minor": 2
}
