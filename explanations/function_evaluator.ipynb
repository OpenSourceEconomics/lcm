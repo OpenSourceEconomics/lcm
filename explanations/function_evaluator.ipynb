{
 "cells": [
  {
   "cell_type": "markdown",
   "metadata": {},
   "source": [
    "# Explanation of the Function Evaluator\n",
    "\n",
    "In this notebook, we showcase how the function evaluator is used in `lcm`, and how it\n",
    "works. Before we dive into the details, let us consider what it does on a high level.\n",
    "\n",
    "## Motivation\n",
    "\n",
    "Consider the last period of a finite dynamic programming problem. The value function\n",
    "array for this period corresponds to the maximum of concurrent utility in each state,\n",
    "where the maximum is taken over choices.\n",
    "\n",
    "If the state-space is discretized into states $(x_1, \\ldots, x_p)$, the value function\n",
    "array (in the last period) $V_T$ is a $p$-dimensional array, where the $i$-th entry\n",
    "$V_{T, i} = V_T(x_i)$ is the maximal utility the agent can achieve in state $x_i$.\n",
    "\n",
    "Consider now the Bellman equation for the second-to last period:\n",
    "\n",
    "$$\n",
    "V_{T-1}(x) =\n",
    "    \\max_{a} \\left\\{u(x, a) + \\mathbb{E}_{T-1}\\left[V_T(x') \\mid x, a\\right] \\right\\},\n",
    "$$\n",
    "\n",
    "where $a$ denotes the action, and $x', x$ denote the next and current state,\n",
    "respectively.\n",
    "\n",
    "Depending on the solution algorithm, or the method to approximate the expectation, we\n",
    "may need to evaluate the function $V_T$ at a different set of points than the\n",
    "pre-calculated grid points $(x_1, \\ldots, x_p)$.\n",
    "\n",
    "Ideally, we would like to treat $V_T$ as an analytical function that can be evaluated at\n",
    "any valid state $x$, ignoring the discretization. This is precisely what the function\n",
    "evaluator does.\n",
    "                                                        \n",
    "\n",
    "### Example\n",
    "\n",
    "As an example, consider a stripped down version of the deterministic model from\n",
    "Iskhakov et al. (2017), which removes the absorbing retirement filter and the lagged\n",
    "retirement state compared to the original model (this version can be found in the\n",
    "`tests/test_models/deterministic.py` module). Here we also use a coarser grid to\n",
    "showcase the behavior of the function evaluator."
   ]
  },
  {
   "cell_type": "code",
   "execution_count": 1,
   "metadata": {},
   "outputs": [],
   "source": [
    "import jax.numpy as jnp\n",
    "\n",
    "\n",
    "def utility(consumption, working, disutility_of_work):\n",
    "    return jnp.log(consumption) - disutility_of_work * working\n",
    "\n",
    "\n",
    "def labor_income(working, wage):\n",
    "    return working * wage\n",
    "\n",
    "\n",
    "def working(retirement):\n",
    "    return 1 - retirement\n",
    "\n",
    "\n",
    "def wage(age):\n",
    "    return 1 + 0.1 * age\n",
    "\n",
    "\n",
    "def age(_period):\n",
    "    return _period + 18\n",
    "\n",
    "\n",
    "def next_wealth(wealth, consumption, labor_income, interest_rate):\n",
    "    return (1 + interest_rate) * (wealth - consumption) + labor_income\n",
    "\n",
    "\n",
    "def consumption_constraint(consumption, wealth):\n",
    "    return consumption <= wealth\n",
    "\n",
    "\n",
    "model = {\n",
    "    \"description\": (\n",
    "        \"Starts from Iskhakov et al. (2017), removes filters and the lagged_retirement \"\n",
    "        \"state, and adds a wage function that depends on age.\"\n",
    "    ),\n",
    "    \"functions\": {\n",
    "        \"utility\": utility,\n",
    "        \"next_wealth\": next_wealth,\n",
    "        \"consumption_constraint\": consumption_constraint,\n",
    "        \"labor_income\": labor_income,\n",
    "        \"working\": working,\n",
    "        \"wage\": wage,\n",
    "        \"age\": age,\n",
    "    },\n",
    "    \"choices\": {\n",
    "        \"retirement\": {\"options\": [0, 1]},\n",
    "        \"consumption\": {\n",
    "            \"grid_type\": \"linspace\",\n",
    "            \"start\": 1,\n",
    "            \"stop\": 400,\n",
    "            \"n_points\": 20,\n",
    "        },\n",
    "    },\n",
    "    \"states\": {\n",
    "        \"wealth\": {\n",
    "            \"grid_type\": \"linspace\",\n",
    "            \"start\": 1,\n",
    "            \"stop\": 400,\n",
    "            \"n_points\": 10,\n",
    "        },\n",
    "    },\n",
    "    \"n_periods\": 2,\n",
    "}\n",
    "\n",
    "\n",
    "params = {\n",
    "    \"beta\": 0.95,\n",
    "    \"utility\": {\"disutility_of_work\": 0.25},\n",
    "    \"next_wealth\": {\n",
    "        \"interest_rate\": 0.05,\n",
    "    },\n",
    "}"
   ]
  },
  {
   "cell_type": "markdown",
   "metadata": {},
   "source": [
    "To generate the correct JAX grids from this model specification, we process the\n",
    "model manually. This is normally done under the hood in `lcm`."
   ]
  },
  {
   "cell_type": "code",
   "execution_count": 2,
   "metadata": {},
   "outputs": [
    {
     "name": "stderr",
     "output_type": "stream",
     "text": [
      "An NVIDIA GPU may be present on this machine, but a CUDA-enabled jaxlib is not installed. Falling back to cpu.\n"
     ]
    }
   ],
   "source": [
    "from lcm.process_model import process_model\n",
    "\n",
    "processed_model = process_model(model)"
   ]
  },
  {
   "cell_type": "markdown",
   "metadata": {},
   "source": [
    "#### Last period value function array\n",
    "\n",
    "To compute the value function array in the last period, we first generate the utility\n",
    "and feasibility function that depends only on state and action variables, and then\n",
    "compute the maximum over all feasible actions."
   ]
  },
  {
   "cell_type": "code",
   "execution_count": 3,
   "metadata": {},
   "outputs": [
    {
     "data": {
      "text/plain": [
       "<Signature (consumption, params, retirement, wealth)>"
      ]
     },
     "execution_count": 3,
     "metadata": {},
     "output_type": "execute_result"
    }
   ],
   "source": [
    "from lcm.model_functions import get_current_u_and_f\n",
    "\n",
    "u_and_f = get_current_u_and_f(processed_model)\n",
    "\n",
    "u_and_f.__signature__"
   ]
  },
  {
   "cell_type": "markdown",
   "metadata": {},
   "source": [
    "We can then evaluate `u_and_f` on scalar values. Notice that in the below example, the\n",
    "action is not feasible since the consumption constraint forbids a consumption level that\n",
    "is larger than wealth."
   ]
  },
  {
   "cell_type": "code",
   "execution_count": 4,
   "metadata": {},
   "outputs": [
    {
     "name": "stdout",
     "output_type": "stream",
     "text": [
      "Utility: 4.355170249938965, feasible: False\n"
     ]
    }
   ],
   "source": [
    "_u, _f = u_and_f(\n",
    "    consumption=100,\n",
    "    retirement=0,\n",
    "    wealth=50,\n",
    "    params=params,\n",
    ")\n",
    "\n",
    "print(f\"Utility: {_u}, feasible: {_f}\")"
   ]
  },
  {
   "cell_type": "markdown",
   "metadata": {},
   "source": [
    "To evaluate `u_and_f` on the whole state-choice-space we need to use `lcm.productmap`,\n",
    "which allows us to pass in grids for each variable."
   ]
  },
  {
   "cell_type": "code",
   "execution_count": 5,
   "metadata": {},
   "outputs": [
    {
     "data": {
      "text/plain": [
       "dict_keys(['retirement', 'wealth', 'consumption'])"
      ]
     },
     "execution_count": 5,
     "metadata": {},
     "output_type": "execute_result"
    }
   ],
   "source": [
    "processed_model.grids.keys()"
   ]
  },
  {
   "cell_type": "code",
   "execution_count": 6,
   "metadata": {},
   "outputs": [
    {
     "name": "stdout",
     "output_type": "stream",
     "text": [
      "Length of (wealth, consumption, retirement) grids: (10, 20, 2)\n"
     ]
    }
   ],
   "source": [
    "from lcm.dispatchers import productmap\n",
    "\n",
    "u_and_f_mapped = productmap(u_and_f, variables=[\"wealth\", \"consumption\", \"retirement\"])\n",
    "\n",
    "u, f = u_and_f_mapped(**processed_model.grids, params=params)\n",
    "\n",
    "print(f\"Length of (wealth, consumption, retirement) grids: {u.shape}\")"
   ]
  },
  {
   "cell_type": "markdown",
   "metadata": {},
   "source": [
    "Now we can compute the value function array by taking the maximal utility over all\n",
    "feasible actions (axis 1 and 2 correspond to the consumption and retirement dimensions\n",
    "respectively)."
   ]
  },
  {
   "cell_type": "code",
   "execution_count": 7,
   "metadata": {},
   "outputs": [
    {
     "data": {
      "text/plain": [
       "(10,)"
      ]
     },
     "execution_count": 7,
     "metadata": {},
     "output_type": "execute_result"
    }
   ],
   "source": [
    "vf_arr = jnp.max(u, axis=(1, 2), where=f, initial=-jnp.inf)\n",
    "vf_arr.shape"
   ]
  },
  {
   "cell_type": "code",
   "execution_count": 8,
   "metadata": {},
   "outputs": [
    {
     "data": {
      "image/png": "[encoded data removed]",
      "text/plain": [
       "<Figure size 640x480 with 1 Axes>"
      ]
     },
     "metadata": {},
     "output_type": "display_data"
    }
   ],
   "source": [
    "import matplotlib.pyplot as plt\n",
    "\n",
    "wealth_grid = processed_model.grids[\"wealth\"]\n",
    "\n",
    "plt.scatter(wealth_grid, vf_arr)\n",
    "plt.xlabel(\"Wealth ($x$)\")\n",
    "plt.ylabel(\"$V_T(x)$\")\n",
    "plt.show()"
   ]
  },
  {
   "cell_type": "markdown",
   "metadata": {},
   "source": [
    "#### Interpolation\n",
    "\n",
    "What happens now if we want to know the value of $V_T$ at 25 or 75.__signature__ We need to perform\n",
    "some kind of interpolation. This is where the function evaluator comes into play, which\n",
    "returns pre-calculated values if evaluated on a grid point, and linearly interpolated\n",
    "values otherwise.\n",
    "\n",
    "To optimally utilize the structure of the grids when interpolating, the function\n",
    "evaluator requires information on the state space."
   ]
  },
  {
   "cell_type": "code",
   "execution_count": 9,
   "metadata": {},
   "outputs": [],
   "source": [
    "from lcm.state_space import create_state_choice_space\n",
    "\n",
    "# the space info object contains information on the grid structure etc.\n",
    "space_info = create_state_choice_space(\n",
    "    model=processed_model,\n",
    "    period=1,\n",
    "    is_last_period=True,\n",
    "    jit_filter=False,\n",
    ")[1]"
   ]
  },
  {
   "cell_type": "markdown",
   "metadata": {},
   "source": [
    "#### Setting up the function evaluator\n",
    "\n",
    "The first step is to generate a function that can interpolate on the value function\n",
    "array. The resulting function can be called with scalar arguments (here this means we\n",
    "can only pass scalar levels of wealth and no grids). It also requires the grid on\n",
    "which it interpolates as an argument. The name of this argument can be set using the\n",
    "`data_name` argument. Below we use `data_name=\"vf_arr\"`, which implies that the\n",
    "resulting function gets an additional argument `vf_arr` that can be used to pass in the\n",
    "pre-calculated value function array."
   ]
  },
  {
   "cell_type": "code",
   "execution_count": 10,
   "metadata": {},
   "outputs": [
    {
     "data": {
      "text/plain": [
       "<Signature (vf_arr, wealth)>"
      ]
     },
     "execution_count": 10,
     "metadata": {},
     "output_type": "execute_result"
    }
   ],
   "source": [
    "from lcm.function_evaluator import get_function_evaluator\n",
    "\n",
    "scalar_value_function = get_function_evaluator(\n",
    "    space_info=space_info,\n",
    "    data_name=\"vf_arr\",\n",
    ")\n",
    "scalar_value_function.__signature__"
   ]
  },
  {
   "cell_type": "markdown",
   "metadata": {},
   "source": [
    "We then apply the productmap decorator, which allows us to evaluate the function on a\n",
    "grid of state variables (in this case, just wealth)."
   ]
  },
  {
   "cell_type": "code",
   "execution_count": 11,
   "metadata": {},
   "outputs": [],
   "source": [
    "value_function = productmap(scalar_value_function, variables=[\"wealth\"])"
   ]
  },
  {
   "cell_type": "markdown",
   "metadata": {},
   "source": [
    "#### Visualizing the results\n",
    "\n",
    "Besides the pre-calculated values at the grid points, we will now add the values\n",
    "generated by evaluating the value function on the original grid points, and on\n",
    "additional points computed by the value function generated by the function evaluator.\n",
    "We expect the values on the grid points to coincide, and the values on the additional\n",
    "points to be interpolated."
   ]
  },
  {
   "cell_type": "code",
   "execution_count": 12,
   "metadata": {},
   "outputs": [],
   "source": [
    "wealth_grid = processed_model.grids[\"wealth\"]\n",
    "wealth_points_new = jnp.array([10, 25, 75, 210, 300])\n",
    "\n",
    "vf_on_grid = value_function(wealth=wealth_grid, vf_arr=vf_arr)\n",
    "vf_on_new_values = value_function(wealth=wealth_points_new, vf_arr=vf_arr)"
   ]
  },
  {
   "cell_type": "code",
   "execution_count": 13,
   "metadata": {},
   "outputs": [
    {
     "data": {
      "image/png": "[encoded data removed]",
      "text/plain": [
       "<Figure size 640x480 with 1 Axes>"
      ]
     },
     "metadata": {},
     "output_type": "display_data"
    }
   ],
   "source": [
    "plt.scatter(wealth_grid, vf_arr, alpha=0.5, zorder=-1, label=\"Pre-calculated values\")\n",
    "plt.scatter(wealth_grid, vf_on_grid, color=\"orange\", s=7)\n",
    "plt.scatter(\n",
    "    wealth_points_new,\n",
    "    vf_on_new_values,\n",
    "    color=\"orange\",\n",
    "    label=\"Evaluated Points\",\n",
    ")\n",
    "plt.xlabel(\"Wealth ($x$)\")\n",
    "plt.ylabel(\"$V_T(x)$\")\n",
    "plt.legend()\n",
    "plt.show()"
   ]
  },
  {
   "cell_type": "markdown",
   "metadata": {},
   "source": [
    "If we now connect the pre-calculated values at the grid points using a line, that is,\n",
    "we perform a linear interpolation on the value function array. We see that the values\n",
    "generated by the function evaluator lie on that linear interpolation line.\n",
    "\n",
    "That means, the function evaluator can simply be thought of as a function that behaves\n",
    "like an analytical function corresponding to this linear interpolation."
   ]
  },
  {
   "cell_type": "code",
   "execution_count": 14,
   "metadata": {},
   "outputs": [
    {
     "data": {
      "image/png": "[encoded data removed]",
      "text/plain": [
       "<Figure size 640x480 with 1 Axes>"
      ]
     },
     "metadata": {},
     "output_type": "display_data"
    }
   ],
   "source": [
    "plt.scatter(wealth_grid, vf_arr, alpha=0.5, zorder=-1, label=\"Pre-calculated values\")\n",
    "plt.plot(\n",
    "    wealth_grid,\n",
    "    vf_arr,\n",
    "    zorder=-1,\n",
    "    label=\"Linear interpolation\",\n",
    ")\n",
    "plt.scatter(wealth_grid, vf_on_grid, color=\"orange\", s=7)\n",
    "plt.scatter(\n",
    "    wealth_points_new,\n",
    "    vf_on_new_values,\n",
    "    color=\"orange\",\n",
    "    label=\"Evaluated Points\",\n",
    ")\n",
    "plt.xlabel(\"Wealth ($x$)\")\n",
    "plt.ylabel(\"$V_T(x)$\")\n",
    "plt.legend()\n",
    "plt.show()"
   ]
  },
  {
   "cell_type": "markdown",
   "metadata": {},
   "source": [
    "## Technical Details\n",
    "\n",
    "In the following, we will discuss the building blocks that are used to implement the\n",
    "function evaluator.\n",
    "\n",
    "### Label Translator\n",
    "\n",
    "The label translator is used to map the labels of dense discrete grids to their\n",
    "corresponding index in the grid. Currently, `lcm` works under the assumption that\n",
    "internal discrete grids always correspond to their indices. That is, a grid like [2, 3]\n",
    "is not allowed, but would have to be represented as [0, 1] to be valid.\n",
    "       \n",
    "(Once issue [#82](https://github.com/OpenSourceEconomics/lcm/issues/82) is tackled, )\n",
    "LCM converts discrete grids into an internal grid that is directly usable as an index.\n",
    "Thus, the label translator simply is the identity function."
   ]
  },
  {
   "cell_type": "code",
   "execution_count": 15,
   "metadata": {},
   "outputs": [
    {
     "data": {
      "text/plain": [
       "<Signature (health)>"
      ]
     },
     "execution_count": 15,
     "metadata": {},
     "output_type": "execute_result"
    }
   ],
   "source": [
    "from lcm.function_evaluator import _get_label_translator\n",
    "\n",
    "translator = _get_label_translator(in_name=\"health\")\n",
    "translator.__signature__"
   ]
  },
  {
   "cell_type": "code",
   "execution_count": 16,
   "metadata": {},
   "outputs": [
    {
     "data": {
      "text/plain": [
       "3"
      ]
     },
     "execution_count": 16,
     "metadata": {},
     "output_type": "execute_result"
    }
   ],
   "source": [
    "translator(health=3)"
   ]
  },
  {
   "cell_type": "markdown",
   "metadata": {},
   "source": [
    "### Lookup Function\n",
    "\n",
    "The lookup function emulates indexing into an array via named axes.\n",
    "\n",
    "> Note. These helper functions are important because we use `dags.concatenate_functions`\n",
    "> to combine all auxiliary functions to get the final function evaluator."
   ]
  },
  {
   "cell_type": "code",
   "execution_count": 17,
   "metadata": {},
   "outputs": [
    {
     "data": {
      "text/plain": [
       "Array([0.       , 4.4426513, 5.351858 ], dtype=float32)"
      ]
     },
     "execution_count": 17,
     "metadata": {},
     "output_type": "execute_result"
    }
   ],
   "source": [
    "# We want a function that allows us to perform a lookup like this:\n",
    "vf_arr[jnp.array([0, 2, 5])]"
   ]
  },
  {
   "cell_type": "code",
   "execution_count": 18,
   "metadata": {},
   "outputs": [
    {
     "data": {
      "text/plain": [
       "<Signature (wealth_index, vf_arr)>"
      ]
     },
     "execution_count": 18,
     "metadata": {},
     "output_type": "execute_result"
    }
   ],
   "source": [
    "from lcm.function_evaluator import _get_lookup_function\n",
    "\n",
    "lookup = _get_lookup_function(array_name=\"vf_arr\", axis_names=[\"wealth_index\"])\n",
    "lookup.__signature__"
   ]
  },
  {
   "cell_type": "code",
   "execution_count": 19,
   "metadata": {},
   "outputs": [
    {
     "data": {
      "text/plain": [
       "Array([0.       , 4.4426513, 5.351858 ], dtype=float32)"
      ]
     },
     "execution_count": 19,
     "metadata": {},
     "output_type": "execute_result"
    }
   ],
   "source": [
    "lookup(wealth_index=jnp.array([0, 2, 5]), vf_arr=vf_arr)"
   ]
  },
  {
   "cell_type": "markdown",
   "metadata": {},
   "source": [
    "### Coordinate Finder\n",
    "\n",
    "For continuous grids (linearly and logarithmically spaced), the coordinate finder\n",
    "returns the *general* index corresponding to the given value. As an example, consider a\n",
    "linearly spaced grid [1, 2, 3]. The general coordinate value given the value 1.5 is, in\n",
    "this case, 0.5, because 1.5 is exactly in the middle between 1 (index = 0) and 2 (index =\n",
    "1). The output of the coordinate finder can then be used by\n",
    "`jax.scipy.ndimage.map_coordinates` for the interpolation."
   ]
  },
  {
   "cell_type": "code",
   "execution_count": 20,
   "metadata": {},
   "outputs": [
    {
     "data": {
      "text/plain": [
       "Array([  1.      ,  45.333336,  89.66667 , 134.00002 , 178.33334 ,\n",
       "       222.66667 , 267.00003 , 311.33334 , 355.6667  , 400.      ],      dtype=float32)"
      ]
     },
     "execution_count": 20,
     "metadata": {},
     "output_type": "execute_result"
    }
   ],
   "source": [
    "from lcm.interfaces import ContinuousGridInfo\n",
    "\n",
    "wealth_grid_info = ContinuousGridInfo(start=1, stop=400, n_points=10)\n",
    "\n",
    "# Assuming a linear spacing, grid_info correponds to the following grid:\n",
    "jnp.linspace(1, 400, 10)"
   ]
  },
  {
   "cell_type": "code",
   "execution_count": 21,
   "metadata": {},
   "outputs": [
    {
     "data": {
      "text/plain": [
       "<Signature (wealth)>"
      ]
     },
     "execution_count": 21,
     "metadata": {},
     "output_type": "execute_result"
    }
   ],
   "source": [
    "from lcm.function_evaluator import _get_coordinate_finder\n",
    "\n",
    "wealth_coordinate_finder = _get_coordinate_finder(\n",
    "    in_name=\"wealth\",\n",
    "    grid_type=\"linspace\",\n",
    "    grid_info=wealth_grid_info,\n",
    ")\n",
    "wealth_coordinate_finder.__signature__"
   ]
  },
  {
   "cell_type": "markdown",
   "metadata": {},
   "source": [
    "To showcase the behavior of the coordinate finder, and how the *general* indices work,\n",
    "consider the following wealth values:\n",
    "\n",
    "- **1:** This value is the first value in the original grid, therefore the index must\n",
    "  correspond to 0\n",
    "- **(1 + 45.333336) / 2:** This value is exactly in the middle between the first and second\n",
    "  value in grid, therefore the general index corresponds (0 + 1) / 2 = 0.5\n",
    "- **395:** This value is very close to the last index in the original grid, so the general\n",
    "  index will be very close to 9."
   ]
  },
  {
   "cell_type": "code",
   "execution_count": 22,
   "metadata": {},
   "outputs": [
    {
     "data": {
      "text/plain": [
       "Array([0.        , 0.50000006, 8.774436  ], dtype=float32)"
      ]
     },
     "execution_count": 22,
     "metadata": {},
     "output_type": "execute_result"
    }
   ],
   "source": [
    "wealth_values = jnp.array([1, (1 + 45.333336) / 2, 390])\n",
    "\n",
    "wealth_coordinate_finder(wealth=wealth_values)"
   ]
  },
  {
   "cell_type": "markdown",
   "metadata": {},
   "source": [
    "### Interpolator"
   ]
  },
  {
   "cell_type": "code",
   "execution_count": 23,
   "metadata": {},
   "outputs": [
    {
     "data": {
      "text/plain": [
       "<Signature (vf_arr, wealth_index)>"
      ]
     },
     "execution_count": 23,
     "metadata": {},
     "output_type": "execute_result"
    }
   ],
   "source": [
    "from lcm.function_evaluator import _get_interpolator\n",
    "\n",
    "value_function_interpolator = _get_interpolator(\n",
    "    data_name=\"vf_arr\",\n",
    "    axis_names=[\"wealth_index\"],\n",
    "    map_coordinates_options=None,\n",
    ")\n",
    "value_function_interpolator.__signature__"
   ]
  },
  {
   "cell_type": "code",
   "execution_count": 24,
   "metadata": {},
   "outputs": [
    {
     "data": {
      "text/plain": [
       "Array([0.       , 1.8806003, 5.952807 ], dtype=float32)"
      ]
     },
     "execution_count": 24,
     "metadata": {},
     "output_type": "execute_result"
    }
   ],
   "source": [
    "wealth_indices = wealth_coordinate_finder(wealth=wealth_values)\n",
    "\n",
    "vf_interpolations = value_function_interpolator(\n",
    "    wealth_index=wealth_indices,\n",
    "    vf_arr=vf_arr,\n",
    ")\n",
    "vf_interpolations"
   ]
  },
  {
   "cell_type": "code",
   "execution_count": 25,
   "metadata": {},
   "outputs": [
    {
     "data": {
      "image/png": "[encoded data removed]",
      "text/plain": [
       "<Figure size 640x480 with 1 Axes>"
      ]
     },
     "metadata": {},
     "output_type": "display_data"
    }
   ],
   "source": [
    "plt.scatter(wealth_grid, vf_arr, alpha=0.5, zorder=-1, label=\"Pre-calculated values\")\n",
    "plt.scatter(\n",
    "    wealth_values,\n",
    "    vf_interpolations,\n",
    "    color=\"orange\",\n",
    "    s=20,\n",
    "    label=\"Evaluated Points\",\n",
    ")\n",
    "plt.xlabel(\"Wealth ($x$)\")\n",
    "plt.ylabel(\"$V_T(x)$\")\n",
    "plt.legend()\n",
    "plt.show()"
   ]
  },
  {
   "cell_type": "markdown",
   "metadata": {},
   "source": [
    "## Re-implementation of the function evaluator given the example model\n",
    "\n",
    "Next, we will outline and implement the steps to re-implement the function evaluator for\n",
    "the example model specified above. This is intended to help with understanding how the\n",
    "internals of the function evaluator work.\n",
    "\n",
    "### The Steps\n",
    "\n",
    "We start by listing the required steps. The general idea is to generate functions for\n",
    "the array lookup, interpolation, and so on, with the correct signature signaling their\n",
    "dependence structure. These can then be combined into a single function that performs\n",
    "all necessary steps using `dags.concatenate_functions`.\n",
    "\n",
    "\n",
    "1. Add functions to look up positions of discrete state variables given their labels\n",
    "\n",
    "   In the above example model there are no discrete state variables, so we can skip this\n",
    "   step. If there are discrete variables, the lookup functions will coincide with the\n",
    "   identity function, as the variables themselves are indices.\n",
    "\n",
    "\n",
    "1. Wrap indexers and put them into functions\n",
    "\n",
    "   Indexers help with processing sparse state variables, i.e., variables that have\n",
    "   filters acting upon them. In the above example model there are no filters, and thus,\n",
    "   also no indexers. In the general case, we would have to generate lookup functions for\n",
    "   each indexer.\n",
    "\n",
    "\n",
    "1. Create the lookup function for the discrete part\n",
    "\n",
    "   In this step, a function is generated that allows one to index into the\n",
    "   pre-calculated value function array using the labels of the sparse and dicrete\n",
    "   state variables. In the above example model, there are no discrete state variables,\n",
    "   so this function returns the value function array untouched.\n",
    "\n",
    "\n",
    "1. Create interpolation functions for the continuous state variables\n",
    "\n",
    "   If the model contains (dense) continuous state variables, interpolation functions\n",
    "   are required.\n",
    "\n",
    "   1. Add a coordinate finder for each continuous state variable\n",
    "      \n",
    "      This allows us to map values of the continuous variable into their corresponding\n",
    "      (general) indices, as required by the interpolator.\n",
    "\n",
    "   1. Add an interpolator\n",
    "\n",
    "      The interpolator uses the general indices from the last step, to interpolate on\n",
    "      the values of the state variable at the corresponding grid points.\n",
    "\n",
    "\n",
    "1. Throwing everything into dags\n",
    "\n",
    "  The last step is to throw everything into `dags.concatenate_functions`. The resulting\n",
    "  function is a value function that behaves like an analytical function.\n",
    "\n",
    "### The Implementation"
   ]
  },
  {
   "cell_type": "code",
   "execution_count": 26,
   "metadata": {},
   "outputs": [
    {
     "data": {
      "text/plain": [
       "{}"
      ]
     },
     "execution_count": 26,
     "metadata": {},
     "output_type": "execute_result"
    }
   ],
   "source": [
    "# Create the functions dictionary that will be passed to `dags.concatenate_functions`\n",
    "funcs = {}\n",
    "\n",
    "\n",
    "# Step 1: Since there are no discrete state variables the lookup info is empty, and we\n",
    "# do not require any label translator\n",
    "space_info.lookup_info"
   ]
  },
  {
   "cell_type": "code",
   "execution_count": 27,
   "metadata": {},
   "outputs": [
    {
     "data": {
      "text/plain": [
       "[]"
      ]
     },
     "execution_count": 27,
     "metadata": {},
     "output_type": "execute_result"
    }
   ],
   "source": [
    "# Step 2: Since there are no filters, and thus no sparse states, the indexer info is\n",
    "# empty, and we do not require any lookup functions for them\n",
    "space_info.indexer_infos"
   ]
  },
  {
   "cell_type": "code",
   "execution_count": 28,
   "metadata": {},
   "outputs": [],
   "source": [
    "# Step 3: Since there are no discrete state variables in the model, the discrete\n",
    "# lookup coincides with the identity function. Since there are continuous state\n",
    "# variables in the model, we must interpolate and the data that is returned here is\n",
    "# used as interpolation data.\n",
    "\n",
    "\n",
    "def discrete_lookup(vf_arr):\n",
    "    return vf_arr\n",
    "\n",
    "\n",
    "# if there was no interpolation, the entry in the funcs dictionary would have to be\n",
    "# '__fval__'.\n",
    "funcs[\"__interpolation_data__\"] = discrete_lookup"
   ]
  },
  {
   "cell_type": "code",
   "execution_count": 29,
   "metadata": {},
   "outputs": [],
   "source": [
    "# Step 4: (1) First we need to add a coordinate finder for the wealth state variable\n",
    "from lcm.grids import get_linspace_coordinate\n",
    "\n",
    "\n",
    "def wealth_coordinate_finder(wealth):\n",
    "    return get_linspace_coordinate(\n",
    "        wealth,\n",
    "        start=1,\n",
    "        stop=400,\n",
    "        n_points=10,\n",
    "    )\n",
    "\n",
    "\n",
    "funcs[\"__wealth_coord__\"] = wealth_coordinate_finder"
   ]
  },
  {
   "cell_type": "code",
   "execution_count": 30,
   "metadata": {},
   "outputs": [],
   "source": [
    "# Step 4: (2) And second, we need to add an interpolator for the value function that\n",
    "# uses the wealth coordinate finder as an input.\n",
    "\n",
    "from jax.scipy.ndimage import map_coordinates\n",
    "\n",
    "\n",
    "def interpolator(__interpolation_data__, __wealth_coord__):\n",
    "    coordinates = jnp.array([__wealth_coord__])\n",
    "    return map_coordinates(\n",
    "        __interpolation_data__,\n",
    "        coordinates=coordinates,\n",
    "        order=1,\n",
    "        mode=\"nearest\",\n",
    "    )\n",
    "\n",
    "\n",
    "funcs[\"__fval__\"] = interpolator"
   ]
  },
  {
   "cell_type": "code",
   "execution_count": 31,
   "metadata": {},
   "outputs": [
    {
     "data": {
      "text/plain": [
       "<Signature (vf_arr, wealth)>"
      ]
     },
     "execution_count": 31,
     "metadata": {},
     "output_type": "execute_result"
    }
   ],
   "source": [
    "# Step 5: Throwing everything into dags\n",
    "from dags import concatenate_functions\n",
    "\n",
    "value_function = concatenate_functions(\n",
    "    functions=funcs,\n",
    "    targets=\"__fval__\",\n",
    ")\n",
    "value_function.__signature__"
   ]
  },
  {
   "cell_type": "code",
   "execution_count": 32,
   "metadata": {},
   "outputs": [],
   "source": [
    "vf_evaluated = value_function(wealth=wealth_grid, vf_arr=vf_arr)"
   ]
  },
  {
   "cell_type": "code",
   "execution_count": 33,
   "metadata": {},
   "outputs": [
    {
     "data": {
      "image/png": "[encoded data removed]",
      "text/plain": [
       "<Figure size 640x480 with 1 Axes>"
      ]
     },
     "metadata": {},
     "output_type": "display_data"
    }
   ],
   "source": [
    "plt.scatter(wealth_grid, vf_arr, alpha=0.5, zorder=-1, label=\"Pre-calculated values\")\n",
    "plt.scatter(wealth_grid, vf_evaluated, color=\"orange\", s=7, label=\"Evaluated Points\")\n",
    "plt.xlabel(\"Wealth ($x$)\")\n",
    "plt.ylabel(\"$V_T(x)$\")\n",
    "plt.legend()\n",
    "plt.show()"
   ]
  }
 ],
 "metadata": {
  "kernelspec": {
   "display_name": "Python 3",
   "language": "python",
   "name": "python3"
  },
  "language_info": {
   "codemirror_mode": {
    "name": "ipython",
    "version": 3
   },
   "file_extension": ".py",
   "mimetype": "text/x-python",
   "name": "python",
   "nbconvert_exporter": "python",
   "pygments_lexer": "ipython3",
   "version": "3.12.0"
  }
 },
 "nbformat": 4,
 "nbformat_minor": 2
}
