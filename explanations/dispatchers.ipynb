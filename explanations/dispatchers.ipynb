{
 "cells": [
  {
   "cell_type": "markdown",
   "metadata": {},
   "source": [
    "# Explanations of Dispatchers\n",
    "\n",
    "In this notebook, we showcase how the internal functions `vmap_1d`, `productmap` and\n",
    "`spacemap` are used by `lcm`."
   ]
  },
  {
   "cell_type": "code",
   "execution_count": null,
   "metadata": {},
   "outputs": [],
   "source": [
    "import jax.numpy as jnp\n",
    "import pytest\n",
    "from jax import vmap\n",
    "\n",
    "from lcm.dispatchers import productmap, spacemap, vmap_1d"
   ]
  },
  {
   "cell_type": "markdown",
   "metadata": {},
   "source": [
    "# `vmap_1d`\n",
    "\n",
    "Let's start by vectorizing the function `f` over axis `a` using Jax' `vmap` function."
   ]
  },
  {
   "cell_type": "code",
   "execution_count": null,
   "metadata": {},
   "outputs": [],
   "source": [
    "def f(a, b):\n",
    "    return a + b"
   ]
  },
  {
   "cell_type": "code",
   "execution_count": null,
   "metadata": {},
   "outputs": [
    {
     "data": {
      "text/plain": [
       "Array([1.  , 1.25, 1.5 , 1.75, 2.  ], dtype=float32)"
      ]
     },
     "execution_count": null,
     "metadata": {},
     "output_type": "execute_result"
    }
   ],
   "source": [
    "a = jnp.linspace(0, 1, 5)\n",
    "\n",
    "\n",
    "# in_axes = (0, None) means that the first argument is mapped over, and the second\n",
    "# argument is kept constant\n",
    "f_vmapped = vmap(f, in_axes=(0, None))\n",
    "\n",
    "f_vmapped(a, 1)"
   ]
  },
  {
   "cell_type": "markdown",
   "metadata": {},
   "source": [
    "However, note that we can call `f` with keyword arguments, but not `f_vmapped`:"
   ]
  },
  {
   "cell_type": "code",
   "execution_count": null,
   "metadata": {},
   "outputs": [
    {
     "data": {
      "text/plain": [
       "Array([1.  , 1.25, 1.5 , 1.75, 2.  ], dtype=float32)"
      ]
     },
     "execution_count": null,
     "metadata": {},
     "output_type": "execute_result"
    }
   ],
   "source": [
    "f(a=a, b=1)"
   ]
  },
  {
   "cell_type": "code",
   "execution_count": null,
   "metadata": {},
   "outputs": [],
   "source": [
    "with pytest.raises(\n",
    "    ValueError,\n",
    "    match=\"vmap in_axes must be an int, None, or a tuple of entries corresponding to\",\n",
    "):\n",
    "    f_vmapped(a=a, b=1)"
   ]
  },
  {
   "cell_type": "markdown",
   "metadata": {},
   "source": [
    "In order to allow for the flexibility and safety in calling vmapped functions with keyword arguments, `lcm` provides the function `vmap_1d`."
   ]
  },
  {
   "cell_type": "code",
   "execution_count": null,
   "metadata": {},
   "outputs": [],
   "source": [
    "f_vmapped_1d = vmap_1d(f, variables=[\"a\"])"
   ]
  },
  {
   "cell_type": "code",
   "execution_count": null,
   "metadata": {},
   "outputs": [
    {
     "data": {
      "text/plain": [
       "Array([1.  , 1.25, 1.5 , 1.75, 2.  ], dtype=float32)"
      ]
     },
     "execution_count": null,
     "metadata": {},
     "output_type": "execute_result"
    }
   ],
   "source": [
    "f_vmapped_1d(a=a, b=1)"
   ]
  },
  {
   "cell_type": "markdown",
   "metadata": {},
   "source": [
    "# `productmap`\n",
    "\n",
    "Let's vectorize the function `g` over a Cartesian product of its variables.\n",
    "For this, `lcm` provides the `productmap` function."
   ]
  },
  {
   "cell_type": "code",
   "execution_count": null,
   "metadata": {},
   "outputs": [],
   "source": [
    "def g(a, b, c, d):\n",
    "    return a + b + c + d"
   ]
  },
  {
   "cell_type": "code",
   "execution_count": null,
   "metadata": {},
   "outputs": [],
   "source": [
    "a = jnp.arange(2)\n",
    "b = jnp.arange(3)\n",
    "c = jnp.arange(4)\n",
    "d = -1"
   ]
  },
  {
   "cell_type": "code",
   "execution_count": null,
   "metadata": {},
   "outputs": [],
   "source": [
    "g_mapped = productmap(g, variables=[\"a\", \"b\", \"c\"])"
   ]
  },
  {
   "cell_type": "code",
   "execution_count": null,
   "metadata": {},
   "outputs": [
    {
     "data": {
      "text/plain": [
       "Array([[[-1,  0,  1,  2],\n",
       "        [ 0,  1,  2,  3],\n",
       "        [ 1,  2,  3,  4]],\n",
       "\n",
       "       [[ 0,  1,  2,  3],\n",
       "        [ 1,  2,  3,  4],\n",
       "        [ 2,  3,  4,  5]]], dtype=int32)"
      ]
     },
     "execution_count": null,
     "metadata": {},
     "output_type": "execute_result"
    }
   ],
   "source": [
    "res = g_mapped(a=a, b=b, c=c, d=d)\n",
    "res"
   ]
  },
  {
   "cell_type": "code",
   "execution_count": null,
   "metadata": {},
   "outputs": [
    {
     "data": {
      "text/plain": [
       "(2, 3, 4)"
      ]
     },
     "execution_count": null,
     "metadata": {},
     "output_type": "execute_result"
    }
   ],
   "source": [
    "res.shape"
   ]
  },
  {
   "cell_type": "markdown",
   "metadata": {},
   "source": [
    "# `spacemap`"
   ]
  },
  {
   "cell_type": "markdown",
   "metadata": {},
   "source": [
    "The `spacemap` function combines `productmap` and `vmap_1d` in a way that is often\n",
    "needed in `lcm`.\n",
    "\n",
    "If the valid values of a variable in a state-choice space depend on another variable, that variable is termed a _sparse_ variable; otherwise, it is a _dense_ variable. To dispatch a function across an entire state-choice space, we must vectorize over both dense and sparse variables. Since, by definition, all values of dense variables are valid, we can simply perform a `productmap` over the Cartesian grid of their values. The valid combinations of sparse variables are stored as a collection of 1D arrays (see below for an example). For these, we can perform a call to `vmap_1d`.\n",
    "\n",
    "Consider a simplified version of our deterministic test model. Curly brackets {} denote discrete variables; square brackets [] represent continuous variables.\n",
    "\n",
    "- **Choice variables:**\n",
    "\n",
    "  - _retirement_ $\\in \\{0, 1\\}$\n",
    "\n",
    "  - _consumption_ $\\in [1, 2]$\n",
    "\n",
    "- **State variables:**\n",
    "\n",
    "  - _lagged_retirement_ $\\in \\{0, 1\\}$\n",
    "\n",
    "  - _wealth_ $\\in [1, 2, 3, 4]$\n",
    "\n",
    "- **Filter:**\n",
    "  - Absorbing retirement filter: If _lagged_retirement_ is 1, then the choice\n",
    "    _retirement_ can never be 0."
   ]
  },
  {
   "cell_type": "code",
   "execution_count": null,
   "metadata": {},
   "outputs": [],
   "source": [
    "from lcm import DiscreteGrid, LinspaceGrid, Model\n",
    "\n",
    "\n",
    "def utility(consumption, retirement, lagged_retirement, wealth):\n",
    "    working = 1 - retirement\n",
    "    retirement_habit = lagged_retirement * wealth\n",
    "    return jnp.log(consumption) - 0.5 * working + retirement_habit\n",
    "\n",
    "\n",
    "def absorbing_retirement_filter(retirement, lagged_retirement):\n",
    "    return jnp.logical_or(retirement == 1, lagged_retirement == 0)\n",
    "\n",
    "\n",
    "model = Model(\n",
    "    functions={\n",
    "        \"utility\": utility,\n",
    "        \"next_lagged_retirement\": lambda retirement: retirement,\n",
    "        \"next_wealth\": lambda wealth, consumption: wealth - consumption,\n",
    "        \"absorbing_retirement_filter\": absorbing_retirement_filter,\n",
    "    },\n",
    "    n_periods=1,\n",
    "    choices={\n",
    "        \"retirement\": DiscreteGrid([0, 1]),\n",
    "        \"consumption\": LinspaceGrid(start=1, stop=2, n_points=2),\n",
    "    },\n",
    "    states={\n",
    "        \"lagged_retirement\": DiscreteGrid([0, 1]),\n",
    "        \"wealth\": LinspaceGrid(start=1, stop=4, n_points=4),\n",
    "    },\n",
    ")"
   ]
  },
  {
   "cell_type": "code",
   "execution_count": null,
   "metadata": {},
   "outputs": [],
   "source": [
    "from lcm.process_model import process_model\n",
    "from lcm.state_space import create_state_choice_space\n",
    "\n",
    "processed_model = process_model(model)\n",
    "\n",
    "sc_space, space_info, state_indexer, segments = create_state_choice_space(\n",
    "    processed_model,\n",
    "    period=2,\n",
    "    is_last_period=False,\n",
    "    jit_filter=False,\n",
    ")"
   ]
  },
  {
   "cell_type": "markdown",
   "metadata": {},
   "source": [
    "Now, the state-choice space includes all sparse and dense states and choices, except for the dense continuous choices, as these are managed differently in `lcm`.\n",
    "\n",
    "Therefore, we anticipate the state-choice space to encompass the dense state variable _wealth_ and a representation of the sparse combination of _retirement_ and _lagged_retirement_."
   ]
  },
  {
   "cell_type": "code",
   "execution_count": null,
   "metadata": {},
   "outputs": [
    {
     "data": {
      "text/plain": [
       "{'wealth': Array([1., 2., 3., 4.], dtype=float32)}"
      ]
     },
     "execution_count": null,
     "metadata": {},
     "output_type": "execute_result"
    }
   ],
   "source": [
    "sc_space.dense_vars"
   ]
  },
  {
   "cell_type": "code",
   "execution_count": null,
   "metadata": {},
   "outputs": [
    {
     "data": {
      "text/plain": [
       "{'lagged_retirement': Array([0, 0, 1], dtype=int32),\n",
       " 'retirement': Array([0, 1, 1], dtype=int32)}"
      ]
     },
     "execution_count": null,
     "metadata": {},
     "output_type": "execute_result"
    }
   ],
   "source": [
    "sc_space.sparse_vars"
   ]
  },
  {
   "cell_type": "code",
   "execution_count": null,
   "metadata": {},
   "outputs": [
    {
     "data": {
      "text/html": [
       "<div>\n",
       "<style scoped>\n",
       "    .dataframe tbody tr th:only-of-type {\n",
       "        vertical-align: middle;\n",
       "    }\n",
       "\n",
       "    .dataframe tbody tr th {\n",
       "        vertical-align: top;\n",
       "    }\n",
       "\n",
       "    .dataframe thead th {\n",
       "        text-align: right;\n",
       "    }\n",
       "</style>\n",
       "<table border=\"1\" class=\"dataframe\">\n",
       "  <thead>\n",
       "    <tr style=\"text-align: right;\">\n",
       "      <th></th>\n",
       "      <th>lagged_retirement</th>\n",
       "      <th>retirement</th>\n",
       "    </tr>\n",
       "  </thead>\n",
       "  <tbody>\n",
       "    <tr>\n",
       "      <th>0</th>\n",
       "      <td>0</td>\n",
       "      <td>0</td>\n",
       "    </tr>\n",
       "    <tr>\n",
       "      <th>1</th>\n",
       "      <td>0</td>\n",
       "      <td>1</td>\n",
       "    </tr>\n",
       "    <tr>\n",
       "      <th>2</th>\n",
       "      <td>1</td>\n",
       "      <td>1</td>\n",
       "    </tr>\n",
       "  </tbody>\n",
       "</table>\n",
       "</div>"
      ],
      "text/plain": [
       "   lagged_retirement  retirement\n",
       "0                  0           0\n",
       "1                  0           1\n",
       "2                  1           1"
      ]
     },
     "execution_count": null,
     "metadata": {},
     "output_type": "execute_result"
    }
   ],
   "source": [
    "import pandas as pd\n",
    "\n",
    "pd.DataFrame(sc_space.sparse_vars)"
   ]
  },
  {
   "cell_type": "markdown",
   "metadata": {},
   "source": [
    "Notice that for the dense variables, the state-choice space contains the whole grid of\n",
    "possible values. For the sparse variables, however, the state-choice space contains\n",
    "one dimensional arrays that can be thought of as columns in a dataframe such that each\n",
    "row in that dataframe represents a valid combination.\n",
    "\n",
    "Initially, we mentioned that combinations of _lagged_retirement_ being 1 and _retirement_ being 0 are disallowed. This specific combination is absent from the dataframe."
   ]
  },
  {
   "cell_type": "markdown",
   "metadata": {},
   "source": [
    "---\n",
    "### Remark on memory usage and computational efficiency\n",
    "\n",
    "**Dense variables**\n",
    "\n",
    "- Require a 1D array with grid values for each variable (low memory usage)\n",
    "\n",
    "- Apply function on product (high computational load)\n",
    "\n",
    "- Store results (high memory usage)\n",
    "\n",
    "$\\Rightarrow$ Computational load and memory usage depend on product of dimensions of\n",
    "  dense variables\n",
    "\n",
    "\n",
    "**Sparse variables**\n",
    "\n",
    "- Need to store one row for each valid state-choice combination (high memory usage)\n",
    "\n",
    "- Apply function along first axis (low computational load, unless many rows)\n",
    "\n",
    "- Store results (lower memory usage, unless many rows)\n",
    "\n",
    "$\\Rightarrow$ Computational load and memory usage depend on number of valid state-choice\n",
    "  combinations\n",
    "\n",
    "---"
   ]
  },
  {
   "cell_type": "markdown",
   "metadata": {},
   "source": [
    "It is also worth noting the connection between the sparse variable representation\n",
    "and the `segments`. "
   ]
  },
  {
   "cell_type": "code",
   "execution_count": null,
   "metadata": {},
   "outputs": [
    {
     "data": {
      "text/plain": [
       "{'segment_ids': Array([0, 0, 1], dtype=int32), 'num_segments': 2}"
      ]
     },
     "execution_count": null,
     "metadata": {},
     "output_type": "execute_result"
    }
   ],
   "source": [
    "segments"
   ]
  },
  {
   "cell_type": "markdown",
   "metadata": {},
   "source": [
    "These choice segments divide the rows in the above dataframe into segments for which\n",
    "choices have to be made.\n",
    "\n",
    "In our example this means that the first choice segment is made\n",
    "out of the first two rows, meaning that if _lagged_retirement_ is 0, the choice of\n",
    "_retirement_ can be either 0 or 1. However, for\n",
    "the case of _lagged_retirement_ being 1, the choice segment contains only the single\n",
    "choice _retirement_ equal to 1. "
   ]
  },
  {
   "cell_type": "markdown",
   "metadata": {},
   "source": [
    "Now, we can map a function over the entire state-choice space using the `spacemap`\n",
    "function."
   ]
  },
  {
   "cell_type": "code",
   "execution_count": null,
   "metadata": {},
   "outputs": [],
   "source": [
    "spacemapped = spacemap(\n",
    "    func=utility,\n",
    "    dense_vars=list(sc_space.dense_vars),\n",
    "    sparse_vars=list(sc_space.sparse_vars),\n",
    "    put_dense_first=False,\n",
    ")"
   ]
  },
  {
   "cell_type": "code",
   "execution_count": null,
   "metadata": {},
   "outputs": [
    {
     "data": {
      "text/plain": [
       "{'wealth': Array([1., 2., 3., 4.], dtype=float32)}"
      ]
     },
     "execution_count": null,
     "metadata": {},
     "output_type": "execute_result"
    }
   ],
   "source": [
    "sc_space.dense_vars"
   ]
  },
  {
   "cell_type": "code",
   "execution_count": null,
   "metadata": {},
   "outputs": [
    {
     "data": {
      "text/plain": [
       "{'lagged_retirement': Array([0, 0, 1], dtype=int32),\n",
       " 'retirement': Array([0, 1, 1], dtype=int32)}"
      ]
     },
     "execution_count": null,
     "metadata": {},
     "output_type": "execute_result"
    }
   ],
   "source": [
    "sc_space.sparse_vars"
   ]
  },
  {
   "cell_type": "code",
   "execution_count": null,
   "metadata": {},
   "outputs": [
    {
     "data": {
      "text/plain": [
       "Array([[-0.5, -0.5, -0.5, -0.5],\n",
       "       [ 0. ,  0. ,  0. ,  0. ],\n",
       "       [ 1. ,  2. ,  3. ,  4. ]], dtype=float32)"
      ]
     },
     "execution_count": null,
     "metadata": {},
     "output_type": "execute_result"
    }
   ],
   "source": [
    "res = spacemapped(\n",
    "    **sc_space.dense_vars,\n",
    "    **sc_space.sparse_vars,\n",
    "    consumption=1,\n",
    ")\n",
    "res"
   ]
  },
  {
   "cell_type": "code",
   "execution_count": null,
   "metadata": {},
   "outputs": [
    {
     "data": {
      "text/plain": [
       "(3, 4)"
      ]
     },
     "execution_count": null,
     "metadata": {},
     "output_type": "execute_result"
    }
   ],
   "source": [
    "res.shape"
   ]
  },
  {
   "cell_type": "markdown",
   "metadata": {},
   "source": [
    "Let's try to get this result via looping over the grids and calling `utility` directly"
   ]
  },
  {
   "cell_type": "code",
   "execution_count": null,
   "metadata": {},
   "outputs": [
    {
     "data": {
      "text/plain": [
       "Array([[-0.5, -0.5, -0.5, -0.5],\n",
       "       [ 0. ,  0. ,  0. ,  0. ],\n",
       "       [ 1. ,  2. ,  3. ,  4. ]], dtype=float32)"
      ]
     },
     "execution_count": null,
     "metadata": {},
     "output_type": "execute_result"
    }
   ],
   "source": [
    "_res = jnp.empty((3, 4))\n",
    "\n",
    "# loop over valid combinations of sparse variables (first axis)\n",
    "for i, (lagged_retirement, retirement) in enumerate(\n",
    "    zip(\n",
    "        sc_space.sparse_vars[\"lagged_retirement\"],\n",
    "        sc_space.sparse_vars[\"retirement\"],\n",
    "        strict=False,\n",
    "    ),\n",
    "):\n",
    "    # loop over product of dense variables\n",
    "    for j, wealth in enumerate(sc_space.dense_vars[\"wealth\"]):\n",
    "        u = utility(\n",
    "            wealth=wealth,\n",
    "            retirement=retirement,\n",
    "            lagged_retirement=lagged_retirement,\n",
    "            consumption=1,\n",
    "        )\n",
    "        _res = _res.at[i, j].set(u)  # JAX arrays are immutable\n",
    "\n",
    "_res"
   ]
  },
  {
   "cell_type": "markdown",
   "metadata": {},
   "source": [
    "If `put_dense_first` was False, the order of the loops need to be switched, leading to an output shape of (4, 3)."
   ]
  },
  {
   "cell_type": "markdown",
   "metadata": {},
   "source": [
    "---\n",
    "\n",
    "### Explanation of Results\n",
    "\n",
    "The outputs align with the utility function: The rows represent sparse combinations of _lagged_retirement_ and _retirement_, while the columns represent values of _wealth_. For column $j$, the value of _wealth_ corresponds to $j$.\n",
    "\n",
    "Consider the first row, corresponding to _lagged_retirement_ being 0 and _retirement_ also being 0. In this scenario, the agent is working, incurring a cost of -0.5. As the agent is not retired, there is no utility from a retirement habit, resulting in a utility of $log(1) - 0.5 = -0.5$ for all _wealth_ values.\n",
    "\n",
    "The second row corresponds to _lagged_retirement_ being 0 and _retirement_ being 1. Here, the agent is retired, thus avoiding work-related costs. Being newly retired, the agent receives no utility through a retirement habit in this model, leading to a utility of $log(1) = 0$ across all _wealth_ values.\n",
    "\n",
    "The final row represents _lagged_retirement_ being 1 and _retirement_ also being 1. In this case, the agent, already retired, incurs no work-related costs. Additionally, having been retired for one period, the agent gains utility from a retirement habit that increases linearly with wealth, making the utility $log(1) + wealth = wealth$.\n",
    "\n",
    "---"
   ]
  },
  {
   "cell_type": "markdown",
   "metadata": {},
   "source": [
    "The variable _consumption_ belongs to the special class of `continuous` and `dense` choice variables. When computing the maximum of the value function over the agents' choices, we solve the continuous problem for each combination of state and discrete/sparse choices. Therefore, the vectorization over continuous-dense choices is performed independently from the vectorization over the rest of the state-choice space.\n",
    "\n",
    "To vectorize over _consumption_, we must use an additional `productmap`."
   ]
  },
  {
   "cell_type": "code",
   "execution_count": null,
   "metadata": {},
   "outputs": [],
   "source": [
    "mapped = productmap(spacemapped, variables=[\"consumption\"])"
   ]
  },
  {
   "cell_type": "code",
   "execution_count": null,
   "metadata": {},
   "outputs": [
    {
     "data": {
      "text/plain": [
       "Array([[[-0.5      , -0.5      , -0.5      , -0.5      ],\n",
       "        [ 0.       ,  0.       ,  0.       ,  0.       ],\n",
       "        [ 1.       ,  2.       ,  3.       ,  4.       ]],\n",
       "\n",
       "       [[ 5.4914646,  5.4914646,  5.4914646,  5.4914646],\n",
       "        [ 5.9914646,  5.9914646,  5.9914646,  5.9914646],\n",
       "        [ 6.9914646,  7.9914646,  8.991465 ,  9.991465 ]]], dtype=float32)"
      ]
     },
     "execution_count": null,
     "metadata": {},
     "output_type": "execute_result"
    }
   ],
   "source": [
    "res = mapped(\n",
    "    **sc_space.dense_vars,\n",
    "    **sc_space.sparse_vars,\n",
    "    consumption=jnp.linspace(1, 400, 2),\n",
    ")\n",
    "res"
   ]
  },
  {
   "cell_type": "code",
   "execution_count": null,
   "metadata": {},
   "outputs": [
    {
     "data": {
      "text/plain": [
       "(2, 3, 4)"
      ]
     },
     "execution_count": null,
     "metadata": {},
     "output_type": "execute_result"
    }
   ],
   "source": [
    "res.shape"
   ]
  }
 ],
 "metadata": {
  "kernelspec": {
   "display_name": "lcm",
   "language": "python",
   "name": "python3"
  },
  "language_info": {
   "codemirror_mode": {
    "name": "ipython",
    "version": 3
   },
   "file_extension": ".py",
   "mimetype": "text/x-python",
   "name": "python",
   "nbconvert_exporter": "python",
   "pygments_lexer": "ipython3",
   "version": "3.12.3"
  }
 },
 "nbformat": 4,
 "nbformat_minor": 2
}
