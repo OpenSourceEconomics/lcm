{
 "cells": [
  {
   "cell_type": "markdown",
   "metadata": {},
   "source": [
    "# Explanations of dispatchers\n",
    "\n",
    "In this notebook we showcase how the internal functions `vmap_1d`, `productmap` and\n",
    "`spacemap` can and are being used by `lcm` internally."
   ]
  },
  {
   "cell_type": "code",
   "execution_count": 1,
   "metadata": {},
   "outputs": [],
   "source": [
    "import jax.numpy as jnp\n",
    "from jax import vmap\n",
    "from lcm.dispatchers import productmap, spacemap, vmap_1d"
   ]
  },
  {
   "cell_type": "markdown",
   "metadata": {},
   "source": [
    "# `vmap_1d`\n",
    "\n",
    "Let's try to vectorize function `f` over axis `a`."
   ]
  },
  {
   "cell_type": "code",
   "execution_count": 2,
   "metadata": {},
   "outputs": [],
   "source": [
    "def f(a, b):\n",
    "    return a + b"
   ]
  },
  {
   "cell_type": "code",
   "execution_count": 3,
   "metadata": {},
   "outputs": [
    {
     "data": {
      "text/plain": [
       "Array([1.       , 1.1111112, 1.2222222, 1.3333334, 1.4444444, 1.5555556,\n",
       "       1.6666667, 1.7777778, 1.8888888, 2.       ], dtype=float32)"
      ]
     },
     "execution_count": 3,
     "metadata": {},
     "output_type": "execute_result"
    }
   ],
   "source": [
    "a = jnp.linspace(0, 1, 10)\n",
    "\n",
    "\n",
    "# in_axes = (0, None) means that the first argument is mapped over, and the second\n",
    "# argument is kept constant\n",
    "f_vmapped = vmap(f, in_axes=(0, None))\n",
    "\n",
    "f_vmapped(a, 1)"
   ]
  },
  {
   "cell_type": "markdown",
   "metadata": {},
   "source": [
    "However, notice that we can call `f` with keyword arguments, but not `f_vmapped`:"
   ]
  },
  {
   "cell_type": "code",
   "execution_count": 4,
   "metadata": {},
   "outputs": [
    {
     "data": {
      "text/plain": [
       "Array([1.       , 1.1111112, 1.2222222, 1.3333334, 1.4444444, 1.5555556,\n",
       "       1.6666667, 1.7777778, 1.8888888, 2.       ], dtype=float32)"
      ]
     },
     "execution_count": 4,
     "metadata": {},
     "output_type": "execute_result"
    }
   ],
   "source": [
    "f(a=a, b=1)"
   ]
  },
  {
   "cell_type": "code",
   "execution_count": 5,
   "metadata": {},
   "outputs": [
    {
     "ename": "ValueError",
     "evalue": "vmap in_axes must be an int, None, or a tuple of entries corresponding to the positional arguments passed to the function, but got len(in_axes)=2, len(args)=0",
     "output_type": "error",
     "traceback": [
      "\u001b[0;31m---------------------------------------------------------------------------\u001b[0m",
      "\u001b[0;31mValueError\u001b[0m                                Traceback (most recent call last)",
      "Cell \u001b[0;32mIn[5], line 1\u001b[0m\n\u001b[0;32m----> 1\u001b[0m \u001b[43mf_vmapped\u001b[49m\u001b[43m(\u001b[49m\u001b[43ma\u001b[49m\u001b[38;5;241;43m=\u001b[39;49m\u001b[43ma\u001b[49m\u001b[43m,\u001b[49m\u001b[43m \u001b[49m\u001b[43mb\u001b[49m\u001b[38;5;241;43m=\u001b[39;49m\u001b[38;5;241;43m1\u001b[39;49m\u001b[43m)\u001b[49m\n",
      "    \u001b[0;31m[... skipping hidden 1 frame]\u001b[0m\n",
      "File \u001b[0;32m~/miniforge3/envs/lcm/lib/python3.11/site-packages/jax/_src/api.py:1259\u001b[0m, in \u001b[0;36mvmap.<locals>.vmap_f\u001b[0;34m(*args, **kwargs)\u001b[0m\n\u001b[1;32m   1255\u001b[0m \u001b[38;5;129m@wraps\u001b[39m(fun, docstr\u001b[38;5;241m=\u001b[39mdocstr)\n\u001b[1;32m   1256\u001b[0m \u001b[38;5;129m@api_boundary\u001b[39m\n\u001b[1;32m   1257\u001b[0m \u001b[38;5;28;01mdef\u001b[39;00m \u001b[38;5;21mvmap_f\u001b[39m(\u001b[38;5;241m*\u001b[39margs, \u001b[38;5;241m*\u001b[39m\u001b[38;5;241m*\u001b[39mkwargs):\n\u001b[1;32m   1258\u001b[0m   \u001b[38;5;28;01mif\u001b[39;00m \u001b[38;5;28misinstance\u001b[39m(in_axes, \u001b[38;5;28mtuple\u001b[39m) \u001b[38;5;129;01mand\u001b[39;00m \u001b[38;5;28mlen\u001b[39m(in_axes) \u001b[38;5;241m!=\u001b[39m \u001b[38;5;28mlen\u001b[39m(args):\n\u001b[0;32m-> 1259\u001b[0m     \u001b[38;5;28;01mraise\u001b[39;00m \u001b[38;5;167;01mValueError\u001b[39;00m(\u001b[38;5;124m\"\u001b[39m\u001b[38;5;124mvmap in_axes must be an int, None, or a tuple of entries corresponding \u001b[39m\u001b[38;5;124m\"\u001b[39m\n\u001b[1;32m   1260\u001b[0m                      \u001b[38;5;124m\"\u001b[39m\u001b[38;5;124mto the positional arguments passed to the function, \u001b[39m\u001b[38;5;124m\"\u001b[39m\n\u001b[1;32m   1261\u001b[0m                      \u001b[38;5;124mf\u001b[39m\u001b[38;5;124m\"\u001b[39m\u001b[38;5;124mbut got \u001b[39m\u001b[38;5;132;01m{\u001b[39;00m\u001b[38;5;28mlen\u001b[39m(in_axes)\u001b[38;5;132;01m=}\u001b[39;00m\u001b[38;5;124m, \u001b[39m\u001b[38;5;132;01m{\u001b[39;00m\u001b[38;5;28mlen\u001b[39m(args)\u001b[38;5;132;01m=}\u001b[39;00m\u001b[38;5;124m\"\u001b[39m)\n\u001b[1;32m   1262\u001b[0m   args_flat, in_tree  \u001b[38;5;241m=\u001b[39m tree_flatten((args, kwargs), is_leaf\u001b[38;5;241m=\u001b[39mbatching\u001b[38;5;241m.\u001b[39mis_vmappable)\n\u001b[1;32m   1263\u001b[0m   f \u001b[38;5;241m=\u001b[39m lu\u001b[38;5;241m.\u001b[39mwrap_init(fun)\n",
      "\u001b[0;31mValueError\u001b[0m: vmap in_axes must be an int, None, or a tuple of entries corresponding to the positional arguments passed to the function, but got len(in_axes)=2, len(args)=0"
     ]
    }
   ],
   "source": [
    "f_vmapped(a=a, b=1)"
   ]
  },
  {
   "cell_type": "markdown",
   "metadata": {},
   "source": [
    "For this, `lcm` provides the function `vmap_1d`."
   ]
  },
  {
   "cell_type": "code",
   "execution_count": 6,
   "metadata": {},
   "outputs": [],
   "source": [
    "f_vmapped_1d = vmap_1d(f, variables=[\"a\"])"
   ]
  },
  {
   "cell_type": "code",
   "execution_count": 7,
   "metadata": {},
   "outputs": [
    {
     "data": {
      "text/plain": [
       "Array([1.       , 1.1111112, 1.2222222, 1.3333334, 1.4444444, 1.5555556,\n",
       "       1.6666667, 1.7777778, 1.8888888, 2.       ], dtype=float32)"
      ]
     },
     "execution_count": 7,
     "metadata": {},
     "output_type": "execute_result"
    }
   ],
   "source": [
    "f_vmapped_1d(a=a, b=1)"
   ]
  },
  {
   "cell_type": "markdown",
   "metadata": {},
   "source": [
    "# `productmap`\n",
    "\n",
    "Let's try to vectorize the function `g` over a Cartesian product of its variables.\n",
    "For this, `lcm` provides the `productmap` function."
   ]
  },
  {
   "cell_type": "code",
   "execution_count": 8,
   "metadata": {},
   "outputs": [],
   "source": [
    "def g(a, b, c, d):\n",
    "    return a + b + c + d"
   ]
  },
  {
   "cell_type": "code",
   "execution_count": 9,
   "metadata": {},
   "outputs": [],
   "source": [
    "a = jnp.arange(2)\n",
    "b = jnp.arange(3)\n",
    "c = jnp.arange(4)\n",
    "d = -1"
   ]
  },
  {
   "cell_type": "code",
   "execution_count": 10,
   "metadata": {},
   "outputs": [],
   "source": [
    "g_mapped = productmap(g, variables=[\"a\", \"b\", \"c\"])"
   ]
  },
  {
   "cell_type": "code",
   "execution_count": 11,
   "metadata": {},
   "outputs": [
    {
     "data": {
      "text/plain": [
       "Array([[[-1,  0,  1,  2],\n",
       "        [ 0,  1,  2,  3],\n",
       "        [ 1,  2,  3,  4]],\n",
       "\n",
       "       [[ 0,  1,  2,  3],\n",
       "        [ 1,  2,  3,  4],\n",
       "        [ 2,  3,  4,  5]]], dtype=int32)"
      ]
     },
     "execution_count": 11,
     "metadata": {},
     "output_type": "execute_result"
    }
   ],
   "source": [
    "res = g_mapped(a=a, b=b, c=c, d=d)\n",
    "res"
   ]
  },
  {
   "cell_type": "code",
   "execution_count": 12,
   "metadata": {},
   "outputs": [
    {
     "data": {
      "text/plain": [
       "(2, 3, 4)"
      ]
     },
     "execution_count": 12,
     "metadata": {},
     "output_type": "execute_result"
    }
   ],
   "source": [
    "res.shape"
   ]
  },
  {
   "cell_type": "markdown",
   "metadata": {},
   "source": [
    "# `spacemap`"
   ]
  },
  {
   "cell_type": "markdown",
   "metadata": {},
   "source": [
    "In `lcm` we often have to evaluate functions not only on a well-defined Cartesian\n",
    "product of grids, but on a mix of that with an awkward array. This is due to the fact\n",
    "that the state-choice space can be filtered for some variables, in which case only\n",
    "specific combinations of choices and states are in the state-choice space.\n",
    "\n",
    "If the valied values of one variable depend on some other variable, the variable is\n",
    "called _sparse_.\n",
    "\n",
    "The `spacemap` function provides a way to map a function over an entire state-choice\n",
    "space. To illustrate this, let us first show an example of such a state-choice space.\n",
    "\n",
    "\n",
    "Consider a simplified version of our deterministic test model, with\n",
    "\n",
    "- **Choice variables:**\n",
    "\n",
    "  - `retirement` in {0, 1}\n",
    "\n",
    "  - `consumption` in [1, 2]\n",
    "\n",
    "- **State variables:**\n",
    "\n",
    "  - `lagged_retirement` in {0, 1}\n",
    "\n",
    "  - `wealth` in [1, 2, 3, 4]\n",
    "\n",
    "And an absorbing retirement _filter_: That is, if `lagged_retirement` is 1, `retirement`\n",
    "can never be 0, which leads to an awkward state-choice space.\n",
    "\n",
    "We use different brackets {} and [] do denote discrete and continuous variables. For\n",
    "this example we choose a very coarse continuous grid, but in practice this could be\n",
    "much finer."
   ]
  },
  {
   "cell_type": "code",
   "execution_count": 13,
   "metadata": {},
   "outputs": [],
   "source": [
    "def utility(consumption, retirement, lagged_retirement, wealth):  # noqa: ARG001\n",
    "    working = 1 - retirement\n",
    "    bequest_utility = wealth\n",
    "    return jnp.log(consumption) - 0.5 * working + bequest_utility\n",
    "\n",
    "\n",
    "def absorbing_retirement_filter(retirement, lagged_retirement):\n",
    "    return jnp.logical_or(retirement == 1, lagged_retirement == 0)\n",
    "\n",
    "\n",
    "MODEL_CONFIG = {\n",
    "    \"functions\": {\n",
    "        \"utility\": utility,\n",
    "        \"next_lagged_retirement\": lambda retirement: retirement,\n",
    "        \"next_wealth\": lambda wealth, consumption: wealth - consumption,\n",
    "        \"absorbing_retirement_filter\": absorbing_retirement_filter,\n",
    "    },\n",
    "    \"choices\": {\n",
    "        \"retirement\": {\"options\": [0, 1]},\n",
    "        \"consumption\": {\n",
    "            \"grid_type\": \"linspace\",\n",
    "            \"start\": 1,\n",
    "            \"stop\": 2,\n",
    "            \"n_points\": 2,\n",
    "        },\n",
    "    },\n",
    "    \"states\": {\n",
    "        \"lagged_retirement\": {\"options\": [0, 1]},\n",
    "        \"wealth\": {\n",
    "            \"grid_type\": \"linspace\",\n",
    "            \"start\": 1,\n",
    "            \"stop\": 4,\n",
    "            \"n_points\": 4,\n",
    "        },\n",
    "    },\n",
    "    \"n_periods\": 1,\n",
    "}"
   ]
  },
  {
   "cell_type": "code",
   "execution_count": 14,
   "metadata": {},
   "outputs": [],
   "source": [
    "from lcm.process_model import process_model\n",
    "from lcm.state_space import create_state_choice_space\n",
    "\n",
    "model = process_model(user_model=MODEL_CONFIG)\n",
    "\n",
    "sc_space, space_info, state_indexer, segments = create_state_choice_space(\n",
    "    model,\n",
    "    period=2,\n",
    "    is_last_period=False,\n",
    "    jit_filter=False,\n",
    ")"
   ]
  },
  {
   "cell_type": "markdown",
   "metadata": {},
   "source": [
    "Now, the state-choice space contains all sparse and dense states and choices, except\n",
    "for the dense continuous choices, since these are handled differently in `lcm`.\n",
    "\n",
    "So, we expect the state-choice space to contain the dense state variable `wealth` and\n",
    "some representation of the sparse combination of `retirement` and `lagged_retirement`. "
   ]
  },
  {
   "cell_type": "code",
   "execution_count": 15,
   "metadata": {},
   "outputs": [
    {
     "data": {
      "text/plain": [
       "{'wealth': Array([1., 2., 3., 4.], dtype=float32)}"
      ]
     },
     "execution_count": 15,
     "metadata": {},
     "output_type": "execute_result"
    }
   ],
   "source": [
    "sc_space.dense_vars"
   ]
  },
  {
   "cell_type": "code",
   "execution_count": 16,
   "metadata": {},
   "outputs": [
    {
     "data": {
      "text/plain": [
       "{'lagged_retirement': Array([0, 0, 1], dtype=int32),\n",
       " 'retirement': Array([0, 1, 1], dtype=int32)}"
      ]
     },
     "execution_count": 16,
     "metadata": {},
     "output_type": "execute_result"
    }
   ],
   "source": [
    "sc_space.sparse_vars"
   ]
  },
  {
   "cell_type": "code",
   "execution_count": 17,
   "metadata": {},
   "outputs": [
    {
     "data": {
      "text/html": [
       "<div>\n",
       "<style scoped>\n",
       "    .dataframe tbody tr th:only-of-type {\n",
       "        vertical-align: middle;\n",
       "    }\n",
       "\n",
       "    .dataframe tbody tr th {\n",
       "        vertical-align: top;\n",
       "    }\n",
       "\n",
       "    .dataframe thead th {\n",
       "        text-align: right;\n",
       "    }\n",
       "</style>\n",
       "<table border=\"1\" class=\"dataframe\">\n",
       "  <thead>\n",
       "    <tr style=\"text-align: right;\">\n",
       "      <th></th>\n",
       "      <th>lagged_retirement</th>\n",
       "      <th>retirement</th>\n",
       "    </tr>\n",
       "  </thead>\n",
       "  <tbody>\n",
       "    <tr>\n",
       "      <th>0</th>\n",
       "      <td>0</td>\n",
       "      <td>0</td>\n",
       "    </tr>\n",
       "    <tr>\n",
       "      <th>1</th>\n",
       "      <td>0</td>\n",
       "      <td>1</td>\n",
       "    </tr>\n",
       "    <tr>\n",
       "      <th>2</th>\n",
       "      <td>1</td>\n",
       "      <td>1</td>\n",
       "    </tr>\n",
       "  </tbody>\n",
       "</table>\n",
       "</div>"
      ],
      "text/plain": [
       "   lagged_retirement  retirement\n",
       "0                  0           0\n",
       "1                  0           1\n",
       "2                  1           1"
      ]
     },
     "execution_count": 17,
     "metadata": {},
     "output_type": "execute_result"
    }
   ],
   "source": [
    "import pandas as pd\n",
    "\n",
    "pd.DataFrame(sc_space.sparse_vars)"
   ]
  },
  {
   "cell_type": "markdown",
   "metadata": {},
   "source": [
    "Notice that for the dense variables, the state-choice space contains the whole grid of\n",
    "possible values. For the sparse variables, however, the state-choice space contains\n",
    "one dimensional arrays that can be thought of as columns in a dataframe such that each\n",
    "row in that dataframe represents a valid combination.\n",
    "\n",
    "In the beginning we said that we disallow `lagged_retirement` being 1 and `retirement`\n",
    "being 0, and this is exactly the combination that is missing from this dataframe."
   ]
  },
  {
   "cell_type": "markdown",
   "metadata": {},
   "source": [
    "It is also worth noting the connection between the sparse variable representation\n",
    "and the `segments`. "
   ]
  },
  {
   "cell_type": "code",
   "execution_count": 18,
   "metadata": {},
   "outputs": [
    {
     "data": {
      "text/plain": [
       "{'segment_ids': Array([0, 0, 1], dtype=int32), 'num_segments': 2}"
      ]
     },
     "execution_count": 18,
     "metadata": {},
     "output_type": "execute_result"
    }
   ],
   "source": [
    "segments"
   ]
  },
  {
   "cell_type": "markdown",
   "metadata": {},
   "source": [
    "These choice segments divide the rows in the above dataframe into segments for which\n",
    "choices have to be made.\n",
    "\n",
    "In our example this means that the first choice segment is made\n",
    "out of the first two rows, meaning that if `lagged_retirement` is 0, the choice of\n",
    "`retirement` can be either 0 or 1. However, for\n",
    "the case of `lagged_retirement` being 1, the choice segment contains only the single\n",
    "choice `retirement` equal to 1. "
   ]
  },
  {
   "cell_type": "markdown",
   "metadata": {},
   "source": [
    "Now, we can map a function over the entire state-choice space using the `spacemap`\n",
    "function."
   ]
  },
  {
   "cell_type": "code",
   "execution_count": 19,
   "metadata": {},
   "outputs": [],
   "source": [
    "spacemapped = spacemap(\n",
    "    func=utility,\n",
    "    dense_vars=list(sc_space.dense_vars),\n",
    "    sparse_vars=list(sc_space.sparse_vars),\n",
    "    put_dense_first=False,\n",
    ")"
   ]
  },
  {
   "cell_type": "code",
   "execution_count": 20,
   "metadata": {},
   "outputs": [
    {
     "data": {
      "text/plain": [
       "Array([[0.5, 1.5, 2.5, 3.5],\n",
       "       [1. , 2. , 3. , 4. ],\n",
       "       [1. , 2. , 3. , 4. ]], dtype=float32)"
      ]
     },
     "execution_count": 20,
     "metadata": {},
     "output_type": "execute_result"
    }
   ],
   "source": [
    "res = spacemapped(\n",
    "    **sc_space.dense_vars,\n",
    "    **sc_space.sparse_vars,\n",
    "    consumption=1,\n",
    ")\n",
    "res"
   ]
  },
  {
   "cell_type": "code",
   "execution_count": 21,
   "metadata": {},
   "outputs": [
    {
     "data": {
      "text/plain": [
       "(3, 4)"
      ]
     },
     "execution_count": 21,
     "metadata": {},
     "output_type": "execute_result"
    }
   ],
   "source": [
    "res.shape"
   ]
  },
  {
   "cell_type": "markdown",
   "metadata": {},
   "source": [
    "Notice, that we do not vectorize over `consumption` yet, and since `put_dense_first` is\n",
    "False, the leading axis corresponds to the sparse variables. The remaining axes\n",
    "correspond to the dense variables. In this case `wealth`, which attains values on\n",
    "a grid of length 4.\n",
    "\n",
    "To also vectorize over `consumption` we would have to call an additional `productmap`."
   ]
  },
  {
   "cell_type": "code",
   "execution_count": 22,
   "metadata": {},
   "outputs": [],
   "source": [
    "mapped = productmap(spacemapped, variables=[\"consumption\"])"
   ]
  },
  {
   "cell_type": "code",
   "execution_count": 23,
   "metadata": {},
   "outputs": [
    {
     "data": {
      "text/plain": [
       "Array([[[0.5      , 1.5      , 2.5      , 3.5      ],\n",
       "        [1.       , 2.       , 3.       , 4.       ],\n",
       "        [1.       , 2.       , 3.       , 4.       ]],\n",
       "\n",
       "       [[6.4914646, 7.4914646, 8.491465 , 9.491465 ],\n",
       "        [6.9914646, 7.9914646, 8.991465 , 9.991465 ],\n",
       "        [6.9914646, 7.9914646, 8.991465 , 9.991465 ]]], dtype=float32)"
      ]
     },
     "execution_count": 23,
     "metadata": {},
     "output_type": "execute_result"
    }
   ],
   "source": [
    "res = mapped(\n",
    "    **sc_space.dense_vars,\n",
    "    **sc_space.sparse_vars,\n",
    "    consumption=jnp.linspace(1, 400, 2),\n",
    ")\n",
    "res"
   ]
  },
  {
   "cell_type": "code",
   "execution_count": 24,
   "metadata": {},
   "outputs": [
    {
     "data": {
      "text/plain": [
       "(2, 3, 4)"
      ]
     },
     "execution_count": 24,
     "metadata": {},
     "output_type": "execute_result"
    }
   ],
   "source": [
    "res.shape"
   ]
  }
 ],
 "metadata": {
  "language_info": {
   "codemirror_mode": {
    "name": "ipython",
    "version": 3
   },
   "file_extension": ".py",
   "mimetype": "text/x-python",
   "name": "python",
   "nbconvert_exporter": "python",
   "pygments_lexer": "ipython3"
  }
 },
 "nbformat": 4,
 "nbformat_minor": 2
}
